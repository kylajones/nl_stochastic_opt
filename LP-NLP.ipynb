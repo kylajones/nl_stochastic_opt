{
 "cells": [
  {
   "cell_type": "markdown",
   "metadata": {},
   "source": [
    "# Continuous Optimization"
   ]
  },
  {
   "cell_type": "code",
   "execution_count": 1,
   "metadata": {},
   "outputs": [],
   "source": [
    "# This code cell installs packages on Colab\n",
    "\n",
    "# import sys\n",
    "# if \"google.colab\" in sys.modules:\n",
    "#     !wget \"https://raw.githubusercontent.com/ndcbe/CBE60499/main/notebooks/helper.py\"\n",
    "#     import helper\n",
    "#     helper.install_idaes()\n",
    "#     helper.install_ipopt()\n",
    "#     helper.install_glpk()\n",
    "#     helper.download_data(['student_diet.csv'])\n",
    "#     helper.download_figures(['pack1.png','pack2.png','pack3.png'])"
   ]
  },
  {
   "cell_type": "code",
   "execution_count": 2,
   "metadata": {},
   "outputs": [],
   "source": [
    "import pandas as pd\n",
    "import pyomo.environ as pyo\n",
    "import idaes"
   ]
  },
  {
   "cell_type": "markdown",
   "metadata": {},
   "source": [
    "## Linear Programs: Student Diet Example"
   ]
  },
  {
   "cell_type": "markdown",
   "metadata": {},
   "source": [
    "Reference: https://docs.mosek.com/modeling-cookbook/linear.html"
   ]
  },
  {
   "cell_type": "markdown",
   "metadata": {},
   "source": [
    "You want to save money eating while remaining healthy. A healthy diet requires at least P=6 units of protein, C=15 units of carbohydrates, F=5 units of fats and V=7 units of vitamins. Due to compounding factors (blizzard during Lent), our campus only has these options:"
   ]
  },
  {
   "cell_type": "code",
   "execution_count": 13,
   "metadata": {},
   "outputs": [
    {
     "data": {
      "text/html": [
       "<div>\n",
       "<style scoped>\n",
       "    .dataframe tbody tr th:only-of-type {\n",
       "        vertical-align: middle;\n",
       "    }\n",
       "\n",
       "    .dataframe tbody tr th {\n",
       "        vertical-align: top;\n",
       "    }\n",
       "\n",
       "    .dataframe thead th {\n",
       "        text-align: right;\n",
       "    }\n",
       "</style>\n",
       "<table border=\"1\" class=\"dataframe\">\n",
       "  <thead>\n",
       "    <tr style=\"text-align: right;\">\n",
       "      <th></th>\n",
       "      <th>P</th>\n",
       "      <th>C</th>\n",
       "      <th>F</th>\n",
       "      <th>V</th>\n",
       "      <th>price</th>\n",
       "    </tr>\n",
       "  </thead>\n",
       "  <tbody>\n",
       "    <tr>\n",
       "      <th>takeaway</th>\n",
       "      <td>3.0</td>\n",
       "      <td>3</td>\n",
       "      <td>2</td>\n",
       "      <td>1</td>\n",
       "      <td>5</td>\n",
       "    </tr>\n",
       "    <tr>\n",
       "      <th>vegtables</th>\n",
       "      <td>1.0</td>\n",
       "      <td>2</td>\n",
       "      <td>0</td>\n",
       "      <td>4</td>\n",
       "      <td>1</td>\n",
       "    </tr>\n",
       "    <tr>\n",
       "      <th>bread</th>\n",
       "      <td>0.5</td>\n",
       "      <td>4</td>\n",
       "      <td>1</td>\n",
       "      <td>0</td>\n",
       "      <td>2</td>\n",
       "    </tr>\n",
       "  </tbody>\n",
       "</table>\n",
       "</div>"
      ],
      "text/plain": [
       "             P  C  F  V  price\n",
       "takeaway   3.0  3  2  1      5\n",
       "vegtables  1.0  2  0  4      1\n",
       "bread      0.5  4  1  0      2"
      ]
     },
     "execution_count": 13,
     "metadata": {},
     "output_type": "execute_result"
    }
   ],
   "source": [
    "# Load data from file, use the first column (0, recall Python starts counting at 0) as the index\n",
    "food_options = pd.read_csv('https://raw.githubusercontent.com/ndcbe/optimization/main/notebooks/data/student_diet.csv',index_col=0)\n",
    "\n",
    "# Print up the the first 10 rows of data\n",
    "food_options.head(10)"
   ]
  },
  {
   "cell_type": "markdown",
   "metadata": {},
   "source": [
    "Let's build a Python dictionary to store the nutrient requirements. (I strongly recommend not touching Python until we write the model on paper. I am including this here to avoid scrolling between the problem description and this cell.)"
   ]
  },
  {
   "cell_type": "code",
   "execution_count": 14,
   "metadata": {},
   "outputs": [],
   "source": [
    "# Uncomment and fill in with all of the data\n",
    "nutrient_requirements = {'P':6, 'C':15, 'F':5, 'V':7}"
   ]
  },
  {
   "cell_type": "markdown",
   "metadata": {},
   "source": [
    "### Propose an Optimization Model"
   ]
  },
  {
   "cell_type": "markdown",
   "metadata": {},
   "source": [
    "**Sets**\n",
    "\n",
    "$\\mathcal{F} = \\{\\text{takeaway}, \\text{vegetables}, \\text{bread} \\}$\n",
    "\n",
    "$\\mathcal{N} =\\{\\text{Protein}, \\text{Carbs}, \\text{Fat}, \\text{Vitamins} \\} $"
   ]
  },
  {
   "cell_type": "markdown",
   "metadata": {},
   "source": [
    "**Parameters**\n",
    "\n",
    "$m_n = $ minimum amt. of nutrient $n \\in \\mathcal{N}$\n",
    "\n",
    "$h_{f,n} = $ amt. of nutrient $n \\in \\mathcal{N}$ for food $f \\in \\mathcal{F}$\n",
    "\n",
    "$p_f$ = price of food $f \\in \\mathcal{F}$"
   ]
  },
  {
   "cell_type": "markdown",
   "metadata": {},
   "source": [
    "**Variables**\n",
    "\n",
    "$x_f = $ amt. of food $f \\in \\mathcal{F}$ purchased"
   ]
  },
  {
   "cell_type": "markdown",
   "metadata": {},
   "source": [
    "**Constraints**\n",
    "\n",
    "$\\sum_{f \\in \\mathcal{F}} h_{f,n} x_f \\geq m_n \\forall n \\in \\mathcal{N}$\n",
    "\n",
    "$x_f \\geq 0 \\forall f \\in \\mathcal{F}$ "
   ]
  },
  {
   "cell_type": "markdown",
   "metadata": {},
   "source": [
    "**Degree of Freedom Analysis**\n",
    "\n",
    "We will later learn more about how to factor inequality constraints into degree of freedom analysis. For now, please count the number of equality and inequality constraints separately."
   ]
  },
  {
   "cell_type": "markdown",
   "metadata": {},
   "source": [
    "$$\\begin{align*} \\min \\quad & \\sum_{f \\in \\mathcal{F}} p_f x_f \\\\\n",
    "\\mathrm{s.t.} \\quad &  \\sum_{f \\in \\mathcal{F}} h_{f,n} x_f \\geq m_n \\forall n \\in \\mathcal{N} \\\\\n",
    "& x_f \\geq 0 \\forall f \\in \\mathcal{F} \\\\\n",
    "\\end{align*} $$\n",
    "\n",
    "We want to solve the constrained optimization problem numerically."
   ]
  },
  {
   "cell_type": "markdown",
   "metadata": {},
   "source": [
    "### Solve in Pyomo"
   ]
  },
  {
   "cell_type": "markdown",
   "metadata": {},
   "source": [
    "With our optimization model written on paper, we can proceed to solve in Pyomo. Before we start, let's review a few pandas tricks."
   ]
  },
  {
   "cell_type": "code",
   "execution_count": 15,
   "metadata": {},
   "outputs": [
    {
     "data": {
      "text/plain": [
       "['P', 'C', 'F', 'V', 'price']"
      ]
     },
     "execution_count": 15,
     "metadata": {},
     "output_type": "execute_result"
    }
   ],
   "source": [
    "# Extract the column names, convert to a list\n",
    "food_options.columns.to_list()"
   ]
  },
  {
   "cell_type": "code",
   "execution_count": 16,
   "metadata": {},
   "outputs": [
    {
     "data": {
      "text/plain": [
       "['P', 'C', 'F', 'V']"
      ]
     },
     "execution_count": 16,
     "metadata": {},
     "output_type": "execute_result"
    }
   ],
   "source": [
    "# Same as above, but drop the last entry\n",
    "nutrients = food_options.columns.to_list()[0:4]\n",
    "nutrients"
   ]
  },
  {
   "cell_type": "code",
   "execution_count": 17,
   "metadata": {},
   "outputs": [
    {
     "data": {
      "text/plain": [
       "['takeaway', 'vegtables', 'bread']"
      ]
     },
     "execution_count": 17,
     "metadata": {},
     "output_type": "execute_result"
    }
   ],
   "source": [
    "# Extract the index names, convert to a list\n",
    "foods = food_options.index.to_list()\n",
    "foods"
   ]
  },
  {
   "cell_type": "code",
   "execution_count": 18,
   "metadata": {},
   "outputs": [
    {
     "data": {
      "text/plain": [
       "{('takeaway', 'P'): 3.0,\n",
       " ('takeaway', 'C'): 3.0,\n",
       " ('takeaway', 'F'): 2.0,\n",
       " ('takeaway', 'V'): 1.0,\n",
       " ('vegtables', 'P'): 1.0,\n",
       " ('vegtables', 'C'): 2.0,\n",
       " ('vegtables', 'F'): 0.0,\n",
       " ('vegtables', 'V'): 4.0,\n",
       " ('bread', 'P'): 0.5,\n",
       " ('bread', 'C'): 4.0,\n",
       " ('bread', 'F'): 1.0,\n",
       " ('bread', 'V'): 0.0}"
      ]
     },
     "execution_count": 18,
     "metadata": {},
     "output_type": "execute_result"
    }
   ],
   "source": [
    "# Create a dictionary with keys such as ('takeaway', 'P')\n",
    "# Do not include 'price'\n",
    "food_info = food_options[nutrients].stack().to_dict()\n",
    "food_info"
   ]
  },
  {
   "cell_type": "code",
   "execution_count": 19,
   "metadata": {},
   "outputs": [
    {
     "data": {
      "text/plain": [
       "{'takeaway': 5, 'vegtables': 1, 'bread': 2}"
      ]
     },
     "execution_count": 19,
     "metadata": {},
     "output_type": "execute_result"
    }
   ],
   "source": [
    "# Create dictionary of only prices\n",
    "price = food_options['price'].to_dict()\n",
    "price"
   ]
  },
  {
   "cell_type": "markdown",
   "metadata": {},
   "source": [
    "Now let's build our Pyomo model! See class activity solutions on Canvas"
   ]
  },
  {
   "cell_type": "code",
   "execution_count": 20,
   "metadata": {},
   "outputs": [
    {
     "name": "stdout",
     "output_type": "stream",
     "text": [
      "3 Set Declarations\n",
      "    FOOD : Size=1, Index=None, Ordered=Insertion\n",
      "        Key  : Dimen : Domain : Size : Members\n",
      "        None :     1 :    Any :    3 : {'takeaway', 'vegtables', 'bread'}\n",
      "    NUTRIENTS : Size=1, Index=None, Ordered=Insertion\n",
      "        Key  : Dimen : Domain : Size : Members\n",
      "        None :     1 :    Any :    4 : {'P', 'C', 'F', 'V'}\n",
      "    food_info_index : Size=1, Index=None, Ordered=True\n",
      "        Key  : Dimen : Domain         : Size : Members\n",
      "        None :     2 : FOOD*NUTRIENTS :   12 : {('takeaway', 'P'), ('takeaway', 'C'), ('takeaway', 'F'), ('takeaway', 'V'), ('vegtables', 'P'), ('vegtables', 'C'), ('vegtables', 'F'), ('vegtables', 'V'), ('bread', 'P'), ('bread', 'C'), ('bread', 'F'), ('bread', 'V')}\n",
      "\n",
      "3 Param Declarations\n",
      "    food_info : Size=12, Index=food_info_index, Domain=Any, Default=None, Mutable=False\n",
      "        Key                : Value\n",
      "            ('bread', 'C') :   4.0\n",
      "            ('bread', 'F') :   1.0\n",
      "            ('bread', 'P') :   0.5\n",
      "            ('bread', 'V') :   0.0\n",
      "         ('takeaway', 'C') :   3.0\n",
      "         ('takeaway', 'F') :   2.0\n",
      "         ('takeaway', 'P') :   3.0\n",
      "         ('takeaway', 'V') :   1.0\n",
      "        ('vegtables', 'C') :   2.0\n",
      "        ('vegtables', 'F') :   0.0\n",
      "        ('vegtables', 'P') :   1.0\n",
      "        ('vegtables', 'V') :   4.0\n",
      "    needs : Size=4, Index=NUTRIENTS, Domain=Any, Default=None, Mutable=False\n",
      "        Key : Value\n",
      "          C :    15\n",
      "          F :     5\n",
      "          P :     6\n",
      "          V :     7\n",
      "    price : Size=3, Index=FOOD, Domain=Any, Default=None, Mutable=False\n",
      "        Key       : Value\n",
      "            bread :     2\n",
      "         takeaway :     5\n",
      "        vegtables :     1\n",
      "\n",
      "1 Var Declarations\n",
      "    food_eaten : Size=3, Index=FOOD\n",
      "        Key       : Lower : Value : Upper : Fixed : Stale : Domain\n",
      "            bread :     0 :     1 :  None : False : False : NonNegativeReals\n",
      "         takeaway :     0 :     1 :  None : False : False : NonNegativeReals\n",
      "        vegtables :     0 :     1 :  None : False : False : NonNegativeReals\n",
      "\n",
      "1 Objective Declarations\n",
      "    cost : Size=1, Index=None, Active=True\n",
      "        Key  : Active : Sense    : Expression\n",
      "        None :   True : minimize : 5*food_eaten[takeaway] + food_eaten[vegtables] + 2*food_eaten[bread]\n",
      "\n",
      "1 Constraint Declarations\n",
      "    diet_min : Size=4, Index=NUTRIENTS, Active=True\n",
      "        Key : Lower : Body                                                                         : Upper : Active\n",
      "          C :  15.0 : 3.0*food_eaten[takeaway] + 2.0*food_eaten[vegtables] + 4.0*food_eaten[bread] :  +Inf :   True\n",
      "          F :   5.0 :                                 2.0*food_eaten[takeaway] + food_eaten[bread] :  +Inf :   True\n",
      "          P :   6.0 :     3.0*food_eaten[takeaway] + food_eaten[vegtables] + 0.5*food_eaten[bread] :  +Inf :   True\n",
      "          V :   7.0 :                             food_eaten[takeaway] + 4.0*food_eaten[vegtables] :  +Inf :   True\n",
      "\n",
      "9 Declarations: FOOD NUTRIENTS needs food_info_index food_info price food_eaten diet_min cost\n"
     ]
    }
   ],
   "source": [
    "# Add your solution here\n",
    "m = pyo.ConcreteModel()\n",
    "\n",
    "## Define sets\n",
    "m.FOOD = pyo.Set(initialize  = foods) # F\n",
    "m.NUTRIENTS = pyo.Set(initialize  = nutrients) # N\n",
    "\n",
    "## Define parameters\n",
    "m.needs = pyo.Param(m.NUTRIENTS, initialize = nutrient_requirements) # m_n\n",
    "m.food_info = pyo.Param(m.FOOD, m.NUTRIENTS, initialize = food_info) # h_f,n\n",
    "m.price = pyo.Param(m.FOOD, initialize = price) # p_f\n",
    "\n",
    "## Define variables\n",
    "m.food_eaten = pyo.Var(m.FOOD, initialize = 1, domain = pyo.NonNegativeReals) # x_f\n",
    "\n",
    "## Define constraint\n",
    "def diet_min_rule(m,n):\n",
    "    return sum(m.food_info[f,n]*m.food_eaten[f] for f in m.FOOD) >= m.needs[n] # sum h_f,n * x_f >=  m_n\n",
    "m.diet_min = pyo.Constraint(m.NUTRIENTS, rule = diet_min_rule)\n",
    "\n",
    "## Define objective\n",
    "m.cost = pyo.Objective(expr = sum(m.food_eaten[f]*m.price[f] for f in m.FOOD), sense = pyo.minimize) # sum x_f p_f\n",
    "\n",
    "## print model\n",
    "m.pprint()"
   ]
  },
  {
   "cell_type": "markdown",
   "metadata": {},
   "source": [
    "<div class=\"admonition note\"> \n",
    "<b>Activity</b>: Check the Pyomo model. Specifically, are the input (parameter) data correct? Do the equations match our model written on paper?\n",
    "</div>"
   ]
  },
  {
   "cell_type": "code",
   "execution_count": 21,
   "metadata": {},
   "outputs": [
    {
     "name": "stdout",
     "output_type": "stream",
     "text": [
      "Ipopt 3.13.2: \n",
      "\n",
      "******************************************************************************\n",
      "This program contains Ipopt, a library for large-scale nonlinear optimization.\n",
      " Ipopt is released as open source code under the Eclipse Public License (EPL).\n",
      "         For more information visit http://projects.coin-or.org/Ipopt\n",
      "\n",
      "This version of Ipopt was compiled from source code available at\n",
      "    https://github.com/IDAES/Ipopt as part of the Institute for the Design of\n",
      "    Advanced Energy Systems Process Systems Engineering Framework (IDAES PSE\n",
      "    Framework) Copyright (c) 2018-2019. See https://github.com/IDAES/idaes-pse.\n",
      "\n",
      "This version of Ipopt was compiled using HSL, a collection of Fortran codes\n",
      "    for large-scale scientific computation.  All technical papers, sales and\n",
      "    publicity material resulting from use of the HSL codes within IPOPT must\n",
      "    contain the following acknowledgement:\n",
      "        HSL, a collection of Fortran codes for large-scale scientific\n",
      "        computation. See http://www.hsl.rl.ac.uk.\n",
      "******************************************************************************\n",
      "\n",
      "This is Ipopt version 3.13.2, running with linear solver ma27.\n",
      "\n",
      "Number of nonzeros in equality constraint Jacobian...:        0\n",
      "Number of nonzeros in inequality constraint Jacobian.:       10\n",
      "Number of nonzeros in Lagrangian Hessian.............:        0\n",
      "\n",
      "Total number of variables............................:        3\n",
      "                     variables with only lower bounds:        3\n",
      "                variables with lower and upper bounds:        0\n",
      "                     variables with only upper bounds:        0\n",
      "Total number of equality constraints.................:        0\n",
      "Total number of inequality constraints...............:        4\n",
      "        inequality constraints with only lower bounds:        4\n",
      "   inequality constraints with lower and upper bounds:        0\n",
      "        inequality constraints with only upper bounds:        0\n",
      "\n",
      "iter    objective    inf_pr   inf_du lg(mu)  ||d||  lg(rg) alpha_du alpha_pr  ls\n",
      "   0  8.0000000e+00 6.00e+00 1.10e+00  -1.0 0.00e+00    -  0.00e+00 0.00e+00   0\n",
      "   1  8.6444860e+00 5.02e+00 9.73e-01  -1.0 1.16e+00    -  2.18e-01 1.54e-01h  1\n",
      "   2  1.3016656e+01 0.00e+00 5.33e-01  -1.0 8.85e-01    -  6.53e-01 1.00e+00h  1\n",
      "   3  1.2884986e+01 0.00e+00 6.91e-02  -1.7 1.53e-01    -  7.53e-01 8.71e-01f  1\n",
      "   4  1.2512801e+01 0.00e+00 1.19e-01  -2.5 4.08e+00    -  1.17e-01 6.52e-01f  1\n",
      "   5  1.2513485e+01 0.00e+00 2.83e-08  -2.5 5.33e-02    -  1.00e+00 1.00e+00f  1\n",
      "   6  1.2500398e+01 0.00e+00 1.50e-09  -3.8 4.46e-02    -  1.00e+00 1.00e+00f  1\n",
      "   7  1.2500005e+01 0.00e+00 1.84e-11  -5.7 5.47e-04    -  1.00e+00 1.00e+00f  1\n",
      "   8  1.2500000e+01 0.00e+00 2.54e-14  -8.6 1.25e-05    -  1.00e+00 1.00e+00f  1\n",
      "\n",
      "Number of Iterations....: 8\n",
      "\n",
      "                                   (scaled)                 (unscaled)\n",
      "Objective...............:   1.2499999882508366e+01    1.2499999882508366e+01\n",
      "Dual infeasibility......:   2.5375692660596042e-14    2.5375692660596042e-14\n",
      "Constraint violation....:   0.0000000000000000e+00    0.0000000000000000e+00\n",
      "Complementarity.........:   2.5136445446423303e-09    2.5136445446423303e-09\n",
      "Overall NLP error.......:   2.5136445446423303e-09    2.5136445446423303e-09\n",
      "\n",
      "\n",
      "Number of objective function evaluations             = 9\n",
      "Number of objective gradient evaluations             = 9\n",
      "Number of equality constraint evaluations            = 0\n",
      "Number of inequality constraint evaluations          = 9\n",
      "Number of equality constraint Jacobian evaluations   = 0\n",
      "Number of inequality constraint Jacobian evaluations = 9\n",
      "Number of Lagrangian Hessian evaluations             = 8\n",
      "Total CPU secs in IPOPT (w/o function evaluations)   =      0.004\n",
      "Total CPU secs in NLP function evaluations           =      0.000\n",
      "\n",
      "EXIT: Optimal Solution Found.\n",
      "\b\b\b\b\b\b\b\b\b\b\b\b\b\b"
     ]
    }
   ],
   "source": [
    "# Specify the solver\n",
    "solver = pyo.SolverFactory('ipopt')\n",
    "\n",
    "# Solve\n",
    "results = solver.solve(m, tee=True)"
   ]
  },
  {
   "cell_type": "markdown",
   "metadata": {},
   "source": [
    "<div class=\"admonition note\"> \n",
    "<b>Activity</b>: Does your degree of freedom analysis match Ipopt?\n",
    "</div>"
   ]
  },
  {
   "cell_type": "markdown",
   "metadata": {},
   "source": [
    "### Analyze Results"
   ]
  },
  {
   "cell_type": "markdown",
   "metadata": {},
   "source": [
    "Let's extract the solution."
   ]
  },
  {
   "cell_type": "code",
   "execution_count": 22,
   "metadata": {},
   "outputs": [
    {
     "name": "stdout",
     "output_type": "stream",
     "text": [
      "Units of takeaway eaten =  0.9999999904584187\n",
      "Units of vegtables eaten =  1.4999999892477958\n",
      "Units of bread eaten =  2.9999999704842386\n"
     ]
    }
   ],
   "source": [
    "# Add your solution here\n",
    "for f in m.FOOD:\n",
    "    print(\"Units of\", f, \"eaten = \", m.food_eaten[f]())"
   ]
  },
  {
   "cell_type": "markdown",
   "metadata": {},
   "source": [
    "TODO: After we discuss optimization theory, add discussion of shadow prices and multipliers here."
   ]
  },
  {
   "cell_type": "markdown",
   "metadata": {},
   "source": [
    "## Nonlinear Programs: Circle Packing Example"
   ]
  },
  {
   "cell_type": "markdown",
   "metadata": {},
   "source": [
    "What is the smallest rectangle you can use to enclose three given circles? Reference: Example 4.4 in Biegler (2010).\n",
    "\n",
    "![picture](https://ndcbe.github.io/optimization/_images/pack1.png)"
   ]
  },
  {
   "cell_type": "markdown",
   "metadata": {},
   "source": [
    "### Propose an Optimization Model\n",
    "\n",
    "The following optimization model is given in Biegler (2010):"
   ]
  },
  {
   "cell_type": "markdown",
   "metadata": {},
   "source": [
    "![picture](https://ndcbe.github.io/optimization/_images/pack2.png)\n",
    "![picture](https://ndcbe.github.io/optimization/_images/pack3.png)"
   ]
  },
  {
   "cell_type": "markdown",
   "metadata": {},
   "source": [
    "<div class=\"admonition note\"> \n",
    "<b>Activity</b>: Identify the sets, parameters, variables, and constraints.\n",
    "</div>"
   ]
  },
  {
   "cell_type": "markdown",
   "metadata": {},
   "source": [
    "**Sets**\n",
    "\n",
    "$C = \\{1,2,3\\}$"
   ]
  },
  {
   "cell_type": "markdown",
   "metadata": {},
   "source": [
    "**Parameters**\n",
    "\n",
    "$R_i = $ radius of circle $i \\in C$"
   ]
  },
  {
   "cell_type": "markdown",
   "metadata": {},
   "source": [
    "**Variables**\n",
    "\n",
    "$x_i,y_i = $ x and y- coordinates of circle $i \\in C$   "
   ]
  },
  {
   "cell_type": "markdown",
   "metadata": {},
   "source": [
    "**Constraints**\n",
    "\n",
    "\n",
    "$\\begin{align} & \\min & \\quad 2(A + B) \\\\\n",
    "& \\text{s.t.} & \\quad x_i,y_i \\geq R_i\n",
    "\\end{align}$\n"
   ]
  },
  {
   "cell_type": "markdown",
   "metadata": {},
   "source": [
    "<div class=\"admonition note\"> \n",
    "<b>Activity</b>: Perform degree of freedom analysis.\n",
    "</div>"
   ]
  },
  {
   "cell_type": "markdown",
   "metadata": {},
   "source": [
    "**Degree of Freedom Analysis**"
   ]
  },
  {
   "cell_type": "markdown",
   "metadata": {},
   "source": [
    "### Implement in Pyomo"
   ]
  },
  {
   "cell_type": "markdown",
   "metadata": {},
   "source": [
    "First, we will define functions to create and intialize the model."
   ]
  },
  {
   "cell_type": "code",
   "execution_count": 23,
   "metadata": {},
   "outputs": [],
   "source": [
    "import random\n",
    "import numpy as np\n",
    "import matplotlib.pyplot as plt\n",
    "import matplotlib.patches as mpatches\n",
    "\n",
    "def create_circle_model(circle_radii):\n",
    "    ''' Create circle optimization model in Pyomo\n",
    "    \n",
    "    Arguments:\n",
    "        circle_radii: dictionary with keys=circle name and value=radius (float)\n",
    "        \n",
    "    Returns:\n",
    "        model: Pyomo model\n",
    "    '''\n",
    "\n",
    "    # Number of circles to consider\n",
    "    n = len(circle_radii)\n",
    "\n",
    "    # Create a concrete Pyomo model.\n",
    "    model = pyo.ConcreteModel()\n",
    "\n",
    "    # Initialize index for circles\n",
    "    model.CIRCLES = pyo.Set(initialize = circle_radii.keys()) \n",
    "    \n",
    "    # Create parameter\n",
    "    model.R = pyo.Param(model.CIRCLES, domain=pyo.PositiveReals, initialize=circle_radii) # R\n",
    "\n",
    "    # Create variables for box\n",
    "    model.a = pyo.Var(domain=pyo.PositiveReals) # A\n",
    "    model.b = pyo.Var(domain=pyo.PositiveReals) # B\n",
    "\n",
    "    # Set objective\n",
    "    model.obj = pyo.Objective(expr=2*(model.a + model.b), sense = pyo.minimize) # min 2(A + B)\n",
    "\n",
    "    # Create variables for circle centers\n",
    "    model.x = pyo.Var(model.CIRCLES, domain=pyo.PositiveReals) #x_i\n",
    "    model.y = pyo.Var(model.CIRCLES, domain=pyo.PositiveReals) #y_i\n",
    "\n",
    "    # \"In the box\" constraints\n",
    "    def left_x(m,c):\n",
    "        return m.x[c] >= model.R[c]\n",
    "    model.left_x_con = pyo.Constraint(model.CIRCLES, rule=left_x)\n",
    "\n",
    "    def left_y(m,c):\n",
    "        return m.y[c] >= model.R[c]\n",
    "    model.left_y_con = pyo.Constraint(model.CIRCLES, rule=left_y)\n",
    "\n",
    "    def right_x(m,c):\n",
    "        return m.x[c] <= m.b - model.R[c]\n",
    "    model.right_x_con = pyo.Constraint(model.CIRCLES, rule=right_x)\n",
    "\n",
    "    def right_y(m,c):\n",
    "        return m.y[c] <= m.a - model.R[c]\n",
    "    model.right_y_con = pyo.Constraint(model.CIRCLES, rule=right_y)\n",
    "\n",
    "    # No overlap constraints\n",
    "    def no_overlap(m,c1,c2):\n",
    "        if c1 < c2:\n",
    "            return (m.x[c1] - m.x[c2])**2 + (m.y[c1] - m.y[c2])**2 >= (model.R[c1] + model.R[c2])**2\n",
    "        else:\n",
    "            return pyo.Constraint.Skip\n",
    "    model.no_overlap_con = pyo.Constraint(model.CIRCLES, model.CIRCLES, rule=no_overlap)\n",
    "    \n",
    "    return model\n",
    "\n",
    "def initialize_circle_model(model, a_init=25, b_init=25):\n",
    "    ''' Initialize the x and y coordinates using uniform distribution\n",
    "    \n",
    "    Arguments:\n",
    "        a_init: initial value for a (default=25)\n",
    "        b_init: initial value for b (default=25)\n",
    "        \n",
    "    Returns:\n",
    "        Nothing. But per Pyomo scoping rules, the input argument `model`\n",
    "        can be modified in this function.\n",
    "    \n",
    "    '''\n",
    "    # Initialize \n",
    "    model.a = 25\n",
    "    model.b = 25\n",
    "\n",
    "    for i in model.CIRCLES:\n",
    "        # Adding circle radii ensures the remains in the >0, >0 quadrant\n",
    "        model.x[i] = random.uniform(0,10) + model.R[i]\n",
    "        model.y[i] = random.uniform(0,10) + model.R[i]\n",
    "\n"
   ]
  },
  {
   "cell_type": "markdown",
   "metadata": {},
   "source": [
    "Next, we will create a dictionary containing the circle names and radii values."
   ]
  },
  {
   "cell_type": "code",
   "execution_count": 24,
   "metadata": {},
   "outputs": [
    {
     "data": {
      "text/plain": [
       "{'A': 10.0, 'B': 5.0, 'C': 3.0}"
      ]
     },
     "execution_count": 24,
     "metadata": {},
     "output_type": "execute_result"
    }
   ],
   "source": [
    "# Create dictionary with circle data\n",
    "circle_data = {'A':10.0, 'B':5.0, 'C':3.0}\n",
    "circle_data"
   ]
  },
  {
   "cell_type": "code",
   "execution_count": 25,
   "metadata": {},
   "outputs": [
    {
     "data": {
      "text/plain": [
       "dict_keys(['A', 'B', 'C'])"
      ]
     },
     "execution_count": 25,
     "metadata": {},
     "output_type": "execute_result"
    }
   ],
   "source": [
    "# Access the keys\n",
    "circle_data.keys()"
   ]
  },
  {
   "cell_type": "markdown",
   "metadata": {},
   "source": [
    "Now let's create the model."
   ]
  },
  {
   "cell_type": "code",
   "execution_count": 26,
   "metadata": {},
   "outputs": [
    {
     "name": "stdout",
     "output_type": "stream",
     "text": [
      "2 Set Declarations\n",
      "    CIRCLES : Size=1, Index=None, Ordered=Insertion\n",
      "        Key  : Dimen : Domain : Size : Members\n",
      "        None :     1 :    Any :    3 : {'A', 'B', 'C'}\n",
      "    no_overlap_con_index : Size=1, Index=None, Ordered=True\n",
      "        Key  : Dimen : Domain          : Size : Members\n",
      "        None :     2 : CIRCLES*CIRCLES :    9 : {('A', 'A'), ('A', 'B'), ('A', 'C'), ('B', 'A'), ('B', 'B'), ('B', 'C'), ('C', 'A'), ('C', 'B'), ('C', 'C')}\n",
      "\n",
      "1 Param Declarations\n",
      "    R : Size=3, Index=CIRCLES, Domain=PositiveReals, Default=None, Mutable=False\n",
      "        Key : Value\n",
      "          A :  10.0\n",
      "          B :   5.0\n",
      "          C :   3.0\n",
      "\n",
      "4 Var Declarations\n",
      "    a : Size=1, Index=None\n",
      "        Key  : Lower : Value : Upper : Fixed : Stale : Domain\n",
      "        None :     0 :  None :  None : False :  True : PositiveReals\n",
      "    b : Size=1, Index=None\n",
      "        Key  : Lower : Value : Upper : Fixed : Stale : Domain\n",
      "        None :     0 :  None :  None : False :  True : PositiveReals\n",
      "    x : Size=3, Index=CIRCLES\n",
      "        Key : Lower : Value : Upper : Fixed : Stale : Domain\n",
      "          A :     0 :  None :  None : False :  True : PositiveReals\n",
      "          B :     0 :  None :  None : False :  True : PositiveReals\n",
      "          C :     0 :  None :  None : False :  True : PositiveReals\n",
      "    y : Size=3, Index=CIRCLES\n",
      "        Key : Lower : Value : Upper : Fixed : Stale : Domain\n",
      "          A :     0 :  None :  None : False :  True : PositiveReals\n",
      "          B :     0 :  None :  None : False :  True : PositiveReals\n",
      "          C :     0 :  None :  None : False :  True : PositiveReals\n",
      "\n",
      "1 Objective Declarations\n",
      "    obj : Size=1, Index=None, Active=True\n",
      "        Key  : Active : Sense    : Expression\n",
      "        None :   True : minimize : 2*(a + b)\n",
      "\n",
      "5 Constraint Declarations\n",
      "    left_x_con : Size=3, Index=CIRCLES, Active=True\n",
      "        Key : Lower : Body : Upper : Active\n",
      "          A :  10.0 : x[A] :  +Inf :   True\n",
      "          B :   5.0 : x[B] :  +Inf :   True\n",
      "          C :   3.0 : x[C] :  +Inf :   True\n",
      "    left_y_con : Size=3, Index=CIRCLES, Active=True\n",
      "        Key : Lower : Body : Upper : Active\n",
      "          A :  10.0 : y[A] :  +Inf :   True\n",
      "          B :   5.0 : y[B] :  +Inf :   True\n",
      "          C :   3.0 : y[C] :  +Inf :   True\n",
      "    no_overlap_con : Size=3, Index=no_overlap_con_index, Active=True\n",
      "        Key        : Lower : Body                                : Upper : Active\n",
      "        ('A', 'B') : 225.0 : (x[A] - x[B])**2 + (y[A] - y[B])**2 :  +Inf :   True\n",
      "        ('A', 'C') : 169.0 : (x[A] - x[C])**2 + (y[A] - y[C])**2 :  +Inf :   True\n",
      "        ('B', 'C') :  64.0 : (x[B] - x[C])**2 + (y[B] - y[C])**2 :  +Inf :   True\n",
      "    right_x_con : Size=3, Index=CIRCLES, Active=True\n",
      "        Key : Lower : Body              : Upper : Active\n",
      "          A :  -Inf : x[A] - (b - 10.0) :   0.0 :   True\n",
      "          B :  -Inf :  x[B] - (b - 5.0) :   0.0 :   True\n",
      "          C :  -Inf :  x[C] - (b - 3.0) :   0.0 :   True\n",
      "    right_y_con : Size=3, Index=CIRCLES, Active=True\n",
      "        Key : Lower : Body              : Upper : Active\n",
      "          A :  -Inf : y[A] - (a - 10.0) :   0.0 :   True\n",
      "          B :  -Inf :  y[B] - (a - 5.0) :   0.0 :   True\n",
      "          C :  -Inf :  y[C] - (a - 3.0) :   0.0 :   True\n",
      "\n",
      "13 Declarations: CIRCLES R a b obj x y left_x_con left_y_con right_x_con right_y_con no_overlap_con_index no_overlap_con\n"
     ]
    }
   ],
   "source": [
    "# Create model\n",
    "model = create_circle_model(circle_data)\n",
    "model.pprint()"
   ]
  },
  {
   "cell_type": "markdown",
   "metadata": {},
   "source": [
    "And let's initialize the model."
   ]
  },
  {
   "cell_type": "code",
   "execution_count": 27,
   "metadata": {},
   "outputs": [
    {
     "name": "stdout",
     "output_type": "stream",
     "text": [
      "2 Set Declarations\n",
      "    CIRCLES : Size=1, Index=None, Ordered=Insertion\n",
      "        Key  : Dimen : Domain : Size : Members\n",
      "        None :     1 :    Any :    3 : {'A', 'B', 'C'}\n",
      "    no_overlap_con_index : Size=1, Index=None, Ordered=True\n",
      "        Key  : Dimen : Domain          : Size : Members\n",
      "        None :     2 : CIRCLES*CIRCLES :    9 : {('A', 'A'), ('A', 'B'), ('A', 'C'), ('B', 'A'), ('B', 'B'), ('B', 'C'), ('C', 'A'), ('C', 'B'), ('C', 'C')}\n",
      "\n",
      "1 Param Declarations\n",
      "    R : Size=3, Index=CIRCLES, Domain=PositiveReals, Default=None, Mutable=False\n",
      "        Key : Value\n",
      "          A :  10.0\n",
      "          B :   5.0\n",
      "          C :   3.0\n",
      "\n",
      "4 Var Declarations\n",
      "    a : Size=1, Index=None\n",
      "        Key  : Lower : Value : Upper : Fixed : Stale : Domain\n",
      "        None :     0 :    25 :  None : False : False : PositiveReals\n",
      "    b : Size=1, Index=None\n",
      "        Key  : Lower : Value : Upper : Fixed : Stale : Domain\n",
      "        None :     0 :    25 :  None : False : False : PositiveReals\n",
      "    x : Size=3, Index=CIRCLES\n",
      "        Key : Lower : Value              : Upper : Fixed : Stale : Domain\n",
      "          A :     0 : 14.702966117639603 :  None : False : False : PositiveReals\n",
      "          B :     0 : 11.448180111700909 :  None : False : False : PositiveReals\n",
      "          C :     0 : 11.645163633035782 :  None : False : False : PositiveReals\n",
      "    y : Size=3, Index=CIRCLES\n",
      "        Key : Lower : Value              : Upper : Fixed : Stale : Domain\n",
      "          A :     0 : 10.024808261372959 :  None : False : False : PositiveReals\n",
      "          B :     0 :  9.107095971122614 :  None : False : False : PositiveReals\n",
      "          C :     0 : 12.168695405370963 :  None : False : False : PositiveReals\n",
      "\n",
      "1 Objective Declarations\n",
      "    obj : Size=1, Index=None, Active=True\n",
      "        Key  : Active : Sense    : Expression\n",
      "        None :   True : minimize : 2*(a + b)\n",
      "\n",
      "5 Constraint Declarations\n",
      "    left_x_con : Size=3, Index=CIRCLES, Active=True\n",
      "        Key : Lower : Body : Upper : Active\n",
      "          A :  10.0 : x[A] :  +Inf :   True\n",
      "          B :   5.0 : x[B] :  +Inf :   True\n",
      "          C :   3.0 : x[C] :  +Inf :   True\n",
      "    left_y_con : Size=3, Index=CIRCLES, Active=True\n",
      "        Key : Lower : Body : Upper : Active\n",
      "          A :  10.0 : y[A] :  +Inf :   True\n",
      "          B :   5.0 : y[B] :  +Inf :   True\n",
      "          C :   3.0 : y[C] :  +Inf :   True\n",
      "    no_overlap_con : Size=3, Index=no_overlap_con_index, Active=True\n",
      "        Key        : Lower : Body                                : Upper : Active\n",
      "        ('A', 'B') : 225.0 : (x[A] - x[B])**2 + (y[A] - y[B])**2 :  +Inf :   True\n",
      "        ('A', 'C') : 169.0 : (x[A] - x[C])**2 + (y[A] - y[C])**2 :  +Inf :   True\n",
      "        ('B', 'C') :  64.0 : (x[B] - x[C])**2 + (y[B] - y[C])**2 :  +Inf :   True\n",
      "    right_x_con : Size=3, Index=CIRCLES, Active=True\n",
      "        Key : Lower : Body              : Upper : Active\n",
      "          A :  -Inf : x[A] - (b - 10.0) :   0.0 :   True\n",
      "          B :  -Inf :  x[B] - (b - 5.0) :   0.0 :   True\n",
      "          C :  -Inf :  x[C] - (b - 3.0) :   0.0 :   True\n",
      "    right_y_con : Size=3, Index=CIRCLES, Active=True\n",
      "        Key : Lower : Body              : Upper : Active\n",
      "          A :  -Inf : y[A] - (a - 10.0) :   0.0 :   True\n",
      "          B :  -Inf :  y[B] - (a - 5.0) :   0.0 :   True\n",
      "          C :  -Inf :  y[C] - (a - 3.0) :   0.0 :   True\n",
      "\n",
      "13 Declarations: CIRCLES R a b obj x y left_x_con left_y_con right_x_con right_y_con no_overlap_con_index no_overlap_con\n"
     ]
    }
   ],
   "source": [
    "# Initialize model\n",
    "initialize_circle_model(model)\n",
    "model.pprint()"
   ]
  },
  {
   "cell_type": "markdown",
   "metadata": {},
   "source": [
    "<div class=\"admonition note\"> \n",
    "    <b>Activity</b>: Compare the initial values for <tt>x</tt> and <tt>y</tt> with and without initialization. What is the default initial value in Pyomo?\n",
    "</div>"
   ]
  },
  {
   "cell_type": "markdown",
   "metadata": {},
   "source": [
    "### Visualize Initial Point"
   ]
  },
  {
   "cell_type": "markdown",
   "metadata": {},
   "source": [
    "Next, we'll define a function to plot the solution (or initial point)"
   ]
  },
  {
   "cell_type": "code",
   "execution_count": 28,
   "metadata": {},
   "outputs": [
    {
     "data": {
      "image/png": "[encoded data removed]",
      "text/plain": [
       "<Figure size 432x432 with 1 Axes>"
      ]
     },
     "metadata": {
      "needs_background": "light"
     },
     "output_type": "display_data"
    }
   ],
   "source": [
    "# Plot initial point\n",
    "\n",
    "def plot_circles(m):\n",
    "    ''' Plot circles using data in Pyomo model\n",
    "    \n",
    "    Arguments:\n",
    "        m: Pyomo concrete model\n",
    "    \n",
    "    Returns:\n",
    "        Nothing (but makes a figure)\n",
    "    \n",
    "    '''\n",
    "    \n",
    "    # Create figure\n",
    "    fig, ax = plt.subplots(1,figsize=(6,6))\n",
    "    \n",
    "    # Adjust axes\n",
    "    l = max(m.a.value,m.b.value) + 1\n",
    "    ax.set_xlim(0,l)\n",
    "    ax.set_ylim(0,l)\n",
    "    \n",
    "    # Draw box\n",
    "    art = mpatches.Rectangle((0,0), width=m.b.value, height=m.a.value,fill=False)\n",
    "    ax.add_patch(art)\n",
    "\n",
    "    # Draw circles and mark center\n",
    "    for i in m.CIRCLES:\n",
    "        art2 = mpatches.Circle( (m.x[i].value,m.y[i].value), radius=m.R[i],fill=True,alpha=0.25)\n",
    "        ax.add_patch(art2)\n",
    "        \n",
    "        plt.scatter(m.x[i].value,m.y[i].value,color='black')\n",
    "    \n",
    "    # Show plot\n",
    "    plt.show()\n",
    "    \n",
    "plot_circles(model)"
   ]
  },
  {
   "cell_type": "markdown",
   "metadata": {},
   "source": [
    "### Solve and Inspect the Solution"
   ]
  },
  {
   "cell_type": "code",
   "execution_count": 30,
   "metadata": {},
   "outputs": [
    {
     "name": "stdout",
     "output_type": "stream",
     "text": [
      "Ipopt 3.13.2: \n",
      "\n",
      "******************************************************************************\n",
      "This program contains Ipopt, a library for large-scale nonlinear optimization.\n",
      " Ipopt is released as open source code under the Eclipse Public License (EPL).\n",
      "         For more information visit http://projects.coin-or.org/Ipopt\n",
      "\n",
      "This version of Ipopt was compiled from source code available at\n",
      "    https://github.com/IDAES/Ipopt as part of the Institute for the Design of\n",
      "    Advanced Energy Systems Process Systems Engineering Framework (IDAES PSE\n",
      "    Framework) Copyright (c) 2018-2019. See https://github.com/IDAES/idaes-pse.\n",
      "\n",
      "This version of Ipopt was compiled using HSL, a collection of Fortran codes\n",
      "    for large-scale scientific computation.  All technical papers, sales and\n",
      "    publicity material resulting from use of the HSL codes within IPOPT must\n",
      "    contain the following acknowledgement:\n",
      "        HSL, a collection of Fortran codes for large-scale scientific\n",
      "        computation. See http://www.hsl.rl.ac.uk.\n",
      "******************************************************************************\n",
      "\n",
      "This is Ipopt version 3.13.2, running with linear solver ma27.\n",
      "\n",
      "Number of nonzeros in equality constraint Jacobian...:        0\n",
      "Number of nonzeros in inequality constraint Jacobian.:       30\n",
      "Number of nonzeros in Lagrangian Hessian.............:       12\n",
      "\n",
      "Total number of variables............................:        8\n",
      "                     variables with only lower bounds:        8\n",
      "                variables with lower and upper bounds:        0\n",
      "                     variables with only upper bounds:        0\n",
      "Total number of equality constraints.................:        0\n",
      "Total number of inequality constraints...............:       15\n",
      "        inequality constraints with only lower bounds:        9\n",
      "   inequality constraints with lower and upper bounds:        0\n",
      "        inequality constraints with only upper bounds:        6\n",
      "\n",
      "iter    objective    inf_pr   inf_du lg(mu)  ||d||  lg(rg) alpha_du alpha_pr  ls\n",
      "   0  9.8284270e+01 0.00e+00 1.00e+00  -1.0 0.00e+00    -  0.00e+00 0.00e+00   0\n",
      "   1  9.8738139e+01 0.00e+00 3.50e-02  -1.0 1.39e-01    -  9.75e-01 9.94e-01h  1\n",
      "   2  9.8915314e+01 0.00e+00 2.41e-04  -1.0 5.05e-01    -  1.00e+00 1.00e+00f  1\n",
      "   3  9.8297222e+01 0.00e+00 2.13e-03  -2.5 1.72e+00    -  1.00e+00 9.76e-01f  1\n",
      "   4  9.8285160e+01 0.00e+00 1.85e-06  -3.8 8.16e-02    -  1.00e+00 1.00e+00h  1\n",
      "   5  9.8284281e+01 0.00e+00 6.07e-09  -5.7 1.18e-02    -  1.00e+00 1.00e+00h  1\n",
      "   6  9.8284270e+01 0.00e+00 8.46e-12  -8.6 1.51e-03    -  1.00e+00 1.00e+00h  1\n",
      "\n",
      "Number of Iterations....: 6\n",
      "\n",
      "                                   (scaled)                 (unscaled)\n",
      "Objective...............:   9.8284270438747257e+01    9.8284270438747257e+01\n",
      "Dual infeasibility......:   8.4591780332848879e-12    8.4591780332848879e-12\n",
      "Constraint violation....:   0.0000000000000000e+00    0.0000000000000000e+00\n",
      "Complementarity.........:   2.5494895615959740e-09    2.5494895615959740e-09\n",
      "Overall NLP error.......:   2.5494895615959740e-09    2.5494895615959740e-09\n",
      "\n",
      "\n",
      "Number of objective function evaluations             = 7\n",
      "Number of objective gradient evaluations             = 7\n",
      "Number of equality constraint evaluations            = 0\n",
      "Number of inequality constraint evaluations          = 7\n",
      "Number of equality constraint Jacobian evaluations   = 0\n",
      "Number of inequality constraint Jacobian evaluations = 7\n",
      "Number of Lagrangian Hessian evaluations             = 6\n",
      "Total CPU secs in IPOPT (w/o function evaluations)   =      0.002\n",
      "Total CPU secs in NLP function evaluations           =      0.001\n",
      "\n",
      "EXIT: Optimal Solution Found.\n",
      "\b\b\b\b\b\b\b\b\b\b\b\b\b\b"
     ]
    }
   ],
   "source": [
    "# Specify the solver\n",
    "solver = pyo.SolverFactory('ipopt')\n",
    "\n",
    "# Solve the model\n",
    "results = solver.solve(model, tee = True)"
   ]
  },
  {
   "cell_type": "markdown",
   "metadata": {},
   "source": [
    "Next, we can inspect the solution. Because Pyomo is a Python extension, we can use Pyoth (for loops, etc.) to programmatically inspect the solution."
   ]
  },
  {
   "cell_type": "code",
   "execution_count": 31,
   "metadata": {},
   "outputs": [
    {
     "name": "stdout",
     "output_type": "stream",
     "text": [
      "Name\tValue\n",
      "a \t 19.999999803189603\n",
      "b \t 29.14213541618403\n",
      "x[A] \t 19.142135514931194\n",
      "x[B] \t 4.9999999512521285\n",
      "x[C] \t 5.560079351930413\n",
      "y[A] \t 9.999999901937443\n",
      "y[B] \t 4.999999953543127\n",
      "y[C] \t 15.736333724480192\n"
     ]
    },
    {
     "data": {
      "image/png": "[encoded data removed]",
      "text/plain": [
       "<Figure size 432x432 with 1 Axes>"
      ]
     },
     "metadata": {
      "needs_background": "light"
     },
     "output_type": "display_data"
    }
   ],
   "source": [
    "# Print variable values\n",
    "print(\"Name\\tValue\")\n",
    "for c in model.component_data_objects(pyo.Var):\n",
    "    print(c.name,\"\\t\", pyo.value(c))\n",
    "\n",
    "# Plot solution\n",
    "plot_circles(model)"
   ]
  },
  {
   "cell_type": "code",
   "execution_count": 32,
   "metadata": {},
   "outputs": [
    {
     "name": "stdout",
     "output_type": "stream",
     "text": [
      "left_x_con[A] \t 10.0 \t 19.142135514931194 \t None\n",
      "left_x_con[B] \t 5.0 \t 4.9999999512521285 \t None\n",
      "left_x_con[C] \t 3.0 \t 5.560079351930413 \t None\n",
      "left_y_con[A] \t 10.0 \t 9.999999901937443 \t None\n",
      "left_y_con[B] \t 5.0 \t 4.999999953543127 \t None\n",
      "left_y_con[C] \t 3.0 \t 15.736333724480192 \t None\n",
      "right_x_con[A] \t None \t 9.874716511149018e-08 \t 0.0\n",
      "right_x_con[B] \t None \t -19.1421354649319 \t 0.0\n",
      "right_x_con[C] \t None \t -20.582056064253617 \t 0.0\n",
      "right_y_con[A] \t None \t 9.874784012708915e-08 \t 0.0\n",
      "right_y_con[B] \t None \t -9.999999849646475 \t 0.0\n",
      "right_y_con[C] \t None \t -1.2636660787094112 \t 0.0\n",
      "no_overlap_con[A,B] \t 225.0 \t 224.99999778541937 \t None\n",
      "no_overlap_con[A,C] \t 169.0 \t 217.37777533855544 \t None\n",
      "no_overlap_con[B,C] \t 64.0 \t 115.58255177602786 \t None\n"
     ]
    }
   ],
   "source": [
    "# Print constraints\n",
    "for c in model.component_data_objects(pyo.Constraint):\n",
    "    print(c.name,\"\\t\", pyo.value(c.lower),\"\\t\", pyo.value(c.body),\"\\t\", pyo.value(c.upper))"
   ]
  },
  {
   "cell_type": "markdown",
   "metadata": {},
   "source": [
    "### Reinitialize and Resolve"
   ]
  },
  {
   "cell_type": "markdown",
   "metadata": {},
   "source": [
    "<div class=\"admonition note\"> \n",
    "    <b>Activity</b>: Reinitialize the model, plot the initial point, resolve, and plot the solution. Is there more than one solution?\n",
    "</div>"
   ]
  },
  {
   "cell_type": "code",
   "execution_count": 22,
   "metadata": {},
   "outputs": [
    {
     "name": "stdout",
     "output_type": "stream",
     "text": [
      "2 Set Declarations\n",
      "    CIRCLES : Size=1, Index=None, Ordered=Insertion\n",
      "        Key  : Dimen : Domain : Size : Members\n",
      "        None :     1 :    Any :    3 : {'A', 'B', 'C'}\n",
      "    no_overlap_con_index : Size=1, Index=None, Ordered=True\n",
      "        Key  : Dimen : Domain          : Size : Members\n",
      "        None :     2 : CIRCLES*CIRCLES :    9 : {('A', 'A'), ('A', 'B'), ('A', 'C'), ('B', 'A'), ('B', 'B'), ('B', 'C'), ('C', 'A'), ('C', 'B'), ('C', 'C')}\n",
      "\n",
      "1 Param Declarations\n",
      "    R : Size=3, Index=CIRCLES, Domain=PositiveReals, Default=None, Mutable=False\n",
      "        Key : Value\n",
      "          A :  10.0\n",
      "          B :   5.0\n",
      "          C :   3.0\n",
      "\n",
      "4 Var Declarations\n",
      "    a : Size=1, Index=None\n",
      "        Key  : Lower : Value : Upper : Fixed : Stale : Domain\n",
      "        None :     0 :    25 :  None : False : False : PositiveReals\n",
      "    b : Size=1, Index=None\n",
      "        Key  : Lower : Value : Upper : Fixed : Stale : Domain\n",
      "        None :     0 :    25 :  None : False : False : PositiveReals\n",
      "    x : Size=3, Index=CIRCLES\n",
      "        Key : Lower : Value              : Upper : Fixed : Stale : Domain\n",
      "          A :     0 : 19.584576155980667 :  None : False : False : PositiveReals\n",
      "          B :     0 :  7.314989643761216 :  None : False : False : PositiveReals\n",
      "          C :     0 :  6.471478399524947 :  None : False : False : PositiveReals\n",
      "    y : Size=3, Index=CIRCLES\n",
      "        Key : Lower : Value              : Upper : Fixed : Stale : Domain\n",
      "          A :     0 : 14.902286214475343 :  None : False : False : PositiveReals\n",
      "          B :     0 : 10.489228593009017 :  None : False : False : PositiveReals\n",
      "          C :     0 :   9.00880553584265 :  None : False : False : PositiveReals\n",
      "\n",
      "1 Objective Declarations\n",
      "    obj : Size=1, Index=None, Active=True\n",
      "        Key  : Active : Sense    : Expression\n",
      "        None :   True : minimize : 2*(a + b)\n",
      "\n",
      "5 Constraint Declarations\n",
      "    left_x_con : Size=3, Index=CIRCLES, Active=True\n",
      "        Key : Lower : Body : Upper : Active\n",
      "          A :  10.0 : x[A] :  +Inf :   True\n",
      "          B :   5.0 : x[B] :  +Inf :   True\n",
      "          C :   3.0 : x[C] :  +Inf :   True\n",
      "    left_y_con : Size=3, Index=CIRCLES, Active=True\n",
      "        Key : Lower : Body : Upper : Active\n",
      "          A :  10.0 : y[A] :  +Inf :   True\n",
      "          B :   5.0 : y[B] :  +Inf :   True\n",
      "          C :   3.0 : y[C] :  +Inf :   True\n",
      "    no_overlap_con : Size=3, Index=no_overlap_con_index, Active=True\n",
      "        Key        : Lower : Body                                : Upper : Active\n",
      "        ('A', 'B') : 225.0 : (x[A] - x[B])**2 + (y[A] - y[B])**2 :  +Inf :   True\n",
      "        ('A', 'C') : 169.0 : (x[A] - x[C])**2 + (y[A] - y[C])**2 :  +Inf :   True\n",
      "        ('B', 'C') :  64.0 : (x[B] - x[C])**2 + (y[B] - y[C])**2 :  +Inf :   True\n",
      "    right_x_con : Size=3, Index=CIRCLES, Active=True\n",
      "        Key : Lower : Body              : Upper : Active\n",
      "          A :  -Inf : x[A] - (b - 10.0) :   0.0 :   True\n",
      "          B :  -Inf :  x[B] - (b - 5.0) :   0.0 :   True\n",
      "          C :  -Inf :  x[C] - (b - 3.0) :   0.0 :   True\n",
      "    right_y_con : Size=3, Index=CIRCLES, Active=True\n",
      "        Key : Lower : Body              : Upper : Active\n",
      "          A :  -Inf : y[A] - (a - 10.0) :   0.0 :   True\n",
      "          B :  -Inf :  y[B] - (a - 5.0) :   0.0 :   True\n",
      "          C :  -Inf :  y[C] - (a - 3.0) :   0.0 :   True\n",
      "\n",
      "13 Declarations: CIRCLES R a b obj x y left_x_con left_y_con right_x_con right_y_con no_overlap_con_index no_overlap_con\n"
     ]
    }
   ],
   "source": [
    "# Initialize and print the model\n",
    "\n",
    "\n",
    "\n",
    "# Add your solution here"
   ]
  },
  {
   "cell_type": "code",
   "execution_count": 23,
   "metadata": {},
   "outputs": [
    {
     "data": {
      "image/png": "[encoded data removed]",
      "text/plain": [
       "<Figure size 432x432 with 1 Axes>"
      ]
     },
     "metadata": {
      "needs_background": "light"
     },
     "output_type": "display_data"
    }
   ],
   "source": [
    "# Plot initial point\n",
    "# Add your solution here"
   ]
  },
  {
   "cell_type": "code",
   "execution_count": 24,
   "metadata": {},
   "outputs": [
    {
     "name": "stdout",
     "output_type": "stream",
     "text": [
      "Ipopt 3.13.2: \n",
      "\n",
      "******************************************************************************\n",
      "This program contains Ipopt, a library for large-scale nonlinear optimization.\n",
      " Ipopt is released as open source code under the Eclipse Public License (EPL).\n",
      "         For more information visit http://projects.coin-or.org/Ipopt\n",
      "******************************************************************************\n",
      "\n",
      "This is Ipopt version 3.13.2, running with linear solver ma27.\n",
      "\n",
      "Number of nonzeros in equality constraint Jacobian...:        0\n",
      "Number of nonzeros in inequality constraint Jacobian.:       30\n",
      "Number of nonzeros in Lagrangian Hessian.............:       12\n",
      "\n",
      "Total number of variables............................:        8\n",
      "                     variables with only lower bounds:        8\n",
      "                variables with lower and upper bounds:        0\n",
      "                     variables with only upper bounds:        0\n",
      "Total number of equality constraints.................:        0\n",
      "Total number of inequality constraints...............:       15\n",
      "        inequality constraints with only lower bounds:        9\n",
      "   inequality constraints with lower and upper bounds:        0\n",
      "        inequality constraints with only upper bounds:        6\n",
      "\n",
      "iter    objective    inf_pr   inf_du lg(mu)  ||d||  lg(rg) alpha_du alpha_pr  ls\n",
      "   0  1.0000000e+02 6.11e+01 1.02e+00  -1.0 0.00e+00    -  0.00e+00 0.00e+00   0\n",
      "   1  1.0059888e+02 1.59e+01 2.23e+01  -1.0 1.80e+01    -  1.67e-01 2.64e-01h  1\n",
      "   2  1.0278855e+02 0.00e+00 2.06e+00  -1.0 1.89e+01    -  1.42e-01 1.00e+00h  1\n",
      "   3  1.0025727e+02 0.00e+00 4.27e-01  -1.0 7.37e+00    -  9.58e-01 6.22e-01f  1\n",
      "   4  9.9403733e+01 0.00e+00 1.44e-01  -1.0 2.60e+01    -  7.40e-01 1.00e+00h  1\n",
      "   5  9.8843064e+01 0.00e+00 6.36e-03  -1.0 8.38e+00    -  1.00e+00 1.00e+00h  1\n",
      "   6  9.8390750e+01 0.00e+00 3.92e-04  -1.7 2.22e+00    -  1.00e+00 1.00e+00h  1\n",
      "   7  9.8284949e+01 0.00e+00 5.50e-05  -3.8 2.33e-01    -  1.00e+00 9.98e-01h  1\n",
      "   8  9.8284281e+01 0.00e+00 1.32e-07  -5.7 1.40e-01    -  1.00e+00 1.00e+00h  1\n",
      "   9  9.8284281e+01 0.00e+00 4.01e-10  -5.7 1.26e+01    -  1.00e+00 1.00e+00h  1\n",
      "iter    objective    inf_pr   inf_du lg(mu)  ||d||  lg(rg) alpha_du alpha_pr  ls\n",
      "  10  9.8284281e+01 0.00e+00 3.54e-11  -5.7 4.54e-01    -  1.00e+00 1.00e+00h  1\n",
      "  11  9.8284281e+01 0.00e+00 1.84e-11  -5.7 2.74e-03    -  1.00e+00 1.00e+00h  1\n",
      "  12  9.8284270e+01 0.00e+00 1.43e-13  -8.6 2.69e-05    -  1.00e+00 1.00e+00h  1\n",
      "\n",
      "Number of Iterations....: 12\n",
      "\n",
      "                                   (scaled)                 (unscaled)\n",
      "Objective...............:   9.8284270438748536e+01    9.8284270438748536e+01\n",
      "Dual infeasibility......:   1.4274501609950705e-13    1.4274501609950705e-13\n",
      "Constraint violation....:   0.0000000000000000e+00    0.0000000000000000e+00\n",
      "Complementarity.........:   2.5071318587575989e-09    2.5071318587575989e-09\n",
      "Overall NLP error.......:   2.5071318587575989e-09    2.5071318587575989e-09\n",
      "\n",
      "\n",
      "Number of objective function evaluations             = 13\n",
      "Number of objective gradient evaluations             = 13\n",
      "Number of equality constraint evaluations            = 0\n",
      "Number of inequality constraint evaluations          = 13\n",
      "Number of equality constraint Jacobian evaluations   = 0\n",
      "Number of inequality constraint Jacobian evaluations = 13\n",
      "Number of Lagrangian Hessian evaluations             = 12\n",
      "Total CPU secs in IPOPT (w/o function evaluations)   =      0.003\n",
      "Total CPU secs in NLP function evaluations           =      0.000\n",
      "\n",
      "EXIT: Optimal Solution Found.\n"
     ]
    }
   ],
   "source": [
    "# Solve the model\n",
    "# Add your solution here"
   ]
  },
  {
   "cell_type": "code",
   "execution_count": 25,
   "metadata": {},
   "outputs": [
    {
     "data": {
      "image/png": "[encoded data removed]",
      "text/plain": [
       "<Figure size 432x432 with 1 Axes>"
      ]
     },
     "metadata": {
      "needs_background": "light"
     },
     "output_type": "display_data"
    }
   ],
   "source": [
    "# Plot solution\n",
    "# Add your solution here"
   ]
  },
  {
   "cell_type": "markdown",
   "metadata": {},
   "source": [
    "## Take Away Messages\n",
    "* Linear programs are convex. We will learn this means all local optima are global optima.\n",
    "* Nonlinear programs may be nonconvex. For nonconvex problems, there often existings many local optima that are not also global optima.\n",
    "* We will learn how to mathematically define convexity and analyze this property.\n",
    "* Initialization is really important in optimization problems with nonlinear objectives or constraints!\n",
    "* There are specialize solves for linear programs, quadratic programs, and convex programs. In this class, we will focus on more general algorithms for (non)convex nonlinear programs including the algorithms used by the `ipopt` solver."
   ]
  },
  {
   "cell_type": "code",
   "execution_count": null,
   "metadata": {},
   "outputs": [],
   "source": []
  }
 ],
 "metadata": {
  "kernelspec": {
   "display_name": "Python 3",
   "language": "python",
   "name": "python3"
  },
  "language_info": {
   "codemirror_mode": {
    "name": "ipython",
    "version": 3
   },
   "file_extension": ".py",
   "mimetype": "text/x-python",
   "name": "python",
   "nbconvert_exporter": "python",
   "pygments_lexer": "ipython3",
   "version": "3.7.9"
  }
 },
 "nbformat": 4,
 "nbformat_minor": 2
}
