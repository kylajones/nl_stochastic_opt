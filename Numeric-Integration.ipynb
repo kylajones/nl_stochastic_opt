{
 "cells": [
  {
   "cell_type": "markdown",
   "metadata": {},
   "source": [
    "# Numeric Integration for DAEs\n",
    "\n",
    "The purpose of this notebook/class session is to provide the requisite background on numeric integration of DAEs. This helps appreciate the \"direct transcription\" approach for dynamic optimization used in `Pyomo.dae`."
   ]
  },
  {
   "cell_type": "code",
   "execution_count": 1,
   "metadata": {},
   "outputs": [],
   "source": [
    "import numpy as np\n",
    "import scipy.optimize as opt\n",
    "import matplotlib.pyplot as plt"
   ]
  },
  {
   "cell_type": "markdown",
   "metadata": {},
   "source": [
    "## Single-Step Runge-Kutta Methods\n",
    "* ADD REFERENCE HERE\n",
    "* Chapter 9 in [Biegler (2010)](https://epubs.siam.org/doi/book/10.1137/1.9780898719383)\n",
    "* Chapter 17 in [McClarren (2018)](https://www.sciencedirect.com/book/9780128122532/computational-nuclear-engineering-and-radiological-science-using-python)"
   ]
  },
  {
   "cell_type": "markdown",
   "metadata": {},
   "source": [
    "### General Form: Index 0 DAE\n",
    "\n",
    "Consider the ODE system:\n",
    "$$\\begin{equation*}\n",
    "\\dot{z} = f(t,z), \\quad z(t_0) = z_0\n",
    "\\end{equation*}$$\n",
    "\n",
    "where $z(t)$ are the differentail variables and $f(t,z)$ is a (nonlinear) continous function.\n",
    "\n",
    "The general Runge-Kutta formula is:\n",
    "$$\\begin{align*}\n",
    "z_{i+1} &= z_{i} + h_i \\sum_{k=1}^{n_s} b_k f(t_i + c_k h_i, \\hat{z}_k) \\\\\n",
    "    \\hat{z}_k &= z_i + h_i \\sum_{j=1}^{n_{rk}} a_{k,j} f(t_i + c_j h_i, \\hat{z}_j), \\quad k=1,...,n_s \n",
    "\\end{align*}$$\n",
    "\n",
    "where\n",
    "* $z_i$ are the differential variables at the **start** of **step** $i$ (time $t_i$)\n",
    "* $z_{i+1}$ are the differential variables at the **end** of **step** $i$ (time $t_{i+1}$)\n",
    "* $\\hat{z}_k$ are differential variables for **intermediate stage** $k$\n",
    "* $h_i$ is the size for step $i$ such that $t_{i+1} = t_i + h_i$\n",
    "* $n_s$ is the number of stages\n",
    "* $n_{rk}$ is the number of $f(\\cdot)$ evaluations to calculate intermediate $k$\n",
    "* $a_{k,j}$ are coefficients, together known as the *Runge-Kutta matrix*\n",
    "* $b_k$ are cofficients, known as the *weights*\n",
    "* $c_k$ are coefficients, know as the *nodes*\n",
    "\n",
    "$h_i$ is selected based on error tolerances\n",
    "\n",
    "The choice for $A$, $b$ and $c$ selects the specific method in the *Runge-Kutta family*. These coefficients are often specific in a [Butcher block](https://en.wikipedia.org/wiki/Runge%E2%80%93Kutta_methods#Explicit_Runge) (or Butcher tableau).\n",
    "\n",
    "A Runge-Kutta method is called [**consistent**](https://en.wikiversity.org/wiki/Numerical_Analysis/stability_of_RK_methods) if:\n",
    "$$\\begin{equation*}\n",
    "\\sum_{k=1}^{n_s} b_k = 1 \\quad \\mathrm{and} \\quad \\sum_{j=1}^{n_s} a_{k,j} = c_k\n",
    "\\end{equation*}$$"
   ]
  },
  {
   "cell_type": "markdown",
   "metadata": {},
   "source": [
    "### Explicit (Forward) Euler\n",
    "\n",
    "Consider one of the simplest Runge-Kutta methods:\n",
    "\n",
    "$$z_{i+1} = z_{i} + h_i~f(t_i, z_i)$$\n",
    "\n",
    "What are $A$, $b$ and $c$ in the general formula?\n",
    "\n",
    "$n_s = 1$. This is only a single stage. Thus we only need to determine $c_1$, $b_1$, and $n_{r1}$\n",
    "\n",
    "Moreover, $\\hat{z}_1 = z_i$ because $f(\\cdot)$ is only evaluated at $t_i$ and $z_i$. This implies:\n",
    "* $n_{r1} = 0$\n",
    "* $c_1 = 0$\n",
    "* $b_1 = 1$\n",
    "* $A$ is empty because $n_{r1} = 0$\n",
    "\n",
    "The implementation is very straightword (see below). We can calculate $z_{i+1}$ with a single line!"
   ]
  },
  {
   "cell_type": "code",
   "execution_count": 2,
   "metadata": {},
   "outputs": [],
   "source": [
    "def create_steps(tstart,tend,dt):\n",
    "    n = int(np.ceil((tend-tstart)/dt))\n",
    "    return dt*np.ones(n)\n",
    "\n",
    "def explicit_euler(f,h,z0):\n",
    "    '''\n",
    "    Arguments:\n",
    "        f: function that returns rhs of ODE\n",
    "        h: list of step sizes\n",
    "        z0: initial conditions\n",
    "        \n",
    "    Returns:\n",
    "        t: list of time steps. t[0] is 0.0 by default\n",
    "        z: list of differential variable values\n",
    "    '''\n",
    "    \n",
    "    # Number of timesteps\n",
    "    nT = len(h) + 1\n",
    "    \n",
    "    t = np.zeros(nT)\n",
    "    \n",
    "    # Number of states\n",
    "    nZ = len(z0)\n",
    "    Z = np.zeros((nT,nZ))\n",
    "    \n",
    "    # Copy initial states\n",
    "    Z[0,:] = z0\n",
    "    \n",
    "    for i in range(1,nT):\n",
    "        \n",
    "        i_ = i-1\n",
    "        \n",
    "        # Advance time\n",
    "        t[i] = t[i_] + h[i_]\n",
    "        \n",
    "        # Implicit Euler formula\n",
    "        Z[i,:] = Z[i_,:] + h[i_]*f(t[i_],Z[i_,:])\n",
    "        \n",
    "    return t, Z"
   ]
  },
  {
   "cell_type": "markdown",
   "metadata": {},
   "source": [
    "### Implicit (Backward) Euler\n",
    "\n",
    "Consider another simple Runge-Kutta method:\n",
    "\n",
    "$$z_{i+1} = z_{i} + h_i~f(t_{i+1}, z_{i+1})$$\n",
    "\n",
    "What are $A$, $b$ and $c$ to express using the general formula?\n",
    "\n",
    "$n_s = 1$. Thus is only a single stage. Moreover, $\\hat{z}_1 = z_{i+1}$ because $f(\\cdot)$ is evaluated at $t_{i+1}$ and $z_{i+1}$. This implies:\n",
    "* $b_1 = 1$\n",
    "* $c_1 = 1$\n",
    "\n",
    "Moreover, $z_{i+1} = z_{i} + h_i~f(t_{i+1}, z_{i+1})$ implies $\\hat{z}_1 = z_i + h_i f(t_{i+1}, \\hat{z}_1)$. Thus:\n",
    "* $a_{1,1} = 1$\n",
    "\n",
    "Notice that the formula for $z_{i+1}$ is implicit. We need to solve a (nonlinear) system of equations to calculate the step."
   ]
  },
  {
   "cell_type": "code",
   "execution_count": 3,
   "metadata": {},
   "outputs": [],
   "source": [
    "def implicit_euler(f,h,z0):\n",
    "    '''\n",
    "    Arguments:\n",
    "        f: function that returns rhs of ODE\n",
    "        h: list of step sizes\n",
    "        z0: initial conditions\n",
    "        \n",
    "    Returns:\n",
    "        t: list of time steps. t[0] is 0.0 by default\n",
    "        z: list of differential variable values\n",
    "    '''\n",
    "    \n",
    "    # Number of timesteps\n",
    "    nT = len(h) + 1\n",
    "    \n",
    "    t = np.zeros(nT)\n",
    "    \n",
    "    # Number of states\n",
    "    nZ = len(z0)\n",
    "    Z = np.zeros((nT,nZ))\n",
    "    \n",
    "    # Copy initial states\n",
    "    Z[0,:] = z0\n",
    "    \n",
    "    for i in range(1,nT):\n",
    "        \n",
    "        i_ = i-1\n",
    "        \n",
    "        # Advance time\n",
    "        t[i] = t[i_] + h[i_]\n",
    "        \n",
    "        ## Implicit Runge-Kutta formula.\n",
    "        ## Need to solve nonlinear system of equations.\n",
    "        \n",
    "        # Use Explicit Euler to calculate initial guess\n",
    "        Z[i,:] = Z[i_,:] + h[i_]*f(t[i_],Z[i_,:])\n",
    "        \n",
    "        # Solve nonlinear equation\n",
    "        implicit = lambda z : Z[i_,:] + h[i_]*f(t[i_],z) - z\n",
    "        Z[i,:] = opt.fsolve(implicit, Z[i,:])\n",
    "        \n",
    "        \n",
    "    return t, Z"
   ]
  },
  {
   "cell_type": "markdown",
   "metadata": {},
   "source": [
    "### Comparison\n",
    "\n",
    "Let's test this on a simple problem:\n",
    "$$\\dot{z}(t) = -\\lambda z(t), \\qquad z_0 = 1.$$ The solution to this problem is \n",
    "$$z(t) = e^{-\\lambda t}.$$\n",
    "\n",
    "For simplicity, let's numerically analyze $\\lambda = 1$."
   ]
  },
  {
   "cell_type": "code",
   "execution_count": 6,
   "metadata": {},
   "outputs": [
    {
     "data": {
      "image/png": "[encoded data removed]",
      "text/plain": [
       "<Figure size 432x288 with 1 Axes>"
      ]
     },
     "metadata": {
      "needs_background": "light"
     },
     "output_type": "display_data"
    }
   ],
   "source": [
    "rhs = lambda t, z: -z\n",
    "sln = lambda t: np.exp(-t)\n",
    "\n",
    "dt = 1.0\n",
    "h = create_steps(0.0,5.0,dt)\n",
    "\n",
    "z0 = [1]\n",
    "\n",
    "te, Ze = explicit_euler(rhs, h, z0)\n",
    "ti, Zi = implicit_euler(rhs, h, z0)\n",
    "\n",
    "plt.figure()\n",
    "\n",
    "# Use 101 points for exact to make it smooth\n",
    "texact = np.linspace(0.0,np.sum(h),101)\n",
    "\n",
    "# Plot solutions\n",
    "plt.plot(texact, sln(texact),color='green',label=\"Exact Solution\")\n",
    "plt.plot(te,Ze,color='red',marker='s',label='Forward Euler')\n",
    "plt.plot(ti,Zi,color='blue',marker='o',label='Backward Euler')\n",
    "plt.xlabel('t')\n",
    "plt.ylabel('z')\n",
    "plt.legend()\n",
    "plt.title('Solution with h = '+ str(dt))\n",
    "plt.show()"
   ]
  },
  {
   "cell_type": "markdown",
   "metadata": {},
   "source": [
    "### Stability\n",
    "\n",
    "Keeping $\\lambda = 1$, are there any limits on step size?\n",
    "\n"
   ]
  },
  {
   "cell_type": "code",
   "execution_count": 7,
   "metadata": {},
   "outputs": [
    {
     "data": {
      "image/png": "[encoded data removed]",
      "text/plain": [
       "<Figure size 432x288 with 1 Axes>"
      ]
     },
     "metadata": {
      "needs_background": "light"
     },
     "output_type": "display_data"
    }
   ],
   "source": [
    "dt = 2.5\n",
    "h = create_steps(0.0,10.0,dt)\n",
    "\n",
    "z0 = [1]\n",
    "\n",
    "te, Ze = explicit_euler(rhs, h, z0)\n",
    "ti, Zi = implicit_euler(rhs, h, z0)\n",
    "\n",
    "plt.figure()\n",
    "\n",
    "# Use 101 points for exact to make it smooth\n",
    "texact = np.linspace(0.0,np.sum(h),101)\n",
    "\n",
    "# Plot solutions\n",
    "plt.plot(texact, sln(texact),color='green',label=\"Exact Solution\")\n",
    "plt.plot(te,Ze,color='red',marker='s',label='Forward Euler')\n",
    "plt.plot(ti,Zi,color='blue',marker='o',label='Backward Euler')\n",
    "plt.xlabel('t')\n",
    "plt.ylabel('z')\n",
    "plt.legend()\n",
    "plt.title('Solution with h = '+ str(dt))\n",
    "plt.show()"
   ]
  },
  {
   "cell_type": "markdown",
   "metadata": {},
   "source": [
    "**Key observation:** forward (explicit) Euler becomes unstable with large steps whereas backward (implicit) Euler is stable.\n",
    "\n",
    "There is a good mathematical reason for this! See http://www.it.uu.se/edu/course/homepage/bridging/ht13/Stability_Analysis.pdf for details.\n",
    "\n",
    "**Key results** (for this specific test problem):\n",
    "* Explicit Euler requires step sizes with $h < 2/\\lambda$.\n",
    "* Implicit Euler is *unconditionally stable* provided $\\lambda > 0$.\n",
    "* Similar analysis and concepts extend to Runge-Kutta methods."
   ]
  },
  {
   "cell_type": "markdown",
   "metadata": {},
   "source": [
    "### Error Analysis\n",
    "\n",
    "How does our choice in step size $h$ impact the error of these numerical techniques?\n",
    "\n",
    "Excellent tutorial: http://www.math.unl.edu/~gledder1/Math447/EulerError"
   ]
  },
  {
   "cell_type": "code",
   "execution_count": 10,
   "metadata": {},
   "outputs": [
    {
     "data": {
      "image/png": "[encoded data removed]",
      "text/plain": [
       "<Figure size 432x288 with 1 Axes>"
      ]
     },
     "metadata": {
      "needs_background": "light"
     },
     "output_type": "display_data"
    },
    {
     "name": "stdout",
     "output_type": "stream",
     "text": [
      "Slope for Forward Euler: 1.0220608473216777\n",
      "Slope for Backward Euler: 0.9874086317220228\n"
     ]
    }
   ],
   "source": [
    "Delta_t = np.array([1.0,.5,.25,.125,.0625,.0625/2])\n",
    "t_final = 2\n",
    "error_forward = np.zeros(Delta_t.size)\n",
    "error_backward = np.zeros(Delta_t.size)\n",
    "\n",
    "for i in range(0,len(Delta_t)):\n",
    "    \n",
    "    # create steps\n",
    "    h = create_steps(0.0,t_final,Delta_t[i])\n",
    "    \n",
    "    # solve\n",
    "    t,ze = explicit_euler(rhs, h, z0)\n",
    "    t,zi = implicit_euler(rhs, h, z0)\n",
    "    zsln = np.exp(-t)\n",
    "    \n",
    "    n = len(t) - 1\n",
    "    \n",
    "    # Calculate error\n",
    "    error_forward[i] = np.linalg.norm(ze[:,0] - zsln)/np.sqrt(n)\n",
    "    error_backward[i] = np.linalg.norm(zi[:,0] - zsln)/np.sqrt(n)\n",
    "    \n",
    "\n",
    "plt.loglog(Delta_t,error_forward,'s-',color=\"red\",label=\"Forward Euler\")\n",
    "plt.loglog(Delta_t,error_backward,'o-',color=\"blue\",label=\"Backward Euler\")\n",
    "\n",
    "#slope = (np.log(error[-1]) - np.log(error[-2]))/(np.log(Delta_t[-1])- np.log(Delta_t[-2]))\n",
    "#plt.title(\"Slope of Error is \" + str(slope))\n",
    "plt.xlabel(\"Step Size (h)\")\n",
    "plt.ylabel(\"Norm of Error\")\n",
    "plt.legend()\n",
    "plt.show()\n",
    "\n",
    "# Calculate slope\n",
    "calc_slope = lambda error: (np.log(error[-1]) - np.log(error[-2]))/(np.log(Delta_t[-1])- np.log(Delta_t[-2]))\n",
    "\n",
    "print(\"Slope for Forward Euler: \" + str(calc_slope(error_forward)))\n",
    "print(\"Slope for Backward Euler: \" + str(calc_slope(error_backward)))"
   ]
  },
  {
   "cell_type": "markdown",
   "metadata": {},
   "source": [
    "Notice that the error indicates that this is a first-order method in $\\Delta t$: when I decrease $\\Delta t$ by a factor of 2, the error decreases by a factor of 2.  In this case we measured the error with a slightly different error norm:\n",
    "$$\\mathrm{Error} = \\frac{1}{\\sqrt{N}}\\sqrt{\\sum_{n=1}^{N} \\left(y^n_\\mathrm{approx} - y^n_\\mathrm{exact}\\right)^2},$$\n",
    "where $N$ is the number of steps the ODE is solved over."
   ]
  },
  {
   "cell_type": "markdown",
   "metadata": {},
   "source": [
    "**Key Results**:\n",
    "* Implicit and Explicit Euler have $O(h^2)$ local error and $O(h)$ global error."
   ]
  },
  {
   "cell_type": "markdown",
   "metadata": {},
   "source": [
    "### Extensions to DAEs\n",
    "\n",
    "Consider semi-explicit DAEs:\n",
    "$$\\begin{equation*}\n",
    "\\dot{z} = f(t,z,y), \\quad g(z,y) = 0, \\quad z(t_0) = z_0\n",
    "\\end{equation*}$$\n",
    "\n",
    "Runge-Kutta methods are easy to extend.\n",
    "\n",
    "$$\\begin{align*}\n",
    "z_{i+1} &= z_{i} + h_i \\sum_{k=1}^{n_s} b_k f(t_i + c_k h_i, \\hat{z}_k, \\hat{y}_k) \\\\\n",
    "    \\hat{z}_k &= z_i + h_i \\sum_{j=1}^{n_{rk}} a_{k,j} f(t_i + c_j h_i, \\hat{z}_j, \\hat{y}_j), \\quad k=1,...,n_s \\\\\n",
    "    0 &= g(\\hat{z}_k, \\hat{y}_k), \\quad k=1,...,n_s\n",
    "\\end{align*}$$\n",
    "\n",
    "**Key Results**. If DAE is index 1, then similar stability and order properties as for ODE problems.\n",
    "\n",
    "**Discussion:** Why are *implicit* RK methods always used for DAE systems?"
   ]
  },
  {
   "cell_type": "markdown",
   "metadata": {},
   "source": [
    "## Quadrature Rules"
   ]
  },
  {
   "cell_type": "markdown",
   "metadata": {},
   "source": [
    "* Chapter 16 in [McClarren (2018)](https://www.sciencedirect.com/book/9780128122532/computational-nuclear-engineering-and-radiological-science-using-python).\n",
    "* Chapter 10 in [Biegler (2010)](https://epubs.siam.org/doi/book/10.1137/1.9780898719383)"
   ]
  },
  {
   "cell_type": "markdown",
   "metadata": {},
   "source": [
    "### Main Idea\n",
    "\n",
    "Approximate integral $I$ with weighted sum of function evaluations:\n",
    "\n",
    "$$\\begin{equation*}\n",
    "I := \\int_{-1}^{1} f(x) dx \\approx \\underbrace{\\sum_{l=1}^{L} w_l f(x_l)}_{\\text{quadrature rule}}\n",
    "\\end{equation*}$$\n",
    "\n",
    "where:\n",
    "* $x_l$ are nodes (abscissas)\n",
    "* $w_l$ are weights\n",
    "* $n$ number of nodes and weights\n",
    "\n",
    "Central questions:\n",
    "* How to choose *nodes* and *weights*?\n",
    "* How does this choice impact approximation error?\n",
    "* How does $n$ impact approximation error?"
   ]
  },
  {
   "cell_type": "markdown",
   "metadata": {},
   "source": [
    "### Degree and order of a polynomial\n",
    "\n",
    "Consider the polynomial:\n",
    "\n",
    "$$p(t) = a_0 + a_1 t + ... + a_K t^K.$$\n",
    "\n",
    "$p(t)$ is said to be of **order K+1** as it has K+1 coefficients $a_0, ... a_K$.\n",
    "\n",
    "The **degree** of the polynomial is the highest power with a non-zero coefficient. Thus if $a_K \\neq 0$, then $p(t)$ is degree K.\n",
    "\n",
    "Example: What is the degree of $2 x^3 - x^2 + 1$? What can you say about its order?"
   ]
  },
  {
   "cell_type": "markdown",
   "metadata": {},
   "source": [
    "### Gauss-Legrenge Quadrature\n",
    "\n",
    "For a *specific choice of nodes and weights*, the quadrature rule $\\sum_{l=1}^{L} w_l f(x_l)$ is exact for integral $I$ is $f(x)$ is a polynomial of degree $2L-1$ or less. This specific case is the **optimal** (most accurate) rule known as the Gauss-Legrenge quadrature.\n",
    "\n",
    "The weights and abscissas are given for $L$ up to 8:"
   ]
  },
  {
   "cell_type": "markdown",
   "metadata": {},
   "source": [
    "<table>\n",
    "<tbody><tr><td>$L$</td><td>$x_l$</td><td>$w_l$</td></tr></tbody>\n",
    "<tbody><tr><td>1</td><td>0</td><td>2.0000000000000000000000000</td></tr></tbody>\n",
    "<tbody><tr><td>2</td><td>±0.5773502691896257645091488</td><td>1.0000000000000000000000000</td></tr></tbody><p></p><tbody><tr><td rowspan=\"2\">3</td><td>0</td><td>0.8888888888888888888888889</td></tr><tr><td>±0.7745966692414833770358531</td><td>0.5555555555555555555555556</td></tr></tbody><p></p><tbody><tr><td rowspan=\"2\">4</td><td>±0.3399810435848562648026658</td><td>0.6521451548625461426269361</td></tr><tr><td>±0.8611363115940525752239465</td><td>0.3478548451374538573730639</td></tr></tbody><p></p><tbody><tr><td rowspan=\"3\">5</td><td>0</td><td>0.5688888888888888888888889</td></tr><tr><td>±0.5384693101056830910363144</td><td>0.4786286704993664680412915</td></tr><tr><td>±0.9061798459386639927976269</td><td>0.2369268850561890875142640</td></tr></tbody><p></p><tbody><tr><td rowspan=\"3\">6</td><td>±0.2386191860831969086305017</td><td>0.4679139345726910473898703</td></tr><tr><td>±0.6612093864662645136613996</td><td>0.3607615730481386075698335</td></tr><tr><td>±0.9324695142031520278123016</td><td>0.1713244923791703450402961</td></tr></tbody><p></p><tbody><tr><td rowspan=\"4\">7</td><td>0</td><td>0.4179591836734693877551020</td></tr><tr><td>±0.4058451513773971669066064</td><td>0.3818300505051189449503698</td></tr><tr><td>±0.7415311855993944398638648</td><td>0.2797053914892766679014678</td></tr><tr><td>±0.9491079123427585245261897</td><td>0.1294849661688696932706114</td></tr></tbody><p></p><tbody><tr><td rowspan=\"4\">8</td><td>±0.1834346424956498049394761</td><td>0.3626837833783619829651504</td></tr><tr><td>±0.5255324099163289858177390</td><td>0.3137066458778872873379622</td></tr><tr><td>±0.7966664774136267395915539</td><td>0.2223810344533744705443560</td></tr><tr><td>±0.9602898564975362316835609</td><td>0.1012285362903762591525314</td></tr></tbody>\n",
    "</table>"
   ]
  },
  {
   "cell_type": "markdown",
   "metadata": {},
   "source": [
    "### Code"
   ]
  },
  {
   "cell_type": "code",
   "execution_count": 11,
   "metadata": {},
   "outputs": [],
   "source": [
    "import numpy as np\n",
    "import matplotlib.pyplot as plt\n",
    "def GLQuad(f, L=8,dataReturn = False):\n",
    "    \"\"\"Compute the Gauss-Legendre Quadrature estimate \n",
    "    of the integral of f(x) from -1 to 1\n",
    "    Inputs:\n",
    "    f:   name of function to integrate\n",
    "    L:   Order of integration rule (8 or less)\n",
    "    \n",
    "    Returns:\n",
    "    G-L Quadrature estimate\"\"\"\n",
    "    assert(L>=1)\n",
    "    if (L==1):\n",
    "        weights = np.ones(1)*2\n",
    "        xs = np.array([0])\n",
    "    elif (L==2):\n",
    "        weights = np.ones(2)\n",
    "        xs = np.array([-np.sqrt(1.0/3.0),np.sqrt(1.0/3.0)])\n",
    "    elif (L==3):\n",
    "        weights = np.array([0.8888888888888888888888889,\n",
    "                            0.5555555555555555555555556,\n",
    "                            0.5555555555555555555555556])\n",
    "        xs = np.array([0.0,-0.7745966692414833770358531,\n",
    "                       0.7745966692414833770358531])\n",
    "    elif (L==4):\n",
    "        weights = np.array([0.6521451548625461426269361,0.6521451548625461426269361,\n",
    "                            0.3478548451374538573730639,0.3478548451374538573730639])\n",
    "        xs = np.array([-0.3399810435848562648026658, 0.3399810435848562648026658,\n",
    "                       -0.8611363115940525752239465, 0.8611363115940525752239465])\n",
    "    elif (L==5):\n",
    "        weights = np.array([0.5688888888888888888888889,\n",
    "                            0.4786286704993664680412915,0.4786286704993664680412915,\n",
    "                            0.2369268850561890875142640,0.2369268850561890875142640])\n",
    "        xs = np.array([0.0,-0.5384693101056830910363144,0.5384693101056830910363144,\n",
    "                       -0.9061798459386639927976269,0.9061798459386639927976269])\n",
    "    elif (L==6):\n",
    "        weights = np.array([0.4679139345726910473898703,0.4679139345726910473898703,\n",
    "                            0.3607615730481386075698335,0.3607615730481386075698335,\n",
    "                            0.1713244923791703450402961,0.1713244923791703450402961])\n",
    "        xs = np.array([-0.2386191860831969086305017, 0.2386191860831969086305017,\n",
    "                       -0.6612093864662645136613996, 0.6612093864662645136613996,\n",
    "                       -0.9324695142031520278123016, 0.9324695142031520278123016])\n",
    "    elif (L==7):\n",
    "        weights = np.array([0.4179591836734693877551020,\n",
    "                            0.3818300505051189449503698,0.3818300505051189449503698,\n",
    "                            0.2797053914892766679014678,0.2797053914892766679014678,\n",
    "                            0.1294849661688696932706114,0.1294849661688696932706114])\n",
    "        xs = np.array([0.0,-0.4058451513773971669066064,0.4058451513773971669066064,\n",
    "                       -0.7415311855993944398638648,0.7415311855993944398638648,\n",
    "                       -0.9491079123427585245261897,0.9491079123427585245261897])\n",
    "    elif (L==8):\n",
    "        weights = np.array([0.3626837833783619829651504,0.3626837833783619829651504,\n",
    "                            0.3137066458778872873379622,0.3137066458778872873379622,\n",
    "                            0.2223810344533744705443560,0.2223810344533744705443560,\n",
    "                            0.1012285362903762591525314,0.1012285362903762591525314])\n",
    "        xs = np.array([-0.1834346424956498049394761, 0.1834346424956498049394761,\n",
    "                       -0.5255324099163289858177390, 0.5255324099163289858177390,\n",
    "                       -0.7966664774136267395915539, 0.7966664774136267395915539,\n",
    "                       -0.9602898564975362316835609, 0.9602898564975362316835609])\n",
    "    else: #use numpy's function\n",
    "        xs, weights = np.polynomial.legendre.leggauss(L)\n",
    "    \n",
    "    quad_estimate = np.sum(weights*f(xs))\n",
    "    if (dataReturn):\n",
    "        return quad_estimate, weights, xs\n",
    "    else:\n",
    "        return quad_estimate"
   ]
  },
  {
   "cell_type": "markdown",
   "metadata": {},
   "source": [
    "### Visualize Weights"
   ]
  },
  {
   "cell_type": "code",
   "execution_count": 12,
   "metadata": {},
   "outputs": [
    {
     "data": {
      "image/png": "[encoded data removed]",
      "text/plain": [
       "<Figure size 432x288 with 1 Axes>"
      ]
     },
     "metadata": {
      "needs_background": "light"
     },
     "output_type": "display_data"
    }
   ],
   "source": [
    "L = np.arange(1,15)\n",
    "f = lambda x: x\n",
    "for l in L:\n",
    "    quad_est, weights, xs = GLQuad(f,l,dataReturn=True)\n",
    "    levels = weights*0 + l\n",
    "    plt.scatter(xs, levels, s=weights*100)\n",
    "plt.xlabel(\"x\")\n",
    "plt.ylabel(\"L\")\n",
    "plt.title(\"Gauss-Legendre Quadrature Points\\nSize of point is weight\")\n",
    "plt.show()"
   ]
  },
  {
   "cell_type": "markdown",
   "metadata": {},
   "source": [
    "### Why $2L-1$?\n",
    "\n",
    "Let $f(x) = a_{2L-1} x^{2L-1} + a_{2L-2} x^{2L-2} + ... + a_{1} x^1 + a_{0}$\n",
    "\n",
    "This polynomial has $2L$ coefficients. Likewise, $\\int f(x)dx$ has $2L$ coefficients plus the constant of integration. This is the same number of degrees of freedom we have in choosing the *weights* and *nodes*."
   ]
  },
  {
   "cell_type": "markdown",
   "metadata": {},
   "source": [
    "### How to determine the nodes and weights? \n",
    "\n",
    "One way to derive the Gauss-Legendre quadrature rules is by looking at the integral generic monomials of degree 0 up to $2L-1$ and setting each equal to the $L$ point Gauss-Legendre quadrature rule:\n",
    "$$ \\int\\limits_{-1}^{1} dx\\, a_0 x^0 =  a_0\\sum_{l=1}^L w_l x_l^0,$$\n",
    "$$ \\int\\limits_{-1}^{1} dx\\, a_1 x^1 = a_1\\sum_{l=1}^L w_l x_l^1,$$\n",
    "and continuing until\n",
    "$$ \\int\\limits_{-1}^{1} dx\\, a_{2L-1} x^{2L-1} = a_{2L-1}\\sum_{l=1}^L w_l x_l^{2L-1}.$$\n",
    "Notice that the $a_i$ **constants cancel out** of each equation so they do not matter. This system is $2L$ equations with $L$ weights, $w_l$, and $L$ abscissas (nodes), $x_l$. We could solve these equations to get the weights and abscissas, though this is not how it is done in practice generally---this is accomplished by using the theory of orthogonal polynomials."
   ]
  },
  {
   "cell_type": "markdown",
   "metadata": {},
   "source": [
    "### Polynomial Example\n",
    "\n",
    "As a simple demonstration of the Gauss-Legendre quadrature, let's show that it integrates polynomials of degree $2L-1$ exactly.  Consider the integral\n",
    "$$\\int\\limits_{-1}^1 (x+1)^{2L-1}\\,dx = \\frac{2^{2 L-1}}{L}.$$"
   ]
  },
  {
   "cell_type": "code",
   "execution_count": 4,
   "metadata": {},
   "outputs": [
    {
     "name": "stdout",
     "output_type": "stream",
     "text": [
      "L = 1 \t Estimate is 2.0 Exact value is 2.0 \n",
      "Abs. Relative Error is 0.0\n",
      "L = 2 \t Estimate is 3.9999999999999996 Exact value is 4.0 \n",
      "Abs. Relative Error is 1.1102230246251565e-16\n",
      "L = 3 \t Estimate is 10.666666666666668 Exact value is 10.666666666666666 \n",
      "Abs. Relative Error is 1.6653345369377348e-16\n",
      "L = 4 \t Estimate is 31.99999999999999 Exact value is 32.0 \n",
      "Abs. Relative Error is 3.3306690738754696e-16\n",
      "L = 5 \t Estimate is 102.39999999999995 Exact value is 102.4 \n",
      "Abs. Relative Error is 5.551115123125783e-16\n",
      "L = 6 \t Estimate is 341.33333333333337 Exact value is 341.3333333333333 \n",
      "Abs. Relative Error is 1.6653345369377348e-16\n",
      "L = 7 \t Estimate is 1170.2857142857135 Exact value is 1170.2857142857142 \n",
      "Abs. Relative Error is 5.828670879282072e-16\n",
      "L = 8 \t Estimate is 4096.000000000003 Exact value is 4096.0 \n",
      "Abs. Relative Error is 6.661338147750939e-16\n",
      "L = 9 \t Estimate is 14563.555555555577 Exact value is 14563.555555555555 \n",
      "Abs. Relative Error is 1.4988010832439613e-15\n",
      "L = 10 \t Estimate is 52428.799999999974 Exact value is 52428.8 \n",
      "Abs. Relative Error is 5.551115123125783e-16\n",
      "L = 11 \t Estimate is 190650.181818181 Exact value is 190650.18181818182 \n",
      "Abs. Relative Error is 4.274358644806853e-15\n"
     ]
    }
   ],
   "source": [
    "L = np.arange(1,12)\n",
    "for l in L:\n",
    "    \n",
    "    # Create f\n",
    "    f = lambda x: (x+1)**(2*l-1)\n",
    "    \n",
    "    # Evaluate exact (analytic) solution\n",
    "    integral = 2**(2*l - 1)/l\n",
    "    \n",
    "    # Evaluate quadrature rule\n",
    "    GLintegral = GLQuad(f,l)\n",
    "    \n",
    "    # Print results\n",
    "    print(\"L =\", l,\"\\t Estimate is\",GLintegral,\n",
    "          \"Exact value is\",integral, \n",
    "          \"\\nAbs. Relative Error is\", np.abs(GLintegral-integral)/integral)"
   ]
  },
  {
   "cell_type": "markdown",
   "metadata": {},
   "source": [
    "### Generalization\n",
    "\n",
    "We are generally interested in integrals not just over the domain $x\\in [-1,1]$.  We'll now make a function that does Gauss-Legendre quadrature over a general range using the formula\n",
    "$$\\int_a^b f(x)\\,dx = \\frac{b-a}{2} \\int_{-1}^1 f\\left(\\frac{b-a}{2}z + \\frac{a+b}{2}\\right)\\,dz.$$"
   ]
  },
  {
   "cell_type": "code",
   "execution_count": 13,
   "metadata": {},
   "outputs": [],
   "source": [
    "def generalGL(f,a,b,L):\n",
    "    \"\"\"Compute the Gauss-Legendre Quadrature estimate \n",
    "    of the integral of f(x) from a to b\n",
    "    Inputs:\n",
    "    f:   name of function to integrate\n",
    "    a:   lower bound of integral\n",
    "    b:   upper bound of integral\n",
    "    L:   Order of integration rule (8 or less)\n",
    "    Returns:\n",
    "    G-L Quadrature estimate\"\"\"\n",
    "    assert(L>=1)\n",
    "    #define a re-scaled f\n",
    "    f_rescaled = lambda  z: f(0.5*(b-a)*z + 0.5*(a+b))\n",
    "    integral = GLQuad(f_rescaled,L)\n",
    "    return integral*(b-a)*0.5"
   ]
  },
  {
   "cell_type": "markdown",
   "metadata": {},
   "source": [
    "Let's show that this version integrates polynomials of degree $2L-1$ exactly.  Consider the integral\n",
    "$$\\int\\limits_{-3}^2 (x+1)^{2L-1}\\,dx = \\frac{9^L-4^L}{2 L}.$$"
   ]
  },
  {
   "cell_type": "code",
   "execution_count": 14,
   "metadata": {},
   "outputs": [
    {
     "name": "stdout",
     "output_type": "stream",
     "text": [
      "L = 1 \t Estimate is 2.5 Exact value is 2.5 \n",
      "Abs. Relative Error is 0.0\n",
      "L = 2 \t Estimate is 16.249999999999996 Exact value is 16.25 \n",
      "Abs. Relative Error is 2.1862853408003084e-16\n",
      "L = 3 \t Estimate is 110.83333333333336 Exact value is 110.83333333333333 \n",
      "Abs. Relative Error is 2.5643647606379557e-16\n",
      "L = 4 \t Estimate is 788.1249999999999 Exact value is 788.125 \n",
      "Abs. Relative Error is 1.4424975444455643e-16\n",
      "L = 5 \t Estimate is 5802.500000000002 Exact value is 5802.5 \n",
      "Abs. Relative Error is 3.1348374037843283e-16\n",
      "L = 6 \t Estimate is 43945.4166666667 Exact value is 43945.416666666664 \n",
      "Abs. Relative Error is 8.278403262589113e-16\n",
      "L = 7 \t Estimate is 340470.35714285733 Exact value is 340470.35714285716 \n",
      "Abs. Relative Error is 5.128874777992276e-16\n",
      "L = 8 \t Estimate is 2686324.0625 Exact value is 2686324.0625 \n",
      "Abs. Relative Error is 0.0\n",
      "L = 9 \t Estimate is 21508796.944444507 Exact value is 21508796.944444444 \n",
      "Abs. Relative Error is 2.9443736549946913e-15\n",
      "L = 10 \t Estimate is 174286791.24999988 Exact value is 174286791.25 \n",
      "Abs. Relative Error is 6.839835003892255e-16\n",
      "L = 11 \t Estimate is 1426221150.2272635 Exact value is 1426221150.2272727 \n",
      "Abs. Relative Error is 6.5195531446713024e-15\n"
     ]
    }
   ],
   "source": [
    "L = np.arange(1,12)\n",
    "for l in L:\n",
    "    f = lambda x: (x+1)**(2*l-1)\n",
    "    integral = (9**l-4**l)/(2*l)\n",
    "    GLintegral = generalGL(f,-3,2,l)\n",
    "    print(\"L =\", l,\"\\t Estimate is\",GLintegral,\n",
    "          \"Exact value is\",integral, \n",
    "          \"\\nAbs. Relative Error is\", np.abs(GLintegral-integral)/integral)"
   ]
  },
  {
   "cell_type": "markdown",
   "metadata": {},
   "source": [
    "### Another Example\n",
    "\n",
    "Let's see how Gauss-Quadrature performs on a function that is not polynomial:\n",
    "$$\\int_{0}^\\pi \\sin(x)\\,dx = 2,$$"
   ]
  },
  {
   "cell_type": "code",
   "execution_count": 15,
   "metadata": {},
   "outputs": [
    {
     "name": "stdout",
     "output_type": "stream",
     "text": [
      "L = 1 Estimate is 3.141592653589793 Exact value is 2\n",
      "L = 2 Estimate is 1.9358195746511373 Exact value is 2\n",
      "L = 3 Estimate is 2.0013889136077436 Exact value is 2\n",
      "L = 4 Estimate is 1.999984228457722 Exact value is 2\n",
      "L = 5 Estimate is 2.000000110284472 Exact value is 2\n",
      "L = 6 Estimate is 1.9999999994772704 Exact value is 2\n",
      "L = 7 Estimate is 2.0000000000017906 Exact value is 2\n",
      "L = 8 Estimate is 1.9999999999999951 Exact value is 2\n",
      "L = 9 Estimate is 1.9999999999999998 Exact value is 2\n",
      "L = 10 Estimate is 2.0000000000000004 Exact value is 2\n",
      "L = 11 Estimate is 2.0000000000000013 Exact value is 2\n",
      "L = 12 Estimate is 1.9999999999999987 Exact value is 2\n",
      "L = 13 Estimate is 1.9999999999999998 Exact value is 2\n",
      "L = 14 Estimate is 1.999999999999999 Exact value is 2\n"
     ]
    },
    {
     "data": {
      "image/png": "[encoded data removed]",
      "text/plain": [
       "<Figure size 432x288 with 1 Axes>"
      ]
     },
     "metadata": {
      "needs_background": "light"
     },
     "output_type": "display_data"
    }
   ],
   "source": [
    "L = np.arange(1,15)\n",
    "errors = np.zeros(L.size)\n",
    "f = lambda x: np.sin(x)\n",
    "integral = 2\n",
    "for l in L:\n",
    "    GLintegral = generalGL(f,0,np.pi,l)\n",
    "    errors[l-1] = np.fabs(GLintegral-integral)\n",
    "    print(\"L =\",l,\"Estimate is\",GLintegral,\"Exact value is\",integral)\n",
    "plt.loglog(L,errors,'o-')\n",
    "plt.xlabel(\"L\")\n",
    "plt.ylabel(\"Absolute Error\")\n",
    "plt.title(\"Estimate of $\\int_{0}^\\pi \\sin(x)\\,dx = 2$\")\n",
    "plt.axis([1,20,10**-16,10**1])\n",
    "plt.show()"
   ]
  },
  {
   "cell_type": "markdown",
   "metadata": {},
   "source": [
    "Notice that we get to machine-precision by evaluating the integral at only 8 points!\n",
    "\n",
    "This exponential convergence will only be obtained on smooth solutions without singularities in the function or its derivatives."
   ]
  },
  {
   "cell_type": "markdown",
   "metadata": {},
   "source": [
    "### A More Complicated Example\n",
    "\n",
    "Consider:\n",
    "$$ \\int\\limits_0^1 4 \\sqrt{1-x^2}\\,dx = \\pi.$$\n",
    "This integral has a singularity in its derivative at $x=1$. Gauss-Legendre quadrature will not have exponential convergence on this function."
   ]
  },
  {
   "cell_type": "code",
   "execution_count": 16,
   "metadata": {},
   "outputs": [
    {
     "name": "stdout",
     "output_type": "stream",
     "text": [
      "L = 1 Estimate is 3.4641016151377544 Exact value is 3.141592653589793\n",
      "L = 2 Estimate is 3.184452077509094 Exact value is 3.141592653589793\n",
      "L = 3 Estimate is 3.156072695039818 Exact value is 3.141592653589793\n",
      "L = 4 Estimate is 3.1482294686216954 Exact value is 3.141592653589793\n",
      "L = 5 Estimate is 3.1451817756693496 Exact value is 3.141592653589793\n",
      "L = 6 Estimate is 3.1437514508015596 Exact value is 3.141592653589793\n",
      "L = 7 Estimate is 3.1429916780932854 Exact value is 3.141592653589793\n",
      "L = 8 Estimate is 3.1425508648538196 Exact value is 3.141592653589793\n",
      "L = 9 Estimate is 3.1422775824170497 Exact value is 3.141592653589793\n",
      "L = 10 Estimate is 3.1420991700052934 Exact value is 3.141592653589793\n",
      "L = 11 Estimate is 3.1419777569660723 Exact value is 3.141592653589793\n",
      "L = 12 Estimate is 3.141892268737024 Exact value is 3.141592653589793\n",
      "L = 13 Estimate is 3.141830335674392 Exact value is 3.141592653589793\n",
      "L = 14 Estimate is 3.1417843690029263 Exact value is 3.141592653589793\n",
      "L = 15 Estimate is 3.1417495357969707 Exact value is 3.141592653589793\n",
      "L = 16 Estimate is 3.141722658178849 Exact value is 3.141592653589793\n",
      "L = 17 Estimate is 3.1417015878568084 Exact value is 3.141592653589793\n",
      "L = 18 Estimate is 3.141684836935859 Exact value is 3.141592653589793\n",
      "L = 19 Estimate is 3.1416713526382183 Exact value is 3.141592653589793\n",
      "L = 20 Estimate is 3.1416603757628048 Exact value is 3.141592653589793\n",
      "L = 21 Estimate is 3.1416513494235643 Exact value is 3.141592653589793\n",
      "L = 22 Estimate is 3.1416438588294406 Exact value is 3.141592653589793\n",
      "L = 23 Estimate is 3.1416375907129095 Exact value is 3.141592653589793\n",
      "L = 24 Estimate is 3.1416323054778177 Exact value is 3.141592653589793\n",
      "L = 25 Estimate is 3.141627817750008 Exact value is 3.141592653589793\n",
      "L = 26 Estimate is 3.1416239825825443 Exact value is 3.141592653589793\n",
      "L = 27 Estimate is 3.141620685530997 Exact value is 3.141592653589793\n",
      "L = 28 Estimate is 3.141617835418813 Exact value is 3.141592653589793\n",
      "L = 29 Estimate is 3.141615358999378 Exact value is 3.141592653589793\n",
      "L = 30 Estimate is 3.1416131969731325 Exact value is 3.141592653589793\n",
      "L = 31 Estimate is 3.141611300984699 Exact value is 3.141592653589793\n",
      "L = 32 Estimate is 3.141609631336806 Exact value is 3.141592653589793\n",
      "L = 33 Estimate is 3.141608155234139 Exact value is 3.141592653589793\n",
      "L = 34 Estimate is 3.141606845422818 Exact value is 3.141592653589793\n",
      "L = 35 Estimate is 3.1416056791279456 Exact value is 3.141592653589793\n",
      "L = 36 Estimate is 3.1416046372177497 Exact value is 3.141592653589793\n",
      "L = 37 Estimate is 3.141603703541395 Exact value is 3.141592653589793\n",
      "L = 38 Estimate is 3.141602864400813 Exact value is 3.141592653589793\n",
      "L = 39 Estimate is 3.1416021081268766 Exact value is 3.141592653589793\n"
     ]
    },
    {
     "data": {
      "image/png": "[encoded data removed]",
      "text/plain": [
       "<Figure size 432x288 with 1 Axes>"
      ]
     },
     "metadata": {
      "needs_background": "light"
     },
     "output_type": "display_data"
    },
    {
     "name": "stdout",
     "output_type": "stream",
     "text": [
      "Slope of line from L = 8 to 11 is -2.848973886563485\n"
     ]
    }
   ],
   "source": [
    "L = np.arange(1,40)\n",
    "errors = np.zeros(L.size)\n",
    "f = lambda x: 4.0*np.sqrt(1-x**2)\n",
    "integral = np.pi\n",
    "for l in L:\n",
    "    GLintegral = generalGL(f,0,1,l)\n",
    "    errors[l-1] = np.fabs(GLintegral-integral)\n",
    "    print(\"L =\",l,\"Estimate is\",GLintegral,\"Exact value is\",integral)\n",
    "plt.loglog(L,errors,'o-')\n",
    "plt.xlabel(\"L\")\n",
    "plt.ylabel(\"Absolute Error\")\n",
    "plt.title(\"Estimate of $ \\int_0^1 4\\sqrt{1-x^2} \\, dx = \\pi$\")\n",
    "plt.axis([1,20,10**-5,10**0])\n",
    "plt.show()\n",
    "slope = (np.log(errors[-1]) - np.log(errors[0]))/(np.log(L[-1]) - np.log(L[0]) )\n",
    "print(\"Slope of line from L = 8 to 11 is\",slope)"
   ]
  },
  {
   "cell_type": "markdown",
   "metadata": {},
   "source": [
    "There is a big difference between exponential convergence we saw in the integral of the sine function and the polynomial convergence in this problem. Even at a high rate of convergence (order 2.8), the error converges slowly in that we are still only accurate to 3 digits at $L=13.$"
   ]
  },
  {
   "cell_type": "markdown",
   "metadata": {},
   "source": [
    "### Radau Quadrature\n",
    "\n",
    "Sometimes we desire either:\n",
    "* The first node is at the beginning of the interval, i.e., $x_1 = -1$ or\n",
    "* The last node is at the end of the interval, i.e., $x_{L} = 1$.\n",
    "\n",
    "This is known as **Gauss-Radu quadrature**. The remaining nodes and weights are chosen optimally; thus, Radu quadrature *exactly* integrates *all* polynomials of degree $2L-2$ or less. Specifying one of the nodes leaves only $2L-1$ degrees of freedom.\n",
    "\n",
    "More info: http://mathworld.wolfram.com/RadauQuadrature.html\n"
   ]
  },
  {
   "cell_type": "markdown",
   "metadata": {},
   "source": [
    "### Differential Equations\n",
    "\n",
    "Consider solving the differential equation\n",
    "\n",
    "$$\\dot{x} = f(t,x), \\quad x(t_0) = x_0,$$\n",
    "\n",
    "to determine $x(t_f)$. This can be expressed as an integral:\n",
    "\n",
    "$$x(t_f) = \\int_{t_0}^{t_f} \\frac{dx}{dt} dt + x_0 = \\underbrace{\\int_{t_0}^{t_f} f(t, x(t)) dt}_{\\text{use quadrature rule}} + x_0$$\n",
    "\n",
    "Thus, Runge-Kutta methods can be interpreted as a quadrature rule."
   ]
  },
  {
   "cell_type": "code",
   "execution_count": null,
   "metadata": {},
   "outputs": [],
   "source": []
  }
 ],
 "metadata": {
  "kernelspec": {
   "display_name": "Python 3 (ipykernel)",
   "language": "python",
   "name": "python3"
  },
  "language_info": {
   "codemirror_mode": {
    "name": "ipython",
    "version": 3
   },
   "file_extension": ".py",
   "mimetype": "text/x-python",
   "name": "python",
   "nbconvert_exporter": "python",
   "pygments_lexer": "ipython3",
   "version": "3.9.7"
  }
 },
 "nbformat": 4,
 "nbformat_minor": 2
}
