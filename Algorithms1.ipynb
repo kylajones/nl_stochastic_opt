{
 "cells": [
  {
   "cell_type": "markdown",
   "metadata": {},
   "source": [
    "# Algorithms Homework 1"
   ]
  },
  {
   "cell_type": "code",
   "execution_count": 1,
   "metadata": {},
   "outputs": [],
   "source": [
    "# Load required Python libraries.\n",
    "import matplotlib.pyplot as plt\n",
    "import numpy as np\n",
    "from scipy import linalg"
   ]
  },
  {
   "cell_type": "markdown",
   "metadata": {},
   "source": [
    "## Linear Algebra Review"
   ]
  },
  {
   "cell_type": "markdown",
   "metadata": {
    "tags": [
     "gradescope"
    ]
   },
   "source": [
    "### Exact solution"
   ]
  },
  {
   "cell_type": "markdown",
   "metadata": {},
   "source": [
    "Solve the following system of linear equations BY HAND with exact arithmetic:\n",
    "\n",
    "$$3 x_1 + 2 x_2 + x_3 = 6$$\n",
    "$$-x_1 + 4 x_2 + 5x_3 = 8$$\n",
    "$$2x_1 -8 x_2 + 10 x_3 = 4$$\n",
    "\n",
    "Turn in your work via Gradescope."
   ]
  },
  {
   "cell_type": "markdown",
   "metadata": {},
   "source": [
    "### Solve using the inverse\n",
    "\n",
    "Solve the same linear system by first inverting the matrix A and performing matrix multiplication. You should use Python and SciPy.\n",
    "* Tutorials and documentation: https://docs.scipy.org/doc/scipy-1.1.0/reference/tutorial/linalg.html"
   ]
  },
  {
   "cell_type": "markdown",
   "metadata": {},
   "source": [
    "$A\\mathbf{x} = \\mathbf{b} \\Rightarrow \\mathbf{x} = A^{-1}\\mathbf{b}$"
   ]
  },
  {
   "cell_type": "code",
   "execution_count": 52,
   "metadata": {},
   "outputs": [
    {
     "name": "stdout",
     "output_type": "stream",
     "text": [
      "A = \n",
      " [[ 3  2  1]\n",
      " [-1  4  5]\n",
      " [ 2 -8 10]]\n",
      "b = \n",
      " [6 8 4]\n"
     ]
    }
   ],
   "source": [
    "# Add your solution here\n",
    "A = np.array([[3,2,1],[-1,4,5],[2,-8,10]])\n",
    "print('A = \\n', A)\n",
    "b = np.array([6,8,4])\n",
    "print('b = \\n', b)"
   ]
  },
  {
   "cell_type": "code",
   "execution_count": 53,
   "metadata": {},
   "outputs": [
    {
     "name": "stdout",
     "output_type": "stream",
     "text": [
      "[1. 1. 1.]\n"
     ]
    }
   ],
   "source": [
    "# Add your solution here\n",
    "x = np.linalg.inv(A) @ b\n",
    "print(x)"
   ]
  },
  {
   "cell_type": "markdown",
   "metadata": {},
   "source": [
    "### Solve using LU decomposition\n",
    "\n",
    "Do the following:\n",
    "1. Use ``linalg.lu(A)`` to calculate $P$, $L$, and $U$.\n",
    "2. Write a function to solve any linear system given the factorization and $b$. You may not use ```linalg.solve``` in your function. Instead, you should write loops to implement back substitution.\n",
    "3. Use your function to solve the linear system.\n"
   ]
  },
  {
   "cell_type": "code",
   "execution_count": 55,
   "metadata": {},
   "outputs": [
    {
     "name": "stdout",
     "output_type": "stream",
     "text": [
      "[[1. 0. 0.]\n",
      " [0. 0. 1.]\n",
      " [0. 1. 0.]]\n",
      "[[ 1.          0.          0.        ]\n",
      " [ 0.66666667  1.          0.        ]\n",
      " [-0.33333333 -0.5         1.        ]]\n",
      "[[ 3.          2.          1.        ]\n",
      " [ 0.         -9.33333333  9.33333333]\n",
      " [ 0.          0.         10.        ]]\n"
     ]
    }
   ],
   "source": [
    "# You need to define the matrix A1 somewhere (or change the variable name)\n",
    "A1 = np.array([[3,2,1],[-1,4,5],[2,-8,10]])\n",
    "P, L, U = linalg.lu(A1)\n",
    "\n",
    "# Permutation matrix\n",
    "print(P)\n",
    "\n",
    "# Lower diagonal matrix\n",
    "print(L)\n",
    "\n",
    "# Upper diagonal matrix\n",
    "print(U)"
   ]
  },
  {
   "cell_type": "markdown",
   "metadata": {},
   "source": [
    "Tip: We discussed this algorithm in class. First write pseudocode on paper (how to translate our notes into loops, logical statements, etc.?). Once you are happy with the logic, code it up."
   ]
  },
  {
   "cell_type": "code",
   "execution_count": 66,
   "metadata": {},
   "outputs": [],
   "source": [
    "# Write function here.\n",
    "def my_lu_solve(P, L, U, b, LOUD=True):\n",
    "    ''' \n",
    "    Solves linear system Ax = b given PLU decomposition of A\n",
    "    \n",
    "    Arguments:\n",
    "        P - N by N permutation matrix\n",
    "        L - N by N lower triangular matrix with 1 on diagonal\n",
    "        U - N by N upper triangular matrix\n",
    "        b - N by 1 vector\n",
    "    \n",
    "    Returns:\n",
    "        x - N by 1 solution to linear system\n",
    "    '''\n",
    "    \n",
    "    # Define x so this does not give an error. You can delete the line below.\n",
    "    \n",
    "    # Add your solution here\n",
    "    \n",
    "    # forward sub for y: Ly = Pb\n",
    "    Pb = P@b\n",
    "    n = len(Pb)\n",
    "    y = [0]*n\n",
    "    \n",
    "    if LOUD:\n",
    "        print('Forward solve...')\n",
    "    \n",
    "    for i in range(n):\n",
    "        y[i] = Pb[i]\n",
    "        \n",
    "        for j in range(i):\n",
    "            y[i] -= L[i,j]*y[j]\n",
    "        \n",
    "        y[i] /= L[i,i]\n",
    "        \n",
    "        if LOUD:\n",
    "            print('y [',i,'] = ', y[i])\n",
    "    \n",
    "    # backward sub for x: Ux = y\n",
    "    x = [0]*n\n",
    "    \n",
    "    if LOUD:\n",
    "        print('Backward solve...')\n",
    "    \n",
    "    for i in range(n-1,-1,-1):\n",
    "        x[i] = y[i]\n",
    "        \n",
    "        for j in range(i+1,n):\n",
    "            x[i] -= U[i,j]*x[j]\n",
    "       \n",
    "        x[i] /= U[i,i]\n",
    "        \n",
    "        if LOUD:\n",
    "            print('x [',i,'] = ', x[i])\n",
    "        \n",
    "    return x"
   ]
  },
  {
   "cell_type": "code",
   "execution_count": 68,
   "metadata": {},
   "outputs": [
    {
     "name": "stdout",
     "output_type": "stream",
     "text": [
      "Forward solve...\n",
      "y [ 0 ] =  6.0\n",
      "y [ 1 ] =  0.0\n",
      "y [ 2 ] =  10.0\n",
      "Backward solve...\n",
      "x [ 2 ] =  1.0\n",
      "x [ 1 ] =  1.0\n",
      "x [ 0 ] =  1.0\n"
     ]
    }
   ],
   "source": [
    "x = my_lu_solve(P, L, U, b, LOUD=True)"
   ]
  },
  {
   "cell_type": "markdown",
   "metadata": {},
   "source": [
    "### Solve using `linalg.solve`\n"
   ]
  },
  {
   "cell_type": "code",
   "execution_count": 7,
   "metadata": {},
   "outputs": [
    {
     "name": "stdout",
     "output_type": "stream",
     "text": [
      "[1. 1. 1.]\n"
     ]
    }
   ],
   "source": [
    "# Add your solution here\n",
    "x = np.linalg.solve(A,b)\n",
    "print(x)"
   ]
  },
  {
   "cell_type": "markdown",
   "metadata": {},
   "source": [
    "## Eigenvalues"
   ]
  },
  {
   "cell_type": "markdown",
   "metadata": {
    "tags": [
     "gradescope"
    ]
   },
   "source": [
    "### Calculate eigenvalues by hand (on paper)"
   ]
  },
  {
   "cell_type": "markdown",
   "metadata": {},
   "source": [
    "Calculate the eigenvalues for the following matrix:\n",
    "\n",
    "$$\n",
    "A = \\begin{bmatrix} 0 & -4 & -6 \\\\ -1 & 0 & -3 \\\\ 1 & 2 & 5 \\end{bmatrix}\n",
    "$$\n",
    "\n",
    "You may need to do this for a small system on an exam to characterize stationary points of an optimization problem. Hence I would like you to practice at least once on the homework."
   ]
  },
  {
   "cell_type": "markdown",
   "metadata": {},
   "source": [
    "### Calculate eigenvalues using `linalg.eig`\n",
    "\n",
    "Calculate the eigenvalues and corresponding (right) eigenvectors."
   ]
  },
  {
   "cell_type": "code",
   "execution_count": 8,
   "metadata": {},
   "outputs": [
    {
     "name": "stdout",
     "output_type": "stream",
     "text": [
      "A2 = \n",
      " [[ 0 -4 -6]\n",
      " [-1  0 -3]\n",
      " [ 1  2  5]]\n"
     ]
    }
   ],
   "source": [
    "# Add your solution here\n",
    "A2 = np.array([[0, -4, -6],[-1,0,-3],[1,2,5]])\n",
    "print('A2 = \\n', A2)"
   ]
  },
  {
   "cell_type": "code",
   "execution_count": 9,
   "metadata": {
    "scrolled": true
   },
   "outputs": [
    {
     "name": "stdout",
     "output_type": "stream",
     "text": [
      "eigenvalues: \n",
      " [1.+0.00000000e+00j 2.+5.64696828e-16j 2.-5.64696828e-16j] \n",
      " eigenvectors: \n",
      " [[-0.81649658+0.j         -0.89295527+0.j         -0.89295527-0.j        ]\n",
      " [-0.40824829+0.j          0.01831462-0.28921177j  0.01831462+0.28921177j]\n",
      " [ 0.40824829+0.j          0.28544201+0.19280785j  0.28544201-0.19280785j]]\n"
     ]
    }
   ],
   "source": [
    "# Add your solution here\n",
    "λ = linalg.eig(A2)\n",
    "print('eigenvalues: \\n', λ[0], '\\n eigenvectors: \\n', λ[1])"
   ]
  },
  {
   "cell_type": "markdown",
   "metadata": {
    "tags": [
     "gradescope"
    ]
   },
   "source": [
    "### Definiteness"
   ]
  },
  {
   "cell_type": "markdown",
   "metadata": {},
   "source": [
    "Based on your calculations above, is this matrix\n",
    "1. positive definite\n",
    "2. positive semi definite\n",
    "3. negative definite\n",
    "4. negative semi definite\n",
    "5. indefinite or\n",
    "6. cannot say without additional calculations?\n",
    "\n",
    "Briefly comment to justify your answer.\n",
    "\n",
    "*Note*: In this class, \"briefly comment\" means write a few sentences, sketch a picture, write an equation or some combination... whichever you feel is necessary to succinctly provide justification."
   ]
  },
  {
   "cell_type": "markdown",
   "metadata": {},
   "source": [
    "### Singular Value Decomposition\n",
    "\n",
    "**TODO:** Make this a separate problem (after the assignment is turned in this year)."
   ]
  },
  {
   "cell_type": "markdown",
   "metadata": {},
   "source": [
    "### SVD calculation using `linalg.svd`\n",
    "\n",
    "Calculate the singular value decomposition of the following matrix using `linalg.svd`:\n",
    "\n",
    "$$\n",
    "A_3 = \\begin{bmatrix} 1 & 2 & 0 & -1 \\\\ 2 & 4 & 10^{-6} & -2 \\\\ 0 & 2 & -1 & 10^{-3} \\end{bmatrix}\n",
    "$$"
   ]
  },
  {
   "cell_type": "code",
   "execution_count": 73,
   "metadata": {},
   "outputs": [
    {
     "name": "stdout",
     "output_type": "stream",
     "text": [
      "A = \n",
      " [[ 1.e+00  2.e+00  0.e+00 -1.e+00]\n",
      " [ 2.e+00  4.e+00  1.e-06 -2.e+00]\n",
      " [ 0.e+00  2.e+00 -1.e+00  1.e-03]]\n"
     ]
    }
   ],
   "source": [
    "# Add your solution here\n",
    "A3 = np.array([[1,2,0,-1],[2,4,10**(-6),-2],[0,2,-1,10**(-3)]])\n",
    "print('A = \\n', A3)"
   ]
  },
  {
   "cell_type": "code",
   "execution_count": 11,
   "metadata": {},
   "outputs": [],
   "source": [
    "# Add your solution here\n"
   ]
  },
  {
   "cell_type": "markdown",
   "metadata": {},
   "source": [
    "### Condition number\n",
    "What is the condition number of the matrix? Calculate it two ways:\n",
    "1. Using SVD results\n",
    "2. Using ``np.linalg.cond()``"
   ]
  },
  {
   "cell_type": "code",
   "execution_count": 12,
   "metadata": {},
   "outputs": [],
   "source": [
    "# Add your solution here"
   ]
  },
  {
   "cell_type": "code",
   "execution_count": 13,
   "metadata": {
    "scrolled": true
   },
   "outputs": [],
   "source": [
    "# Add your solution here"
   ]
  },
  {
   "cell_type": "markdown",
   "metadata": {},
   "source": [
    "### Linear system"
   ]
  },
  {
   "cell_type": "markdown",
   "metadata": {},
   "source": [
    "Consider the linear system $A_4 \\cdot x = b$ with $b = [1, 0, 3]^T$ and\n",
    "\n",
    "$$\n",
    "A_4 = \\begin{bmatrix} 1 & 2 & 0 \\\\ 2 & 4 & 10^{-1} \\\\ 0 & 2 & -1 \\end{bmatrix} ~.\n",
    "$$\n",
    "\n",
    "Approximately how much uncertainty $||\\Delta b||_2$ can you tolerate if you want the uncertainty $||\\Delta x||_2$ to be less than $10^{-2}$?\n"
   ]
  },
  {
   "cell_type": "code",
   "execution_count": 14,
   "metadata": {},
   "outputs": [],
   "source": [
    "# Add your solution here"
   ]
  },
  {
   "cell_type": "markdown",
   "metadata": {},
   "source": [
    "**Answer**:"
   ]
  },
  {
   "cell_type": "markdown",
   "metadata": {},
   "source": [
    "### Make it singular\n"
   ]
  },
  {
   "cell_type": "markdown",
   "metadata": {},
   "source": [
    "Do/answer the following:\n",
    "1. Propose a change to a single entry in $A_4$ to make it singular.\n",
    "2. What are the singular values and condition number after this change?\n",
    "3. What can you say about the solution to $A_4 \\cdot x=b$ after the change?"
   ]
  },
  {
   "cell_type": "markdown",
   "metadata": {},
   "source": [
    "**Answer:**"
   ]
  },
  {
   "cell_type": "markdown",
   "metadata": {
    "tags": [
     "gradescope"
    ]
   },
   "source": [
    "## Convexity\n",
    "\n",
    "Please turn in via Gradescope."
   ]
  },
  {
   "cell_type": "markdown",
   "metadata": {},
   "source": [
    "### Determine if the following functions are convex"
   ]
  },
  {
   "cell_type": "markdown",
   "metadata": {},
   "source": [
    "1. $x^2 + ax + b, ~x \\in \\mathbb{R}$\n",
    "2. $x^3, ~x \\in \\mathbb{R}$\n",
    "3. $| x |, ~ x \\in [ -5, 5]$\n",
    "4. $x + y, ~ x \\in \\mathbb{R}, ~ y \\in \\mathbb{R}$\n",
    "5. $x \\cdot y, ~ x \\in \\mathbb{R}, ~ y \\in \\mathbb{R}$\n",
    "6. $\\log(x), ~ x \\in (0,1]$"
   ]
  },
  {
   "cell_type": "markdown",
   "metadata": {},
   "source": [
    "### Prove the following properties"
   ]
  },
  {
   "cell_type": "markdown",
   "metadata": {},
   "source": [
    "Consider twice differentiable function $f(x): \\mathbb{R}^n \\rightarrow \\mathbb{R}$.\n",
    "\n",
    "Recall that $f(x)$ is convex on $x \\in \\mathbb{R}^n$ if and only if\n",
    "\n",
    "$f(x+p) \\geq f(x) + \\nabla f(x)^T p$ for all $x, p \\in \\mathbb{R}^n$\n"
   ]
  },
  {
   "cell_type": "markdown",
   "metadata": {},
   "source": [
    "#### PSD implies Convexity\n",
    "\n",
    "Prove that if $\\nabla^2 f(x)$ is positive semidefinite for all $x \\in \\mathbb{R}^n$, then $f(x)$ must be convex.\n"
   ]
  },
  {
   "cell_type": "markdown",
   "metadata": {},
   "source": [
    "#### Convexity implies PSD"
   ]
  },
  {
   "cell_type": "markdown",
   "metadata": {},
   "source": [
    "Prove that if $f(x)$ is convex then $\\nabla^2 f(x)$ must be positive semidefinite."
   ]
  },
  {
   "cell_type": "markdown",
   "metadata": {},
   "source": [
    "#### PD implies Strictly Convex"
   ]
  },
  {
   "cell_type": "markdown",
   "metadata": {},
   "source": [
    "Prove that if $\\nabla^2 f(x)$ is positive definite for all $x \\in \\mathbb{R}^n$, then $f(x)$ must be strictly convex."
   ]
  }
 ],
 "metadata": {
  "celltoolbar": "Tags",
  "kernelspec": {
   "display_name": "Python 3 (ipykernel)",
   "language": "python",
   "name": "python3"
  },
  "language_info": {
   "codemirror_mode": {
    "name": "ipython",
    "version": 3
   },
   "file_extension": ".py",
   "mimetype": "text/x-python",
   "name": "python",
   "nbconvert_exporter": "python",
   "pygments_lexer": "ipython3",
   "version": "3.9.7"
  }
 },
 "nbformat": 4,
 "nbformat_minor": 4
}
