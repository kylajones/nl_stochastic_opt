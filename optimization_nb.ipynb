{
 "cells": [
  {
   "cell_type": "code",
   "execution_count": 1,
   "metadata": {},
   "outputs": [],
   "source": [
    "import numpy as np\n",
    "from scipy import stats\n",
    "\n",
    "import matplotlib.pyplot as plt"
   ]
  },
  {
   "cell_type": "markdown",
   "metadata": {},
   "source": [
    "## Functions"
   ]
  },
  {
   "cell_type": "code",
   "execution_count": 36,
   "metadata": {},
   "outputs": [],
   "source": [
    "def mchlis_ment(x):\n",
    "    \n",
    "    return 0.65*x/(1 + x/20)\n",
    "\n",
    "def sq_exp(x, σsq):\n",
    "    \n",
    "    # initialize covariance\n",
    "    n = len(x)\n",
    "    Σ = np.zeros([n,n])\n",
    "    \n",
    "    # build covariance\n",
    "    for i in range(n):\n",
    "        for j in range(n):\n",
    "            Σ[i,j] = σsq*np.exp(-((x[i] - x[j])/3)**2)\n",
    "    \n",
    "    return Σ\n",
    "\n",
    "def gls_est(X, y, Σ):\n",
    "    \n",
    "    # transpose regressors, nxp -> pxn\n",
    "    X_T = np.transpose(X)\n",
    "    \n",
    "    Σ_inv = np.linalg.solve(Σ,np.identity(2))\n",
    "    \n",
    "#     # compute repeated term, (pxn)(nxn) -> pxn\n",
    "#     Σ_invX = np.solve(Σ,X)\n",
    "    \n",
    "#     term1 = np.dot(X_T, Σ_inv)\n",
    "    \n",
    "#     assert np.shape(X_TΣ_inv) == (2,5)\n",
    "#     # compute first term, (pxn)(nxp)->(pxp)\n",
    "#     X_TΣ_invX = np.dot(X_TΣ_inv, X)\n",
    "    \n",
    "#     assert np.shape(X_TΣ_invX) == (2,2)\n",
    "    \n",
    "#     # invert first term, (pxp)\n",
    "#     term1 = np.linalg.inv(X_TΣ_invX)\n",
    "    \n",
    "#     # compute second term, (pxn)(nx1)->(px1)\n",
    "#     term2 = np.dot(X_TΣ_inv, y)\n",
    "    \n",
    "#     # compute generalized least squares estimator,(pxp)x(px1)--> (px1)\n",
    "#     θ_hat = np.dot(term1, term2)\n",
    "    \n",
    "    return θ_hat"
   ]
  },
  {
   "cell_type": "markdown",
   "metadata": {},
   "source": [
    "## Synthetic data generation"
   ]
  },
  {
   "cell_type": "code",
   "execution_count": 33,
   "metadata": {},
   "outputs": [],
   "source": [
    "# set seed for reproducibility\n",
    "np.random.seed(234)\n",
    "\n",
    "## generate synthetic data\n",
    "x = np.linspace(0, 10, 5).reshape(5,1)\n",
    "\n",
    "# compute ground truth model\n",
    "ζ = mchlis_ment(x)\n",
    "\n",
    "# set ground truth variance of noise\n",
    "σϵsq_tru = 0.1\n",
    "\n",
    "# generate normal i.i.d. measurement error, ϵ_1,..., ϵ_n ~iid N(0,σϵsq_tru I_n)\n",
    "ϵ = stats.norm.rvs(loc = 0, scale = np.sqrt(σϵsq_tru), size = len(x))\n",
    "\n",
    "# generate observations\n",
    "y = ζ + ϵ"
   ]
  },
  {
   "cell_type": "markdown",
   "metadata": {},
   "source": [
    "## Set bounds and initial values for parameter estimation"
   ]
  },
  {
   "cell_type": "code",
   "execution_count": 34,
   "metadata": {},
   "outputs": [],
   "source": [
    "## variance of discrepancy\n",
    "# lower bound\n",
    "σδsq_lo = 1\n",
    "# upper bound\n",
    "σδsq_hi = 10\n",
    "# inital guess\n",
    "σδsq_0 = 0.01\n",
    "\n",
    "## variance of noise\n",
    "# lower bound\n",
    "σϵsq_lo = 0.01\n",
    "# upper bound\n",
    "σϵsq_hi = 2\n",
    "# inital guess\n",
    "σϵsq_0 = 2\n",
    "\n",
    "## concatenate bounds and inital guesses\n",
    "# bounds\n",
    "bds = [(σδsq_lo, σδsq_hi),(σϵsq_lo, σϵsq_hi)]\n",
    "# inital guesses\n",
    "σsq_0 = [(σδsq_0, σϵsq_0)]"
   ]
  },
  {
   "cell_type": "markdown",
   "metadata": {},
   "source": [
    "## Optimization"
   ]
  },
  {
   "cell_type": "code",
   "execution_count": 37,
   "metadata": {},
   "outputs": [
    {
     "name": "stdout",
     "output_type": "stream",
     "text": [
      "(5, 2)\n"
     ]
    },
    {
     "ename": "ValueError",
     "evalue": "solve: Input operand 1 has a mismatch in its core dimension 0, with gufunc signature (m,m),(m,n)->(m,n) (size 2 is different from 5)",
     "output_type": "error",
     "traceback": [
      "\u001b[1;31m---------------------------------------------------------------------------\u001b[0m",
      "\u001b[1;31mValueError\u001b[0m                                Traceback (most recent call last)",
      "\u001b[1;32m<ipython-input-37-1a25fb53d3fe>\u001b[0m in \u001b[0;36m<module>\u001b[1;34m\u001b[0m\n\u001b[0;32m      7\u001b[0m \u001b[0mΣ\u001b[0m \u001b[1;33m=\u001b[0m \u001b[0mΣ_δ\u001b[0m \u001b[1;33m+\u001b[0m \u001b[0mΣ_ϵ\u001b[0m\u001b[1;33m\u001b[0m\u001b[1;33m\u001b[0m\u001b[0m\n\u001b[0;32m      8\u001b[0m \u001b[1;33m\u001b[0m\u001b[0m\n\u001b[1;32m----> 9\u001b[1;33m \u001b[0mθ\u001b[0m \u001b[1;33m=\u001b[0m \u001b[0mgls_est\u001b[0m\u001b[1;33m(\u001b[0m\u001b[0mX\u001b[0m\u001b[1;33m,\u001b[0m \u001b[0my\u001b[0m\u001b[1;33m,\u001b[0m \u001b[0mΣ\u001b[0m\u001b[1;33m)\u001b[0m\u001b[1;33m\u001b[0m\u001b[1;33m\u001b[0m\u001b[0m\n\u001b[0m",
      "\u001b[1;32m<ipython-input-36-ded2412c517c>\u001b[0m in \u001b[0;36mgls_est\u001b[1;34m(X, y, Σ)\u001b[0m\n\u001b[0;32m     21\u001b[0m     \u001b[0mX_T\u001b[0m \u001b[1;33m=\u001b[0m \u001b[0mnp\u001b[0m\u001b[1;33m.\u001b[0m\u001b[0mtranspose\u001b[0m\u001b[1;33m(\u001b[0m\u001b[0mX\u001b[0m\u001b[1;33m)\u001b[0m\u001b[1;33m\u001b[0m\u001b[1;33m\u001b[0m\u001b[0m\n\u001b[0;32m     22\u001b[0m \u001b[1;33m\u001b[0m\u001b[0m\n\u001b[1;32m---> 23\u001b[1;33m     \u001b[0mΣ_inv\u001b[0m \u001b[1;33m=\u001b[0m \u001b[0mnp\u001b[0m\u001b[1;33m.\u001b[0m\u001b[0mlinalg\u001b[0m\u001b[1;33m.\u001b[0m\u001b[0msolve\u001b[0m\u001b[1;33m(\u001b[0m\u001b[0mΣ\u001b[0m\u001b[1;33m,\u001b[0m\u001b[0mnp\u001b[0m\u001b[1;33m.\u001b[0m\u001b[0midentity\u001b[0m\u001b[1;33m(\u001b[0m\u001b[1;36m2\u001b[0m\u001b[1;33m)\u001b[0m\u001b[1;33m)\u001b[0m\u001b[1;33m\u001b[0m\u001b[1;33m\u001b[0m\u001b[0m\n\u001b[0m\u001b[0;32m     24\u001b[0m \u001b[1;33m\u001b[0m\u001b[0m\n\u001b[0;32m     25\u001b[0m \u001b[1;31m#     # compute repeated term, (pxn)(nxn) -> pxn\u001b[0m\u001b[1;33m\u001b[0m\u001b[1;33m\u001b[0m\u001b[1;33m\u001b[0m\u001b[0m\n",
      "\u001b[1;32m<__array_function__ internals>\u001b[0m in \u001b[0;36msolve\u001b[1;34m(*args, **kwargs)\u001b[0m\n",
      "\u001b[1;32m~\\Anaconda3\\lib\\site-packages\\numpy\\linalg\\linalg.py\u001b[0m in \u001b[0;36msolve\u001b[1;34m(a, b)\u001b[0m\n\u001b[0;32m    401\u001b[0m     \u001b[0msignature\u001b[0m \u001b[1;33m=\u001b[0m \u001b[1;34m'DD->D'\u001b[0m \u001b[1;32mif\u001b[0m \u001b[0misComplexType\u001b[0m\u001b[1;33m(\u001b[0m\u001b[0mt\u001b[0m\u001b[1;33m)\u001b[0m \u001b[1;32melse\u001b[0m \u001b[1;34m'dd->d'\u001b[0m\u001b[1;33m\u001b[0m\u001b[1;33m\u001b[0m\u001b[0m\n\u001b[0;32m    402\u001b[0m     \u001b[0mextobj\u001b[0m \u001b[1;33m=\u001b[0m \u001b[0mget_linalg_error_extobj\u001b[0m\u001b[1;33m(\u001b[0m\u001b[0m_raise_linalgerror_singular\u001b[0m\u001b[1;33m)\u001b[0m\u001b[1;33m\u001b[0m\u001b[1;33m\u001b[0m\u001b[0m\n\u001b[1;32m--> 403\u001b[1;33m     \u001b[0mr\u001b[0m \u001b[1;33m=\u001b[0m \u001b[0mgufunc\u001b[0m\u001b[1;33m(\u001b[0m\u001b[0ma\u001b[0m\u001b[1;33m,\u001b[0m \u001b[0mb\u001b[0m\u001b[1;33m,\u001b[0m \u001b[0msignature\u001b[0m\u001b[1;33m=\u001b[0m\u001b[0msignature\u001b[0m\u001b[1;33m,\u001b[0m \u001b[0mextobj\u001b[0m\u001b[1;33m=\u001b[0m\u001b[0mextobj\u001b[0m\u001b[1;33m)\u001b[0m\u001b[1;33m\u001b[0m\u001b[1;33m\u001b[0m\u001b[0m\n\u001b[0m\u001b[0;32m    404\u001b[0m \u001b[1;33m\u001b[0m\u001b[0m\n\u001b[0;32m    405\u001b[0m     \u001b[1;32mreturn\u001b[0m \u001b[0mwrap\u001b[0m\u001b[1;33m(\u001b[0m\u001b[0mr\u001b[0m\u001b[1;33m.\u001b[0m\u001b[0mastype\u001b[0m\u001b[1;33m(\u001b[0m\u001b[0mresult_t\u001b[0m\u001b[1;33m,\u001b[0m \u001b[0mcopy\u001b[0m\u001b[1;33m=\u001b[0m\u001b[1;32mFalse\u001b[0m\u001b[1;33m)\u001b[0m\u001b[1;33m)\u001b[0m\u001b[1;33m\u001b[0m\u001b[1;33m\u001b[0m\u001b[0m\n",
      "\u001b[1;31mValueError\u001b[0m: solve: Input operand 1 has a mismatch in its core dimension 0, with gufunc signature (m,m),(m,n)->(m,n) (size 2 is different from 5)"
     ]
    }
   ],
   "source": [
    "p = 2\n",
    "X = np.tile(x, (1,p))\n",
    "print(np.shape(X))\n",
    "\n",
    "Σ_δ = sq_exp(X[:,0], σδsq_0)\n",
    "Σ_ϵ = σϵsq_0*np.identity(len(X[:,0]))\n",
    "Σ = Σ_δ + Σ_ϵ\n",
    "\n",
    "θ = gls_est(X, y, Σ)"
   ]
  },
  {
   "cell_type": "code",
   "execution_count": null,
   "metadata": {},
   "outputs": [],
   "source": []
  }
 ],
 "metadata": {
  "kernelspec": {
   "display_name": "Python 3",
   "language": "python",
   "name": "python3"
  },
  "language_info": {
   "codemirror_mode": {
    "name": "ipython",
    "version": 3
   },
   "file_extension": ".py",
   "mimetype": "text/x-python",
   "name": "python",
   "nbconvert_exporter": "python",
   "pygments_lexer": "ipython3",
   "version": "3.7.9"
  }
 },
 "nbformat": 4,
 "nbformat_minor": 4
}
