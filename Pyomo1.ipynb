{
 "cells": [
  {
   "cell_type": "markdown",
   "metadata": {},
   "source": [
    "# Pyomo Homework 1\n",
    "\n",
    "**Due Date:** 2/16/2021"
   ]
  },
  {
   "cell_type": "code",
   "execution_count": 1,
   "metadata": {},
   "outputs": [],
   "source": [
    "# # This code cell installs packages on Colab\n",
    "\n",
    "# import sys\n",
    "# if \"google.colab\" in sys.modules:\n",
    "#     !wget \"https://raw.githubusercontent.com/ndcbe/CBE60499/main/notebooks/helper.py\"\n",
    "#     import helper\n",
    "#     helper.install_idaes()\n",
    "#     helper.install_ipopt()\n",
    "#     helper.install_glpk()\n",
    "#     helper.download_data(['knapsack_data.xlsx','knapsack_data.csv'])"
   ]
  },
  {
   "cell_type": "code",
   "execution_count": 2,
   "metadata": {},
   "outputs": [],
   "source": [
    "## IMPORT LIBRARIES\n",
    "import pyomo as pyo\n",
    "from pyomo.environ import *\n",
    "import pandas as pd\n",
    "import idaes"
   ]
  },
  {
   "cell_type": "markdown",
   "metadata": {},
   "source": [
    "Special thanks to the Pyomo team for create these excercises as part of their excellent PyomoFest workshop."
   ]
  },
  {
   "cell_type": "markdown",
   "metadata": {},
   "source": [
    "# 1 Pyomo Fundamentals"
   ]
  },
  {
   "cell_type": "markdown",
   "metadata": {},
   "source": [
    "### 1.1 Knapsack example\n",
    "\n",
    "You want to fill a knapsack (a.k.a. bag). You can choose from a hammer, wrench, screwdriver, and towel. Each item has a different weight and value. You want to maximize the value (benefit) of the collection of items constrained by a total weight limit. Let's formulate this as an optimization problem.\n",
    "\n",
    "**Sets**\n",
    "\n",
    "$$\\mathcal{A} = \\{\\text{hammer},~\\text{wrench},~\\text{screwdriver},~\\text{towel} \\}$$  \n",
    "\n",
    "**Parameters (Data)**\n",
    "\n",
    "Let $b_i$ and $w_i$ represent the benefit and weight of item $i$, respectfully.\n",
    "\n",
    "| Item ($i$)  | Benefit ($b_i$) | Weigth ($w_i$) |\n",
    "| ----------- | ----------- | ----------- |\n",
    "| hammer      | 8      | 5|\n",
    "| wrench   | 3        | 7 |\n",
    "| screwdriver  | 6 | 4        |\n",
    "| towel   | 11  | 3 |\n",
    "\n",
    "Let $W_{max} = 14$ be the maximum weight.\n",
    "\n",
    "**Variables**\n",
    "\n",
    "Let $x_i \\in \\{0,1\\}$ (binary) represent whether or not we include item $i$ in the knapsack. For now, we will consider only being able to choose either none or one of each item.\n",
    "\n",
    "**Objective and Constraints**\n",
    "\n",
    "$$\n",
    "\\begin{equation} \n",
    "\\begin{split}\n",
    "\\max_{x} \\quad & \\sum_{i\\in{\\mathcal{A}}}b_i x_i \\\\\n",
    "\\text{s.t.} \\quad & \\sum_{i\\in{\\mathcal{A}}}w_ix_i \\leq W_{max} \\\\\n",
    "& x_i \\in \\{0,1\\}, \\quad \\forall i \\in \\mathcal{A}\n",
    "\\end{split}\n",
    "\\end{equation}\n",
    "$$\n",
    "\n",
    "\n",
    "**Pyomo**\n",
    "\n",
    "Solve the knapsack problem given below using GLPK and answer the following questions:\n",
    "\n",
    "1. Which items are acquired in the optimal solution?\n",
    "\n",
    "2. What is the value of the selected items?"
   ]
  },
  {
   "cell_type": "code",
   "execution_count": 3,
   "metadata": {},
   "outputs": [
    {
     "ename": "AttributeError",
     "evalue": "module 'pyomo' has no attribute 'SolverFactory'",
     "output_type": "error",
     "traceback": [
      "\u001b[0;31m---------------------------------------------------------------------------\u001b[0m",
      "\u001b[0;31mAttributeError\u001b[0m                            Traceback (most recent call last)",
      "\u001b[0;32m/tmp/ipykernel_110938/3680929648.py\u001b[0m in \u001b[0;36m<module>\u001b[0;34m\u001b[0m\n\u001b[1;32m     19\u001b[0m \u001b[0;34m\u001b[0m\u001b[0m\n\u001b[1;32m     20\u001b[0m \u001b[0;31m# Add your solution here\u001b[0m\u001b[0;34m\u001b[0m\u001b[0;34m\u001b[0m\u001b[0m\n\u001b[0;32m---> 21\u001b[0;31m \u001b[0mopt\u001b[0m \u001b[0;34m=\u001b[0m \u001b[0mpyo\u001b[0m\u001b[0;34m.\u001b[0m\u001b[0mSolverFactory\u001b[0m\u001b[0;34m(\u001b[0m\u001b[0;34m'glpk'\u001b[0m\u001b[0;34m)\u001b[0m\u001b[0;34m\u001b[0m\u001b[0;34m\u001b[0m\u001b[0m\n\u001b[0m\u001b[1;32m     22\u001b[0m \u001b[0mopt\u001b[0m\u001b[0;34m.\u001b[0m\u001b[0msolve\u001b[0m\u001b[0;34m(\u001b[0m\u001b[0mmodel\u001b[0m\u001b[0;34m)\u001b[0m\u001b[0;34m\u001b[0m\u001b[0;34m\u001b[0m\u001b[0m\n",
      "\u001b[0;31mAttributeError\u001b[0m: module 'pyomo' has no attribute 'SolverFactory'"
     ]
    }
   ],
   "source": [
    "A = ['hammer', 'wrench', 'screwdriver', 'towel'] # define items set\n",
    "b = {'hammer':8, 'wrench':3, 'screwdriver':6, 'towel':11} # define benefits parameters\n",
    "w = {'hammer':5, 'wrench':7, 'screwdriver':4, 'towel':3} # define weights parameters\n",
    "W_max = 14 # set maximum weight\n",
    "\n",
    "model = ConcreteModel()\n",
    "\n",
    "# define variable\n",
    "model.x = Var( A, within=Binary )\n",
    "\n",
    "# define objective\n",
    "model.obj = Objective(\n",
    "    expr = sum( b[i]*model.x[i] for i in A ), \n",
    "    sense = maximize )\n",
    "\n",
    "# define weight constraint\n",
    "model.weight_con = Constraint(\n",
    "    expr = sum( w[i]*model.x[i] for i in A ) <= W_max )\n",
    "\n",
    "# Add your solution here\n",
    "opt = pyo.SolverFactory('glpk')\n",
    "opt.solve(model)"
   ]
  },
  {
   "cell_type": "markdown",
   "metadata": {},
   "source": [
    "**Question Answers**\n",
    "\n",
    "1. *Fill in here*\n",
    "\n",
    "2. *Fill in here*"
   ]
  },
  {
   "cell_type": "markdown",
   "metadata": {},
   "source": [
    "### Knapsack example with improve printing\n",
    "\n",
    "Complete the missing lines in the code below to produce formatted output: print the total weight, the value of the items selected (the objective), and the items acquired in the optimal solution. Note, the Pyomo value function should be used to get the floating point value of Pyomo modeling components (e.g., print(value(model.x[i]))."
   ]
  },
  {
   "cell_type": "code",
   "execution_count": null,
   "metadata": {},
   "outputs": [],
   "source": [
    "A = ['hammer', 'wrench', 'screwdriver', 'towel']\n",
    "b = {'hammer':8, 'wrench':3, 'screwdriver':6, 'towel':11}\n",
    "w = {'hammer':5, 'wrench':7, 'screwdriver':4, 'towel':3}\n",
    "W_max = 14\n",
    "\n",
    "model = ConcreteModel()\n",
    "model.x = Var( A, within=Binary )\n",
    "\n",
    "model.obj = Objective(\n",
    "    expr = sum( b[i]*model.x[i] for i in A ), \n",
    "    sense = maximize )\n",
    "\n",
    "model.weight_con = Constraint(\n",
    "    expr = sum( w[i]*model.x[i] for i in A ) <= W_max )\n",
    "\n",
    "opt = SolverFactory('glpk')\n",
    "opt_success = opt.solve(model)\n",
    "\n",
    "total_weight = sum( w[i]*value(model.x[i]) for i in A )\n",
    "# Add your solution here\n",
    "\n",
    "print('%12s %12s' % ('Item', 'Selected'))\n",
    "print('=========================')\n",
    "for i in A:\n",
    "    # Add your solution here\n",
    "print('-------------------------')"
   ]
  },
  {
   "cell_type": "markdown",
   "metadata": {},
   "source": [
    "### Changing data\n",
    "\n",
    "Using your code from **Question 1.2**, if we were to increase the value of the wrench, at what point would it become selected as part of the optimal solution?"
   ]
  },
  {
   "cell_type": "code",
   "execution_count": null,
   "metadata": {},
   "outputs": [],
   "source": [
    "# Add your solution here"
   ]
  },
  {
   "cell_type": "markdown",
   "metadata": {},
   "source": [
    "**Question Answer**\n",
    "\n",
    "*Fill in here*"
   ]
  },
  {
   "cell_type": "markdown",
   "metadata": {},
   "source": [
    "### Loading data from Excel\n",
    "\n",
    "In the code above, the data is hardcoded at the top of the file. Instead of hardcoding the data, use Python to load the data from a difference source. You may use Pandas to load data from 'knapsack_data.xlsx' into a dataframe. You will then need to write code to obtain a dictionary from the dataframe."
   ]
  },
  {
   "cell_type": "code",
   "execution_count": null,
   "metadata": {},
   "outputs": [],
   "source": [
    "df_items = pd.read_excel(https://raw.githubusercontent.com/ndcbe/optimization/main/notebooks/data/knapsack_data.xlsx', sheet_name='data', header=0, index_col=0)\n",
    "W_max = 14\n",
    "\n",
    "A = df_items.index.tolist()\n",
    "# Add your solution here\n",
    "\n",
    "model = ConcreteModel()\n",
    "model.x = Var( A, within=Binary )\n",
    "\n",
    "model.obj = Objective(\n",
    "    expr = sum( b[i]*model.x[i] for i in A ), \n",
    "    sense = maximize )\n",
    "\n",
    "model.weight_con = Constraint(\n",
    "    expr = sum( w[i]*model.x[i] for i in A ) <= W_max )\n",
    "\n",
    "opt = SolverFactory('glpk')\n",
    "opt_success = opt.solve(model)\n",
    "\n",
    "total_weight = sum( w[i]*value(model.x[i]) for i in A )\n",
    "print('Total Weight:', total_weight)\n",
    "print('Total Benefit:', value(model.obj))\n",
    "\n",
    "print('%12s %12s' % ('Item', 'Selected'))\n",
    "print('=========================')\n",
    "for i in A:\n",
    "    acquired = 'No'\n",
    "    if value(model.x[i]) >= 0.5:\n",
    "        acquired = 'Yes'\n",
    "    print('%12s %12s' % (i, acquired))\n",
    "print('-------------------------')"
   ]
  },
  {
   "cell_type": "markdown",
   "metadata": {},
   "source": [
    "### NLP vs. MIP\n",
    "\n",
    "Solve the knapsack problem with IPOPT instead of glpk. Print the solution values for model.x. What happened? Why?\n",
    "\n",
    "*Hint*: Switch `glpk` to `ipopt` in the call to `SolverFactory`."
   ]
  },
  {
   "cell_type": "code",
   "execution_count": null,
   "metadata": {},
   "outputs": [],
   "source": [
    "from pyomo.environ import *\n",
    "\n",
    "A = ['hammer', 'wrench', 'screwdriver', 'towel']\n",
    "b = {'hammer':8, 'wrench':3, 'screwdriver':6, 'towel':11}\n",
    "w = {'hammer':5, 'wrench':7, 'screwdriver':4, 'towel':3}\n",
    "W_max = 14\n",
    "\n",
    "model = ConcreteModel()\n",
    "model.x = Var( A, within=Binary )\n",
    "\n",
    "model.obj = Objective(\n",
    "    expr = sum( b[i]*model.x[i] for i in A ), \n",
    "    sense = maximize )\n",
    "\n",
    "model.weight_con = Constraint(\n",
    "    expr = sum( w[i]*model.x[i] for i in A ) <= W_max )\n",
    "\n",
    "# Add your solution here\n",
    "opt_success = opt.solve(model)\n",
    "\n",
    "model.pprint()"
   ]
  },
  {
   "cell_type": "markdown",
   "metadata": {},
   "source": [
    "**Question Answers**\n",
    "\n",
    "*Fill in here*"
   ]
  },
  {
   "cell_type": "markdown",
   "metadata": {},
   "source": [
    "## More Pyomo Fundamentals"
   ]
  },
  {
   "cell_type": "markdown",
   "metadata": {},
   "source": [
    "### Knapsack problem with rules\n",
    "\n",
    "Rules are important for defining in-dexed constraints, however, they can also be used for single (i.e. scalar) constraints. Reimplement the knapsack model from **Question 1.1** using rules for the objective and the constraints."
   ]
  },
  {
   "cell_type": "code",
   "execution_count": null,
   "metadata": {},
   "outputs": [],
   "source": [
    "# Add your solution here"
   ]
  },
  {
   "cell_type": "markdown",
   "metadata": {},
   "source": [
    "### Integer formulation of the knapsack problem\n",
    "\n",
    "Consider again the knapsack problem. Assume now that we can acquire multiple items of the same type. In this new formulation, $x_i$ is now an integer variable instead of a binary variable. One way to formulate this problem is as follows:\n",
    "\n",
    "\n",
    "$\\max_{q,x} \\sum_{i\\in{A}}v_ix_i$\n",
    "\n",
    "s.t. $\\sum_{i\\in{A}}w_ix_i\\leq W_{max}$\n",
    "\n",
    "$x_i=\\sum_{j=0}^Njq_{i,j}, \\forall i \\in{A}$\n",
    "\n",
    "$0\\leq x\\leq N$\n",
    "\n",
    "$q_{i,j} \\in {0,1}, \\forall i \\in A, j \\in {0...N}$\n",
    "\n",
    "Starting with your code from **Question 2.1**, implement this new formulation and solve. Is the solution surprising?"
   ]
  },
  {
   "cell_type": "code",
   "execution_count": null,
   "metadata": {},
   "outputs": [],
   "source": [
    "# Add your solution here"
   ]
  },
  {
   "cell_type": "markdown",
   "metadata": {},
   "source": [
    "**Question Answer**\n",
    "\n",
    "*Fill in here*"
   ]
  },
  {
   "cell_type": "code",
   "execution_count": null,
   "metadata": {},
   "outputs": [],
   "source": []
  }
 ],
 "metadata": {
  "kernelspec": {
   "display_name": "Python 3 (ipykernel)",
   "language": "python",
   "name": "python3"
  },
  "language_info": {
   "codemirror_mode": {
    "name": "ipython",
    "version": 3
   },
   "file_extension": ".py",
   "mimetype": "text/x-python",
   "name": "python",
   "nbconvert_exporter": "python",
   "pygments_lexer": "ipython3",
   "version": "3.9.7"
  }
 },
 "nbformat": 4,
 "nbformat_minor": 2
}
