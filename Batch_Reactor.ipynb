{
 "cells": [
  {
   "cell_type": "markdown",
   "metadata": {
    "id": "vLc9EtJ8UmUl"
   },
   "source": [
    "# Pyomo DAE Exercise: \n",
    "\n",
    "A desired product $B$ is as an intermediate in a series reactions\n",
    "\n",
    "$$\n",
    "\\begin{align}\n",
    "A \\overset{k_A}{\\longrightarrow} B \\overset{k_B}{\\longrightarrow} C\n",
    "\\end{align}\n",
    "$$\n",
    "\n",
    "where $A$ is a raw material and $C$ is an undesired by-product. The reaction operates isothermally with rate constants $k_A = 0.5\\ \\mbox{min}^{-1}$ and $k_B = 0.1\\ \\mbox{min}^{-1}$. The raw material is a solution with concentration $C_{A,f} = 2.0\\ \\mbox{moles/liter}$.\n",
    "\n",
    "A 100 liter tank is available for use as a batch reactor. How long should the reaction be operated to maximize the concentration of $B$?"
   ]
  },
  {
   "cell_type": "markdown",
   "metadata": {
    "id": "zqmduY3QV1QP"
   },
   "source": [
    "## Mathematical model\n",
    "\n",
    "A material balance for an isothermal stirred batch reactor with a volume $V = 40$ liters and an initial concentration $C_{A,f}$ is given by\n",
    "\n",
    "$$\n",
    "\\begin{align}\n",
    "V\\frac{dC_A}{dt} & = - V k_A C_A \\\\\n",
    "V\\frac{dC_B}{dt} & = V k_A C_A - V k_B C_B\n",
    "\\end{align}\n",
    "$$\n",
    "\n",
    "Eliminating the common factor $V$\n",
    "\n",
    "$$\n",
    "\\begin{align}\n",
    "\\frac{dC_A}{dt} & = - k_A C_A \\\\\n",
    "\\frac{dC_B}{dt} & = k_A C_A - k_B C_B\n",
    "\\end{align}\n",
    "$$\n",
    "\n",
    "With an initial concentration $C_{A,f}$. A numerical solution to these equations is shown in the following cell."
   ]
  },
  {
   "cell_type": "markdown",
   "metadata": {
    "id": "gZozS1tsX6e3"
   },
   "source": [
    "## Simulation with `solve_ivp`"
   ]
  },
  {
   "cell_type": "code",
   "execution_count": 1,
   "metadata": {
    "colab": {
     "base_uri": "https://localhost:8080/",
     "height": 295
    },
    "id": "YBG01HcaV5_D",
    "outputId": "6de0bbe9-bbf6-447d-a785-804784089345"
   },
   "outputs": [
    {
     "data": {
      "image/png": "[encoded data removed]",
      "text/plain": [
       "<Figure size 432x288 with 1 Axes>"
      ]
     },
     "metadata": {
      "needs_background": "light"
     },
     "output_type": "display_data"
    }
   ],
   "source": [
    "import numpy as np\n",
    "import matplotlib.pyplot as plt\n",
    "from scipy.integrate import solve_ivp\n",
    "\n",
    "V = 40     # liters\n",
    "kA = 0.5   # 1/min\n",
    "kB = 0.1   # l/min\n",
    "CAf = 2.0  # moles/liter\n",
    "\n",
    "def batch(t, X):\n",
    "    CA, CB = X\n",
    "    dCA_dt = -kA*CA\n",
    "    dCB_dt = kA*CA - kB*CB\n",
    "    return [dCA_dt, dCB_dt]\n",
    "\n",
    "t = np.linspace(0, 30, 200)\n",
    "soln = solve_ivp(batch, [0, 30], [CAf, 0], t_eval=t)\n",
    "plt.plot(soln.t, soln.y[0], soln.t, soln.y[1])\n",
    "plt.xlabel('time / minutes')\n",
    "plt.ylabel('concentration / moles per liter')\n",
    "plt.title('Batch Reactor')\n",
    "plt.legend(['$C_A$','$C_B$'])\n",
    "plt.grid(True)"
   ]
  },
  {
   "cell_type": "code",
   "execution_count": 2,
   "metadata": {
    "colab": {
     "base_uri": "https://localhost:8080/"
    },
    "id": "4591LJO_XBpD",
    "outputId": "11dbefb8-eb46-4259-861d-e6de781b5298"
   },
   "outputs": [
    {
     "data": {
      "text/plain": [
       "1.3373694294623975"
      ]
     },
     "execution_count": 2,
     "metadata": {},
     "output_type": "execute_result"
    }
   ],
   "source": [
    "def CB(tf):\n",
    "    soln = solve_ivp(batch, [0, tf], [CAf, 0])\n",
    "    return soln.y[1][-1]\n",
    "\n",
    "CB(4)"
   ]
  },
  {
   "cell_type": "code",
   "execution_count": 3,
   "metadata": {
    "colab": {
     "base_uri": "https://localhost:8080/"
    },
    "id": "FuMgRoQEXpmL",
    "outputId": "c33483b6-21af-40c5-af75-f9b34cb32dd4"
   },
   "outputs": [
    {
     "data": {
      "text/plain": [
       "     fun: -1.3373861411813575\n",
       "    nfev: 21\n",
       "     nit: 17\n",
       " success: True\n",
       "       x: 4.022215883273253"
      ]
     },
     "execution_count": 3,
     "metadata": {},
     "output_type": "execute_result"
    }
   ],
   "source": [
    "from scipy.optimize import minimize_scalar\n",
    "\n",
    "minimize_scalar(lambda t: -CB(t), bracket=[0, 50])"
   ]
  },
  {
   "cell_type": "markdown",
   "metadata": {
    "id": "sgMMMKjQYKY8"
   },
   "source": [
    "## Import Pyomo"
   ]
  },
  {
   "cell_type": "code",
   "execution_count": 4,
   "metadata": {
    "id": "w1W-3mdEUW8u"
   },
   "outputs": [],
   "source": [
    "import pyomo.environ as pyo\n",
    "from pyomo.environ import *\n",
    "import pyomo.dae as dae\n",
    "import numpy as np\n",
    "import idaes"
   ]
  },
  {
   "cell_type": "code",
   "execution_count": 30,
   "metadata": {
    "id": "vS4LTWMlUkpg"
   },
   "outputs": [
    {
     "name": "stdout",
     "output_type": "stream",
     "text": [
      "# ==========================================================\n",
      "# = Solver Results                                         =\n",
      "# ==========================================================\n",
      "# ----------------------------------------------------------\n",
      "#   Problem Information\n",
      "# ----------------------------------------------------------\n",
      "Problem: \n",
      "- Lower bound: -inf\n",
      "  Upper bound: inf\n",
      "  Number of objectives: 1\n",
      "  Number of constraints: 804\n",
      "  Number of variables: 805\n",
      "  Sense: unknown\n",
      "# ----------------------------------------------------------\n",
      "#   Solver Information\n",
      "# ----------------------------------------------------------\n",
      "Solver: \n",
      "- Status: ok\n",
      "  Message: Ipopt 3.13.2\\x3a Optimal Solution Found\n",
      "  Termination condition: optimal\n",
      "  Id: 0\n",
      "  Error rc: 0\n",
      "  Time: 0.14610743522644043\n",
      "# ----------------------------------------------------------\n",
      "#   Solution Information\n",
      "# ----------------------------------------------------------\n",
      "Solution: \n",
      "- number of solutions: 0\n",
      "  number of solutions displayed: 0\n",
      "4.019410301197648\n"
     ]
    },
    {
     "data": {
      "image/png": "[encoded data removed]",
      "text/plain": [
       "<Figure size 432x288 with 1 Axes>"
      ]
     },
     "metadata": {
      "needs_background": "light"
     },
     "output_type": "display_data"
    }
   ],
   "source": [
    "m = pyo.ConcreteModel()\n",
    "\n",
    "m.t = dae.ContinuousSet(bounds=(0.0, 30))\n",
    "m.τ = dae.ContinuousSet(bounds = (0,1))\n",
    "\n",
    "m.cA = pyo.Var(m.τ, domain = NonNegativeReals)\n",
    "m.cB = pyo.Var(m.τ, domain = NonNegativeReals)\n",
    "m.tf = pyo.Var(domain = NonNegativeReals)\n",
    "\n",
    "m.dcA = dae.DerivativeVar(m.cA)\n",
    "m.dcB = dae.DerivativeVar(m.cB)\n",
    "\n",
    "# Declare differential equations\n",
    "@m.Constraint(m.τ)\n",
    "def mass_bal_A(m, τ):\n",
    "    return m.dcA[τ] == -m.tf*kA*m.cA[τ]\n",
    "\n",
    "@m.Constraint(m.τ)\n",
    "def mass_bal_B(m, τ):\n",
    "    return m.dcB[τ] == (kA*m.cA[τ] - kB*m.cB[τ])*m.tf\n",
    "\n",
    "@m.Constraint()\n",
    "def init_cond_A(m):\n",
    "    return m.cA[0] == CAf\n",
    "\n",
    "@m.Constraint()\n",
    "def init_cond_B(m):\n",
    "    return m.cB[0] == 0\n",
    "\n",
    "\n",
    "@m.Objective(sense = maximize)\n",
    "def max_cB(m):\n",
    "    return m.cB[1]\n",
    "\n",
    "pyo.TransformationFactory('dae.finite_difference').apply_to(m, nfe = 200, scheme = 'FORWARD')\n",
    "soln = pyo.SolverFactory('ipopt').solve(m)\n",
    "soln.write()\n",
    "\n",
    "τ = [_ for _ in m.τ]\n",
    "cA = [m.cA[_]() for _ in m.τ]\n",
    "cB = [m.cB[_]() for _ in m.τ]\n",
    "\n",
    "plt.plot(τ, cA, τ, cB)\n",
    "print(value(m.tf))"
   ]
  },
  {
   "cell_type": "markdown",
   "metadata": {},
   "source": [
    "$\\tau = \\frac{t}{t_f} \\Rightarrow t = \\tau t_f$\n",
    "\n",
    "$\\frac{1}{t_f}\\frac{dc_A}{d\\tau} = -k_A c_A$\n",
    "\n",
    "$\\frac{1}{t_f}\\frac{dc_B}{d\\tau} = k_A c_A - k_B c_B$"
   ]
  },
  {
   "cell_type": "code",
   "execution_count": null,
   "metadata": {},
   "outputs": [],
   "source": []
  }
 ],
 "metadata": {
  "colab": {
   "provenance": []
  },
  "kernelspec": {
   "display_name": "Python 3",
   "language": "python",
   "name": "python3"
  },
  "language_info": {
   "codemirror_mode": {
    "name": "ipython",
    "version": 3
   },
   "file_extension": ".py",
   "mimetype": "text/x-python",
   "name": "python",
   "nbconvert_exporter": "python",
   "pygments_lexer": "ipython3",
   "version": "3.7.9"
  }
 },
 "nbformat": 4,
 "nbformat_minor": 1
}
