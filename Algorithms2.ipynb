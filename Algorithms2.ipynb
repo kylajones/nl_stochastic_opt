{
 "cells": [
  {
   "cell_type": "markdown",
   "metadata": {},
   "source": [
    "# Algorithms Homework 2"
   ]
  },
  {
   "cell_type": "code",
   "execution_count": 23,
   "metadata": {},
   "outputs": [],
   "source": [
    "## Load libraries\n",
    "import matplotlib as plat\n",
    "import matplotlib.pyplot as plt\n",
    "import numpy as np\n",
    "from scipy import linalg\n",
    "from mpl_toolkits.mplot3d import Axes3D\n",
    "from matplotlib import cm\n",
    "import sympy as sym\n",
    "import pandas as pd\n",
    "# from sympy import symbols, diff"
   ]
  },
  {
   "cell_type": "markdown",
   "metadata": {},
   "source": [
    "## Finite Difference Approximations\n",
    "\n",
    "**Main Idea**: Explore the accuracy of the finite difference approximation for $\\nabla f(x)$ and $\\nabla^2 f(x)$ from Example 2.19."
   ]
  },
  {
   "cell_type": "markdown",
   "metadata": {
    "tags": [
     "gradescope"
    ]
   },
   "source": [
    "### Finite difference order"
   ]
  },
  {
   "cell_type": "markdown",
   "metadata": {},
   "source": [
    "Repeat the analysis from class to show the backward and central finite difference truncations errors are $\\mathcal{O}(\\epsilon)$ and $\\mathcal{O}(\\epsilon^2)$, respectively. We discussed these error orders graphically. Please use a Taylor series for your analysis."
   ]
  },
  {
   "cell_type": "markdown",
   "metadata": {},
   "source": [
    "### Provided Codes"
   ]
  },
  {
   "cell_type": "markdown",
   "metadata": {},
   "source": [
    "Please review the following code. You do not need to turn anything in for this section."
   ]
  },
  {
   "cell_type": "markdown",
   "metadata": {},
   "source": [
    "#### Finite Difference Code\n",
    "\n",
    "The code below has been adapted from the finite difference examples presented in class. Notice the second input is a function."
   ]
  },
  {
   "cell_type": "code",
   "execution_count": 2,
   "metadata": {},
   "outputs": [],
   "source": [
    "## Define Python function\n",
    "def my_f(x,verbose=False):\n",
    "    ''' Evaluate function given above at point x\n",
    "\n",
    "    Inputs:\n",
    "        x - vector with 2 elements\n",
    "        \n",
    "    Outputs:\n",
    "        f - function value (scalar)\n",
    "    '''\n",
    "    # Constants\n",
    "    a = np.array([0.3, 0.6, 0.2])\n",
    "    b = np.array([5, 26, 3])\n",
    "    c = np.array([40, 1, 10])\n",
    "    \n",
    "    # Intermediates. Recall Python indicies start at 0\n",
    "    u = x[0] - 0.8\n",
    "    s = np.sqrt(1-u)\n",
    "    s2 = np.sqrt(1+u)\n",
    "    v = x[1] -(a[0] + a[1]*u**2*s - a[2]*u)\n",
    "    alpha = -b[0] + b[1]*u**2*s2 + b[2]*u \n",
    "    beta = c[0]*v**2*(1-c[1]*v)/(1+c[2]*u**2)\n",
    "    \n",
    "    if verbose:\n",
    "        print(\"##### my_f at x = \",x, \"#####\")\n",
    "        print(\"u = \",u)\n",
    "        print(\"sqrt(1-u) = \",s)\n",
    "        print(\"sqrt(1+u) = \",s2)\n",
    "        print(\"v = \",v)\n",
    "        print(\"alpha = \",alpha)\n",
    "        print(\"beta = \",beta)\n",
    "        print(\"f(x) = \",)\n",
    "        print(\"##### Done. #####\\n\")\n",
    "    \n",
    "    return alpha*np.exp(-beta)\n",
    "\n",
    "## Calculate gradient with central finite difference\n",
    "def my_grad_approx(x,f,eps1,verbose=False):\n",
    "    '''\n",
    "    Calculate gradient of function my_f using central difference formula\n",
    "    \n",
    "    Inputs:\n",
    "        x - point for which to evaluate gradient\n",
    "        f - function to consider\n",
    "        eps1 - perturbation size\n",
    "        \n",
    "    Outputs:\n",
    "        grad - gradient (vector)\n",
    "    '''\n",
    "    \n",
    "    n = len(x)\n",
    "    grad = np.zeros(n)\n",
    "    \n",
    "    if(verbose):\n",
    "        print(\"***** my_grad_approx at x = \",x,\"*****\")\n",
    "    \n",
    "    for i in range(0,n):\n",
    "        \n",
    "        # Create vector of zeros except eps in position i\n",
    "        e = np.zeros(n)\n",
    "        e[i] = eps1\n",
    "        \n",
    "        # Finite difference formula\n",
    "        my_f_plus = f(x + e)\n",
    "        my_f_minus = f(x - e)\n",
    "        \n",
    "        # Diagnostics\n",
    "        if(verbose):\n",
    "            print(\"e[\",i,\"] = \",e)\n",
    "            print(\"f(x + e[\",i,\"]) = \",my_f_plus)\n",
    "            print(\"f(x - e[\",i,\"]) = \",my_f_minus)\n",
    "            \n",
    "        grad[i] = (my_f_plus - my_f_minus)/(2*eps1)\n",
    "    \n",
    "    if(verbose):\n",
    "        print(\"***** Done. ***** \\n\")\n",
    "    \n",
    "    return grad\n",
    "\n",
    "## Calculate gradient using central finite difference and my_hes_approx\n",
    "def my_hes_approx(x,grad,eps2):\n",
    "    '''\n",
    "    Calculate gradient of function my_f using central difference formula and my_grad\n",
    "    \n",
    "    Inputs:\n",
    "        x - point for which to evaluate gradient\n",
    "        grad - function to calculate the gradient\n",
    "        eps2 - perturbation size (for Hessian NOT gradient approximation)\n",
    "        \n",
    "    Outputs:\n",
    "        H - Hessian (matrix)\n",
    "    '''\n",
    "    \n",
    "    n = len(x)\n",
    "    H = np.zeros([n,n])\n",
    "    \n",
    "    for i in range(0,n):\n",
    "        # Create vector of zeros except eps in position i\n",
    "        e = np.zeros(n)\n",
    "        e[i] = eps2\n",
    "        \n",
    "        # Evaluate gradient twice\n",
    "        grad_plus = grad(x + e)\n",
    "        grad_minus = grad(x - e)\n",
    "        \n",
    "        # Notice we are building the Hessian by column (or row)\n",
    "        H[:,i] = (grad_plus - grad_minus)/(2*eps2)\n",
    "\n",
    "    return H"
   ]
  },
  {
   "cell_type": "code",
   "execution_count": 3,
   "metadata": {},
   "outputs": [
    {
     "name": "stdout",
     "output_type": "stream",
     "text": [
      "xt =  [0 0] \n",
      "\n",
      "f(xt) = \n",
      " 1.6212212164426274e-06 \n",
      "\n",
      "grad(xt) =  [1.49885593e-04 4.20936251e-05] \n",
      "\n",
      "hes(xt) = \n",
      " [[0.00082024 0.00387044]\n",
      " [0.00387044 0.00102412]] \n",
      "\n"
     ]
    }
   ],
   "source": [
    "### Test the functions from above\n",
    "\n",
    "## Define test point\n",
    "xt = np.array([0,0])\n",
    "print(\"xt = \",xt,\"\\n\")\n",
    "\n",
    "print(\"f(xt) = \\n\",my_f([0,0]),\"\\n\")\n",
    "\n",
    "## Compute gradient\n",
    "g = my_grad_approx(xt,my_f,1E-6)\n",
    "print(\"grad(xt) = \",g,\"\\n\")\n",
    "\n",
    "## Compute Hessian\n",
    "# Step 1: Create a Lambda (anonymous) function\n",
    "calc_grad = lambda x : my_grad_approx(x,my_f,1E-6)\n",
    "\n",
    "# Step 2: Calculate Hessian approximation\n",
    "H = my_hes_approx(xt,calc_grad,1E-6)\n",
    "print(\"hes(xt) = \\n\",H,\"\\n\")"
   ]
  },
  {
   "cell_type": "markdown",
   "metadata": {},
   "source": [
    "#### Analytic Gradient\n",
    "\n",
    "It turns out that calculating the analytic gradient with Mathematic quickly becomes a mess. Instead, the  following code uses the symbolic computing capabilities in SymPy."
   ]
  },
  {
   "cell_type": "code",
   "execution_count": 4,
   "metadata": {},
   "outputs": [
    {
     "name": "stdout",
     "output_type": "stream",
     "text": [
      "The exact gradient is \n",
      " [1.49885593e-04 4.20936251e-05]\n"
     ]
    }
   ],
   "source": [
    "'''\n",
    "Encoding the exact gradient with the long expression above is very time-consuming. This is a trick of calculating the \n",
    "symbolic derivative and converting it to an analytic function to be evaluated at a point. \n",
    "'''\n",
    "\n",
    "# Define function to use with symbolic computing framework\n",
    "def f(x1,x2):\n",
    "    a = np.array([0.3, 0.6, 0.2])\n",
    "    b = np.array([5, 26, 3])\n",
    "    b1 = 5;\n",
    "    c = np.array([40, 1, 10])\n",
    "    u = x1 - 0.8\n",
    "    v = x2 -(a[0] + a[1]*u**2*(1-u)**0.5-a[2]*u)\n",
    "    alpha = b[1]*u**2*(1+u)**0.5 + b[2]*u -b[0]\n",
    "    beta = c[0]*v**2*(1-c[1]*v)/(1+c[2]*u**2)\n",
    "    return alpha*sym.exp(-1*beta)\n",
    "\n",
    "# Define function to use later\n",
    "def my_grad_exact(x):\n",
    "    x1, x2 = sym.symbols('x1 x2')\n",
    "    DerivativeOfF1 = sym.lambdify((x1,x2),sym.diff(f(x1,x2),x1));\n",
    "    DerivativeOfF2 = sym.lambdify((x1,x2),sym.diff(f(x1,x2),x2));\n",
    "    #DerivativeOfF2 = sym.lambdify((x1,x2),gradf2(x1,x2));\n",
    "    #F = sym.lambdify((x1,x2),f(x1,x2));\n",
    "    return np.array([DerivativeOfF1(x[0],x[1]),DerivativeOfF2(x[0],x[1])])\n",
    "    \n",
    "x = np.array([0,0])\n",
    "print(\"The exact gradient is \\n\",my_grad_exact(x))"
   ]
  },
  {
   "cell_type": "markdown",
   "metadata": {},
   "source": [
    "#### Analytic Hessian\n",
    "\n",
    "The code below assembles the analytic Hessian using the symbolic computing framework in NumPy."
   ]
  },
  {
   "cell_type": "code",
   "execution_count": 5,
   "metadata": {},
   "outputs": [
    {
     "name": "stdout",
     "output_type": "stream",
     "text": [
      "The exact Hessian is \n",
      " [[0.00082025 0.00387044]\n",
      " [0.00387044 0.00102412]]\n"
     ]
    }
   ],
   "source": [
    "def f(x1,x2):\n",
    "    \n",
    "    a = np.array([0.3, 0.6, 0.2])\n",
    "    b = np.array([5, 26, 3])\n",
    "    b1 = 5;\n",
    "    c = np.array([40, 1, 10])\n",
    "    u = x1 - 0.8\n",
    "    v = x2 -(a[0] + a[1]*u**2*(1-u)**0.5-a[2]*u)\n",
    "    alpha = b[1]*u**2*(1+u)**0.5 + b[2]*u -b[0]\n",
    "    beta = c[0]*v**2*(1-c[1]*v)/(1+c[2]*u**2)\n",
    "    return alpha*sym.exp(-1*beta)\n",
    "\n",
    "\n",
    "def my_hes_exact(x):\n",
    "    x1, x2 = sym.symbols('x1 x2')\n",
    "    HessianOfF11 = sym.lambdify((x1,x2),sym.diff(f(x1,x2),x1,x1));\n",
    "    HessianOfF12 = sym.lambdify((x1,x2),sym.diff(f(x1,x2),x1,x2));\n",
    "    HessianOfF21 = sym.lambdify((x1,x2),sym.diff(f(x1,x2),x2,x1));\n",
    "    HessianOfF22 = sym.lambdify((x1,x2),sym.diff(f(x1,x2),x2,x2));\n",
    "    #DerivativeOfF2 = sym.lambdify((x1,x2),gradf2(x1,x2));\n",
    "    #F = sym.lambdify((x1,x2),f(x1,x2));\n",
    "    return np.array([[HessianOfF11(x[0],x[1]),HessianOfF12(x[0],x[1])],[HessianOfF21(x[0],x[1]),HessianOfF22(x[0],x[1])]])\n",
    "    \n",
    "x = np.array([0,0])\n",
    "print(\"The exact Hessian is \\n\",my_hes_exact(x))    "
   ]
  },
  {
   "cell_type": "markdown",
   "metadata": {},
   "source": [
    "### Gradient Finite Difference Comparison\n",
    "\n",
    "Repeat the analysis procedure from the finite difference class notebook to find the value of $\\epsilon_1$ that gives the smallest approximation error. Some tips:\n",
    "1. Write a `for` loop to iterate over many values of $\\epsilon_1$\n",
    "2. Use $|| \\nabla f(x;\\epsilon_1)_{approx} - \\nabla f(x)_{exact} ||$ to measure the error. Your choice on which norm(s) to use. Please label your plot with the norm(s) you used.\n",
    "3. Make a log-log plot"
   ]
  },
  {
   "cell_type": "code",
   "execution_count": 6,
   "metadata": {},
   "outputs": [
    {
     "name": "stdout",
     "output_type": "stream",
     "text": [
      "lowest error eps1: 1e-06\n",
      "lowest error eps1: 2.4363560160420765e-10\n"
     ]
    },
    {
     "name": "stderr",
     "output_type": "stream",
     "text": [
      "/tmp/ipykernel_10000/3820904836.py:18: RuntimeWarning: invalid value encountered in sqrt\n",
      "  s = np.sqrt(1-u)\n",
      "/tmp/ipykernel_10000/3820904836.py:19: RuntimeWarning: invalid value encountered in sqrt\n",
      "  s2 = np.sqrt(1+u)\n",
      "/tmp/ipykernel_10000/3820904836.py:35: RuntimeWarning: overflow encountered in exp\n",
      "  return alpha*np.exp(-beta)\n"
     ]
    },
    {
     "data": {
      "text/plain": [
       "Text(0.5, 0, '$\\\\varepsilon$')"
      ]
     },
     "execution_count": 6,
     "metadata": {},
     "output_type": "execute_result"
    },
    {
     "data": {
      "image/png": "[encoded data removed]",
      "text/plain": [
       "<Figure size 432x288 with 1 Axes>"
      ]
     },
     "metadata": {
      "needs_background": "light"
     },
     "output_type": "display_data"
    }
   ],
   "source": [
    "# Add your solution here\n",
    "x = np.array([1,0.6])\n",
    "eps1 = np.power(10,np.arange(-16,1,0.25))\n",
    "grad_f_approx = np.zeros([len(x),len(eps1)])\n",
    "grad_f_exact = my_grad_exact(x)\n",
    "err = 0*eps1\n",
    "\n",
    "for i in np.arange(len(eps1)):\n",
    "    grad_f_approx[:,i] = my_grad_approx(x,my_f,eps1[i],verbose = False) \n",
    "    err[i] = np.linalg.norm(grad_f_approx[:,i] - grad_f_exact)\n",
    "\n",
    "min_eps1 = eps1[int(np.where(err == min(err))[0])]\n",
    "min_err = err[int(np.where(err == min(err))[0])]\n",
    "print('lowest error eps1:', min_eps1)\n",
    "print('lowest error eps1:', min_err)\n",
    "plt.loglog(eps1, err)\n",
    "plt.plot(min_eps1, min_err,'o')\n",
    "plt.ylabel('L2 norm of error')\n",
    "plt.xlabel(r'$\\varepsilon$')"
   ]
  },
  {
   "cell_type": "markdown",
   "metadata": {},
   "source": [
    "### Hessian Finite Difference using Approximate Gradient\n",
    "\n",
    "Repeat the analysis from above. Use `my_grad_approx` and the best value for $\\epsilon_1$ you previously found. What value of $\\epsilon_2$ gives the lowest Hessian approximation error? Note: $\\epsilon_1$ is used in the gradient approximation and $\\epsilon_2$ is used in the Hessian approximation."
   ]
  },
  {
   "cell_type": "code",
   "execution_count": 7,
   "metadata": {},
   "outputs": [
    {
     "name": "stdout",
     "output_type": "stream",
     "text": [
      "lowest error eps2: 5.623413251903491e-05\n",
      "lowest error: 1.7641813312508671e-06\n"
     ]
    },
    {
     "name": "stderr",
     "output_type": "stream",
     "text": [
      "/tmp/ipykernel_10000/3820904836.py:18: RuntimeWarning: invalid value encountered in sqrt\n",
      "  s = np.sqrt(1-u)\n",
      "/tmp/ipykernel_10000/3820904836.py:19: RuntimeWarning: invalid value encountered in sqrt\n",
      "  s2 = np.sqrt(1+u)\n",
      "/tmp/ipykernel_10000/3820904836.py:35: RuntimeWarning: overflow encountered in exp\n",
      "  return alpha*np.exp(-beta)\n",
      "/tmp/ipykernel_10000/3820904836.py:73: RuntimeWarning: invalid value encountered in double_scalars\n",
      "  grad[i] = (my_f_plus - my_f_minus)/(2*eps1)\n"
     ]
    },
    {
     "data": {
      "text/plain": [
       "Text(0.5, 0, '$\\\\varepsilon$')"
      ]
     },
     "execution_count": 7,
     "metadata": {},
     "output_type": "execute_result"
    },
    {
     "data": {
      "image/png": "[encoded data removed]",
      "text/plain": [
       "<Figure size 432x288 with 1 Axes>"
      ]
     },
     "metadata": {
      "needs_background": "light"
     },
     "output_type": "display_data"
    }
   ],
   "source": [
    "# Add your solution here\n",
    "\n",
    "# initialize FE discretization\n",
    "eps2 = np.power(10, np.arange(-16, 1, 0.25))\n",
    "\n",
    "# create a Lambda function for gradient approximation\n",
    "calc_grad = lambda x : my_grad_approx(x,my_f,min_eps1)\n",
    "\n",
    "# compute exact Hessian\n",
    "hess_exact = my_hes_exact(x)\n",
    "\n",
    "# intialize error\n",
    "err = 0*eps2\n",
    "\n",
    "# loop over different FE discretizations\n",
    "for i in np.arange(len(eps2)):\n",
    "    \n",
    "    # calculate Hessian approximation\n",
    "    H = my_hes_approx(x, calc_grad, eps2[i])\n",
    "    \n",
    "    # calculate error\n",
    "    err[i] = np.linalg.norm(H - hess_exact)\n",
    "\n",
    "# find optimal FE discretization\n",
    "min_eps2 = eps2[int(np.where(err == min(err))[0])]\n",
    "min_err = err[int(np.where(err == min(err))[0])]\n",
    "print('lowest error eps2:', min_eps2)\n",
    "print('lowest error:', min_err)\n",
    "# plot\n",
    "plt.loglog(eps2, err)\n",
    "plt.plot(min_eps2, min_err,'o')\n",
    "plt.ylabel('L2 norm of error')\n",
    "plt.xlabel(r'$\\varepsilon$')"
   ]
  },
  {
   "cell_type": "markdown",
   "metadata": {},
   "source": [
    "### Hessian Finite Difference using Exact Gradient\n",
    "\n",
    "Repeat the analysis from above using `my_grad_exact`. What value of $\\epsilon_2$ gives the lower Hessian approximation error?"
   ]
  },
  {
   "cell_type": "code",
   "execution_count": 8,
   "metadata": {
    "scrolled": false
   },
   "outputs": [
    {
     "name": "stderr",
     "output_type": "stream",
     "text": [
      "<lambdifygenerated-529>:2: RuntimeWarning: invalid value encountered in sqrt\n",
      "  return (3*x1 + 26*(x1 - 0.8)**2*sqrt(x1 + 0.2) - 7.4)*(-40*(16.0 - 20*x1)*(-0.2*x1 - x2 + 0.804984471899924*sqrt(1 - 0.555555555555556*x1)*(x1 - 0.8)**2 + 1.46)*(0.2*x1 + x2 - 0.804984471899924*sqrt(1 - 0.555555555555556*x1)*(x1 - 0.8)**2 - 0.46)**2/(10*(x1 - 0.8)**2 + 1)**2 - 40*(-0.223606797749979*(1 - 0.555555555555556*x1)**(-0.5)*(x1 - 0.8)**2 + 0.804984471899924*sqrt(1 - 0.555555555555556*x1)*(2*x1 - 1.6) - 0.2)*(0.2*x1 + x2 - 0.804984471899924*sqrt(1 - 0.555555555555556*x1)*(x1 - 0.8)**2 - 0.46)**2/(10*(x1 - 0.8)**2 + 1) - 40*(0.447213595499958*(1 - 0.555555555555556*x1)**(-0.5)*(x1 - 0.8)**2 - 1.60996894379985*sqrt(1 - 0.555555555555556*x1)*(2*x1 - 1.6) + 0.4)*(-0.2*x1 - x2 + 0.804984471899924*sqrt(1 - 0.555555555555556*x1)*(x1 - 0.8)**2 + 1.46)*(0.2*x1 + x2 - 0.804984471899924*sqrt(1 - 0.555555555555556*x1)*(x1 - 0.8)**2 - 0.46)/(10*(x1 - 0.8)**2 + 1))*exp(-40*(-0.2*x1 - x2 + 0.804984471899924*sqrt(1 - 0.555555555555556*x1)*(x1 - 0.8)**2 + 1.46)*(0.2*x1 + x2 - 0.804984471899924*sqrt(1 - 0.555555555555556*x1)*(x1 - 0.8)**2 - 0.46)**2/(10*(x1 - 0.8)**2 + 1)) + (13.0*(x1 - 0.8)**2*(x1 + 0.2)**(-0.5) + 26*sqrt(x1 + 0.2)*(2*x1 - 1.6) + 3)*exp(-40*(-0.2*x1 - x2 + 0.804984471899924*sqrt(1 - 0.555555555555556*x1)*(x1 - 0.8)**2 + 1.46)*(0.2*x1 + x2 - 0.804984471899924*sqrt(1 - 0.555555555555556*x1)*(x1 - 0.8)**2 - 0.46)**2/(10*(x1 - 0.8)**2 + 1))\n",
      "<lambdifygenerated-529>:2: RuntimeWarning: invalid value encountered in double_scalars\n",
      "  return (3*x1 + 26*(x1 - 0.8)**2*sqrt(x1 + 0.2) - 7.4)*(-40*(16.0 - 20*x1)*(-0.2*x1 - x2 + 0.804984471899924*sqrt(1 - 0.555555555555556*x1)*(x1 - 0.8)**2 + 1.46)*(0.2*x1 + x2 - 0.804984471899924*sqrt(1 - 0.555555555555556*x1)*(x1 - 0.8)**2 - 0.46)**2/(10*(x1 - 0.8)**2 + 1)**2 - 40*(-0.223606797749979*(1 - 0.555555555555556*x1)**(-0.5)*(x1 - 0.8)**2 + 0.804984471899924*sqrt(1 - 0.555555555555556*x1)*(2*x1 - 1.6) - 0.2)*(0.2*x1 + x2 - 0.804984471899924*sqrt(1 - 0.555555555555556*x1)*(x1 - 0.8)**2 - 0.46)**2/(10*(x1 - 0.8)**2 + 1) - 40*(0.447213595499958*(1 - 0.555555555555556*x1)**(-0.5)*(x1 - 0.8)**2 - 1.60996894379985*sqrt(1 - 0.555555555555556*x1)*(2*x1 - 1.6) + 0.4)*(-0.2*x1 - x2 + 0.804984471899924*sqrt(1 - 0.555555555555556*x1)*(x1 - 0.8)**2 + 1.46)*(0.2*x1 + x2 - 0.804984471899924*sqrt(1 - 0.555555555555556*x1)*(x1 - 0.8)**2 - 0.46)/(10*(x1 - 0.8)**2 + 1))*exp(-40*(-0.2*x1 - x2 + 0.804984471899924*sqrt(1 - 0.555555555555556*x1)*(x1 - 0.8)**2 + 1.46)*(0.2*x1 + x2 - 0.804984471899924*sqrt(1 - 0.555555555555556*x1)*(x1 - 0.8)**2 - 0.46)**2/(10*(x1 - 0.8)**2 + 1)) + (13.0*(x1 - 0.8)**2*(x1 + 0.2)**(-0.5) + 26*sqrt(x1 + 0.2)*(2*x1 - 1.6) + 3)*exp(-40*(-0.2*x1 - x2 + 0.804984471899924*sqrt(1 - 0.555555555555556*x1)*(x1 - 0.8)**2 + 1.46)*(0.2*x1 + x2 - 0.804984471899924*sqrt(1 - 0.555555555555556*x1)*(x1 - 0.8)**2 - 0.46)**2/(10*(x1 - 0.8)**2 + 1))\n",
      "<lambdifygenerated-530>:2: RuntimeWarning: invalid value encountered in sqrt\n",
      "  return (-40*(-0.2*x1 - x2 + 0.804984471899924*sqrt(1 - 0.555555555555556*x1)*(x1 - 0.8)**2 + 1.46)*(0.4*x1 + 2*x2 - 1.60996894379985*sqrt(1 - 0.555555555555556*x1)*(x1 - 0.8)**2 - 0.92)/(10*(x1 - 0.8)**2 + 1) + 40*(0.2*x1 + x2 - 0.804984471899924*sqrt(1 - 0.555555555555556*x1)*(x1 - 0.8)**2 - 0.46)**2/(10*(x1 - 0.8)**2 + 1))*(3*x1 + 26*(x1 - 0.8)**2*sqrt(x1 + 0.2) - 7.4)*exp(-40*(-0.2*x1 - x2 + 0.804984471899924*sqrt(1 - 0.555555555555556*x1)*(x1 - 0.8)**2 + 1.46)*(0.2*x1 + x2 - 0.804984471899924*sqrt(1 - 0.555555555555556*x1)*(x1 - 0.8)**2 - 0.46)**2/(10*(x1 - 0.8)**2 + 1))\n",
      "<lambdifygenerated-537>:2: RuntimeWarning: invalid value encountered in sqrt\n",
      "  return (3*x1 + 26*(x1 - 0.8)**2*sqrt(x1 + 0.2) - 7.4)*(-40*(16.0 - 20*x1)*(-0.2*x1 - x2 + 0.804984471899924*sqrt(1 - 0.555555555555556*x1)*(x1 - 0.8)**2 + 1.46)*(0.2*x1 + x2 - 0.804984471899924*sqrt(1 - 0.555555555555556*x1)*(x1 - 0.8)**2 - 0.46)**2/(10*(x1 - 0.8)**2 + 1)**2 - 40*(-0.223606797749979*(1 - 0.555555555555556*x1)**(-0.5)*(x1 - 0.8)**2 + 0.804984471899924*sqrt(1 - 0.555555555555556*x1)*(2*x1 - 1.6) - 0.2)*(0.2*x1 + x2 - 0.804984471899924*sqrt(1 - 0.555555555555556*x1)*(x1 - 0.8)**2 - 0.46)**2/(10*(x1 - 0.8)**2 + 1) - 40*(0.447213595499958*(1 - 0.555555555555556*x1)**(-0.5)*(x1 - 0.8)**2 - 1.60996894379985*sqrt(1 - 0.555555555555556*x1)*(2*x1 - 1.6) + 0.4)*(-0.2*x1 - x2 + 0.804984471899924*sqrt(1 - 0.555555555555556*x1)*(x1 - 0.8)**2 + 1.46)*(0.2*x1 + x2 - 0.804984471899924*sqrt(1 - 0.555555555555556*x1)*(x1 - 0.8)**2 - 0.46)/(10*(x1 - 0.8)**2 + 1))*exp(-40*(-0.2*x1 - x2 + 0.804984471899924*sqrt(1 - 0.555555555555556*x1)*(x1 - 0.8)**2 + 1.46)*(0.2*x1 + x2 - 0.804984471899924*sqrt(1 - 0.555555555555556*x1)*(x1 - 0.8)**2 - 0.46)**2/(10*(x1 - 0.8)**2 + 1)) + (13.0*(x1 - 0.8)**2*(x1 + 0.2)**(-0.5) + 26*sqrt(x1 + 0.2)*(2*x1 - 1.6) + 3)*exp(-40*(-0.2*x1 - x2 + 0.804984471899924*sqrt(1 - 0.555555555555556*x1)*(x1 - 0.8)**2 + 1.46)*(0.2*x1 + x2 - 0.804984471899924*sqrt(1 - 0.555555555555556*x1)*(x1 - 0.8)**2 - 0.46)**2/(10*(x1 - 0.8)**2 + 1))\n",
      "<lambdifygenerated-537>:2: RuntimeWarning: invalid value encountered in double_scalars\n",
      "  return (3*x1 + 26*(x1 - 0.8)**2*sqrt(x1 + 0.2) - 7.4)*(-40*(16.0 - 20*x1)*(-0.2*x1 - x2 + 0.804984471899924*sqrt(1 - 0.555555555555556*x1)*(x1 - 0.8)**2 + 1.46)*(0.2*x1 + x2 - 0.804984471899924*sqrt(1 - 0.555555555555556*x1)*(x1 - 0.8)**2 - 0.46)**2/(10*(x1 - 0.8)**2 + 1)**2 - 40*(-0.223606797749979*(1 - 0.555555555555556*x1)**(-0.5)*(x1 - 0.8)**2 + 0.804984471899924*sqrt(1 - 0.555555555555556*x1)*(2*x1 - 1.6) - 0.2)*(0.2*x1 + x2 - 0.804984471899924*sqrt(1 - 0.555555555555556*x1)*(x1 - 0.8)**2 - 0.46)**2/(10*(x1 - 0.8)**2 + 1) - 40*(0.447213595499958*(1 - 0.555555555555556*x1)**(-0.5)*(x1 - 0.8)**2 - 1.60996894379985*sqrt(1 - 0.555555555555556*x1)*(2*x1 - 1.6) + 0.4)*(-0.2*x1 - x2 + 0.804984471899924*sqrt(1 - 0.555555555555556*x1)*(x1 - 0.8)**2 + 1.46)*(0.2*x1 + x2 - 0.804984471899924*sqrt(1 - 0.555555555555556*x1)*(x1 - 0.8)**2 - 0.46)/(10*(x1 - 0.8)**2 + 1))*exp(-40*(-0.2*x1 - x2 + 0.804984471899924*sqrt(1 - 0.555555555555556*x1)*(x1 - 0.8)**2 + 1.46)*(0.2*x1 + x2 - 0.804984471899924*sqrt(1 - 0.555555555555556*x1)*(x1 - 0.8)**2 - 0.46)**2/(10*(x1 - 0.8)**2 + 1)) + (13.0*(x1 - 0.8)**2*(x1 + 0.2)**(-0.5) + 26*sqrt(x1 + 0.2)*(2*x1 - 1.6) + 3)*exp(-40*(-0.2*x1 - x2 + 0.804984471899924*sqrt(1 - 0.555555555555556*x1)*(x1 - 0.8)**2 + 1.46)*(0.2*x1 + x2 - 0.804984471899924*sqrt(1 - 0.555555555555556*x1)*(x1 - 0.8)**2 - 0.46)**2/(10*(x1 - 0.8)**2 + 1))\n",
      "<lambdifygenerated-538>:2: RuntimeWarning: invalid value encountered in sqrt\n",
      "  return (-40*(-0.2*x1 - x2 + 0.804984471899924*sqrt(1 - 0.555555555555556*x1)*(x1 - 0.8)**2 + 1.46)*(0.4*x1 + 2*x2 - 1.60996894379985*sqrt(1 - 0.555555555555556*x1)*(x1 - 0.8)**2 - 0.92)/(10*(x1 - 0.8)**2 + 1) + 40*(0.2*x1 + x2 - 0.804984471899924*sqrt(1 - 0.555555555555556*x1)*(x1 - 0.8)**2 - 0.46)**2/(10*(x1 - 0.8)**2 + 1))*(3*x1 + 26*(x1 - 0.8)**2*sqrt(x1 + 0.2) - 7.4)*exp(-40*(-0.2*x1 - x2 + 0.804984471899924*sqrt(1 - 0.555555555555556*x1)*(x1 - 0.8)**2 + 1.46)*(0.2*x1 + x2 - 0.804984471899924*sqrt(1 - 0.555555555555556*x1)*(x1 - 0.8)**2 - 0.46)**2/(10*(x1 - 0.8)**2 + 1))\n",
      "<lambdifygenerated-539>:2: RuntimeWarning: invalid value encountered in sqrt\n",
      "  return (3*x1 + 26*(x1 - 0.8)**2*sqrt(x1 + 0.2) - 7.4)*(-40*(16.0 - 20*x1)*(-0.2*x1 - x2 + 0.804984471899924*sqrt(1 - 0.555555555555556*x1)*(x1 - 0.8)**2 + 1.46)*(0.2*x1 + x2 - 0.804984471899924*sqrt(1 - 0.555555555555556*x1)*(x1 - 0.8)**2 - 0.46)**2/(10*(x1 - 0.8)**2 + 1)**2 - 40*(-0.223606797749979*(1 - 0.555555555555556*x1)**(-0.5)*(x1 - 0.8)**2 + 0.804984471899924*sqrt(1 - 0.555555555555556*x1)*(2*x1 - 1.6) - 0.2)*(0.2*x1 + x2 - 0.804984471899924*sqrt(1 - 0.555555555555556*x1)*(x1 - 0.8)**2 - 0.46)**2/(10*(x1 - 0.8)**2 + 1) - 40*(0.447213595499958*(1 - 0.555555555555556*x1)**(-0.5)*(x1 - 0.8)**2 - 1.60996894379985*sqrt(1 - 0.555555555555556*x1)*(2*x1 - 1.6) + 0.4)*(-0.2*x1 - x2 + 0.804984471899924*sqrt(1 - 0.555555555555556*x1)*(x1 - 0.8)**2 + 1.46)*(0.2*x1 + x2 - 0.804984471899924*sqrt(1 - 0.555555555555556*x1)*(x1 - 0.8)**2 - 0.46)/(10*(x1 - 0.8)**2 + 1))*exp(-40*(-0.2*x1 - x2 + 0.804984471899924*sqrt(1 - 0.555555555555556*x1)*(x1 - 0.8)**2 + 1.46)*(0.2*x1 + x2 - 0.804984471899924*sqrt(1 - 0.555555555555556*x1)*(x1 - 0.8)**2 - 0.46)**2/(10*(x1 - 0.8)**2 + 1)) + (13.0*(x1 - 0.8)**2*(x1 + 0.2)**(-0.5) + 26*sqrt(x1 + 0.2)*(2*x1 - 1.6) + 3)*exp(-40*(-0.2*x1 - x2 + 0.804984471899924*sqrt(1 - 0.555555555555556*x1)*(x1 - 0.8)**2 + 1.46)*(0.2*x1 + x2 - 0.804984471899924*sqrt(1 - 0.555555555555556*x1)*(x1 - 0.8)**2 - 0.46)**2/(10*(x1 - 0.8)**2 + 1))\n",
      "<lambdifygenerated-539>:2: RuntimeWarning: invalid value encountered in double_scalars\n",
      "  return (3*x1 + 26*(x1 - 0.8)**2*sqrt(x1 + 0.2) - 7.4)*(-40*(16.0 - 20*x1)*(-0.2*x1 - x2 + 0.804984471899924*sqrt(1 - 0.555555555555556*x1)*(x1 - 0.8)**2 + 1.46)*(0.2*x1 + x2 - 0.804984471899924*sqrt(1 - 0.555555555555556*x1)*(x1 - 0.8)**2 - 0.46)**2/(10*(x1 - 0.8)**2 + 1)**2 - 40*(-0.223606797749979*(1 - 0.555555555555556*x1)**(-0.5)*(x1 - 0.8)**2 + 0.804984471899924*sqrt(1 - 0.555555555555556*x1)*(2*x1 - 1.6) - 0.2)*(0.2*x1 + x2 - 0.804984471899924*sqrt(1 - 0.555555555555556*x1)*(x1 - 0.8)**2 - 0.46)**2/(10*(x1 - 0.8)**2 + 1) - 40*(0.447213595499958*(1 - 0.555555555555556*x1)**(-0.5)*(x1 - 0.8)**2 - 1.60996894379985*sqrt(1 - 0.555555555555556*x1)*(2*x1 - 1.6) + 0.4)*(-0.2*x1 - x2 + 0.804984471899924*sqrt(1 - 0.555555555555556*x1)*(x1 - 0.8)**2 + 1.46)*(0.2*x1 + x2 - 0.804984471899924*sqrt(1 - 0.555555555555556*x1)*(x1 - 0.8)**2 - 0.46)/(10*(x1 - 0.8)**2 + 1))*exp(-40*(-0.2*x1 - x2 + 0.804984471899924*sqrt(1 - 0.555555555555556*x1)*(x1 - 0.8)**2 + 1.46)*(0.2*x1 + x2 - 0.804984471899924*sqrt(1 - 0.555555555555556*x1)*(x1 - 0.8)**2 - 0.46)**2/(10*(x1 - 0.8)**2 + 1)) + (13.0*(x1 - 0.8)**2*(x1 + 0.2)**(-0.5) + 26*sqrt(x1 + 0.2)*(2*x1 - 1.6) + 3)*exp(-40*(-0.2*x1 - x2 + 0.804984471899924*sqrt(1 - 0.555555555555556*x1)*(x1 - 0.8)**2 + 1.46)*(0.2*x1 + x2 - 0.804984471899924*sqrt(1 - 0.555555555555556*x1)*(x1 - 0.8)**2 - 0.46)**2/(10*(x1 - 0.8)**2 + 1))\n",
      "<lambdifygenerated-540>:2: RuntimeWarning: invalid value encountered in sqrt\n",
      "  return (-40*(-0.2*x1 - x2 + 0.804984471899924*sqrt(1 - 0.555555555555556*x1)*(x1 - 0.8)**2 + 1.46)*(0.4*x1 + 2*x2 - 1.60996894379985*sqrt(1 - 0.555555555555556*x1)*(x1 - 0.8)**2 - 0.92)/(10*(x1 - 0.8)**2 + 1) + 40*(0.2*x1 + x2 - 0.804984471899924*sqrt(1 - 0.555555555555556*x1)*(x1 - 0.8)**2 - 0.46)**2/(10*(x1 - 0.8)**2 + 1))*(3*x1 + 26*(x1 - 0.8)**2*sqrt(x1 + 0.2) - 7.4)*exp(-40*(-0.2*x1 - x2 + 0.804984471899924*sqrt(1 - 0.555555555555556*x1)*(x1 - 0.8)**2 + 1.46)*(0.2*x1 + x2 - 0.804984471899924*sqrt(1 - 0.555555555555556*x1)*(x1 - 0.8)**2 - 0.46)**2/(10*(x1 - 0.8)**2 + 1))\n"
     ]
    },
    {
     "name": "stderr",
     "output_type": "stream",
     "text": [
      "<lambdifygenerated-545>:2: RuntimeWarning: invalid value encountered in sqrt\n",
      "  return (3*x1 + 26*(x1 - 0.8)**2*sqrt(x1 + 0.2) - 7.4)*(-40*(16.0 - 20*x1)*(-0.2*x1 - x2 + 0.804984471899924*sqrt(1 - 0.555555555555556*x1)*(x1 - 0.8)**2 + 1.46)*(0.2*x1 + x2 - 0.804984471899924*sqrt(1 - 0.555555555555556*x1)*(x1 - 0.8)**2 - 0.46)**2/(10*(x1 - 0.8)**2 + 1)**2 - 40*(-0.223606797749979*(1 - 0.555555555555556*x1)**(-0.5)*(x1 - 0.8)**2 + 0.804984471899924*sqrt(1 - 0.555555555555556*x1)*(2*x1 - 1.6) - 0.2)*(0.2*x1 + x2 - 0.804984471899924*sqrt(1 - 0.555555555555556*x1)*(x1 - 0.8)**2 - 0.46)**2/(10*(x1 - 0.8)**2 + 1) - 40*(0.447213595499958*(1 - 0.555555555555556*x1)**(-0.5)*(x1 - 0.8)**2 - 1.60996894379985*sqrt(1 - 0.555555555555556*x1)*(2*x1 - 1.6) + 0.4)*(-0.2*x1 - x2 + 0.804984471899924*sqrt(1 - 0.555555555555556*x1)*(x1 - 0.8)**2 + 1.46)*(0.2*x1 + x2 - 0.804984471899924*sqrt(1 - 0.555555555555556*x1)*(x1 - 0.8)**2 - 0.46)/(10*(x1 - 0.8)**2 + 1))*exp(-40*(-0.2*x1 - x2 + 0.804984471899924*sqrt(1 - 0.555555555555556*x1)*(x1 - 0.8)**2 + 1.46)*(0.2*x1 + x2 - 0.804984471899924*sqrt(1 - 0.555555555555556*x1)*(x1 - 0.8)**2 - 0.46)**2/(10*(x1 - 0.8)**2 + 1)) + (13.0*(x1 - 0.8)**2*(x1 + 0.2)**(-0.5) + 26*sqrt(x1 + 0.2)*(2*x1 - 1.6) + 3)*exp(-40*(-0.2*x1 - x2 + 0.804984471899924*sqrt(1 - 0.555555555555556*x1)*(x1 - 0.8)**2 + 1.46)*(0.2*x1 + x2 - 0.804984471899924*sqrt(1 - 0.555555555555556*x1)*(x1 - 0.8)**2 - 0.46)**2/(10*(x1 - 0.8)**2 + 1))\n",
      "<lambdifygenerated-545>:2: RuntimeWarning: invalid value encountered in double_scalars\n",
      "  return (3*x1 + 26*(x1 - 0.8)**2*sqrt(x1 + 0.2) - 7.4)*(-40*(16.0 - 20*x1)*(-0.2*x1 - x2 + 0.804984471899924*sqrt(1 - 0.555555555555556*x1)*(x1 - 0.8)**2 + 1.46)*(0.2*x1 + x2 - 0.804984471899924*sqrt(1 - 0.555555555555556*x1)*(x1 - 0.8)**2 - 0.46)**2/(10*(x1 - 0.8)**2 + 1)**2 - 40*(-0.223606797749979*(1 - 0.555555555555556*x1)**(-0.5)*(x1 - 0.8)**2 + 0.804984471899924*sqrt(1 - 0.555555555555556*x1)*(2*x1 - 1.6) - 0.2)*(0.2*x1 + x2 - 0.804984471899924*sqrt(1 - 0.555555555555556*x1)*(x1 - 0.8)**2 - 0.46)**2/(10*(x1 - 0.8)**2 + 1) - 40*(0.447213595499958*(1 - 0.555555555555556*x1)**(-0.5)*(x1 - 0.8)**2 - 1.60996894379985*sqrt(1 - 0.555555555555556*x1)*(2*x1 - 1.6) + 0.4)*(-0.2*x1 - x2 + 0.804984471899924*sqrt(1 - 0.555555555555556*x1)*(x1 - 0.8)**2 + 1.46)*(0.2*x1 + x2 - 0.804984471899924*sqrt(1 - 0.555555555555556*x1)*(x1 - 0.8)**2 - 0.46)/(10*(x1 - 0.8)**2 + 1))*exp(-40*(-0.2*x1 - x2 + 0.804984471899924*sqrt(1 - 0.555555555555556*x1)*(x1 - 0.8)**2 + 1.46)*(0.2*x1 + x2 - 0.804984471899924*sqrt(1 - 0.555555555555556*x1)*(x1 - 0.8)**2 - 0.46)**2/(10*(x1 - 0.8)**2 + 1)) + (13.0*(x1 - 0.8)**2*(x1 + 0.2)**(-0.5) + 26*sqrt(x1 + 0.2)*(2*x1 - 1.6) + 3)*exp(-40*(-0.2*x1 - x2 + 0.804984471899924*sqrt(1 - 0.555555555555556*x1)*(x1 - 0.8)**2 + 1.46)*(0.2*x1 + x2 - 0.804984471899924*sqrt(1 - 0.555555555555556*x1)*(x1 - 0.8)**2 - 0.46)**2/(10*(x1 - 0.8)**2 + 1))\n",
      "<lambdifygenerated-546>:2: RuntimeWarning: invalid value encountered in sqrt\n",
      "  return (-40*(-0.2*x1 - x2 + 0.804984471899924*sqrt(1 - 0.555555555555556*x1)*(x1 - 0.8)**2 + 1.46)*(0.4*x1 + 2*x2 - 1.60996894379985*sqrt(1 - 0.555555555555556*x1)*(x1 - 0.8)**2 - 0.92)/(10*(x1 - 0.8)**2 + 1) + 40*(0.2*x1 + x2 - 0.804984471899924*sqrt(1 - 0.555555555555556*x1)*(x1 - 0.8)**2 - 0.46)**2/(10*(x1 - 0.8)**2 + 1))*(3*x1 + 26*(x1 - 0.8)**2*sqrt(x1 + 0.2) - 7.4)*exp(-40*(-0.2*x1 - x2 + 0.804984471899924*sqrt(1 - 0.555555555555556*x1)*(x1 - 0.8)**2 + 1.46)*(0.2*x1 + x2 - 0.804984471899924*sqrt(1 - 0.555555555555556*x1)*(x1 - 0.8)**2 - 0.46)**2/(10*(x1 - 0.8)**2 + 1))\n",
      "<lambdifygenerated-547>:2: RuntimeWarning: invalid value encountered in sqrt\n",
      "  return (3*x1 + 26*(x1 - 0.8)**2*sqrt(x1 + 0.2) - 7.4)*(-40*(16.0 - 20*x1)*(-0.2*x1 - x2 + 0.804984471899924*sqrt(1 - 0.555555555555556*x1)*(x1 - 0.8)**2 + 1.46)*(0.2*x1 + x2 - 0.804984471899924*sqrt(1 - 0.555555555555556*x1)*(x1 - 0.8)**2 - 0.46)**2/(10*(x1 - 0.8)**2 + 1)**2 - 40*(-0.223606797749979*(1 - 0.555555555555556*x1)**(-0.5)*(x1 - 0.8)**2 + 0.804984471899924*sqrt(1 - 0.555555555555556*x1)*(2*x1 - 1.6) - 0.2)*(0.2*x1 + x2 - 0.804984471899924*sqrt(1 - 0.555555555555556*x1)*(x1 - 0.8)**2 - 0.46)**2/(10*(x1 - 0.8)**2 + 1) - 40*(0.447213595499958*(1 - 0.555555555555556*x1)**(-0.5)*(x1 - 0.8)**2 - 1.60996894379985*sqrt(1 - 0.555555555555556*x1)*(2*x1 - 1.6) + 0.4)*(-0.2*x1 - x2 + 0.804984471899924*sqrt(1 - 0.555555555555556*x1)*(x1 - 0.8)**2 + 1.46)*(0.2*x1 + x2 - 0.804984471899924*sqrt(1 - 0.555555555555556*x1)*(x1 - 0.8)**2 - 0.46)/(10*(x1 - 0.8)**2 + 1))*exp(-40*(-0.2*x1 - x2 + 0.804984471899924*sqrt(1 - 0.555555555555556*x1)*(x1 - 0.8)**2 + 1.46)*(0.2*x1 + x2 - 0.804984471899924*sqrt(1 - 0.555555555555556*x1)*(x1 - 0.8)**2 - 0.46)**2/(10*(x1 - 0.8)**2 + 1)) + (13.0*(x1 - 0.8)**2*(x1 + 0.2)**(-0.5) + 26*sqrt(x1 + 0.2)*(2*x1 - 1.6) + 3)*exp(-40*(-0.2*x1 - x2 + 0.804984471899924*sqrt(1 - 0.555555555555556*x1)*(x1 - 0.8)**2 + 1.46)*(0.2*x1 + x2 - 0.804984471899924*sqrt(1 - 0.555555555555556*x1)*(x1 - 0.8)**2 - 0.46)**2/(10*(x1 - 0.8)**2 + 1))\n",
      "<lambdifygenerated-547>:2: RuntimeWarning: invalid value encountered in double_scalars\n",
      "  return (3*x1 + 26*(x1 - 0.8)**2*sqrt(x1 + 0.2) - 7.4)*(-40*(16.0 - 20*x1)*(-0.2*x1 - x2 + 0.804984471899924*sqrt(1 - 0.555555555555556*x1)*(x1 - 0.8)**2 + 1.46)*(0.2*x1 + x2 - 0.804984471899924*sqrt(1 - 0.555555555555556*x1)*(x1 - 0.8)**2 - 0.46)**2/(10*(x1 - 0.8)**2 + 1)**2 - 40*(-0.223606797749979*(1 - 0.555555555555556*x1)**(-0.5)*(x1 - 0.8)**2 + 0.804984471899924*sqrt(1 - 0.555555555555556*x1)*(2*x1 - 1.6) - 0.2)*(0.2*x1 + x2 - 0.804984471899924*sqrt(1 - 0.555555555555556*x1)*(x1 - 0.8)**2 - 0.46)**2/(10*(x1 - 0.8)**2 + 1) - 40*(0.447213595499958*(1 - 0.555555555555556*x1)**(-0.5)*(x1 - 0.8)**2 - 1.60996894379985*sqrt(1 - 0.555555555555556*x1)*(2*x1 - 1.6) + 0.4)*(-0.2*x1 - x2 + 0.804984471899924*sqrt(1 - 0.555555555555556*x1)*(x1 - 0.8)**2 + 1.46)*(0.2*x1 + x2 - 0.804984471899924*sqrt(1 - 0.555555555555556*x1)*(x1 - 0.8)**2 - 0.46)/(10*(x1 - 0.8)**2 + 1))*exp(-40*(-0.2*x1 - x2 + 0.804984471899924*sqrt(1 - 0.555555555555556*x1)*(x1 - 0.8)**2 + 1.46)*(0.2*x1 + x2 - 0.804984471899924*sqrt(1 - 0.555555555555556*x1)*(x1 - 0.8)**2 - 0.46)**2/(10*(x1 - 0.8)**2 + 1)) + (13.0*(x1 - 0.8)**2*(x1 + 0.2)**(-0.5) + 26*sqrt(x1 + 0.2)*(2*x1 - 1.6) + 3)*exp(-40*(-0.2*x1 - x2 + 0.804984471899924*sqrt(1 - 0.555555555555556*x1)*(x1 - 0.8)**2 + 1.46)*(0.2*x1 + x2 - 0.804984471899924*sqrt(1 - 0.555555555555556*x1)*(x1 - 0.8)**2 - 0.46)**2/(10*(x1 - 0.8)**2 + 1))\n",
      "<lambdifygenerated-548>:2: RuntimeWarning: invalid value encountered in sqrt\n",
      "  return (-40*(-0.2*x1 - x2 + 0.804984471899924*sqrt(1 - 0.555555555555556*x1)*(x1 - 0.8)**2 + 1.46)*(0.4*x1 + 2*x2 - 1.60996894379985*sqrt(1 - 0.555555555555556*x1)*(x1 - 0.8)**2 - 0.92)/(10*(x1 - 0.8)**2 + 1) + 40*(0.2*x1 + x2 - 0.804984471899924*sqrt(1 - 0.555555555555556*x1)*(x1 - 0.8)**2 - 0.46)**2/(10*(x1 - 0.8)**2 + 1))*(3*x1 + 26*(x1 - 0.8)**2*sqrt(x1 + 0.2) - 7.4)*exp(-40*(-0.2*x1 - x2 + 0.804984471899924*sqrt(1 - 0.555555555555556*x1)*(x1 - 0.8)**2 + 1.46)*(0.2*x1 + x2 - 0.804984471899924*sqrt(1 - 0.555555555555556*x1)*(x1 - 0.8)**2 - 0.46)**2/(10*(x1 - 0.8)**2 + 1))\n",
      "<lambdifygenerated-549>:2: RuntimeWarning: overflow encountered in exp\n",
      "  return (3*x1 + 26*(x1 - 0.8)**2*sqrt(x1 + 0.2) - 7.4)*(-40*(16.0 - 20*x1)*(-0.2*x1 - x2 + 0.804984471899924*sqrt(1 - 0.555555555555556*x1)*(x1 - 0.8)**2 + 1.46)*(0.2*x1 + x2 - 0.804984471899924*sqrt(1 - 0.555555555555556*x1)*(x1 - 0.8)**2 - 0.46)**2/(10*(x1 - 0.8)**2 + 1)**2 - 40*(-0.223606797749979*(1 - 0.555555555555556*x1)**(-0.5)*(x1 - 0.8)**2 + 0.804984471899924*sqrt(1 - 0.555555555555556*x1)*(2*x1 - 1.6) - 0.2)*(0.2*x1 + x2 - 0.804984471899924*sqrt(1 - 0.555555555555556*x1)*(x1 - 0.8)**2 - 0.46)**2/(10*(x1 - 0.8)**2 + 1) - 40*(0.447213595499958*(1 - 0.555555555555556*x1)**(-0.5)*(x1 - 0.8)**2 - 1.60996894379985*sqrt(1 - 0.555555555555556*x1)*(2*x1 - 1.6) + 0.4)*(-0.2*x1 - x2 + 0.804984471899924*sqrt(1 - 0.555555555555556*x1)*(x1 - 0.8)**2 + 1.46)*(0.2*x1 + x2 - 0.804984471899924*sqrt(1 - 0.555555555555556*x1)*(x1 - 0.8)**2 - 0.46)/(10*(x1 - 0.8)**2 + 1))*exp(-40*(-0.2*x1 - x2 + 0.804984471899924*sqrt(1 - 0.555555555555556*x1)*(x1 - 0.8)**2 + 1.46)*(0.2*x1 + x2 - 0.804984471899924*sqrt(1 - 0.555555555555556*x1)*(x1 - 0.8)**2 - 0.46)**2/(10*(x1 - 0.8)**2 + 1)) + (13.0*(x1 - 0.8)**2*(x1 + 0.2)**(-0.5) + 26*sqrt(x1 + 0.2)*(2*x1 - 1.6) + 3)*exp(-40*(-0.2*x1 - x2 + 0.804984471899924*sqrt(1 - 0.555555555555556*x1)*(x1 - 0.8)**2 + 1.46)*(0.2*x1 + x2 - 0.804984471899924*sqrt(1 - 0.555555555555556*x1)*(x1 - 0.8)**2 - 0.46)**2/(10*(x1 - 0.8)**2 + 1))\n",
      "<lambdifygenerated-550>:2: RuntimeWarning: overflow encountered in exp\n",
      "  return (-40*(-0.2*x1 - x2 + 0.804984471899924*sqrt(1 - 0.555555555555556*x1)*(x1 - 0.8)**2 + 1.46)*(0.4*x1 + 2*x2 - 1.60996894379985*sqrt(1 - 0.555555555555556*x1)*(x1 - 0.8)**2 - 0.92)/(10*(x1 - 0.8)**2 + 1) + 40*(0.2*x1 + x2 - 0.804984471899924*sqrt(1 - 0.555555555555556*x1)*(x1 - 0.8)**2 - 0.46)**2/(10*(x1 - 0.8)**2 + 1))*(3*x1 + 26*(x1 - 0.8)**2*sqrt(x1 + 0.2) - 7.4)*exp(-40*(-0.2*x1 - x2 + 0.804984471899924*sqrt(1 - 0.555555555555556*x1)*(x1 - 0.8)**2 + 1.46)*(0.2*x1 + x2 - 0.804984471899924*sqrt(1 - 0.555555555555556*x1)*(x1 - 0.8)**2 - 0.46)**2/(10*(x1 - 0.8)**2 + 1))\n",
      "<lambdifygenerated-553>:2: RuntimeWarning: invalid value encountered in sqrt\n",
      "  return (3*x1 + 26*(x1 - 0.8)**2*sqrt(x1 + 0.2) - 7.4)*(-40*(16.0 - 20*x1)*(-0.2*x1 - x2 + 0.804984471899924*sqrt(1 - 0.555555555555556*x1)*(x1 - 0.8)**2 + 1.46)*(0.2*x1 + x2 - 0.804984471899924*sqrt(1 - 0.555555555555556*x1)*(x1 - 0.8)**2 - 0.46)**2/(10*(x1 - 0.8)**2 + 1)**2 - 40*(-0.223606797749979*(1 - 0.555555555555556*x1)**(-0.5)*(x1 - 0.8)**2 + 0.804984471899924*sqrt(1 - 0.555555555555556*x1)*(2*x1 - 1.6) - 0.2)*(0.2*x1 + x2 - 0.804984471899924*sqrt(1 - 0.555555555555556*x1)*(x1 - 0.8)**2 - 0.46)**2/(10*(x1 - 0.8)**2 + 1) - 40*(0.447213595499958*(1 - 0.555555555555556*x1)**(-0.5)*(x1 - 0.8)**2 - 1.60996894379985*sqrt(1 - 0.555555555555556*x1)*(2*x1 - 1.6) + 0.4)*(-0.2*x1 - x2 + 0.804984471899924*sqrt(1 - 0.555555555555556*x1)*(x1 - 0.8)**2 + 1.46)*(0.2*x1 + x2 - 0.804984471899924*sqrt(1 - 0.555555555555556*x1)*(x1 - 0.8)**2 - 0.46)/(10*(x1 - 0.8)**2 + 1))*exp(-40*(-0.2*x1 - x2 + 0.804984471899924*sqrt(1 - 0.555555555555556*x1)*(x1 - 0.8)**2 + 1.46)*(0.2*x1 + x2 - 0.804984471899924*sqrt(1 - 0.555555555555556*x1)*(x1 - 0.8)**2 - 0.46)**2/(10*(x1 - 0.8)**2 + 1)) + (13.0*(x1 - 0.8)**2*(x1 + 0.2)**(-0.5) + 26*sqrt(x1 + 0.2)*(2*x1 - 1.6) + 3)*exp(-40*(-0.2*x1 - x2 + 0.804984471899924*sqrt(1 - 0.555555555555556*x1)*(x1 - 0.8)**2 + 1.46)*(0.2*x1 + x2 - 0.804984471899924*sqrt(1 - 0.555555555555556*x1)*(x1 - 0.8)**2 - 0.46)**2/(10*(x1 - 0.8)**2 + 1))\n",
      "<lambdifygenerated-553>:2: RuntimeWarning: invalid value encountered in double_scalars\n",
      "  return (3*x1 + 26*(x1 - 0.8)**2*sqrt(x1 + 0.2) - 7.4)*(-40*(16.0 - 20*x1)*(-0.2*x1 - x2 + 0.804984471899924*sqrt(1 - 0.555555555555556*x1)*(x1 - 0.8)**2 + 1.46)*(0.2*x1 + x2 - 0.804984471899924*sqrt(1 - 0.555555555555556*x1)*(x1 - 0.8)**2 - 0.46)**2/(10*(x1 - 0.8)**2 + 1)**2 - 40*(-0.223606797749979*(1 - 0.555555555555556*x1)**(-0.5)*(x1 - 0.8)**2 + 0.804984471899924*sqrt(1 - 0.555555555555556*x1)*(2*x1 - 1.6) - 0.2)*(0.2*x1 + x2 - 0.804984471899924*sqrt(1 - 0.555555555555556*x1)*(x1 - 0.8)**2 - 0.46)**2/(10*(x1 - 0.8)**2 + 1) - 40*(0.447213595499958*(1 - 0.555555555555556*x1)**(-0.5)*(x1 - 0.8)**2 - 1.60996894379985*sqrt(1 - 0.555555555555556*x1)*(2*x1 - 1.6) + 0.4)*(-0.2*x1 - x2 + 0.804984471899924*sqrt(1 - 0.555555555555556*x1)*(x1 - 0.8)**2 + 1.46)*(0.2*x1 + x2 - 0.804984471899924*sqrt(1 - 0.555555555555556*x1)*(x1 - 0.8)**2 - 0.46)/(10*(x1 - 0.8)**2 + 1))*exp(-40*(-0.2*x1 - x2 + 0.804984471899924*sqrt(1 - 0.555555555555556*x1)*(x1 - 0.8)**2 + 1.46)*(0.2*x1 + x2 - 0.804984471899924*sqrt(1 - 0.555555555555556*x1)*(x1 - 0.8)**2 - 0.46)**2/(10*(x1 - 0.8)**2 + 1)) + (13.0*(x1 - 0.8)**2*(x1 + 0.2)**(-0.5) + 26*sqrt(x1 + 0.2)*(2*x1 - 1.6) + 3)*exp(-40*(-0.2*x1 - x2 + 0.804984471899924*sqrt(1 - 0.555555555555556*x1)*(x1 - 0.8)**2 + 1.46)*(0.2*x1 + x2 - 0.804984471899924*sqrt(1 - 0.555555555555556*x1)*(x1 - 0.8)**2 - 0.46)**2/(10*(x1 - 0.8)**2 + 1))\n",
      "<lambdifygenerated-554>:2: RuntimeWarning: invalid value encountered in sqrt\n",
      "  return (-40*(-0.2*x1 - x2 + 0.804984471899924*sqrt(1 - 0.555555555555556*x1)*(x1 - 0.8)**2 + 1.46)*(0.4*x1 + 2*x2 - 1.60996894379985*sqrt(1 - 0.555555555555556*x1)*(x1 - 0.8)**2 - 0.92)/(10*(x1 - 0.8)**2 + 1) + 40*(0.2*x1 + x2 - 0.804984471899924*sqrt(1 - 0.555555555555556*x1)*(x1 - 0.8)**2 - 0.46)**2/(10*(x1 - 0.8)**2 + 1))*(3*x1 + 26*(x1 - 0.8)**2*sqrt(x1 + 0.2) - 7.4)*exp(-40*(-0.2*x1 - x2 + 0.804984471899924*sqrt(1 - 0.555555555555556*x1)*(x1 - 0.8)**2 + 1.46)*(0.2*x1 + x2 - 0.804984471899924*sqrt(1 - 0.555555555555556*x1)*(x1 - 0.8)**2 - 0.46)**2/(10*(x1 - 0.8)**2 + 1))\n",
      "<lambdifygenerated-555>:2: RuntimeWarning: invalid value encountered in sqrt\n",
      "  return (3*x1 + 26*(x1 - 0.8)**2*sqrt(x1 + 0.2) - 7.4)*(-40*(16.0 - 20*x1)*(-0.2*x1 - x2 + 0.804984471899924*sqrt(1 - 0.555555555555556*x1)*(x1 - 0.8)**2 + 1.46)*(0.2*x1 + x2 - 0.804984471899924*sqrt(1 - 0.555555555555556*x1)*(x1 - 0.8)**2 - 0.46)**2/(10*(x1 - 0.8)**2 + 1)**2 - 40*(-0.223606797749979*(1 - 0.555555555555556*x1)**(-0.5)*(x1 - 0.8)**2 + 0.804984471899924*sqrt(1 - 0.555555555555556*x1)*(2*x1 - 1.6) - 0.2)*(0.2*x1 + x2 - 0.804984471899924*sqrt(1 - 0.555555555555556*x1)*(x1 - 0.8)**2 - 0.46)**2/(10*(x1 - 0.8)**2 + 1) - 40*(0.447213595499958*(1 - 0.555555555555556*x1)**(-0.5)*(x1 - 0.8)**2 - 1.60996894379985*sqrt(1 - 0.555555555555556*x1)*(2*x1 - 1.6) + 0.4)*(-0.2*x1 - x2 + 0.804984471899924*sqrt(1 - 0.555555555555556*x1)*(x1 - 0.8)**2 + 1.46)*(0.2*x1 + x2 - 0.804984471899924*sqrt(1 - 0.555555555555556*x1)*(x1 - 0.8)**2 - 0.46)/(10*(x1 - 0.8)**2 + 1))*exp(-40*(-0.2*x1 - x2 + 0.804984471899924*sqrt(1 - 0.555555555555556*x1)*(x1 - 0.8)**2 + 1.46)*(0.2*x1 + x2 - 0.804984471899924*sqrt(1 - 0.555555555555556*x1)*(x1 - 0.8)**2 - 0.46)**2/(10*(x1 - 0.8)**2 + 1)) + (13.0*(x1 - 0.8)**2*(x1 + 0.2)**(-0.5) + 26*sqrt(x1 + 0.2)*(2*x1 - 1.6) + 3)*exp(-40*(-0.2*x1 - x2 + 0.804984471899924*sqrt(1 - 0.555555555555556*x1)*(x1 - 0.8)**2 + 1.46)*(0.2*x1 + x2 - 0.804984471899924*sqrt(1 - 0.555555555555556*x1)*(x1 - 0.8)**2 - 0.46)**2/(10*(x1 - 0.8)**2 + 1))\n",
      "<lambdifygenerated-555>:2: RuntimeWarning: invalid value encountered in double_scalars\n",
      "  return (3*x1 + 26*(x1 - 0.8)**2*sqrt(x1 + 0.2) - 7.4)*(-40*(16.0 - 20*x1)*(-0.2*x1 - x2 + 0.804984471899924*sqrt(1 - 0.555555555555556*x1)*(x1 - 0.8)**2 + 1.46)*(0.2*x1 + x2 - 0.804984471899924*sqrt(1 - 0.555555555555556*x1)*(x1 - 0.8)**2 - 0.46)**2/(10*(x1 - 0.8)**2 + 1)**2 - 40*(-0.223606797749979*(1 - 0.555555555555556*x1)**(-0.5)*(x1 - 0.8)**2 + 0.804984471899924*sqrt(1 - 0.555555555555556*x1)*(2*x1 - 1.6) - 0.2)*(0.2*x1 + x2 - 0.804984471899924*sqrt(1 - 0.555555555555556*x1)*(x1 - 0.8)**2 - 0.46)**2/(10*(x1 - 0.8)**2 + 1) - 40*(0.447213595499958*(1 - 0.555555555555556*x1)**(-0.5)*(x1 - 0.8)**2 - 1.60996894379985*sqrt(1 - 0.555555555555556*x1)*(2*x1 - 1.6) + 0.4)*(-0.2*x1 - x2 + 0.804984471899924*sqrt(1 - 0.555555555555556*x1)*(x1 - 0.8)**2 + 1.46)*(0.2*x1 + x2 - 0.804984471899924*sqrt(1 - 0.555555555555556*x1)*(x1 - 0.8)**2 - 0.46)/(10*(x1 - 0.8)**2 + 1))*exp(-40*(-0.2*x1 - x2 + 0.804984471899924*sqrt(1 - 0.555555555555556*x1)*(x1 - 0.8)**2 + 1.46)*(0.2*x1 + x2 - 0.804984471899924*sqrt(1 - 0.555555555555556*x1)*(x1 - 0.8)**2 - 0.46)**2/(10*(x1 - 0.8)**2 + 1)) + (13.0*(x1 - 0.8)**2*(x1 + 0.2)**(-0.5) + 26*sqrt(x1 + 0.2)*(2*x1 - 1.6) + 3)*exp(-40*(-0.2*x1 - x2 + 0.804984471899924*sqrt(1 - 0.555555555555556*x1)*(x1 - 0.8)**2 + 1.46)*(0.2*x1 + x2 - 0.804984471899924*sqrt(1 - 0.555555555555556*x1)*(x1 - 0.8)**2 - 0.46)**2/(10*(x1 - 0.8)**2 + 1))\n",
      "<lambdifygenerated-556>:2: RuntimeWarning: invalid value encountered in sqrt\n",
      "  return (-40*(-0.2*x1 - x2 + 0.804984471899924*sqrt(1 - 0.555555555555556*x1)*(x1 - 0.8)**2 + 1.46)*(0.4*x1 + 2*x2 - 1.60996894379985*sqrt(1 - 0.555555555555556*x1)*(x1 - 0.8)**2 - 0.92)/(10*(x1 - 0.8)**2 + 1) + 40*(0.2*x1 + x2 - 0.804984471899924*sqrt(1 - 0.555555555555556*x1)*(x1 - 0.8)**2 - 0.46)**2/(10*(x1 - 0.8)**2 + 1))*(3*x1 + 26*(x1 - 0.8)**2*sqrt(x1 + 0.2) - 7.4)*exp(-40*(-0.2*x1 - x2 + 0.804984471899924*sqrt(1 - 0.555555555555556*x1)*(x1 - 0.8)**2 + 1.46)*(0.2*x1 + x2 - 0.804984471899924*sqrt(1 - 0.555555555555556*x1)*(x1 - 0.8)**2 - 0.46)**2/(10*(x1 - 0.8)**2 + 1))\n"
     ]
    },
    {
     "name": "stdout",
     "output_type": "stream",
     "text": [
      "lowest error eps2: 1.778279410038923e-06\n",
      "lowest error: 2.0766496025553228e-09\n"
     ]
    },
    {
     "name": "stderr",
     "output_type": "stream",
     "text": [
      "<lambdifygenerated-557>:2: RuntimeWarning: overflow encountered in exp\n",
      "  return (3*x1 + 26*(x1 - 0.8)**2*sqrt(x1 + 0.2) - 7.4)*(-40*(16.0 - 20*x1)*(-0.2*x1 - x2 + 0.804984471899924*sqrt(1 - 0.555555555555556*x1)*(x1 - 0.8)**2 + 1.46)*(0.2*x1 + x2 - 0.804984471899924*sqrt(1 - 0.555555555555556*x1)*(x1 - 0.8)**2 - 0.46)**2/(10*(x1 - 0.8)**2 + 1)**2 - 40*(-0.223606797749979*(1 - 0.555555555555556*x1)**(-0.5)*(x1 - 0.8)**2 + 0.804984471899924*sqrt(1 - 0.555555555555556*x1)*(2*x1 - 1.6) - 0.2)*(0.2*x1 + x2 - 0.804984471899924*sqrt(1 - 0.555555555555556*x1)*(x1 - 0.8)**2 - 0.46)**2/(10*(x1 - 0.8)**2 + 1) - 40*(0.447213595499958*(1 - 0.555555555555556*x1)**(-0.5)*(x1 - 0.8)**2 - 1.60996894379985*sqrt(1 - 0.555555555555556*x1)*(2*x1 - 1.6) + 0.4)*(-0.2*x1 - x2 + 0.804984471899924*sqrt(1 - 0.555555555555556*x1)*(x1 - 0.8)**2 + 1.46)*(0.2*x1 + x2 - 0.804984471899924*sqrt(1 - 0.555555555555556*x1)*(x1 - 0.8)**2 - 0.46)/(10*(x1 - 0.8)**2 + 1))*exp(-40*(-0.2*x1 - x2 + 0.804984471899924*sqrt(1 - 0.555555555555556*x1)*(x1 - 0.8)**2 + 1.46)*(0.2*x1 + x2 - 0.804984471899924*sqrt(1 - 0.555555555555556*x1)*(x1 - 0.8)**2 - 0.46)**2/(10*(x1 - 0.8)**2 + 1)) + (13.0*(x1 - 0.8)**2*(x1 + 0.2)**(-0.5) + 26*sqrt(x1 + 0.2)*(2*x1 - 1.6) + 3)*exp(-40*(-0.2*x1 - x2 + 0.804984471899924*sqrt(1 - 0.555555555555556*x1)*(x1 - 0.8)**2 + 1.46)*(0.2*x1 + x2 - 0.804984471899924*sqrt(1 - 0.555555555555556*x1)*(x1 - 0.8)**2 - 0.46)**2/(10*(x1 - 0.8)**2 + 1))\n",
      "<lambdifygenerated-558>:2: RuntimeWarning: overflow encountered in exp\n",
      "  return (-40*(-0.2*x1 - x2 + 0.804984471899924*sqrt(1 - 0.555555555555556*x1)*(x1 - 0.8)**2 + 1.46)*(0.4*x1 + 2*x2 - 1.60996894379985*sqrt(1 - 0.555555555555556*x1)*(x1 - 0.8)**2 - 0.92)/(10*(x1 - 0.8)**2 + 1) + 40*(0.2*x1 + x2 - 0.804984471899924*sqrt(1 - 0.555555555555556*x1)*(x1 - 0.8)**2 - 0.46)**2/(10*(x1 - 0.8)**2 + 1))*(3*x1 + 26*(x1 - 0.8)**2*sqrt(x1 + 0.2) - 7.4)*exp(-40*(-0.2*x1 - x2 + 0.804984471899924*sqrt(1 - 0.555555555555556*x1)*(x1 - 0.8)**2 + 1.46)*(0.2*x1 + x2 - 0.804984471899924*sqrt(1 - 0.555555555555556*x1)*(x1 - 0.8)**2 - 0.46)**2/(10*(x1 - 0.8)**2 + 1))\n"
     ]
    },
    {
     "data": {
      "text/plain": [
       "Text(0.5, 0, '$\\\\varepsilon$')"
      ]
     },
     "execution_count": 8,
     "metadata": {},
     "output_type": "execute_result"
    },
    {
     "data": {
      "image/png": "[encoded data removed]",
      "text/plain": [
       "<Figure size 432x288 with 1 Axes>"
      ]
     },
     "metadata": {
      "needs_background": "light"
     },
     "output_type": "display_data"
    }
   ],
   "source": [
    "# Add your solution here\n",
    "\n",
    "# initialize FE discretization\n",
    "eps2 = np.power(10, np.arange(-16, 1, 0.25))\n",
    "\n",
    "# create a Lambda function for exact gradient\n",
    "calc_grad = lambda x : my_grad_exact(x)\n",
    "\n",
    "# compute exact Hessian\n",
    "hess_exact = my_hes_exact(x)\n",
    "\n",
    "# intialize error\n",
    "err = 0*eps2\n",
    "\n",
    "# loop over different FE discretizations\n",
    "for i in np.arange(len(eps2)):\n",
    "    \n",
    "    # calculate Hessian approximation\n",
    "    H = my_hes_approx(x, calc_grad, eps2[i])\n",
    "    \n",
    "    # calculate error\n",
    "    err[i] = np.linalg.norm(H - hess_exact)\n",
    "\n",
    "# find optimal FE discretization\n",
    "min_eps2 = eps2[int(np.where(err == min(err))[0])]\n",
    "min_err = err[int(np.where(err == min(err))[0])]\n",
    "print('lowest error eps2:', min_eps2)\n",
    "print('lowest error:', min_err)\n",
    "\n",
    "# plot\n",
    "plt.loglog(eps2, err)\n",
    "plt.ylabel('L2 norm of error')\n",
    "plt.xlabel(r'$\\varepsilon$')"
   ]
  },
  {
   "cell_type": "markdown",
   "metadata": {},
   "source": [
    "### Final Answers\n",
    "\n",
    "**Record your final answers below**:"
   ]
  },
  {
   "cell_type": "markdown",
   "metadata": {},
   "source": [
    "A. Using $\\epsilon_1 =$ 1E-6 gives error $|| \\nabla f(x;\\epsilon_1)_{approx} - \\nabla f(x)_{exact} || = $ 2.4E-10\n",
    "\n",
    "B. Using $\\epsilon_1 = $ 1E-6 and $\\epsilon_2 = $ 5.6E-5 gives error $|| \\nabla^2 f(x;\\epsilon_1,\\epsilon_2)_{approx} - \\nabla^2 f(x)_{exact} || = $ 1.8E-6\n",
    "\n",
    "C. Using $\\epsilon_2 = $ 1.8E-6 gives error $|| \\nabla^2 f(x;\\epsilon_2)_{approx} - \\nabla^2 f(x)_{exact} || = $ 2.1E-9\n",
    "\n",
    "These answers were computed using the L2 norm."
   ]
  },
  {
   "cell_type": "markdown",
   "metadata": {},
   "source": [
    "### Discussion\n",
    "\n",
    "What is the benefit of using the *exact gradient* when approximating the Hessian with central finite difference?"
   ]
  },
  {
   "cell_type": "markdown",
   "metadata": {},
   "source": [
    "**Answer:** You dont carry through the truncation error from the finite difference approximation of the first derivative."
   ]
  },
  {
   "cell_type": "markdown",
   "metadata": {},
   "source": [
    "## Analysis of possible optimization solutions\n",
    "\n",
    "Consider the following optimization problem:\n",
    "\n",
    "$$\\min f(x) := \\left[x_1^2 + (x_2 + 1)^2\\right] \\cdot \\left[x_1^2 + (x_2 - 1)^2\\right]$$\n",
    "\n",
    "Our optimization algorithm terminates at the following points:\n",
    "1. $x = [0,0]^T$\n",
    "2. $x = [0,1]^T$\n",
    "3. $x = [0,-1]^T$\n",
    "4. $x = [1,1]^T$\n",
    "\n",
    "Classify each point.\n",
    "\n",
    "You may solve this problem entirely on paper, entirely in Python, or some combination. Please record your answer below. (If you solve on paper, you can typeset the justification in 1 or 2 sentences.)"
   ]
  },
  {
   "cell_type": "markdown",
   "metadata": {},
   "source": [
    "**Suggested solution approach: define systematic analysis routine**\n",
    "\n",
    "Create a function that:\n",
    "1. Evaluates $f(x)$, $\\nabla f(x)$, and $\\nabla^2 f(x)$ for a given $x$\n",
    "2. Calculates eigenvalues of $\\nabla^2 f(x)$\n",
    "\n",
    "We then reuse this function to analyze each point."
   ]
  },
  {
   "cell_type": "code",
   "execution_count": 36,
   "metadata": {},
   "outputs": [],
   "source": [
    "# Add your solution here\n",
    "\n",
    "## Define Python function\n",
    "def my_f_2(x):\n",
    "    ''' Evaluate function given above at point x\n",
    "\n",
    "    Inputs:\n",
    "        x - vector with 2 elements\n",
    "        \n",
    "    Outputs:\n",
    "        f - function value (scalar)\n",
    "    '''\n",
    "    \n",
    "    # Intermediates. Recall Python indicies start at 0\n",
    "    term_1 = x[0]**2 + (x[1] + 1)**2\n",
    "    term_2 = x[0]**2 + (x[1] - 1)**2\n",
    "    \n",
    "    return term_1*term_2\n",
    "\n",
    "## Analyze Hessian\n",
    "def analyze_hes(B):\n",
    "    print(B,\"\\n\")\n",
    "    \n",
    "    l = linalg.eigvals(B)\n",
    "    return l\n",
    "\n",
    "def pnt_eval(x, func):\n",
    "\n",
    "    # create a Lambda function for exact gradient\n",
    "    calc_grad = lambda x : my_grad_approx(x, func, 1E-6, verbose = False)\n",
    "\n",
    "    # compute Hessian\n",
    "    H = my_hes_approx(x, calc_grad, 1E-6)\n",
    "    \n",
    "    # compute eigenvalues\n",
    "    l = analyze_hes(H)\n",
    "    \n",
    "    data = {'f(x)':func(x), 'grad_f(x)':calc_grad(x), 'hessianR1':H[0,:],'hessianR2':H[1,:], 'eigenvalues':l}\n",
    "    \n",
    "    data = pd.DataFrame(data)\n",
    "    \n",
    "    display(data)\n",
    "    \n",
    "    return data"
   ]
  },
  {
   "cell_type": "markdown",
   "metadata": {},
   "source": [
    "\n",
    "### Point 1"
   ]
  },
  {
   "cell_type": "code",
   "execution_count": 38,
   "metadata": {
    "scrolled": true
   },
   "outputs": [
    {
     "name": "stdout",
     "output_type": "stream",
     "text": [
      "[[ 3.99991151  0.        ]\n",
      " [ 0.         -3.99991151]] \n",
      "\n"
     ]
    },
    {
     "data": {
      "text/html": [
       "<div>\n",
       "<style scoped>\n",
       "    .dataframe tbody tr th:only-of-type {\n",
       "        vertical-align: middle;\n",
       "    }\n",
       "\n",
       "    .dataframe tbody tr th {\n",
       "        vertical-align: top;\n",
       "    }\n",
       "\n",
       "    .dataframe thead th {\n",
       "        text-align: right;\n",
       "    }\n",
       "</style>\n",
       "<table border=\"1\" class=\"dataframe\">\n",
       "  <thead>\n",
       "    <tr style=\"text-align: right;\">\n",
       "      <th></th>\n",
       "      <th>f(x)</th>\n",
       "      <th>grad_f(x)</th>\n",
       "      <th>hessianR1</th>\n",
       "      <th>hessianR2</th>\n",
       "      <th>eigenvalues</th>\n",
       "    </tr>\n",
       "  </thead>\n",
       "  <tbody>\n",
       "    <tr>\n",
       "      <th>0</th>\n",
       "      <td>1</td>\n",
       "      <td>0.0</td>\n",
       "      <td>3.999912</td>\n",
       "      <td>0.000000</td>\n",
       "      <td>3.999912+0.000000j</td>\n",
       "    </tr>\n",
       "    <tr>\n",
       "      <th>1</th>\n",
       "      <td>1</td>\n",
       "      <td>0.0</td>\n",
       "      <td>0.000000</td>\n",
       "      <td>-3.999912</td>\n",
       "      <td>-3.999912+0.000000j</td>\n",
       "    </tr>\n",
       "  </tbody>\n",
       "</table>\n",
       "</div>"
      ],
      "text/plain": [
       "   f(x)  grad_f(x)  hessianR1  hessianR2         eigenvalues\n",
       "0     1        0.0   3.999912   0.000000  3.999912+0.000000j\n",
       "1     1        0.0   0.000000  -3.999912 -3.999912+0.000000j"
      ]
     },
     "metadata": {},
     "output_type": "display_data"
    }
   ],
   "source": [
    "# Add your solution here\n",
    "data = pnt_eval([0, 0], my_f_2)"
   ]
  },
  {
   "cell_type": "markdown",
   "metadata": {},
   "source": [
    "**Answer**:\n",
    "The Hessian is indefinite as shown by positive and negative eigenvalues so we are at a saddle point."
   ]
  },
  {
   "cell_type": "markdown",
   "metadata": {},
   "source": [
    "### Point 2"
   ]
  },
  {
   "cell_type": "code",
   "execution_count": 42,
   "metadata": {},
   "outputs": [
    {
     "name": "stdout",
     "output_type": "stream",
     "text": [
      "[[8. 0.]\n",
      " [0. 8.]] \n",
      "\n"
     ]
    },
    {
     "data": {
      "text/html": [
       "<div>\n",
       "<style scoped>\n",
       "    .dataframe tbody tr th:only-of-type {\n",
       "        vertical-align: middle;\n",
       "    }\n",
       "\n",
       "    .dataframe tbody tr th {\n",
       "        vertical-align: top;\n",
       "    }\n",
       "\n",
       "    .dataframe thead th {\n",
       "        text-align: right;\n",
       "    }\n",
       "</style>\n",
       "<table border=\"1\" class=\"dataframe\">\n",
       "  <thead>\n",
       "    <tr style=\"text-align: right;\">\n",
       "      <th></th>\n",
       "      <th>f(x)</th>\n",
       "      <th>grad_f(x)</th>\n",
       "      <th>hessianR1</th>\n",
       "      <th>hessianR2</th>\n",
       "      <th>eigenvalues</th>\n",
       "    </tr>\n",
       "  </thead>\n",
       "  <tbody>\n",
       "    <tr>\n",
       "      <th>0</th>\n",
       "      <td>0</td>\n",
       "      <td>0.000000e+00</td>\n",
       "      <td>8.0</td>\n",
       "      <td>0.0</td>\n",
       "      <td>8.0+0.0j</td>\n",
       "    </tr>\n",
       "    <tr>\n",
       "      <th>1</th>\n",
       "      <td>0</td>\n",
       "      <td>3.999556e-12</td>\n",
       "      <td>0.0</td>\n",
       "      <td>8.0</td>\n",
       "      <td>8.0+0.0j</td>\n",
       "    </tr>\n",
       "  </tbody>\n",
       "</table>\n",
       "</div>"
      ],
      "text/plain": [
       "   f(x)     grad_f(x)  hessianR1  hessianR2  eigenvalues\n",
       "0     0  0.000000e+00        8.0        0.0     8.0+0.0j\n",
       "1     0  3.999556e-12        0.0        8.0     8.0+0.0j"
      ]
     },
     "metadata": {},
     "output_type": "display_data"
    }
   ],
   "source": [
    "# Add your solution here\n",
    "data = pnt_eval([0, 1], my_f_2)"
   ]
  },
  {
   "cell_type": "markdown",
   "metadata": {},
   "source": [
    "**Answer**: The Hessian is positive definite as shown by two positive eigenvalues therefore this point is an isolated local minimum."
   ]
  },
  {
   "cell_type": "markdown",
   "metadata": {},
   "source": [
    "### Point 3"
   ]
  },
  {
   "cell_type": "code",
   "execution_count": 43,
   "metadata": {},
   "outputs": [
    {
     "name": "stdout",
     "output_type": "stream",
     "text": [
      "[[8. 0.]\n",
      " [0. 8.]] \n",
      "\n"
     ]
    },
    {
     "data": {
      "text/html": [
       "<div>\n",
       "<style scoped>\n",
       "    .dataframe tbody tr th:only-of-type {\n",
       "        vertical-align: middle;\n",
       "    }\n",
       "\n",
       "    .dataframe tbody tr th {\n",
       "        vertical-align: top;\n",
       "    }\n",
       "\n",
       "    .dataframe thead th {\n",
       "        text-align: right;\n",
       "    }\n",
       "</style>\n",
       "<table border=\"1\" class=\"dataframe\">\n",
       "  <thead>\n",
       "    <tr style=\"text-align: right;\">\n",
       "      <th></th>\n",
       "      <th>f(x)</th>\n",
       "      <th>grad_f(x)</th>\n",
       "      <th>hessianR1</th>\n",
       "      <th>hessianR2</th>\n",
       "      <th>eigenvalues</th>\n",
       "    </tr>\n",
       "  </thead>\n",
       "  <tbody>\n",
       "    <tr>\n",
       "      <th>0</th>\n",
       "      <td>0</td>\n",
       "      <td>0.000000e+00</td>\n",
       "      <td>8.0</td>\n",
       "      <td>0.0</td>\n",
       "      <td>8.0+0.0j</td>\n",
       "    </tr>\n",
       "    <tr>\n",
       "      <th>1</th>\n",
       "      <td>0</td>\n",
       "      <td>-3.999556e-12</td>\n",
       "      <td>0.0</td>\n",
       "      <td>8.0</td>\n",
       "      <td>8.0+0.0j</td>\n",
       "    </tr>\n",
       "  </tbody>\n",
       "</table>\n",
       "</div>"
      ],
      "text/plain": [
       "   f(x)     grad_f(x)  hessianR1  hessianR2  eigenvalues\n",
       "0     0  0.000000e+00        8.0        0.0     8.0+0.0j\n",
       "1     0 -3.999556e-12        0.0        8.0     8.0+0.0j"
      ]
     },
     "metadata": {},
     "output_type": "display_data"
    }
   ],
   "source": [
    "# Add your solution here\n",
    "data = pnt_eval([0, -1], my_f_2)"
   ]
  },
  {
   "cell_type": "markdown",
   "metadata": {},
   "source": [
    "**Answer**:  The Hessian is positive definite as shown by two positive eigenvalues therefore this point is an isolated local minimum."
   ]
  },
  {
   "cell_type": "markdown",
   "metadata": {},
   "source": [
    "### Point 4"
   ]
  },
  {
   "cell_type": "code",
   "execution_count": 41,
   "metadata": {},
   "outputs": [
    {
     "name": "stdout",
     "output_type": "stream",
     "text": [
      "[[19.99933552  8.00004507]\n",
      " [ 8.00004507 11.99951249]] \n",
      "\n"
     ]
    },
    {
     "data": {
      "text/html": [
       "<div>\n",
       "<style scoped>\n",
       "    .dataframe tbody tr th:only-of-type {\n",
       "        vertical-align: middle;\n",
       "    }\n",
       "\n",
       "    .dataframe tbody tr th {\n",
       "        vertical-align: top;\n",
       "    }\n",
       "\n",
       "    .dataframe thead th {\n",
       "        text-align: right;\n",
       "    }\n",
       "</style>\n",
       "<table border=\"1\" class=\"dataframe\">\n",
       "  <thead>\n",
       "    <tr style=\"text-align: right;\">\n",
       "      <th></th>\n",
       "      <th>f(x)</th>\n",
       "      <th>grad_f(x)</th>\n",
       "      <th>hessianR1</th>\n",
       "      <th>hessianR2</th>\n",
       "      <th>eigenvalues</th>\n",
       "    </tr>\n",
       "  </thead>\n",
       "  <tbody>\n",
       "    <tr>\n",
       "      <th>0</th>\n",
       "      <td>5</td>\n",
       "      <td>12.0</td>\n",
       "      <td>19.999336</td>\n",
       "      <td>8.000045</td>\n",
       "      <td>24.943697+0.000000j</td>\n",
       "    </tr>\n",
       "    <tr>\n",
       "      <th>1</th>\n",
       "      <td>5</td>\n",
       "      <td>4.0</td>\n",
       "      <td>8.000045</td>\n",
       "      <td>11.999512</td>\n",
       "      <td>7.055151+0.000000j</td>\n",
       "    </tr>\n",
       "  </tbody>\n",
       "</table>\n",
       "</div>"
      ],
      "text/plain": [
       "   f(x)  grad_f(x)  hessianR1  hessianR2          eigenvalues\n",
       "0     5       12.0  19.999336   8.000045  24.943697+0.000000j\n",
       "1     5        4.0   8.000045  11.999512   7.055151+0.000000j"
      ]
     },
     "metadata": {},
     "output_type": "display_data"
    }
   ],
   "source": [
    "# Add your solution here\n",
    "data = pnt_eval([1, 1], my_f_2)"
   ]
  },
  {
   "cell_type": "markdown",
   "metadata": {},
   "source": [
    "**Answer**: The Hessian is positive definite as indicated by positive eigenvalues therefore this point is an isolated local minimum."
   ]
  },
  {
   "cell_type": "markdown",
   "metadata": {},
   "source": [
    "### Visualize in 3D\n",
    "\n",
    "Plot $f(x)$ in 3D over the domain $x_1 \\in [-1.1,1.1]$ and $x_2 \\in [-1.5, 1.5]$."
   ]
  },
  {
   "cell_type": "code",
   "execution_count": 68,
   "metadata": {},
   "outputs": [
    {
     "data": {
      "image/png": "[encoded data removed]",
      "text/plain": [
       "<Figure size 432x288 with 1 Axes>"
      ]
     },
     "metadata": {
      "needs_background": "light"
     },
     "output_type": "display_data"
    }
   ],
   "source": [
    "# Add your solution here\n",
    "grid_me = False\n",
    "if grid_me == True:\n",
    "    x1 = np.linspace(-1.1,1.1)\n",
    "    x2 = np.linspace(-1.5,1.5)\n",
    "    X1, X2 = np.meshgrid(x1,x2)\n",
    "    F_x = my_f_2([X1, X2])\n",
    "    \n",
    "fig, ax = plt.subplots(subplot_kw={\"projection\": \"3d\"})\n",
    "surf = ax.plot_surface(X1, X2, F_x, cmap=cm.coolwarm)\n",
    "ax.plot(0,0,my_f_2([0,0]),'ko')\n",
    "ax.plot(0,1,my_f_2([0,1]),'ko')\n",
    "ax.plot(0,-1,my_f_2([0,-1]),'ko')\n",
    "ax.plot(1,1,my_f_2([1,1]),'ko')\n",
    "ax.view_init(10,-20)"
   ]
  },
  {
   "cell_type": "markdown",
   "metadata": {},
   "source": [
    "### Convexity\n",
    "\n",
    "Is $f(x)$ convex? Did you need to make the plot to make this determination? Write a sentence or two to justify your answer.\n",
    "\n",
    "**Answer**: No, this function is not convex. This can be seen by drawing a line between f(1,1) and f(0,-1) since that line is above and below the surface. One could use Jensen's inequality to formally prove this without graphing."
   ]
  },
  {
   "cell_type": "markdown",
   "metadata": {},
   "source": [
    "## Multivariable Taylor Series\n",
    "\n",
    "You will use `my_grad_exact`, `my_grad_approx`, `my_hes_exact`, and `my_hes_approx` to construct Taylor series approximations to an arbitrary twice differentiable continuous functions with inputs $x \\in \\mathbb{R}^2$. We will then consider Example 2.19 and visualize the Taylor series approximation in 3D.\n"
   ]
  },
  {
   "cell_type": "markdown",
   "metadata": {},
   "source": [
    "### Create a function to plot the first order Taylor series using $\\nabla f$\n",
    "\n",
    "Create a general function that:\n",
    "1. Constructs a Taylor series using $\\nabla f$ centered around a given point\n",
    "2. Plots the true function and Taylor series approximation"
   ]
  },
  {
   "cell_type": "code",
   "execution_count": null,
   "metadata": {},
   "outputs": [],
   "source": [
    "def taylor1(xc, f, grad, dx):\n",
    "    '''\n",
    "    Constructs a Taylor series using first derivates and visualizes in 3D\n",
    "    \n",
    "    Arguments:\n",
    "        xc - point to center Taylor series\n",
    "        f - function that computes function value. Only has one input (x)\n",
    "        grad - function that computes gradient. Only has one input (x)\n",
    "        dx - list or numpy array. creates 3D plot over xc[0] +/- dx[0], xc[1] +/- dx[1]\n",
    "    \n",
    "    Returns:\n",
    "        none\n",
    "        \n",
    "    Actions:\n",
    "        3D plot\n",
    "    \n",
    "    '''\n",
    "    \n",
    "    # Add your solution here"
   ]
  },
  {
   "cell_type": "markdown",
   "metadata": {},
   "source": [
    "### Taylor Series using `my_grad_approx`\n",
    "\n",
    "Consider $x_c = [0.7, 0.3]^T$ (center of Taylor series) and $\\Delta x = [0.5, 0.5]^T$ (domain for plot)."
   ]
  },
  {
   "cell_type": "code",
   "execution_count": null,
   "metadata": {},
   "outputs": [],
   "source": [
    "# Specify epsilon1\n",
    "calc_grad = lambda x : my_grad_approx(x,my_f,1E-6)\n",
    "\n",
    "# Specify dx\n",
    "dx = [0.5, 0.5]\n",
    "\n",
    "# Specify xc\n",
    "xc = np.array([0.7, 0.3])\n",
    "\n",
    "taylor1(xc, my_f, calc_grad, dx)"
   ]
  },
  {
   "cell_type": "markdown",
   "metadata": {},
   "source": [
    "### Taylor Series using `my_grad_exact`\n",
    "\n",
    "Consider $x_c = [0.7, 0.3]^T$ (center of Taylor series) and $\\Delta x = [0.5, 0.5]^T$ (domain for plot)."
   ]
  },
  {
   "cell_type": "code",
   "execution_count": null,
   "metadata": {},
   "outputs": [],
   "source": [
    "# Specify epsilon1\n",
    "calc_grad = lambda x : my_grad_exact(x)\n",
    "\n",
    "# Specify dx\n",
    "dx = [0.5, 0.5]\n",
    "\n",
    "# Specify xc\n",
    "xc = np.array([0.7, 0.3])\n",
    "\n",
    "taylor1(xc, my_f, calc_grad, dx)"
   ]
  },
  {
   "cell_type": "markdown",
   "metadata": {},
   "source": [
    "### Create a function to plot the second order Taylor series using $\\nabla f$ and $\\nabla^2 f$"
   ]
  },
  {
   "cell_type": "code",
   "execution_count": null,
   "metadata": {},
   "outputs": [],
   "source": [
    "def taylor2(xc, f, grad, hes, dx):\n",
    "    '''\n",
    "    Constructs a Taylor series using first derivates and visualizes in 3D\n",
    "    \n",
    "    Inputs:\n",
    "        xc - point to center Taylor series\n",
    "        f - computes function value. Only has one input (x)\n",
    "        grad - computes gradient. Only has one input (x)\n",
    "        hes - computes the Hessian. Only has one input (x)\n",
    "        dx - creates 3D plot over xc[0] +/- dx[0], xc[1] +/- dx[1]\n",
    "    \n",
    "    Outputs:\n",
    "        none\n",
    "        \n",
    "    Creates:\n",
    "        3D plot\n",
    "    \n",
    "    '''\n",
    "    \n",
    "    ### Evaluates function and gradiant\n",
    "    fval = f(xc)\n",
    "    gval = grad(xc)\n",
    "    Hval = hes(xc)\n",
    "    \n",
    "    ### Creates domain for plotting\n",
    "    x1 = np.arange(xc[0] - dx[0],xc[0] + dx[0],dx[0]/100)\n",
    "    x2 = np.arange(xc[1] - dx[1],xc[1] + dx[1],dx[1]/100)\n",
    "    \n",
    "    ## Create a matrix of all points to sample\n",
    "    X1, X2 = np.meshgrid(x1, x2)\n",
    "    n1 = len(x1)\n",
    "    n2 = len(x2)\n",
    "\n",
    "    ## Allocate matrix for true function value\n",
    "    F = np.zeros([n2, n1])\n",
    "\n",
    "    ## Allocate matrix for Taylor series approximation\n",
    "    T = np.zeros([n2, n1])    \n",
    "    \n",
    "    xtemp = np.zeros(2)\n",
    "\n",
    "    # Evaluate f(x) and Taylor series over grid\n",
    "    for i in range(0,n1):\n",
    "        xtemp[0] = x1[i]\n",
    "        for j in range(0,n2):\n",
    "            xtemp[1] = x2[j]\n",
    "            \n",
    "            # Evaluate f(x)\n",
    "            F[j,i] = my_f(xtemp)\n",
    "\n",
    "            # Evaluate Taylor series\n",
    "            dx_ = xtemp - xc\n",
    "            \n",
    "            '''\n",
    "            print(\"dx = \",dx)\n",
    "            print(\"gval = \",gval)\n",
    "            print(\"Hval = \",Hval)\n",
    "            '''\n",
    "            \n",
    "            temp = Hval.dot(dx_)\n",
    "            # print(\"Hval * dx = \",temp)\n",
    "            \n",
    "            \n",
    "            # T[j,i] = fval + gval.dot(dx_) + 0.5*(temp).dot(dx_)\n",
    "            T[j,i] = fval + gval.dot(dx_) + 0.5*(dx_.dot(Hval.dot(dx_)))\n",
    "            \n",
    "    # Create 3D figure\n",
    "    fig = plt.figure()\n",
    "    ax = fig.gca(projection='3d')\n",
    "\n",
    "    # Plot f(x)\n",
    "    surf = ax.plot_surface(X1, X2, F, linewidth=0,cmap=cm.coolwarm,antialiased=True,label=\"f(x)\")\n",
    "\n",
    "    # Plot Taylor series approximation\n",
    "    surf = ax.plot_surface(X1, X2, T, linewidth=0,cmap=cm.PiYG,antialiased=True,label=\"Taylor series\")\n",
    "    \n",
    "    # Add candidate point\n",
    "    ax.scatter(xc[0],xc[1],fval,s=50,color=\"black\",depthshade=True)\n",
    "\n",
    "    # Draw vertical line through stationary point to help visualization\n",
    "    # Maximum value in array\n",
    "    fmax = np.amax(F)\n",
    "    fmin = np.amin(F)\n",
    "    ax.plot([xc[0], xc[0]], [xc[1], xc[1]], [fmin,fmax],color=\"black\")\n",
    "    \n",
    "    plt.show()"
   ]
  },
  {
   "cell_type": "markdown",
   "metadata": {},
   "source": [
    "### Taylor series using `my_grad_approx` and `my_hes_approx`\n",
    "\n",
    "Consider $x_c = [0.7, 0.3]^T$ (center of Taylor series) and $\\Delta x = [0.2, 0.2]^T$ (domain for plot)."
   ]
  },
  {
   "cell_type": "code",
   "execution_count": null,
   "metadata": {},
   "outputs": [],
   "source": [
    "# Specify epsilon1\n",
    "calc_grad = lambda x : my_grad_approx(x,my_f,1E-6)\n",
    "\n",
    "# Specify epsilon2\n",
    "calc_hes = lambda x : my_hes_approx(x, calc_grad, 1E-6)\n",
    "\n",
    "# Specify dx\n",
    "dx = [0.2, 0.2]\n",
    "\n",
    "# Specify xc\n",
    "xc = np.array([0.7, 0.3])\n",
    "\n",
    "taylor2(xc, my_f, calc_grad, calc_hes, dx)"
   ]
  },
  {
   "cell_type": "markdown",
   "metadata": {},
   "source": [
    "### Taylor series using `my_grad_exact` and `my_hes_exact`\n",
    "\n",
    "Consider $x_c = [0.7, 0.3]^T$ (center of Taylor series) and $\\Delta x = [0.2, 0.2]^T$ (domain for plot)."
   ]
  },
  {
   "cell_type": "code",
   "execution_count": null,
   "metadata": {},
   "outputs": [],
   "source": [
    "x = np.array([0,0])\n",
    "# Specify epsilon1\n",
    "calc_grad = lambda x : my_grad_exact(x)\n",
    "\n",
    "# Specify epsilon2\n",
    "calc_hes = lambda x1 : my_hes_exact(x1)\n",
    "\n",
    "# Specify dx\n",
    "dx = [0.2, 0.2]\n",
    "\n",
    "# Specify xc\n",
    "xc = np.array([0.7, 0.3])\n",
    "\n",
    "taylor2(xc, my_f, calc_grad, calc_hes, dx)"
   ]
  },
  {
   "cell_type": "markdown",
   "metadata": {},
   "source": [
    "### Discussion"
   ]
  },
  {
   "cell_type": "markdown",
   "metadata": {},
   "source": [
    "Write 1 or 2 sentences to describe the the shapes for the first order and second order Taylor series approximations? Why do these shapes make sense?"
   ]
  },
  {
   "cell_type": "markdown",
   "metadata": {},
   "source": [
    "**Answer:**"
   ]
  },
  {
   "cell_type": "markdown",
   "metadata": {},
   "source": [
    "Is there a visible difference in the Taylor series approximations using the finite difference versus exact derivatives? Why does this make sense?"
   ]
  },
  {
   "cell_type": "markdown",
   "metadata": {},
   "source": [
    "**Answer**:"
   ]
  }
 ],
 "metadata": {
  "celltoolbar": "Tags",
  "kernelspec": {
   "display_name": "Python 3 (ipykernel)",
   "language": "python",
   "name": "python3"
  },
  "language_info": {
   "codemirror_mode": {
    "name": "ipython",
    "version": 3
   },
   "file_extension": ".py",
   "mimetype": "text/x-python",
   "name": "python",
   "nbconvert_exporter": "python",
   "pygments_lexer": "ipython3",
   "version": "3.9.7"
  }
 },
 "nbformat": 4,
 "nbformat_minor": 2
}
