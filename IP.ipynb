{
 "cells": [
  {
   "cell_type": "markdown",
   "metadata": {},
   "source": [
    "# Integer Programs"
   ]
  },
  {
   "cell_type": "code",
   "execution_count": 1,
   "metadata": {},
   "outputs": [],
   "source": [
    "# # This code cell installs packages on Colab\n",
    "\n",
    "# import sys\n",
    "# if \"google.colab\" in sys.modules:\n",
    "#     !wget \"https://raw.githubusercontent.com/ndcbe/CBE60499/main/notebooks/helper.py\"\n",
    "#     import helper\n",
    "#     helper.install_idaes()\n",
    "#     helper.install_ipopt()\n",
    "#     helper.install_glpk()\n",
    "#     helper.install_cbc()\n",
    "#     helper.download_figures(['feasible.png'])"
   ]
  },
  {
   "cell_type": "code",
   "execution_count": 15,
   "metadata": {},
   "outputs": [],
   "source": [
    "import idaes\n",
    "# import casadi\n",
    "import casadi\n",
    "milp_solver = 'gurobi'"
   ]
  },
  {
   "cell_type": "markdown",
   "metadata": {},
   "source": [
    "## Optimizing Across Process Alternatives"
   ]
  },
  {
   "cell_type": "markdown",
   "metadata": {},
   "source": [
    "Reference: Example 15.3 from Biegler, Grossmann, Westerberg (1997)."
   ]
  },
  {
   "cell_type": "markdown",
   "metadata": {},
   "source": [
    "Assume that we have the choice of selecting two reactors (shown below) for the reaction $A \\rightarrow B$. Reactor I has a higher conversation (80%) but it is more expensive; reactor II has a lower conversion (66.7%) but is cheaper. The cost of feed $A$ is \\$5/kmol. Which process alternative (reactor I, reactor II, or both) has the minimum costs to make 10 kmol/hr of product B?"
   ]
  },
  {
   "cell_type": "markdown",
   "metadata": {},
   "source": [
    "Let $x_i$ be the size of reactor $i$.\n",
    "\n",
    "Continuous cost model: $c_i (x_i)^{0.6}$"
   ]
  },
  {
   "cell_type": "markdown",
   "metadata": {},
   "source": [
    "### Develop the optimization model\n",
    "* Draw a picture\n",
    "* Sets\n",
    "* Parameters\n",
    "* Variables\n",
    "* Objective\n",
    "* Constraints\n",
    "* Degree of freedom analysis"
   ]
  },
  {
   "cell_type": "markdown",
   "metadata": {},
   "source": [
    "### Solve with Continuous Cost Model in Pyomo"
   ]
  },
  {
   "cell_type": "markdown",
   "metadata": {},
   "source": [
    "We start my defining the model in Pyomo."
   ]
  },
  {
   "cell_type": "code",
   "execution_count": 3,
   "metadata": {},
   "outputs": [
    {
     "name": "stdout",
     "output_type": "stream",
     "text": [
      "1 Set Declarations\n",
      "    REACTORS : Size=1, Index=None, Ordered=Insertion\n",
      "        Key  : Dimen : Domain : Size : Members\n",
      "        None :     1 :    Any :    2 : {1, 2}\n",
      "\n",
      "4 Param Declarations\n",
      "    conversion : Size=2, Index=REACTORS, Domain=Any, Default=None, Mutable=False\n",
      "        Key : Value\n",
      "          1 :   0.8\n",
      "          2 :  0.67\n",
      "    feed_cost : Size=1, Index=None, Domain=Any, Default=None, Mutable=False\n",
      "        Key  : Value\n",
      "        None :   5.0\n",
      "    product_flowrate : Size=1, Index=None, Domain=Any, Default=None, Mutable=False\n",
      "        Key  : Value\n",
      "        None :  10.0\n",
      "    reactor_cost : Size=2, Index=REACTORS, Domain=Any, Default=None, Mutable=False\n",
      "        Key : Value\n",
      "          1 :   5.5\n",
      "          2 :   4.0\n",
      "\n",
      "3 Var Declarations\n",
      "    feed_flowrate : Size=1, Index=None\n",
      "        Key  : Lower : Value : Upper : Fixed : Stale : Domain\n",
      "        None :     0 :  None :  None : False :  True : NonNegativeReals\n",
      "    reactor_effluent : Size=2, Index=REACTORS\n",
      "        Key : Lower : Value : Upper : Fixed : Stale : Domain\n",
      "          1 :     0 :  None :  None : False :  True : NonNegativeReals\n",
      "          2 :     0 :  None :  None : False :  True : NonNegativeReals\n",
      "    reactor_feed : Size=2, Index=REACTORS\n",
      "        Key : Lower : Value : Upper : Fixed : Stale : Domain\n",
      "          1 :     0 :  None :  None : False :  True : NonNegativeReals\n",
      "          2 :     0 :  None :  None : False :  True : NonNegativeReals\n",
      "\n",
      "1 Objective Declarations\n",
      "    cost : Size=1, Index=None, Active=True\n",
      "        Key  : Active : Sense    : Expression\n",
      "        None :   True : minimize : 5.5*reactor_feed[1]**0.6 + 4.0*reactor_feed[2]**0.6 + 5.0*feed_flowrate\n",
      "\n",
      "9 Declarations: REACTORS reactor_cost product_flowrate conversion feed_cost feed_flowrate reactor_feed reactor_effluent cost\n"
     ]
    }
   ],
   "source": [
    "import pyomo.environ as pyo\n",
    "\n",
    "nlp = pyo.ConcreteModel()\n",
    "\n",
    "## Define sets\n",
    "nlp.REACTORS = pyo.Set(initialize=range(1,3))\n",
    "\n",
    "## Define parameters (data)\n",
    "\n",
    "# $ / hr\n",
    "cost_coefficient = {1:5.5, 2:4.0}\n",
    "nlp.reactor_cost = pyo.Param(nlp.REACTORS, initialize=cost_coefficient)\n",
    "\n",
    "# kmol/hr B\n",
    "nlp.product_flowrate = pyo.Param(initialize=10.0)\n",
    "\n",
    "# conversion fraction\n",
    "reactor_conversion = {1:0.8, 2:0.67}\n",
    "nlp.conversion = pyo.Param(nlp.REACTORS, initialize=reactor_conversion)\n",
    "\n",
    "# feed cost, $/kmol of A\n",
    "nlp.feed_cost = pyo.Param(initialize=5.0)\n",
    "\n",
    "\n",
    "## Define variables\n",
    "\n",
    "# Feed flowrate into reactor, x0 in handout illustration\n",
    "nlp.feed_flowrate = pyo.Var(domain=pyo.NonNegativeReals)\n",
    "\n",
    "# Reactor feed, x1 and x2 in handout illustration\n",
    "nlp.reactor_feed = pyo.Var(nlp.REACTORS, domain=pyo.NonNegativeReals)\n",
    "\n",
    "# Reactor effluent (outlet), z1 and z2 in handout illustration\n",
    "nlp.reactor_effluent = pyo.Var(nlp.REACTORS, domain=pyo.NonNegativeReals)\n",
    "\n",
    "## Define constraints\n",
    "\n",
    "# Add your solution here\n",
    "\n",
    "## Define objective\n",
    "nlp.cost = pyo.Objective(expr=sum(nlp.reactor_cost[r] * (nlp.reactor_feed[r])**(0.6) for r in nlp.REACTORS) +\n",
    "                        nlp.feed_cost * nlp.feed_flowrate)\n",
    "\n",
    "nlp.pprint()"
   ]
  },
  {
   "cell_type": "markdown",
   "metadata": {},
   "source": [
    "### Initialize to Favor Reaction 1 and Solve"
   ]
  },
  {
   "cell_type": "code",
   "execution_count": 4,
   "metadata": {},
   "outputs": [
    {
     "name": "stdout",
     "output_type": "stream",
     "text": [
      "1 Set Declarations\n",
      "    REACTORS : Size=1, Index=None, Ordered=Insertion\n",
      "        Key  : Dimen : Domain : Size : Members\n",
      "        None :     1 :    Any :    2 : {1, 2}\n",
      "\n",
      "4 Param Declarations\n",
      "    conversion : Size=2, Index=REACTORS, Domain=Any, Default=None, Mutable=False\n",
      "        Key : Value\n",
      "          1 :   0.8\n",
      "          2 :  0.67\n",
      "    feed_cost : Size=1, Index=None, Domain=Any, Default=None, Mutable=False\n",
      "        Key  : Value\n",
      "        None :   5.0\n",
      "    product_flowrate : Size=1, Index=None, Domain=Any, Default=None, Mutable=False\n",
      "        Key  : Value\n",
      "        None :  10.0\n",
      "    reactor_cost : Size=2, Index=REACTORS, Domain=Any, Default=None, Mutable=False\n",
      "        Key : Value\n",
      "          1 :   5.5\n",
      "          2 :   4.0\n",
      "\n",
      "3 Var Declarations\n",
      "    feed_flowrate : Size=1, Index=None\n",
      "        Key  : Lower : Value : Upper : Fixed : Stale : Domain\n",
      "        None :     0 :  20.0 :  None : False : False : NonNegativeReals\n",
      "    reactor_effluent : Size=2, Index=REACTORS\n",
      "        Key : Lower : Value : Upper : Fixed : Stale : Domain\n",
      "          1 :     0 :  16.0 :  None : False : False : NonNegativeReals\n",
      "          2 :     0 :   0.0 :  None : False : False : NonNegativeReals\n",
      "    reactor_feed : Size=2, Index=REACTORS\n",
      "        Key : Lower : Value : Upper : Fixed : Stale : Domain\n",
      "          1 :     0 :  20.0 :  None : False : False : NonNegativeReals\n",
      "          2 :     0 :     0 :  None : False : False : NonNegativeReals\n",
      "\n",
      "1 Objective Declarations\n",
      "    cost : Size=1, Index=None, Active=True\n",
      "        Key  : Active : Sense    : Expression\n",
      "        None :   True : minimize : 5.5*reactor_feed[1]**0.6 + 4.0*reactor_feed[2]**0.6 + 5.0*feed_flowrate\n",
      "\n",
      "9 Declarations: REACTORS reactor_cost product_flowrate conversion feed_cost feed_flowrate reactor_feed reactor_effluent cost\n"
     ]
    }
   ],
   "source": [
    "def initialize(model, reactor_choice=1):\n",
    "    ''' Initialize all of the variables in the model to demonstrate local solutions\n",
    "    \n",
    "    Arguments:\n",
    "        model: Pyomo model\n",
    "        reactor_choice: 1 or 2\n",
    "    \n",
    "    Returns:\n",
    "        nothing\n",
    "        \n",
    "    Action:\n",
    "        initializes model\n",
    "    \n",
    "    '''\n",
    "    \n",
    "    # Guess 20 kmol/hr feed of A\n",
    "    model.feed_flowrate = 20.0\n",
    "    \n",
    "    # Either assign all of the feed to reactor 1 or 2\n",
    "    if reactor_choice == 1:\n",
    "        model.reactor_feed[1] = 20.0\n",
    "        model.reactor_feed[2] = 0\n",
    "    elif reactor_choice == 2:\n",
    "        model.reactor_feed[1] = 0\n",
    "        model.reactor_feed[2] = 20.0\n",
    "    else:\n",
    "        raise ValueError(\"Argument reactor_choice needs value 1 or 2.\")\n",
    "    \n",
    "    # Based on the feed assignments, calculate effluent flowrate\n",
    "    for r in model.REACTORS:\n",
    "        model.reactor_effluent[r] = model.reactor_feed[r]() * model.conversion[r]\n",
    "    \n",
    "initialize(nlp, reactor_choice=1)\n",
    "nlp.pprint()"
   ]
  },
  {
   "cell_type": "markdown",
   "metadata": {},
   "source": [
    "Now let's solve the model."
   ]
  },
  {
   "cell_type": "code",
   "execution_count": 5,
   "metadata": {},
   "outputs": [
    {
     "name": "stdout",
     "output_type": "stream",
     "text": [
      "Ipopt 3.13.2: \n",
      "\n",
      "******************************************************************************\n",
      "This program contains Ipopt, a library for large-scale nonlinear optimization.\n",
      " Ipopt is released as open source code under the Eclipse Public License (EPL).\n",
      "         For more information visit http://projects.coin-or.org/Ipopt\n",
      "\n",
      "This version of Ipopt was compiled from source code available at\n",
      "    https://github.com/IDAES/Ipopt as part of the Institute for the Design of\n",
      "    Advanced Energy Systems Process Systems Engineering Framework (IDAES PSE\n",
      "    Framework) Copyright (c) 2018-2019. See https://github.com/IDAES/idaes-pse.\n",
      "\n",
      "This version of Ipopt was compiled using HSL, a collection of Fortran codes\n",
      "    for large-scale scientific computation.  All technical papers, sales and\n",
      "    publicity material resulting from use of the HSL codes within IPOPT must\n",
      "    contain the following acknowledgement:\n",
      "        HSL, a collection of Fortran codes for large-scale scientific\n",
      "        computation. See http://www.hsl.rl.ac.uk.\n",
      "******************************************************************************\n",
      "\n",
      "This is Ipopt version 3.13.2, running with linear solver ma27.\n",
      "\n",
      "Number of nonzeros in equality constraint Jacobian...:        0\n",
      "Number of nonzeros in inequality constraint Jacobian.:        0\n",
      "Number of nonzeros in Lagrangian Hessian.............:        2\n",
      "\n",
      "Error evaluating \"var =\" definition -1: can't evaluate pow'(0,0.6).\n",
      "ERROR: Solver (ipopt) returned non-zero return code (1)\n",
      "ERROR: See the solver log above for diagnostic information.\n"
     ]
    },
    {
     "ename": "ApplicationError",
     "evalue": "Solver (ipopt) did not exit normally",
     "output_type": "error",
     "traceback": [
      "\u001b[1;31m---------------------------------------------------------------------------\u001b[0m",
      "\u001b[1;31mApplicationError\u001b[0m                          Traceback (most recent call last)",
      "\u001b[1;32m<ipython-input-5-6941515c3caa>\u001b[0m in \u001b[0;36m<module>\u001b[1;34m\u001b[0m\n\u001b[0;32m      1\u001b[0m \u001b[0msolver\u001b[0m \u001b[1;33m=\u001b[0m \u001b[0mpyo\u001b[0m\u001b[1;33m.\u001b[0m\u001b[0mSolverFactory\u001b[0m\u001b[1;33m(\u001b[0m\u001b[1;34m'ipopt'\u001b[0m\u001b[1;33m)\u001b[0m\u001b[1;33m\u001b[0m\u001b[1;33m\u001b[0m\u001b[0m\n\u001b[1;32m----> 2\u001b[1;33m \u001b[0mresults\u001b[0m \u001b[1;33m=\u001b[0m \u001b[0msolver\u001b[0m\u001b[1;33m.\u001b[0m\u001b[0msolve\u001b[0m\u001b[1;33m(\u001b[0m\u001b[0mnlp\u001b[0m\u001b[1;33m,\u001b[0m \u001b[0mtee\u001b[0m\u001b[1;33m=\u001b[0m\u001b[1;32mTrue\u001b[0m\u001b[1;33m)\u001b[0m\u001b[1;33m\u001b[0m\u001b[1;33m\u001b[0m\u001b[0m\n\u001b[0m",
      "\u001b[1;32m~\\Anaconda3\\lib\\site-packages\\pyomo\\opt\\base\\solvers.py\u001b[0m in \u001b[0;36msolve\u001b[1;34m(self, *args, **kwds)\u001b[0m\n\u001b[0;32m    594\u001b[0m                     \u001b[0mlogger\u001b[0m\u001b[1;33m.\u001b[0m\u001b[0merror\u001b[0m\u001b[1;33m(\u001b[0m\u001b[1;34m\"Solver log:\\n\"\u001b[0m \u001b[1;33m+\u001b[0m \u001b[0mstr\u001b[0m\u001b[1;33m(\u001b[0m\u001b[0m_status\u001b[0m\u001b[1;33m.\u001b[0m\u001b[0mlog\u001b[0m\u001b[1;33m)\u001b[0m\u001b[1;33m)\u001b[0m\u001b[1;33m\u001b[0m\u001b[1;33m\u001b[0m\u001b[0m\n\u001b[0;32m    595\u001b[0m                 raise ApplicationError(\n\u001b[1;32m--> 596\u001b[1;33m                     \"Solver (%s) did not exit normally\" % self.name)\n\u001b[0m\u001b[0;32m    597\u001b[0m             \u001b[0msolve_completion_time\u001b[0m \u001b[1;33m=\u001b[0m \u001b[0mtime\u001b[0m\u001b[1;33m.\u001b[0m\u001b[0mtime\u001b[0m\u001b[1;33m(\u001b[0m\u001b[1;33m)\u001b[0m\u001b[1;33m\u001b[0m\u001b[1;33m\u001b[0m\u001b[0m\n\u001b[0;32m    598\u001b[0m             \u001b[1;32mif\u001b[0m \u001b[0mself\u001b[0m\u001b[1;33m.\u001b[0m\u001b[0m_report_timing\u001b[0m\u001b[1;33m:\u001b[0m\u001b[1;33m\u001b[0m\u001b[1;33m\u001b[0m\u001b[0m\n",
      "\u001b[1;31mApplicationError\u001b[0m: Solver (ipopt) did not exit normally"
     ]
    }
   ],
   "source": [
    "solver = pyo.SolverFactory('ipopt')\n",
    "results = solver.solve(nlp, tee=True)"
   ]
  },
  {
   "cell_type": "markdown",
   "metadata": {},
   "source": [
    "What happened? $0^{0.6}$ is not well defined. Work around? Let's set the lower bound to something really small:"
   ]
  },
  {
   "cell_type": "code",
   "execution_count": 6,
   "metadata": {},
   "outputs": [
    {
     "name": "stdout",
     "output_type": "stream",
     "text": [
      "1 Set Declarations\n",
      "    REACTORS : Size=1, Index=None, Ordered=Insertion\n",
      "        Key  : Dimen : Domain : Size : Members\n",
      "        None :     1 :    Any :    2 : {1, 2}\n",
      "\n",
      "4 Param Declarations\n",
      "    conversion : Size=2, Index=REACTORS, Domain=Any, Default=None, Mutable=False\n",
      "        Key : Value\n",
      "          1 :   0.8\n",
      "          2 :  0.67\n",
      "    feed_cost : Size=1, Index=None, Domain=Any, Default=None, Mutable=False\n",
      "        Key  : Value\n",
      "        None :   5.0\n",
      "    product_flowrate : Size=1, Index=None, Domain=Any, Default=None, Mutable=False\n",
      "        Key  : Value\n",
      "        None :  10.0\n",
      "    reactor_cost : Size=2, Index=REACTORS, Domain=Any, Default=None, Mutable=False\n",
      "        Key : Value\n",
      "          1 :   5.5\n",
      "          2 :   4.0\n",
      "\n",
      "3 Var Declarations\n",
      "    feed_flowrate : Size=1, Index=None\n",
      "        Key  : Lower : Value : Upper : Fixed : Stale : Domain\n",
      "        None :     0 :  20.0 :  None : False : False : NonNegativeReals\n",
      "    reactor_effluent : Size=2, Index=REACTORS\n",
      "        Key : Lower : Value : Upper : Fixed : Stale : Domain\n",
      "          1 :     0 :  16.0 :  None : False : False : NonNegativeReals\n",
      "          2 :     0 :   0.0 :  None : False : False : NonNegativeReals\n",
      "    reactor_feed : Size=2, Index=REACTORS\n",
      "        Key : Lower : Value : Upper : Fixed : Stale : Domain\n",
      "          1 : 1e-06 :  20.0 :  None : False : False : NonNegativeReals\n",
      "          2 : 1e-06 : 1e-06 :  None : False : False : NonNegativeReals\n",
      "\n",
      "1 Objective Declarations\n",
      "    cost : Size=1, Index=None, Active=True\n",
      "        Key  : Active : Sense    : Expression\n",
      "        None :   True : minimize : 5.5*reactor_feed[1]**0.6 + 4.0*reactor_feed[2]**0.6 + 5.0*feed_flowrate\n",
      "\n",
      "9 Declarations: REACTORS reactor_cost product_flowrate conversion feed_cost feed_flowrate reactor_feed reactor_effluent cost\n"
     ]
    }
   ],
   "source": [
    "small_number = 1E-6\n",
    "for r in nlp.REACTORS:\n",
    "    \n",
    "    # Set lower bound\n",
    "    nlp.reactor_feed[r].setlb(small_number)\n",
    "    \n",
    "    # Adjust initial point if needed\n",
    "    nlp.reactor_feed[r] = max(nlp.reactor_feed[r](), small_number)\n",
    "    \n",
    "nlp.pprint()"
   ]
  },
  {
   "cell_type": "markdown",
   "metadata": {},
   "source": [
    "Now let's resolve:"
   ]
  },
  {
   "cell_type": "code",
   "execution_count": 7,
   "metadata": {},
   "outputs": [
    {
     "name": "stdout",
     "output_type": "stream",
     "text": [
      "Ipopt 3.13.2: \n",
      "\n",
      "******************************************************************************\n",
      "This program contains Ipopt, a library for large-scale nonlinear optimization.\n",
      " Ipopt is released as open source code under the Eclipse Public License (EPL).\n",
      "         For more information visit http://projects.coin-or.org/Ipopt\n",
      "\n",
      "This version of Ipopt was compiled from source code available at\n",
      "    https://github.com/IDAES/Ipopt as part of the Institute for the Design of\n",
      "    Advanced Energy Systems Process Systems Engineering Framework (IDAES PSE\n",
      "    Framework) Copyright (c) 2018-2019. See https://github.com/IDAES/idaes-pse.\n",
      "\n",
      "This version of Ipopt was compiled using HSL, a collection of Fortran codes\n",
      "    for large-scale scientific computation.  All technical papers, sales and\n",
      "    publicity material resulting from use of the HSL codes within IPOPT must\n",
      "    contain the following acknowledgement:\n",
      "        HSL, a collection of Fortran codes for large-scale scientific\n",
      "        computation. See http://www.hsl.rl.ac.uk.\n",
      "******************************************************************************\n",
      "\n",
      "This is Ipopt version 3.13.2, running with linear solver ma27.\n",
      "\n",
      "Number of nonzeros in equality constraint Jacobian...:        0\n",
      "Number of nonzeros in inequality constraint Jacobian.:        0\n",
      "Number of nonzeros in Lagrangian Hessian.............:        2\n",
      "\n",
      "Total number of variables............................:        3\n",
      "                     variables with only lower bounds:        3\n",
      "                variables with lower and upper bounds:        0\n",
      "                     variables with only upper bounds:        0\n",
      "Total number of equality constraints.................:        0\n",
      "Total number of inequality constraints...............:        0\n",
      "        inequality constraints with only lower bounds:        0\n",
      "   inequality constraints with lower and upper bounds:        0\n",
      "        inequality constraints with only upper bounds:        0\n",
      "\n",
      "iter    objective    inf_pr   inf_du lg(mu)  ||d||  lg(rg) alpha_du alpha_pr  ls\n",
      "   0  1.3344037e+02 0.00e+00 1.51e+00  -1.0 0.00e+00    -  0.00e+00 0.00e+00   0\n",
      "   1  1.3551994e+02 0.00e+00 8.34e-01  -1.0 1.39e+01   0.0 7.17e-04 3.12e-02f  6\n",
      "   2  1.3341180e+02 0.00e+00 8.07e-01  -1.0 3.03e-01   0.4 9.98e-01 1.00e+00f  1\n",
      "   3  1.2969096e+02 0.00e+00 3.45e+00  -1.7 9.31e-01  -0.1 1.00e+00 3.96e-01f  1\n",
      "   4  1.2975160e+02 0.00e+00 3.02e+00  -1.7 3.04e-03   3.1 1.00e+00 1.00e+00f  1\n",
      "   5  1.2974477e+02 0.00e+00 8.28e-01  -1.7 2.05e-03   2.6 1.00e+00 1.00e+00f  1\n",
      "   6  1.2972028e+02 0.00e+00 8.28e-01  -1.7 6.14e-03   2.1 1.00e+00 1.00e+00f  1\n",
      "   7  1.2962772e+02 0.00e+00 8.28e-01  -1.7 1.84e-02   1.7 1.00e+00 1.00e+00f  1\n",
      "   8  1.2934094e+02 0.00e+00 8.28e-01  -1.7 5.53e-02   1.2 1.00e+00 1.00e+00f  1\n",
      "   9  1.2847874e+02 0.00e+00 8.28e-01  -1.7 1.66e-01   0.7 1.00e+00 1.00e+00f  1\n",
      "iter    objective    inf_pr   inf_du lg(mu)  ||d||  lg(rg) alpha_du alpha_pr  ls\n",
      "  10  1.2589179e+02 0.00e+00 8.28e-01  -1.7 4.98e-01   0.2 1.00e+00 1.00e+00f  1\n",
      "  11  1.1812872e+02 0.00e+00 8.28e-01  -1.7 1.49e+00  -0.3 1.00e+00 1.00e+00f  1\n",
      "  12  9.4819356e+01 0.00e+00 8.28e-01  -1.7 4.48e+00  -0.7 1.00e+00 1.00e+00f  1\n",
      "  13  2.9626823e+01 0.00e+00 8.26e-01  -1.7 1.34e+01  -1.2 1.00e+00 9.30e-01f  1\n",
      "  14  2.8899067e+01 0.00e+00 3.02e-01  -1.7 1.47e+01  -1.7 1.00e+00 8.49e-03f  1\n",
      "  15  2.0538910e+00 0.00e+00 1.14e+00  -1.7 7.69e+01  -2.2 1.00e+00 2.02e-01f  1\n",
      "  16  4.2821877e-01 0.00e+00 7.10e+00  -1.7 1.57e-01   1.0 1.00e+00 9.90e-01f  1\n",
      "  17  4.4884071e-01 0.00e+00 6.22e+00  -1.7 5.00e-04   4.1 1.00e+00 1.00e+00f  1\n",
      "  18  4.8000127e-01 0.00e+00 1.44e-01  -1.7 1.42e-03    -  1.00e+00 1.00e+00f  1\n",
      "  19  6.1618299e-02 0.00e+00 3.66e+01  -2.5 2.06e-02    -  1.00e+00 6.97e-01f  1\n",
      "iter    objective    inf_pr   inf_du lg(mu)  ||d||  lg(rg) alpha_du alpha_pr  ls\n",
      "  20  8.5185650e-02 0.00e+00 1.15e+02  -2.5 8.95e-05   6.3 1.00e+00 1.00e+00f  1\n",
      "  21  6.1594244e-02 0.00e+00 6.79e-01  -2.5 1.77e-02    -  1.00e+00 2.72e-01f  2\n",
      "  22  7.1841710e-02 0.00e+00 5.83e+00  -2.5 1.43e-03    -  1.00e+00 1.00e+00f  1\n",
      "  23  7.5356855e-02 0.00e+00 3.18e+00  -2.5 2.10e-04    -  1.00e+00 2.50e-01f  3\n",
      "  24  7.4015341e-02 0.00e+00 3.12e-01  -2.5 4.57e-05    -  1.00e+00 5.00e-01f  2\n",
      "  25  7.4175160e-02 0.00e+00 2.30e-04  -2.5 1.04e-06    -  1.00e+00 1.00e+00f  1\n",
      "  26  9.4187428e-03 0.00e+00 9.51e+01  -3.8 3.23e-03    -  1.00e+00 6.35e-01f  1\n",
      "  27  9.5844273e-03 0.00e+00 4.13e+01  -3.8 1.18e-03    -  6.45e-02 1.00e+00f  1\n",
      "  28  7.5923062e-03 0.00e+00 3.30e+01  -3.8 6.82e-06   6.8 1.00e+00 4.78e-01f  2\n",
      "  29  6.5613741e-03 0.00e+00 3.73e+02  -3.8 1.65e-04    -  1.00e+00 2.01e-02f  2\n",
      "iter    objective    inf_pr   inf_du lg(mu)  ||d||  lg(rg) alpha_du alpha_pr  ls\n",
      "  30  6.0017232e-03 0.00e+00 1.83e+00  -3.8 1.07e-06    -  1.00e+00 1.00e+00f  1\n",
      "  31  5.4318889e-03 0.00e+00 8.33e-01  -3.8 7.97e-07    -  1.00e+00 1.00e+00f  1\n",
      "  32  5.4697632e-03 0.00e+00 6.42e-03  -3.8 4.12e-08    -  1.00e+00 1.00e+00f  1\n",
      "  33  5.4694244e-03 0.00e+00 3.39e-07  -3.8 4.89e-10    -  1.00e+00 1.00e+00f  1\n",
      "  34  2.6978786e-03 0.00e+00 1.55e+01  -5.7 1.79e-04    -  1.00e+00 7.23e-01f  1\n",
      "  35  2.4012904e-03 0.00e+00 1.97e-01  -5.7 4.96e-05    -  1.00e+00 1.00e+00f  1\n",
      "  36  2.4053218e-03 0.00e+00 2.00e-03  -5.7 7.20e-09    -  1.00e+00 1.00e+00f  1\n",
      "  37  2.4053331e-03 0.00e+00 4.11e-09  -5.7 1.04e-11    -  1.00e+00 1.00e+00f  1\n",
      "  38  2.3719996e-03 0.00e+00 5.13e-03  -8.6 2.22e-06    -  1.00e+00 9.94e-01f  1\n",
      "  39  2.3719409e-03 0.00e+00 1.79e-08  -8.6 1.33e-08    -  1.00e+00 1.00e+00f  1\n",
      "iter    objective    inf_pr   inf_du lg(mu)  ||d||  lg(rg) alpha_du alpha_pr  ls\n",
      "  40  2.3719120e-03 0.00e+00 7.26e-09  -9.0 1.93e-09    -  1.00e+00 1.00e+00f  1\n",
      "\n",
      "Number of Iterations....: 40\n",
      "\n",
      "                                   (scaled)                 (unscaled)\n",
      "Objective...............:   3.9344799439124372e-04    2.3719120286784545e-03\n",
      "Dual infeasibility......:   7.2561050501462887e-09    4.3743628370569462e-08\n",
      "Constraint violation....:   0.0000000000000000e+00    0.0000000000000000e+00\n",
      "Complementarity.........:   9.0909090909094022e-10    5.4804794869301823e-09\n",
      "Overall NLP error.......:   7.2561050501462887e-09    4.3743628370569462e-08\n",
      "\n",
      "\n",
      "Number of objective function evaluations             = 76\n",
      "Number of objective gradient evaluations             = 41\n",
      "Number of equality constraint evaluations            = 0\n",
      "Number of inequality constraint evaluations          = 0\n",
      "Number of equality constraint Jacobian evaluations   = 0\n",
      "Number of inequality constraint Jacobian evaluations = 0\n",
      "Number of Lagrangian Hessian evaluations             = 40\n",
      "Total CPU secs in IPOPT (w/o function evaluations)   =      0.016\n",
      "Total CPU secs in NLP function evaluations           =      0.000\n",
      "\n",
      "EXIT: Optimal Solution Found.\n",
      "\b\b\b\b\b\b\b\b\b\b\b\b\b\b"
     ]
    }
   ],
   "source": [
    "solver = pyo.SolverFactory('ipopt')\n",
    "results = solver.solve(nlp, tee=True)"
   ]
  },
  {
   "cell_type": "markdown",
   "metadata": {},
   "source": [
    "Now we can print the variable names and values:"
   ]
  },
  {
   "cell_type": "code",
   "execution_count": 8,
   "metadata": {},
   "outputs": [
    {
     "name": "stdout",
     "output_type": "stream",
     "text": [
      "Variable Names\t\tValue\n",
      "feed_flowrate \t\t 0.0\n",
      "reactor_feed[1] \t\t 1e-06\n",
      "reactor_feed[2] \t\t 1e-06\n",
      "reactor_effluent[1] \t\t 16.0\n",
      "reactor_effluent[2] \t\t 0.0\n",
      "\n",
      "Objective Name\t\tValue\n",
      "cost \t\t 0.0023862921099341017\n"
     ]
    }
   ],
   "source": [
    "def print_solution(model):\n",
    "    '''Print variable names and values\n",
    "    \n",
    "    Arguments:\n",
    "        model: Pyomo model\n",
    "    \n",
    "    '''\n",
    "\n",
    "    print(\"Variable Names\\t\\tValue\")\n",
    "    for c in model.component_data_objects(pyo.Var):\n",
    "        print(c.name,\"\\t\\t\", pyo.value(c))\n",
    "        \n",
    "    print(\"\\nObjective Name\\t\\tValue\")\n",
    "    for c in model.component_data_objects(pyo.Objective):\n",
    "        print(c.name,\"\\t\\t\", pyo.value(c))\n",
    "        \n",
    "print_solution(nlp)"
   ]
  },
  {
   "cell_type": "markdown",
   "metadata": {},
   "source": [
    "### Initialize to Favor Reaction 2 and Solve"
   ]
  },
  {
   "cell_type": "code",
   "execution_count": 9,
   "metadata": {
    "scrolled": false
   },
   "outputs": [
    {
     "name": "stdout",
     "output_type": "stream",
     "text": [
      "Ipopt 3.13.2: \n",
      "\n",
      "******************************************************************************\n",
      "This program contains Ipopt, a library for large-scale nonlinear optimization.\n",
      " Ipopt is released as open source code under the Eclipse Public License (EPL).\n",
      "         For more information visit http://projects.coin-or.org/Ipopt\n",
      "\n",
      "This version of Ipopt was compiled from source code available at\n",
      "    https://github.com/IDAES/Ipopt as part of the Institute for the Design of\n",
      "    Advanced Energy Systems Process Systems Engineering Framework (IDAES PSE\n",
      "    Framework) Copyright (c) 2018-2019. See https://github.com/IDAES/idaes-pse.\n",
      "\n",
      "This version of Ipopt was compiled using HSL, a collection of Fortran codes\n",
      "    for large-scale scientific computation.  All technical papers, sales and\n",
      "    publicity material resulting from use of the HSL codes within IPOPT must\n",
      "    contain the following acknowledgement:\n",
      "        HSL, a collection of Fortran codes for large-scale scientific\n",
      "        computation. See http://www.hsl.rl.ac.uk.\n",
      "******************************************************************************\n",
      "\n",
      "This is Ipopt version 3.13.2, running with linear solver ma27.\n",
      "\n",
      "Number of nonzeros in equality constraint Jacobian...:        0\n",
      "Number of nonzeros in inequality constraint Jacobian.:        0\n",
      "Number of nonzeros in Lagrangian Hessian.............:        2\n",
      "\n",
      "Total number of variables............................:        3\n",
      "                     variables with only lower bounds:        3\n",
      "                variables with lower and upper bounds:        0\n",
      "                     variables with only upper bounds:        0\n",
      "Total number of equality constraints.................:        0\n",
      "Total number of inequality constraints...............:        0\n",
      "        inequality constraints with only lower bounds:        0\n",
      "   inequality constraints with lower and upper bounds:        0\n",
      "        inequality constraints with only upper bounds:        0\n",
      "\n",
      "iter    objective    inf_pr   inf_du lg(mu)  ||d||  lg(rg) alpha_du alpha_pr  ls\n",
      "   0  1.2448375e+02 0.00e+00 1.51e+00  -1.0 0.00e+00    -  0.00e+00 0.00e+00   0\n",
      "   1  1.2742759e+02 0.00e+00 9.12e-01  -1.0 1.39e+01   0.0 7.17e-04 3.12e-02f  6\n",
      "   2  1.2557307e+02 0.00e+00 5.84e-01  -1.0 2.20e-01   0.4 9.96e-01 1.00e+00f  1\n",
      "   3  1.2172498e+02 0.00e+00 3.45e+00  -1.7 7.42e-01  -0.1 1.00e+00 3.95e-01f  1\n",
      "   4  1.2181071e+02 0.00e+00 3.02e+00  -1.7 3.04e-03   3.1 1.00e+00 1.00e+00f  1\n",
      "   5  1.2180836e+02 0.00e+00 6.02e-01  -1.7 1.49e-03   2.6 1.00e+00 1.00e+00f  1\n",
      "   6  1.2179580e+02 0.00e+00 6.02e-01  -1.7 4.47e-03   2.1 1.00e+00 1.00e+00f  1\n",
      "   7  1.2173188e+02 0.00e+00 6.02e-01  -1.7 1.34e-02   1.7 1.00e+00 1.00e+00f  1\n",
      "   8  1.2152760e+02 0.00e+00 6.02e-01  -1.7 4.02e-02   1.2 1.00e+00 1.00e+00f  1\n",
      "   9  1.2091225e+02 0.00e+00 6.02e-01  -1.7 1.21e-01   0.7 1.00e+00 1.00e+00f  1\n",
      "iter    objective    inf_pr   inf_du lg(mu)  ||d||  lg(rg) alpha_du alpha_pr  ls\n",
      "  10  1.1906603e+02 0.00e+00 6.02e-01  -1.7 3.62e-01   0.2 1.00e+00 1.00e+00f  1\n",
      "  11  1.1352734e+02 0.00e+00 6.02e-01  -1.7 1.08e+00  -0.3 1.00e+00 1.00e+00f  1\n",
      "  12  9.6911371e+01 0.00e+00 6.02e-01  -1.7 3.25e+00  -0.7 1.00e+00 1.00e+00f  1\n",
      "  13  4.7085072e+01 0.00e+00 6.01e-01  -1.7 9.75e+00  -1.2 1.00e+00 1.00e+00f  1\n",
      "  14  2.2360108e+01 0.00e+00 5.86e-01  -1.7 2.85e+01  -1.7 1.00e+00 1.69e-01f  1\n",
      "  15  2.0720005e+01 0.00e+00 9.48e-02  -1.7 1.95e+01  -2.2 1.00e+00 9.07e-02f  1\n",
      "  16  1.6782946e+01 0.00e+00 2.54e+01  -2.5 6.13e+00  -1.7 1.00e+00 6.97e-01f  1\n",
      "  17  1.6801997e+01 0.00e+00 1.03e+02  -2.5 1.26e-04   6.1 1.00e+00 1.00e+00f  1\n",
      "  18  1.6802554e+01 0.00e+00 2.10e+00  -2.5 4.94e-06   5.6 1.00e+00 1.00e+00f  1\n",
      "  19  1.6805349e+01 0.00e+00 3.57e+00  -2.5 2.58e-05   5.2 1.00e+00 1.00e+00f  1\n",
      "iter    objective    inf_pr   inf_du lg(mu)  ||d||  lg(rg) alpha_du alpha_pr  ls\n",
      "  20  1.6808541e+01 0.00e+00 1.38e+00  -2.5 3.13e-05   4.7 1.00e+00 1.00e+00f  1\n",
      "  21  1.6811678e+01 0.00e+00 4.38e-01  -2.5 3.23e-05   4.2 1.00e+00 1.00e+00f  1\n",
      "  22  1.6813555e+01 0.00e+00 2.06e-01  -2.5 3.93e-05   3.7 1.00e+00 1.00e+00f  1\n",
      "  23  1.6814443e+01 0.00e+00 1.82e-01  -2.5 1.04e-04   3.2 1.00e+00 1.00e+00f  1\n",
      "  24  1.6815444e+01 0.00e+00 1.33e-01  -2.5 2.28e-04   2.8 1.00e+00 1.00e+00f  1\n",
      "  25  1.6816676e+01 0.00e+00 1.11e-01  -2.5 5.71e-04   2.3 1.00e+00 1.00e+00f  1\n",
      "  26  1.6816731e+01 0.00e+00 1.11e-01  -2.5 1.71e-03   1.8 1.00e+00 1.00e+00f  1\n",
      "  27  1.6812753e+01 0.00e+00 1.11e-01  -2.5 5.14e-03   1.3 1.00e+00 1.00e+00f  1\n",
      "  28  1.6798637e+01 0.00e+00 1.11e-01  -2.5 1.54e-02   0.9 1.00e+00 1.00e+00f  1\n",
      "  29  1.6755747e+01 0.00e+00 1.11e-01  -2.5 4.64e-02   0.4 1.00e+00 1.00e+00f  1\n",
      "iter    objective    inf_pr   inf_du lg(mu)  ||d||  lg(rg) alpha_du alpha_pr  ls\n",
      "  30  1.6625941e+01 0.00e+00 1.12e-01  -2.5 1.40e-01  -0.1 1.00e+00 1.00e+00f  1\n",
      "  31  1.6226049e+01 0.00e+00 1.14e-01  -2.5 4.26e-01  -0.6 1.00e+00 1.00e+00f  1\n",
      "  32  1.4916967e+01 0.00e+00 1.20e-01  -2.5 1.35e+00  -1.1 1.00e+00 1.00e+00f  1\n",
      "  33  9.1774274e+00 0.00e+00 1.67e-01  -2.5 4.96e+00  -1.5 1.00e+00 1.00e+00f  1\n",
      "  34  4.6862843e+00 0.00e+00 2.62e-01  -2.5 2.67e+00  -1.1 1.00e+00 1.00e+00f  1\n",
      "  35  1.9943481e-01 0.00e+00 2.74e+00  -2.5 2.02e+00  -0.7 1.00e+00 6.29e-01f  1\n",
      "  36  1.7567293e-01 0.00e+00 2.33e+00  -2.5 9.81e-04   3.4 1.00e+00 1.00e+00f  1\n",
      "  37  1.3736679e-01 0.00e+00 2.00e+00  -2.5 3.45e-03   2.9 1.00e+00 3.79e-01f  2\n",
      "  38  1.1205665e-01 0.00e+00 5.53e+00  -2.5 5.46e-03    -  1.00e+00 1.20e-01f  2\n",
      "  39  1.0816464e-01 0.00e+00 2.77e-02  -2.5 8.43e-05    -  1.00e+00 1.00e+00f  1\n",
      "iter    objective    inf_pr   inf_du lg(mu)  ||d||  lg(rg) alpha_du alpha_pr  ls\n",
      "  40  1.4489800e-02 0.00e+00 6.12e+01  -3.8 4.44e-03    -  1.00e+00 6.24e-01f  1\n",
      "  41  1.3510621e-02 0.00e+00 6.01e+01  -3.8 1.67e-03    -  1.99e-02 2.64e-02f  2\n",
      "  42  1.4869970e-02 0.00e+00 2.04e+02  -3.8 3.48e-06   7.8 1.00e+00 1.00e+00f  1\n",
      "  43  1.0192494e-02 0.00e+00 9.21e-01  -3.8 1.22e-02    -  1.00e+00 7.68e-02f  2\n",
      "  44  6.7626611e-03 0.00e+00 2.88e-02  -3.8 6.87e-04    -  1.00e+00 1.00e+00f  1\n",
      "  45  6.7624929e-03 0.00e+00 2.44e-06  -3.8 1.54e-09    -  1.00e+00 1.00e+00f  1\n",
      "  46  2.8639986e-03 0.00e+00 1.67e+01  -5.7 2.46e-04    -  1.00e+00 6.89e-01f  1\n",
      "  47  2.4077415e-03 0.00e+00 3.16e-01  -5.7 7.65e-05    -  1.00e+00 1.00e+00f  1\n",
      "  48  2.4178402e-03 0.00e+00 8.54e-03  -5.7 1.74e-08    -  1.00e+00 1.00e+00f  1\n",
      "  49  2.4179087e-03 0.00e+00 1.22e-07  -5.7 6.67e-11    -  1.00e+00 1.00e+00f  1\n",
      "iter    objective    inf_pr   inf_du lg(mu)  ||d||  lg(rg) alpha_du alpha_pr  ls\n",
      "  50  2.3720914e-03 0.00e+00 6.66e-03  -8.6 3.05e-06    -  1.00e+00 9.91e-01f  1\n",
      "  51  2.3719579e-03 0.00e+00 2.46e-08  -8.6 2.66e-08    -  1.00e+00 1.00e+00f  1\n",
      "  52  2.3719182e-03 0.00e+00 9.98e-09  -9.0 2.65e-09    -  1.00e+00 1.00e+00f  1\n",
      "\n",
      "Number of Iterations....: 52\n",
      "\n",
      "                                   (scaled)                 (unscaled)\n",
      "Objective...............:   2.8614473971293593e-04    2.3719181941381224e-03\n",
      "Dual infeasibility......:   9.9781516382790869e-09    8.2711146248736485e-08\n",
      "Constraint violation....:   0.0000000000000000e+00    0.0000000000000000e+00\n",
      "Complementarity.........:   9.0909090909095108e-10    7.5356592945290897e-09\n",
      "Overall NLP error.......:   9.9781516382790869e-09    8.2711146248736485e-08\n",
      "\n",
      "\n",
      "Number of objective function evaluations             = 82\n",
      "Number of objective gradient evaluations             = 53\n",
      "Number of equality constraint evaluations            = 0\n",
      "Number of inequality constraint evaluations          = 0\n",
      "Number of equality constraint Jacobian evaluations   = 0\n",
      "Number of inequality constraint Jacobian evaluations = 0\n",
      "Number of Lagrangian Hessian evaluations             = 52\n",
      "Total CPU secs in IPOPT (w/o function evaluations)   =      0.013\n",
      "Total CPU secs in NLP function evaluations           =      0.000\n",
      "\n",
      "EXIT: Optimal Solution Found.\n",
      "Variable Names\t\tValue\n",
      "feed_flowrate \t\t 0.0\n",
      "reactor_feed[1] \t\t 1e-06\n",
      "reactor_feed[2] \t\t 1e-06\n",
      "reactor_effluent[1] \t\t 0.0\n",
      "reactor_effluent[2] \t\t 13.4\n",
      "\n",
      "Objective Name\t\tValue\n",
      "cost \t\t 0.0023862921099341017\n"
     ]
    }
   ],
   "source": [
    "# Initialize\n",
    "initialize(nlp, reactor_choice=2)\n",
    "\n",
    "# Correct for bound\n",
    "# Note: I would have put this in the initialize function but I wanted to show\n",
    "# the error in class\n",
    "for r in nlp.REACTORS:\n",
    "    # Adjust initial point if needed\n",
    "    nlp.reactor_feed[r] = max(nlp.reactor_feed[r](), small_number)\n",
    "\n",
    "results = solver.solve(nlp, tee=True)\n",
    "print_solution(nlp)"
   ]
  },
  {
   "cell_type": "markdown",
   "metadata": {},
   "source": [
    "Which solution is better? Why are there multiple solutions?"
   ]
  },
  {
   "cell_type": "markdown",
   "metadata": {},
   "source": [
    "### Discrete Cost Model"
   ]
  },
  {
   "cell_type": "markdown",
   "metadata": {},
   "source": [
    "We want to modify the model to:\n",
    "* Easily find the best global solution (reduce impacts of initialization)\n",
    "* Account for the fact there is a minimum reactor size we can purchase"
   ]
  },
  {
   "cell_type": "markdown",
   "metadata": {},
   "source": [
    "### Enumerate the solutions"
   ]
  },
  {
   "cell_type": "markdown",
   "metadata": {},
   "source": [
    "As an illustration, enumerate through the following four options:\n",
    "1. No reactor\n",
    "2. Reactor I only\n",
    "3. Reactor II only\n",
    "4. Reactor I and II only\n",
    "\n",
    "For each option, ask:\n",
    "* Are the constraints feasible?\n",
    "* What is the objective?"
   ]
  },
  {
   "cell_type": "markdown",
   "metadata": {},
   "source": [
    "### Solve with Pyomo"
   ]
  },
  {
   "cell_type": "markdown",
   "metadata": {},
   "source": [
    "Create and inspect the model."
   ]
  },
  {
   "cell_type": "code",
   "execution_count": 10,
   "metadata": {},
   "outputs": [
    {
     "name": "stdout",
     "output_type": "stream",
     "text": [
      "1 Set Declarations\n",
      "    REACTORS : Size=1, Index=None, Ordered=Insertion\n",
      "        Key  : Dimen : Domain : Size : Members\n",
      "        None :     1 :    Any :    2 : {1, 2}\n",
      "\n",
      "6 Param Declarations\n",
      "    conversion : Size=2, Index=REACTORS, Domain=Any, Default=None, Mutable=False\n",
      "        Key : Value\n",
      "          1 :   0.8\n",
      "          2 :  0.67\n",
      "    feed_cost : Size=1, Index=None, Domain=Any, Default=None, Mutable=False\n",
      "        Key  : Value\n",
      "        None :   5.0\n",
      "    max_flowrate : Size=1, Index=None, Domain=Any, Default=None, Mutable=False\n",
      "        Key  : Value\n",
      "        None :  20.0\n",
      "    product_flowrate : Size=1, Index=None, Domain=Any, Default=None, Mutable=False\n",
      "        Key  : Value\n",
      "        None :  10.0\n",
      "    reactor_cost_fixed : Size=2, Index=REACTORS, Domain=Any, Default=None, Mutable=False\n",
      "        Key : Value\n",
      "          1 :   7.5\n",
      "          2 :   5.5\n",
      "    reactor_cost_linear : Size=2, Index=REACTORS, Domain=Any, Default=None, Mutable=False\n",
      "        Key : Value\n",
      "          1 :   6.4\n",
      "          2 :   6.0\n",
      "\n",
      "3 Var Declarations\n",
      "    feed_flowrate : Size=1, Index=None\n",
      "        Key  : Lower : Value : Upper : Fixed : Stale : Domain\n",
      "        None :     0 :  None :  20.0 : False :  True : NonNegativeReals\n",
      "    reactor_effluent : Size=2, Index=REACTORS\n",
      "        Key : Lower : Value : Upper : Fixed : Stale : Domain\n",
      "          1 :     0 :  None :  None : False :  True : NonNegativeReals\n",
      "          2 :     0 :  None :  None : False :  True : NonNegativeReals\n",
      "    reactor_feed : Size=2, Index=REACTORS\n",
      "        Key : Lower : Value : Upper : Fixed : Stale : Domain\n",
      "          1 :     0 :  None :  20.0 : False :  True : NonNegativeReals\n",
      "          2 :     0 :  None :  20.0 : False :  True : NonNegativeReals\n",
      "\n",
      "3 Constraint Declarations\n",
      "    inlet_split : Size=1, Index=None, Active=True\n",
      "        Key  : Lower : Body                                                : Upper : Active\n",
      "        None :   0.0 : feed_flowrate - (reactor_feed[1] + reactor_feed[2]) :   0.0 :   True\n",
      "    mixer : Size=1, Index=None, Active=True\n",
      "        Key  : Lower : Body                                      : Upper : Active\n",
      "        None :  10.0 : reactor_effluent[1] + reactor_effluent[2] :  10.0 :   True\n",
      "    reactor_performance : Size=2, Index=REACTORS, Active=True\n",
      "        Key : Lower : Body                                       : Upper : Active\n",
      "          1 :   0.0 :  reactor_effluent[1] - 0.8*reactor_feed[1] :   0.0 :   True\n",
      "          2 :   0.0 : reactor_effluent[2] - 0.67*reactor_feed[2] :   0.0 :   True\n",
      "\n",
      "13 Declarations: REACTORS max_flowrate reactor_cost_linear reactor_cost_fixed product_flowrate conversion feed_cost feed_flowrate reactor_feed reactor_effluent inlet_split reactor_performance mixer\n"
     ]
    }
   ],
   "source": [
    "milp = pyo.ConcreteModel()\n",
    "\n",
    "## Define sets\n",
    "milp.REACTORS = pyo.Set(initialize=range(1,3))\n",
    "\n",
    "## Define parameters (data)\n",
    "\n",
    "# kmol/hour\n",
    "milp.max_flowrate = pyo.Param(initialize=20.0)\n",
    "\n",
    "# $ / hr\n",
    "cost_coefficient1 = {1:6.4, 2:6.0}\n",
    "milp.reactor_cost_linear = pyo.Param(milp.REACTORS, initialize=cost_coefficient1)\n",
    "\n",
    "# $\n",
    "cost_coefficient2 = {1:7.5, 2:5.5}\n",
    "milp.reactor_cost_fixed = pyo.Param(milp.REACTORS, initialize=cost_coefficient2)\n",
    "\n",
    "# kmol/hr B\n",
    "milp.product_flowrate = pyo.Param(initialize=10.0)\n",
    "\n",
    "# conversion fraction\n",
    "reactor_conversion = {1:0.8, 2:0.67}\n",
    "milp.conversion = pyo.Param(milp.REACTORS, initialize=reactor_conversion)\n",
    "\n",
    "# feed cost, $/kmol of A\n",
    "milp.feed_cost = pyo.Param(initialize=5.0)\n",
    "\n",
    "\n",
    "## Define variables\n",
    "\n",
    "# Feed flowrate into reactor, x0 in handout illustration\n",
    "milp.feed_flowrate = pyo.Var(domain=pyo.NonNegativeReals, bounds=(0, milp.max_flowrate))\n",
    "\n",
    "# Reactor feed, x1 and x2 in handout illustration\n",
    "milp.reactor_feed = pyo.Var(milp.REACTORS, domain=pyo.NonNegativeReals, bounds=(0, milp.max_flowrate))\n",
    "\n",
    "# Reactor effluent (outlet), z1 and z2 in handout illustration\n",
    "milp.reactor_effluent = pyo.Var(milp.REACTORS, domain=pyo.NonNegativeReals)\n",
    "\n",
    "# Boolean variables\n",
    "# Add your solution here\n",
    "\n",
    "## Define constraints\n",
    "\n",
    "# mass balance over splitter\n",
    "milp.inlet_split = pyo.Constraint(expr=milp.feed_flowrate == sum(milp.reactor_feed[r] for r in milp.REACTORS))\n",
    "\n",
    "# reactor conversion\n",
    "def rule_reactor(m, r):\n",
    "    return m.reactor_effluent[r] == m.conversion[r] * m.reactor_feed[r]\n",
    "milp.reactor_performance = pyo.Constraint(milp.REACTORS, rule=rule_reactor)\n",
    "\n",
    "# mass balance over mixer meets product requirements\n",
    "milp.mixer = pyo.Constraint(expr=milp.product_flowrate == sum(milp.reactor_effluent[r] for r in milp.REACTORS))\n",
    "\n",
    "# logical constraints\n",
    "# Add your solution here\n",
    "\n",
    "## Define objective\n",
    "# Note: our linearization already includes feed costs\n",
    "# Add your solution here\n",
    "milp.pprint()"
   ]
  },
  {
   "cell_type": "markdown",
   "metadata": {},
   "source": [
    "Solve the model using `cbc`, `bonmin`, `gurobi` (need license), or `cplex` (need license)."
   ]
  },
  {
   "cell_type": "code",
   "execution_count": 11,
   "metadata": {},
   "outputs": [
    {
     "name": "stdout",
     "output_type": "stream",
     "text": [
      "Variable Names\t\tValue\n",
      "ERROR: evaluating object as numeric value: feed_flowrate\n",
      "        (object: <class 'pyomo.core.base.var.ScalarVar'>)\n",
      "    No value for uninitialized NumericValue object feed_flowrate\n"
     ]
    },
    {
     "ename": "ValueError",
     "evalue": "No value for uninitialized NumericValue object feed_flowrate",
     "output_type": "error",
     "traceback": [
      "\u001b[1;31m---------------------------------------------------------------------------\u001b[0m",
      "\u001b[1;31mValueError\u001b[0m                                Traceback (most recent call last)",
      "\u001b[1;32m<ipython-input-11-2c703e31122d>\u001b[0m in \u001b[0;36m<module>\u001b[1;34m\u001b[0m\n\u001b[0;32m      7\u001b[0m \u001b[1;31m# Add your solution here\u001b[0m\u001b[1;33m\u001b[0m\u001b[1;33m\u001b[0m\u001b[1;33m\u001b[0m\u001b[0m\n\u001b[0;32m      8\u001b[0m \u001b[1;33m\u001b[0m\u001b[0m\n\u001b[1;32m----> 9\u001b[1;33m \u001b[0mprint_solution\u001b[0m\u001b[1;33m(\u001b[0m\u001b[0mmilp\u001b[0m\u001b[1;33m)\u001b[0m\u001b[1;33m\u001b[0m\u001b[1;33m\u001b[0m\u001b[0m\n\u001b[0m",
      "\u001b[1;32m<ipython-input-8-eedc882823c7>\u001b[0m in \u001b[0;36mprint_solution\u001b[1;34m(model)\u001b[0m\n\u001b[0;32m      9\u001b[0m     \u001b[0mprint\u001b[0m\u001b[1;33m(\u001b[0m\u001b[1;34m\"Variable Names\\t\\tValue\"\u001b[0m\u001b[1;33m)\u001b[0m\u001b[1;33m\u001b[0m\u001b[1;33m\u001b[0m\u001b[0m\n\u001b[0;32m     10\u001b[0m     \u001b[1;32mfor\u001b[0m \u001b[0mc\u001b[0m \u001b[1;32min\u001b[0m \u001b[0mmodel\u001b[0m\u001b[1;33m.\u001b[0m\u001b[0mcomponent_data_objects\u001b[0m\u001b[1;33m(\u001b[0m\u001b[0mpyo\u001b[0m\u001b[1;33m.\u001b[0m\u001b[0mVar\u001b[0m\u001b[1;33m)\u001b[0m\u001b[1;33m:\u001b[0m\u001b[1;33m\u001b[0m\u001b[1;33m\u001b[0m\u001b[0m\n\u001b[1;32m---> 11\u001b[1;33m         \u001b[0mprint\u001b[0m\u001b[1;33m(\u001b[0m\u001b[0mc\u001b[0m\u001b[1;33m.\u001b[0m\u001b[0mname\u001b[0m\u001b[1;33m,\u001b[0m\u001b[1;34m\"\\t\\t\"\u001b[0m\u001b[1;33m,\u001b[0m \u001b[0mpyo\u001b[0m\u001b[1;33m.\u001b[0m\u001b[0mvalue\u001b[0m\u001b[1;33m(\u001b[0m\u001b[0mc\u001b[0m\u001b[1;33m)\u001b[0m\u001b[1;33m)\u001b[0m\u001b[1;33m\u001b[0m\u001b[1;33m\u001b[0m\u001b[0m\n\u001b[0m\u001b[0;32m     12\u001b[0m \u001b[1;33m\u001b[0m\u001b[0m\n\u001b[0;32m     13\u001b[0m     \u001b[0mprint\u001b[0m\u001b[1;33m(\u001b[0m\u001b[1;34m\"\\nObjective Name\\t\\tValue\"\u001b[0m\u001b[1;33m)\u001b[0m\u001b[1;33m\u001b[0m\u001b[1;33m\u001b[0m\u001b[0m\n",
      "\u001b[1;32mpyomo\\core\\expr\\numvalue.pyx\u001b[0m in \u001b[0;36mpyomo.core.expr.numvalue.value\u001b[1;34m()\u001b[0m\n",
      "\u001b[1;32mpyomo\\core\\expr\\numvalue.pyx\u001b[0m in \u001b[0;36mpyomo.core.expr.numvalue.value\u001b[1;34m()\u001b[0m\n",
      "\u001b[1;31mValueError\u001b[0m: No value for uninitialized NumericValue object feed_flowrate"
     ]
    }
   ],
   "source": [
    "\n",
    "# Set solver\n",
    "solver = pyo.SolverFactory('gurobi')\n",
    "# solver = pyo.SolverFactory('glpk')\n",
    "# solver = pyo.SolverFactory('cbc')\n",
    "# solver = pyo.SolverFactory('bonmin')\n",
    "\n",
    "# Add your solution here\n",
    "\n",
    "print_solution(milp)"
   ]
  },
  {
   "cell_type": "markdown",
   "metadata": {},
   "source": [
    "## Is rounding good enough?"
   ]
  },
  {
   "cell_type": "markdown",
   "metadata": {},
   "source": [
    "### Linear Program (Relaxation)"
   ]
  },
  {
   "cell_type": "markdown",
   "metadata": {},
   "source": [
    "$$\\begin{align}\\min_{x_1,x_2} \\quad & x_2 \\\\\n",
    "\\mathrm{s.t.} \\quad & 2 x_1 + x_2 \\geq 13 \\\\\n",
    "& 5 x_1 + 2 x_2 \\leq 30 \\\\\n",
    "& -x_1 + x_2 \\geq 5 \\\\\n",
    "& x_1, x_2 \\geq 0\n",
    "\\end{align}$$"
   ]
  },
  {
   "cell_type": "code",
   "execution_count": 12,
   "metadata": {},
   "outputs": [
    {
     "name": "stdout",
     "output_type": "stream",
     "text": [
      "2 Var Declarations\n",
      "    x1 : Size=1, Index=None\n",
      "        Key  : Lower : Value : Upper : Fixed : Stale : Domain\n",
      "        None :     0 :  None :  None : False :  True : NonNegativeReals\n",
      "    x2 : Size=1, Index=None\n",
      "        Key  : Lower : Value : Upper : Fixed : Stale : Domain\n",
      "        None :     0 :  None :  None : False :  True : NonNegativeReals\n",
      "\n",
      "1 Objective Declarations\n",
      "    obj : Size=1, Index=None, Active=True\n",
      "        Key  : Active : Sense    : Expression\n",
      "        None :   True : minimize :         x2\n",
      "\n",
      "3 Constraint Declarations\n",
      "    con1 : Size=1, Index=None, Active=True\n",
      "        Key  : Lower : Body      : Upper : Active\n",
      "        None :  13.0 : 2*x1 + x2 :  +Inf :   True\n",
      "    con2 : Size=1, Index=None, Active=True\n",
      "        Key  : Lower : Body        : Upper : Active\n",
      "        None :  -Inf : 5*x1 + 2*x2 :  30.0 :   True\n",
      "    con3 : Size=1, Index=None, Active=True\n",
      "        Key  : Lower : Body      : Upper : Active\n",
      "        None :   5.0 : - x1 + x2 :  +Inf :   True\n",
      "\n",
      "6 Declarations: x1 x2 con1 con2 con3 obj\n"
     ]
    }
   ],
   "source": [
    "import pyomo.environ as pyo\n",
    "\n",
    "m = pyo.ConcreteModel()\n",
    "\n",
    "# Declare variables with bounds\n",
    "m.x1 = pyo.Var(domain=pyo.NonNegativeReals)\n",
    "m.x2 = pyo.Var(domain=pyo.NonNegativeReals)\n",
    "\n",
    "# Constraint 1\n",
    "m.con1 = pyo.Constraint(expr=2*m.x1 + m.x2 >= 13)\n",
    "\n",
    "# Constraint 2\n",
    "m.con2 = pyo.Constraint(expr=5*m.x1 + 2*m.x2 <= 30)\n",
    "\n",
    "# Constraint 3\n",
    "m.con3 = pyo.Constraint(expr=-m.x1 + m.x2 >= 5)\n",
    "\n",
    "# Objective\n",
    "m.obj = pyo.Objective(expr=m.x2)\n",
    "\n",
    "# Print model\n",
    "m.pprint()"
   ]
  },
  {
   "cell_type": "code",
   "execution_count": 16,
   "metadata": {},
   "outputs": [
    {
     "name": "stdout",
     "output_type": "stream",
     "text": [
      "WARNING: Could not locate the 'gurobi' executable, which is required for\n",
      "    solver gurobi\n"
     ]
    },
    {
     "ename": "ApplicationError",
     "evalue": "No executable found for solver 'gurobi'",
     "output_type": "error",
     "traceback": [
      "\u001b[1;31m---------------------------------------------------------------------------\u001b[0m",
      "\u001b[1;31mApplicationError\u001b[0m                          Traceback (most recent call last)",
      "\u001b[1;32m<ipython-input-16-021d545c9a94>\u001b[0m in \u001b[0;36m<module>\u001b[1;34m\u001b[0m\n\u001b[0;32m      6\u001b[0m \u001b[1;33m\u001b[0m\u001b[0m\n\u001b[0;32m      7\u001b[0m \u001b[1;31m# Solve\u001b[0m\u001b[1;33m\u001b[0m\u001b[1;33m\u001b[0m\u001b[1;33m\u001b[0m\u001b[0m\n\u001b[1;32m----> 8\u001b[1;33m \u001b[0msolver\u001b[0m\u001b[1;33m.\u001b[0m\u001b[0msolve\u001b[0m\u001b[1;33m(\u001b[0m\u001b[0mm\u001b[0m\u001b[1;33m,\u001b[0m\u001b[0mtee\u001b[0m\u001b[1;33m=\u001b[0m\u001b[1;32mTrue\u001b[0m\u001b[1;33m)\u001b[0m\u001b[1;33m\u001b[0m\u001b[1;33m\u001b[0m\u001b[0m\n\u001b[0m\u001b[0;32m      9\u001b[0m \u001b[1;33m\u001b[0m\u001b[0m\n\u001b[0;32m     10\u001b[0m \u001b[1;31m# Print solution\u001b[0m\u001b[1;33m\u001b[0m\u001b[1;33m\u001b[0m\u001b[1;33m\u001b[0m\u001b[0m\n",
      "\u001b[1;32m~\\Anaconda3\\lib\\site-packages\\pyomo\\opt\\base\\solvers.py\u001b[0m in \u001b[0;36msolve\u001b[1;34m(self, *args, **kwds)\u001b[0m\n\u001b[0;32m    510\u001b[0m         \u001b[1;34m\"\"\" Solve the problem \"\"\"\u001b[0m\u001b[1;33m\u001b[0m\u001b[1;33m\u001b[0m\u001b[0m\n\u001b[0;32m    511\u001b[0m \u001b[1;33m\u001b[0m\u001b[0m\n\u001b[1;32m--> 512\u001b[1;33m         \u001b[0mself\u001b[0m\u001b[1;33m.\u001b[0m\u001b[0mavailable\u001b[0m\u001b[1;33m(\u001b[0m\u001b[0mexception_flag\u001b[0m\u001b[1;33m=\u001b[0m\u001b[1;32mTrue\u001b[0m\u001b[1;33m)\u001b[0m\u001b[1;33m\u001b[0m\u001b[1;33m\u001b[0m\u001b[0m\n\u001b[0m\u001b[0;32m    513\u001b[0m         \u001b[1;31m#\u001b[0m\u001b[1;33m\u001b[0m\u001b[1;33m\u001b[0m\u001b[1;33m\u001b[0m\u001b[0m\n\u001b[0;32m    514\u001b[0m         \u001b[1;31m# If the inputs are models, then validate that they have been\u001b[0m\u001b[1;33m\u001b[0m\u001b[1;33m\u001b[0m\u001b[1;33m\u001b[0m\u001b[0m\n",
      "\u001b[1;32m~\\Anaconda3\\lib\\site-packages\\pyomo\\solvers\\plugins\\solvers\\GUROBI.py\u001b[0m in \u001b[0;36mavailable\u001b[1;34m(self, exception_flag)\u001b[0m\n\u001b[0;32m    158\u001b[0m \u001b[1;33m\u001b[0m\u001b[0m\n\u001b[0;32m    159\u001b[0m     \u001b[1;32mdef\u001b[0m \u001b[0mavailable\u001b[0m\u001b[1;33m(\u001b[0m\u001b[0mself\u001b[0m\u001b[1;33m,\u001b[0m \u001b[0mexception_flag\u001b[0m\u001b[1;33m=\u001b[0m\u001b[1;32mFalse\u001b[0m\u001b[1;33m)\u001b[0m\u001b[1;33m:\u001b[0m\u001b[1;33m\u001b[0m\u001b[1;33m\u001b[0m\u001b[0m\n\u001b[1;32m--> 160\u001b[1;33m         \u001b[0mval\u001b[0m \u001b[1;33m=\u001b[0m \u001b[0mILMLicensedSystemCallSolver\u001b[0m\u001b[1;33m.\u001b[0m\u001b[0mavailable\u001b[0m\u001b[1;33m(\u001b[0m\u001b[0mself\u001b[0m\u001b[1;33m,\u001b[0m \u001b[0mexception_flag\u001b[0m\u001b[1;33m)\u001b[0m\u001b[1;33m\u001b[0m\u001b[1;33m\u001b[0m\u001b[0m\n\u001b[0m\u001b[0;32m    161\u001b[0m         \u001b[1;32mif\u001b[0m \u001b[1;32mnot\u001b[0m \u001b[0mval\u001b[0m\u001b[1;33m:\u001b[0m\u001b[1;33m\u001b[0m\u001b[1;33m\u001b[0m\u001b[0m\n\u001b[0;32m    162\u001b[0m             \u001b[1;32mreturn\u001b[0m \u001b[1;32mFalse\u001b[0m\u001b[1;33m\u001b[0m\u001b[1;33m\u001b[0m\u001b[0m\n",
      "\u001b[1;32m~\\Anaconda3\\lib\\site-packages\\pyomo\\opt\\solver\\ilmcmd.py\u001b[0m in \u001b[0;36mavailable\u001b[1;34m(self, exception_flag)\u001b[0m\n\u001b[0;32m     34\u001b[0m         \u001b[1;32mif\u001b[0m \u001b[0mself\u001b[0m\u001b[1;33m.\u001b[0m\u001b[0m_assert_available\u001b[0m\u001b[1;33m:\u001b[0m\u001b[1;33m\u001b[0m\u001b[1;33m\u001b[0m\u001b[0m\n\u001b[0;32m     35\u001b[0m             \u001b[1;32mreturn\u001b[0m \u001b[1;32mTrue\u001b[0m\u001b[1;33m\u001b[0m\u001b[1;33m\u001b[0m\u001b[0m\n\u001b[1;32m---> 36\u001b[1;33m         \u001b[1;32mif\u001b[0m \u001b[1;32mnot\u001b[0m \u001b[0mpyomo\u001b[0m\u001b[1;33m.\u001b[0m\u001b[0mopt\u001b[0m\u001b[1;33m.\u001b[0m\u001b[0msolver\u001b[0m\u001b[1;33m.\u001b[0m\u001b[0mshellcmd\u001b[0m\u001b[1;33m.\u001b[0m\u001b[0mSystemCallSolver\u001b[0m\u001b[1;33m.\u001b[0m\u001b[0mavailable\u001b[0m\u001b[1;33m(\u001b[0m\u001b[0mself\u001b[0m\u001b[1;33m,\u001b[0m \u001b[0mexception_flag\u001b[0m\u001b[1;33m)\u001b[0m\u001b[1;33m:\u001b[0m\u001b[1;33m\u001b[0m\u001b[1;33m\u001b[0m\u001b[0m\n\u001b[0m\u001b[0;32m     37\u001b[0m             \u001b[1;32mreturn\u001b[0m \u001b[1;32mFalse\u001b[0m\u001b[1;33m\u001b[0m\u001b[1;33m\u001b[0m\u001b[0m\n\u001b[0;32m     38\u001b[0m         \u001b[0mexecutable\u001b[0m \u001b[1;33m=\u001b[0m \u001b[0mpyomo\u001b[0m\u001b[1;33m.\u001b[0m\u001b[0mcommon\u001b[0m\u001b[1;33m.\u001b[0m\u001b[0mExecutable\u001b[0m\u001b[1;33m(\u001b[0m\u001b[1;34m\"ilmlist\"\u001b[0m\u001b[1;33m)\u001b[0m\u001b[1;33m\u001b[0m\u001b[1;33m\u001b[0m\u001b[0m\n",
      "\u001b[1;32m~\\Anaconda3\\lib\\site-packages\\pyomo\\opt\\solver\\shellcmd.py\u001b[0m in \u001b[0;36mavailable\u001b[1;34m(self, exception_flag)\u001b[0m\n\u001b[0;32m    123\u001b[0m             \u001b[1;32mif\u001b[0m \u001b[0mexception_flag\u001b[0m\u001b[1;33m:\u001b[0m\u001b[1;33m\u001b[0m\u001b[1;33m\u001b[0m\u001b[0m\n\u001b[0;32m    124\u001b[0m                 \u001b[0mmsg\u001b[0m \u001b[1;33m=\u001b[0m \u001b[1;34m\"No executable found for solver '%s'\"\u001b[0m\u001b[1;33m\u001b[0m\u001b[1;33m\u001b[0m\u001b[0m\n\u001b[1;32m--> 125\u001b[1;33m                 \u001b[1;32mraise\u001b[0m \u001b[0mApplicationError\u001b[0m\u001b[1;33m(\u001b[0m\u001b[0mmsg\u001b[0m \u001b[1;33m%\u001b[0m \u001b[0mself\u001b[0m\u001b[1;33m.\u001b[0m\u001b[0mname\u001b[0m\u001b[1;33m)\u001b[0m\u001b[1;33m\u001b[0m\u001b[1;33m\u001b[0m\u001b[0m\n\u001b[0m\u001b[0;32m    126\u001b[0m             \u001b[1;32mreturn\u001b[0m \u001b[1;32mFalse\u001b[0m\u001b[1;33m\u001b[0m\u001b[1;33m\u001b[0m\u001b[0m\n\u001b[0;32m    127\u001b[0m         \u001b[1;32mreturn\u001b[0m \u001b[1;32mTrue\u001b[0m\u001b[1;33m\u001b[0m\u001b[1;33m\u001b[0m\u001b[0m\n",
      "\u001b[1;31mApplicationError\u001b[0m: No executable found for solver 'gurobi'"
     ]
    }
   ],
   "source": [
    "# Set solver\n",
    "solver = pyo.SolverFactory('gurobi')\n",
    "# solver = pyo.SolverFactory('glpk')\n",
    "# solver = pyo.SolverFactory('ipopt')\n",
    "\n",
    "\n",
    "# Solve\n",
    "solver.solve(m,tee=True)\n",
    "\n",
    "# Print solution\n",
    "print(\" \")\n",
    "print(\"x1 = \",pyo.value(m.x1))\n",
    "print(\"x2 = \",pyo.value(m.x2))"
   ]
  },
  {
   "cell_type": "markdown",
   "metadata": {},
   "source": [
    "### Rounding"
   ]
  },
  {
   "cell_type": "markdown",
   "metadata": {},
   "source": [
    "With your neighbor, discuss:\n",
    "* If you round $x_1$ and $x_2$ to an integer, are all of the constraints feasible? No constraint 2 is not satisfied\n",
    "* How would you go about checking the optimality of a feasible integer solution?"
   ]
  },
  {
   "cell_type": "markdown",
   "metadata": {},
   "source": [
    "### Integer Program"
   ]
  },
  {
   "cell_type": "markdown",
   "metadata": {},
   "source": [
    "Consider the following integer program:\n",
    "\n",
    "$$\\begin{align}\\min_{x_1,x_2} \\quad & x_2 \\\\\n",
    "\\mathrm{s.t.} \\quad & 2 x_1 + x_2 \\geq 13 \\\\\n",
    "& 5 x_1 + 2 x_2 \\leq 30 \\\\\n",
    "& -x_1 + x_2 \\geq 5 \\\\\n",
    "& x_1, x_2 \\in \\mathcal{Z} := \\{0,1,2,...\\}\n",
    "\\end{align}$$"
   ]
  },
  {
   "cell_type": "code",
   "execution_count": null,
   "metadata": {},
   "outputs": [],
   "source": [
    "m2 = pyo.ConcreteModel()\n",
    "\n",
    "# Declare variables as positive integers\n",
    "m2.x1 = pyo.Var(domain=pyo.PositiveIntegers)\n",
    "m2.x2 = pyo.Var(domain=pyo.PositiveIntegers)\n",
    "\n",
    "# Constraint 1\n",
    "m2.con1 = pyo.Constraint(expr=2*m2.x1 + m2.x2 >= 13)\n",
    "\n",
    "# Constraint 2\n",
    "m2.con2 = pyo.Constraint(expr=5*m2.x1 + 2*m2.x2 <= 30)\n",
    "\n",
    "# Constraint 3\n",
    "m2.con3 = pyo.Constraint(expr=-m2.x1 + m2.x2 >= 5)\n",
    "\n",
    "# Objective\n",
    "m2.obj = pyo.Objective(expr=m2.x2)\n",
    "\n",
    "m2.pprint()"
   ]
  },
  {
   "cell_type": "code",
   "execution_count": null,
   "metadata": {},
   "outputs": [],
   "source": [
    "# Set solver\n",
    "# solver = pyo.SolverFactory('gurobi')\n",
    "# solver = pyo.SolverFactory('glpk')\n",
    "# solver = pyo.SolverFactory('cbc')\n",
    "# solver = pyo.SolverFactory('bonmin')\n",
    "\n",
    "# Solve\n",
    "solver.solve(m2,tee=True)\n",
    "\n",
    "# Print solution\n",
    "print(\" \")\n",
    "print(\"x1 = \",m2.x1())\n",
    "print(\"x2 = \",m2.x2())"
   ]
  },
  {
   "cell_type": "markdown",
   "metadata": {},
   "source": [
    "### Why rounding does not always work"
   ]
  },
  {
   "cell_type": "markdown",
   "metadata": {},
   "source": [
    "Reference: http://personal.lse.ac.uk/williahp/publications/wp%2010-118.pdf"
   ]
  },
  {
   "cell_type": "markdown",
   "metadata": {},
   "source": [
    "![feasible](https://ndcbe.github.io/optimization/_images/feasible.png)"
   ]
  },
  {
   "cell_type": "code",
   "execution_count": null,
   "metadata": {},
   "outputs": [],
   "source": []
  }
 ],
 "metadata": {
  "kernelspec": {
   "display_name": "Python 3",
   "language": "python",
   "name": "python3"
  },
  "language_info": {
   "codemirror_mode": {
    "name": "ipython",
    "version": 3
   },
   "file_extension": ".py",
   "mimetype": "text/x-python",
   "name": "python",
   "nbconvert_exporter": "python",
   "pygments_lexer": "ipython3",
   "version": "3.7.9"
  }
 },
 "nbformat": 4,
 "nbformat_minor": 2
}
