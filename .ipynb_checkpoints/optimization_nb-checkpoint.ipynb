{
 "cells": [
  {
   "cell_type": "code",
   "execution_count": 7,
   "metadata": {},
   "outputs": [],
   "source": [
    "import numpy as np\n",
    "from scipy import stats, linalg\n",
    "\n",
    "import matplotlib.pyplot as plt"
   ]
  },
  {
   "cell_type": "markdown",
   "metadata": {},
   "source": [
    "## Functions"
   ]
  },
  {
   "cell_type": "code",
   "execution_count": 2,
   "metadata": {},
   "outputs": [],
   "source": [
    "def mchlis_ment(x):\n",
    "    \n",
    "    return 0.65*x/(1 + x/20)\n",
    "\n",
    "def sq_exp(x, σsq):\n",
    "    \n",
    "    # initialize covariance\n",
    "    n = len(x)\n",
    "    Σ = np.zeros([n,n])\n",
    "    \n",
    "    # build covariance\n",
    "    for i in range(n):\n",
    "        for j in range(n):\n",
    "            Σ[i,j] = σsq*np.exp(-((x[i] - x[j])/3)**2)\n",
    "    \n",
    "    return Σ\n",
    "\n",
    "def gls_est(X, y, Σ):\n",
    "    \n",
    "    # transpose regressors, nxp -> pxn\n",
    "    X_T = np.transpose(X)\n",
    "    \n",
    "    Σ_inv = np.linalg.solve(Σ,np.identity(2))\n",
    "    \n",
    "#     # compute repeated term, (pxn)(nxn) -> pxn\n",
    "#     Σ_invX = np.solve(Σ,X)\n",
    "    \n",
    "#     term1 = np.dot(X_T, Σ_inv)\n",
    "    \n",
    "#     assert np.shape(X_TΣ_inv) == (2,5)\n",
    "#     # compute first term, (pxn)(nxp)->(pxp)\n",
    "#     X_TΣ_invX = np.dot(X_TΣ_inv, X)\n",
    "    \n",
    "#     assert np.shape(X_TΣ_invX) == (2,2)\n",
    "    \n",
    "#     # invert first term, (pxp)\n",
    "#     term1 = np.linalg.inv(X_TΣ_invX)\n",
    "    \n",
    "#     # compute second term, (pxn)(nx1)->(px1)\n",
    "#     term2 = np.dot(X_TΣ_inv, y)\n",
    "    \n",
    "#     # compute generalized least squares estimator,(pxp)x(px1)--> (px1)\n",
    "#     θ_hat = np.dot(term1, term2)\n",
    "    \n",
    "    return θ_hat"
   ]
  },
  {
   "cell_type": "markdown",
   "metadata": {},
   "source": [
    "## Synthetic data generation"
   ]
  },
  {
   "cell_type": "code",
   "execution_count": 3,
   "metadata": {},
   "outputs": [],
   "source": [
    "# set seed for reproducibility\n",
    "np.random.seed(234)\n",
    "\n",
    "## generate synthetic data\n",
    "x = np.linspace(0, 10, 10).reshape(10,1)\n",
    "\n",
    "# compute ground truth model\n",
    "ζ = mchlis_ment(x)\n",
    "\n",
    "# set ground truth variance of noise\n",
    "σϵsq_tru = 0.1\n",
    "\n",
    "# generate normal i.i.d. measurement error, ϵ_1,..., ϵ_n ~iid N(0,σϵsq_tru I_n)\n",
    "ϵ = stats.norm.rvs(loc = 0, scale = np.sqrt(σϵsq_tru), size = len(x))\n",
    "\n",
    "# generate observations\n",
    "y = ζ + ϵ"
   ]
  },
  {
   "cell_type": "markdown",
   "metadata": {},
   "source": [
    "## Set bounds and initial values for parameter estimation"
   ]
  },
  {
   "cell_type": "code",
   "execution_count": 4,
   "metadata": {},
   "outputs": [],
   "source": [
    "## variance of discrepancy\n",
    "# lower bound\n",
    "σδsq_lo = 1\n",
    "# upper bound\n",
    "σδsq_hi = 10\n",
    "# inital guess\n",
    "σδsq_0 = 0.1\n",
    "\n",
    "## variance of noise\n",
    "# lower bound\n",
    "σϵsq_lo = 0.01\n",
    "# upper bound\n",
    "σϵsq_hi = 2\n",
    "# inital guess\n",
    "σϵsq_0 = 0.1\n",
    "\n",
    "## concatenate bounds and inital guesses\n",
    "# bounds\n",
    "bds = [(σδsq_lo, σδsq_hi),(σϵsq_lo, σϵsq_hi)]\n",
    "# inital guesses\n",
    "σsq_0 = [(σδsq_0, σϵsq_0)]"
   ]
  },
  {
   "cell_type": "markdown",
   "metadata": {},
   "source": [
    "## Optimization"
   ]
  },
  {
   "cell_type": "code",
   "execution_count": 17,
   "metadata": {},
   "outputs": [
    {
     "name": "stdout",
     "output_type": "stream",
     "text": [
      "(10, 10)\n"
     ]
    }
   ],
   "source": [
    "p = 3\n",
    "X = np.tile(x, (1,p))\n",
    "\n",
    "Σ_δ = sq_exp(X[:,0], σδsq_0)\n",
    "Σ_ϵ = σϵsq_0*np.identity(len(X[:,0]))\n",
    "Σ = Σ_δ + Σ_ϵ\n",
    "\n",
    "\n",
    "# cholesky decomposition of Σ = LL^T \n",
    "L = linalg.cholesky(Σ, lower = True)\n",
    "\n",
    "# solve Lz = y for z\n",
    "z = np.linalg.solve(L,y)\n",
    "\n",
    "# solve L wj = xj for wj for all j in 1,..,p\n",
    "W = X*0\n",
    "for j in range(len(X[0,:])):\n",
    "    W[:,j] = np.linalg.solve(L, X[:,j])\n",
    "\n",
    "\n",
    "# ## compute first term, (pxn)(nxp)->(pxp)\n",
    "\n",
    "# # solve system (nxn)(nxp) -> (nxp)\n",
    "# Σ_invX = np.linalg.solve(Σ, X)\n",
    "# print('Σ^-1 X \\n',np.shape(Σ_invX))\n",
    "\n",
    "# # transpose regressors, (nxp) -> (pxn)\n",
    "# X_T = np.transpose(X)\n",
    "# print('Σ^T \\n', np.shape(X_T))\n",
    "\n",
    "# # compute first term, (pxn)(nxp)->(pxp)\n",
    "# X_TΣ_invX = np.dot(X_T, Σ_invX)\n",
    "# print('X^T Σ_^-1 X \\n', np.shape(X_TΣ_invX)) \n",
    "  \n",
    "    \n",
    "# ## compute second term\n",
    "# # (nxn)(nx1)->(nx1)\n",
    "# Σ_invy = np.linalg.solve(Σ,y)\n",
    "# print('Σ_^-1 y \\n', np.shape(Σ_invy)) \n",
    "\n",
    "# # (pxn)(nx1)-> (px1)\n",
    "# X_TΣ_invy = np.dot(X_T, Σ_invy)\n",
    "# print('X_T Σ_^-1 y \\n', np.shape(X_TΣ_invy))\n",
    "\n",
    "# ## compute gls\n",
    "# # (pxp)(px1)->(px1)\n",
    "# θ_hat = np.linalg.solve(X_TΣ_invX, X_TΣ_invy)\n",
    "# print('θ_hat \\n', np.shape(θ_hat))\n",
    "\n",
    "# #θ = gls_est(X, y, Σ)"
   ]
  },
  {
   "cell_type": "code",
   "execution_count": null,
   "metadata": {},
   "outputs": [],
   "source": []
  }
 ],
 "metadata": {
  "kernelspec": {
   "display_name": "Python 3",
   "language": "python",
   "name": "python3"
  },
  "language_info": {
   "codemirror_mode": {
    "name": "ipython",
    "version": 3
   },
   "file_extension": ".py",
   "mimetype": "text/x-python",
   "name": "python",
   "nbconvert_exporter": "python",
   "pygments_lexer": "ipython3",
   "version": "3.7.9"
  }
 },
 "nbformat": 4,
 "nbformat_minor": 4
}
