{
 "cells": [
  {
   "cell_type": "code",
   "execution_count": 1,
   "metadata": {},
   "outputs": [],
   "source": [
    "import numpy as np\n",
    "from scipy import stats, linalg, optimize\n",
    "\n",
    "import matplotlib.pyplot as plt"
   ]
  },
  {
   "cell_type": "markdown",
   "metadata": {},
   "source": [
    "## Functions"
   ]
  },
  {
   "cell_type": "code",
   "execution_count": 2,
   "metadata": {},
   "outputs": [],
   "source": [
    "def mchlis_ment(x):\n",
    "    ''' Ground truth Michaelis Menton model\n",
    "    \n",
    "    Arguments:\n",
    "        x - inputs variables, float or np.array\n",
    "    \n",
    "    Returns:\n",
    "        ζ - ground truth model evaluates at x, float or np.array\n",
    "    '''\n",
    "    \n",
    "    ζ = 0.65*x/(1 + x/20)\n",
    "    \n",
    "    return ζ\n",
    "\n",
    "def sq_exp(x1, x2, σsq):\n",
    "    '''Computes the covariance matrix with the squared exponential kernel function\n",
    "    \n",
    "    Agruments:\n",
    "        x1 - co-variates, n1-dimensional np.array\n",
    "        x2 - co-variates, n2-dimensional np.array\n",
    "        σsq - variance of model, float\n",
    "    \n",
    "    Returns:\n",
    "        Σ - covariance matrix, nxn np.array\n",
    "        \n",
    "    Additional Notes:\n",
    "        The squared exponential kernel k(x1,x2) is computed by k(x1,x2) = σ^2 exp(-(x1-x2)^2)\n",
    "    '''\n",
    "    \n",
    "    # initialize covariance matrix\n",
    "    n1 = len(x1)\n",
    "    n2 = len(x2)\n",
    "    Σ = np.zeros([n1,n2])\n",
    "    \n",
    "    # build covariance\n",
    "    for i in range(n1):\n",
    "        for j in range(n2):\n",
    "            Σ[i,j] = σsq*np.exp(-((x1[i] - x2[j])/4)**2)\n",
    "    \n",
    "    return Σ\n",
    "\n",
    "def gls_est(X, y, Σ):\n",
    "    \n",
    "    ''' Computes the generalized least sqaures (gls) estimator for data (X,y) and covariance Σ\n",
    "    \n",
    "    Arguments:\n",
    "        X - regressors, nxp np.array\n",
    "        y - observations, nx1 np.array\n",
    "        Σ - covariance matrix, nxn np.array\n",
    "    \n",
    "    Returns:\n",
    "        θ_hat - generalized least sqaures estimator, px1 np.array\n",
    "        \n",
    "    Additional Notes:\n",
    "        The gls estimator is computed by θ_hat = (X^T Σ^-1 y)^-1 (X^T Σ^-1 y)\n",
    "    '''\n",
    "    \n",
    "    # Solve linear system z = Σy for z to get Σ^-1 y \n",
    "    z = np.linalg.solve(Σ, y)\n",
    "\n",
    "    # Solve linear system W = ΣX for W to get Σ^-1 X \n",
    "    W = np.linalg.solve(Σ, X)\n",
    "    \n",
    "    # transpose matrix of regressors\n",
    "    XT = np.transpose(X)\n",
    "\n",
    "    # compute first term: X^T Σ^-1 X\n",
    "    term1 = np.dot(XT, W)\n",
    "\n",
    "    # compute second term: X^T Σ^-1 y\n",
    "    term2 = np.dot(XT, z)\n",
    "\n",
    "    # compute gls estimator (X^T Σ^-1 y)^-1 (X^T Σ^-1 y)\n",
    "    θ_hat = np.linalg.solve(term1, term2)\n",
    "\n",
    "    return θ_hat\n",
    "\n",
    "\n",
    "def ssr_cholesky(X, y, Σ, θ_hat):\n",
    "    '''Computes the weighted sum of squared residuals (SSR) with Cholesky decomposition\n",
    "    \n",
    "    Arguments:\n",
    "        X - regressors, nxp np.array\n",
    "        y - observations, nx1 np.array\n",
    "        Σ - covariance matrix, nxn np.array\n",
    "        θ_hat - generalized least sqaures estimator, px1 np.array\n",
    "    \n",
    "    Returns:\n",
    "        ssr - weighted sum of squared residuald\n",
    "    \n",
    "    Additional Notes:\n",
    "        The sum of squared residuals in matrix notation is given by (y - Xθ_hat)^T Σ^-1 (y - Xθ_hat).\n",
    "        Cholesky factorization of Σ yields Σ = L^T L.\n",
    "    '''\n",
    "    \n",
    "    # compute residuals (y - Xθ_hat)\n",
    "    resd =  y - np.dot(X, θ_hat)\n",
    "    \n",
    "    # Cholesky facorization, Σ = L^T L\n",
    "    L, lower = linalg.cho_factor(Σ, lower = True)\n",
    "    \n",
    "    # Cholesky decomposition 1, r = L^-1 (y - Xθ_hat)\n",
    "    r = linalg.solve(L, resd)\n",
    "    \n",
    "    # compute ssr\n",
    "    ssr = np.dot(np.transpose(r), r)\n",
    "    \n",
    "    return ssr\n",
    "\n",
    "def log_like(σsq, X, y):\n",
    "    '''Computes the negative log-likelihood of the a linear model assuming iid Normal observation error\n",
    "    \n",
    "    Arguments:\n",
    "        σsq - variance of discrepancy model σδsq and observation error  σϵsq, 2x1 array-like\n",
    "        X - regressors, nxp np.array\n",
    "        y - observations, nx1 np.array\n",
    "    \n",
    "    Returns:\n",
    "        ℓ - log-likelihood, float\n",
    "    '''\n",
    "    \n",
    "    # unpack parameters\n",
    "    σδsq, σϵsq = σsq\n",
    "    \n",
    "    # build discrepancy covariance\n",
    "    Σ_δ = sq_exp(X[:,0], X[:,0], σδsq)\n",
    "    \n",
    "    # build noise covariance\n",
    "    Σ_ϵ = σϵsq*np.identity(len(X[:,0]))\n",
    "    \n",
    "    # build total covariance\n",
    "    Σ = Σ_δ + Σ_ϵ\n",
    "\n",
    "    # compute generalized least squares estimator\n",
    "    θ_hat = gls_est(X, y, Σ)\n",
    "\n",
    "    # compute weight sum of sqaured residuals with cholesky decomposition\n",
    "    ssr = ssr_cholesky(X, y, Σ, θ_hat)\n",
    "    \n",
    "    # compute negtaive log-likelihood\n",
    "    ℓ = 1/2*(np.log(np.linalg.det(Σ)) + ssr)\n",
    "    \n",
    "    return ℓ\n",
    "\n",
    "def est_ζ(σsq, X, y):\n",
    "    ''' Estimates the ground truth model ζ\n",
    "    \n",
    "    Arguments:\n",
    "        σsq - variance of discrepancy model σδsq and observation error  σϵsq, 2x1 array-like\n",
    "        X - regressors, nxp np.array\n",
    "        y - observations, nx1 np.array\n",
    "    \n",
    "    Returns:\n",
    "        ζ_hat - estimated ground truth model, nx1 np.array\n",
    "    '''\n",
    "    \n",
    "    # unpack parameters\n",
    "    σδsq, σϵsq = σsq\n",
    "    \n",
    "    # build discrepancy covariance\n",
    "    Σδ_hat = sq_exp(X[:,0], X[:,0], σδsq) \n",
    "    \n",
    "    # build noise covariance\n",
    "    Σϵ_hat = σϵsq*np.identity(len(X[:,0]))\n",
    "    \n",
    "    # build total covariance\n",
    "    Σ_hat = Σδ_hat + Σϵ_hat\n",
    "    \n",
    "    # compute generalized least squares estimator\n",
    "    θ_hat = gls_est(X, y, Σ_hat)\n",
    "    \n",
    "    # compute misspecifed model η(x,θ_hat)\n",
    "    η_hat = np.dot(X, θ_hat)\n",
    "    \n",
    "    # compute Σ_hat^-1 η(x,θ_hat)\n",
    "    z = np.linalg.solve(Σ_hat, y - η_hat)\n",
    "    \n",
    "    # compute estimates\n",
    "    ζ_hat = η_hat + np.dot(Σδ_hat, z)\n",
    "    \n",
    "    return ζ_hat\n",
    "\n",
    "def gp_predict(σsq, X, y, x_star):\n",
    "    \n",
    "    ''' Predicts ground truth model ̂ζ with point estimates of GP\n",
    "    \n",
    "    Arguments:\n",
    "        σsq - variance of discrepancy model σδsq and observation error  σϵsq, 2x1 array-like\n",
    "        X - regressors, nxp np.array\n",
    "        y - observations, nx1 np.array\n",
    "        x_star - predictors, npx1 np.array\n",
    "    \n",
    "    Returns:\n",
    "        ζ_star - predicted ground truth model, npx1 np.array\n",
    "    '''\n",
    "    \n",
    "    ## build covariance matrix\n",
    "    \n",
    "    # unpack parameters\n",
    "    σδsq, σϵsq = σsq\n",
    "    \n",
    "    # build observations covariance\n",
    "    Σxx = sq_exp(X[:,0], X[:,0], σδsq) + σϵsq*np.identity(len(X[:,0]))\n",
    "    \n",
    "    # get ols estimate\n",
    "    θ = gls_est(X, y, Σxx)\n",
    "    \n",
    "    # build off-diagonals\n",
    "    Σxx_star = sq_exp(X[:,0], x_star, σδsq)\n",
    "    Σx_starx = np.transpose(Σxx_star)\n",
    "    \n",
    "    # build prediction variance\n",
    "    Σx_starx_star = sq_exp(x_star, x_star, σδsq)\n",
    "    \n",
    "    ## compute conditional mean\n",
    "    \n",
    "    # cholesky factorization\n",
    "    L, lower = linalg.cho_factor(Σxx, True)\n",
    "    \n",
    "    # solve linear system 1\n",
    "    α = linalg.solve(L, y - np.dot(X,θ))\n",
    "    \n",
    "    # solve linear system 2\n",
    "    β = linalg.solve(np.transpose(L), α)\n",
    "    \n",
    "    # conditional mean\n",
    "    μ_star = x_star*θ + np.dot(Σx_starx, β)\n",
    "    \n",
    "    ## compute conditional covariance\n",
    "    \n",
    "    # solve linear system\n",
    "    γ = linalg.solve(L, Σxx_star)\n",
    "    \n",
    "    # compute covariance matrix\n",
    "    Σ_star = Σx_starx_star - np.dot(np.transpose(γ), γ)\n",
    "    \n",
    "    return μ_star, Σ_star"
   ]
  },
  {
   "cell_type": "markdown",
   "metadata": {},
   "source": [
    "## Synthetic data generation"
   ]
  },
  {
   "cell_type": "code",
   "execution_count": 3,
   "metadata": {},
   "outputs": [],
   "source": [
    "## generate synthetic data\n",
    "\n",
    "# set seed for reproducibility\n",
    "np.random.seed(234)\n",
    "\n",
    "# select independent variables\n",
    "x = np.linspace(0, 10, 10)\n",
    "\n",
    "# compute ground truth model\n",
    "ζ = mchlis_ment(x)\n",
    "\n",
    "# set ground truth variance of noise\n",
    "σϵsq_tru = 0.05\n",
    "\n",
    "# generate i.i.d. normal measurement error, ϵ_1 ,..., ϵ_n ~iid N(0,σϵsq_tru)\n",
    "ϵ = stats.norm.rvs(loc = 0, scale = np.sqrt(σϵsq_tru), size = len(x))\n",
    "\n",
    "# generate observations\n",
    "y = ζ + ϵ"
   ]
  },
  {
   "cell_type": "markdown",
   "metadata": {},
   "source": [
    "## Linear model misspecification and visualization"
   ]
  },
  {
   "cell_type": "code",
   "execution_count": 4,
   "metadata": {},
   "outputs": [
    {
     "data": {
      "text/plain": [
       "[<matplotlib.lines.Line2D at 0x2bc4770f8c8>]"
      ]
     },
     "execution_count": 4,
     "metadata": {},
     "output_type": "execute_result"
    },
    {
     "data": {
      "image/png": "[encoded data removed]",
      "text/plain": [
       "<Figure size 432x288 with 1 Axes>"
      ]
     },
     "metadata": {
      "needs_background": "light"
     },
     "output_type": "display_data"
    }
   ],
   "source": [
    "# choose parameter(s) of misspecified model η(x,θ)\n",
    "θ = np.array([0.65])\n",
    "\n",
    "# build nxp matrix of regressors\n",
    "X = np.tile(x,len(θ)).reshape(len(x),len(θ))\n",
    "\n",
    "# visualize misspecified model fit to data\n",
    "plt.plot(x,y,'o')\n",
    "plt.plot(x,np.dot(X,θ),'k--')"
   ]
  },
  {
   "cell_type": "markdown",
   "metadata": {},
   "source": [
    "## Set bounds and initial values for parameter estimation"
   ]
  },
  {
   "cell_type": "code",
   "execution_count": 11,
   "metadata": {},
   "outputs": [],
   "source": [
    "## variance of discrepancy\n",
    "# lower bound\n",
    "σδsq_lo = 0.01\n",
    "# upper bound\n",
    "σδsq_hi = 10\n",
    "# inital guess\n",
    "σδsq_0 = 0.07\n",
    "\n",
    "## variance of noise\n",
    "# lower bound\n",
    "σϵsq_lo = 0.01\n",
    "# upper bound\n",
    "σϵsq_hi = 10\n",
    "# inital guess\n",
    "σϵsq_0 = 0.1\n",
    "\n",
    "## concatenate bounds and inital guesses\n",
    "# bounds\n",
    "bds = [(σδsq_lo, σδsq_hi),(σϵsq_lo, σϵsq_hi)]\n",
    "# inital guesses\n",
    "σsq_0 = [σδsq_0, σϵsq_0]"
   ]
  },
  {
   "cell_type": "markdown",
   "metadata": {},
   "source": [
    "## Optimization"
   ]
  },
  {
   "cell_type": "code",
   "execution_count": 12,
   "metadata": {
    "scrolled": false
   },
   "outputs": [
    {
     "name": "stderr",
     "output_type": "stream",
     "text": [
      "C:\\Users\\kilaj\\Anaconda3\\lib\\site-packages\\scipy\\optimize\\_hessian_update_strategy.py:186: UserWarning: delta_grad == 0.0. Check if the approximated function is linear. If the function is linear better results can be obtained by defining the Hessian as zero instead of using quasi-Newton approximations.\n",
      "  'approximations.', UserWarning)\n"
     ]
    },
    {
     "data": {
      "text/plain": [
       " barrier_parameter: 6.400000000000003e-06\n",
       " barrier_tolerance: 6.400000000000003e-06\n",
       "          cg_niter: 25\n",
       "      cg_stop_cond: 1\n",
       "            constr: [array([0.01000022, 0.07616097])]\n",
       "       constr_nfev: [0]\n",
       "       constr_nhev: [0]\n",
       "       constr_njev: [0]\n",
       "    constr_penalty: 1.0\n",
       "  constr_violation: 0.0\n",
       "    execution_time: 0.10687112808227539\n",
       "               fun: -7.583380697454018\n",
       "              grad: array([2.92109919e+01, 9.63211060e-05])\n",
       "               jac: [<2x2 sparse matrix of type '<class 'numpy.float64'>'\n",
       "\twith 2 stored elements in Compressed Sparse Row format>]\n",
       "   lagrangian_grad: array([0.00000000e+00, 1.01213026e-09])\n",
       "           message: '`gtol` termination condition is satisfied.'\n",
       "            method: 'tr_interior_point'\n",
       "              nfev: 57\n",
       "              nhev: 0\n",
       "               nit: 24\n",
       "             niter: 24\n",
       "              njev: 19\n",
       "        optimality: 1.012130262725299e-09\n",
       "            status: 1\n",
       "           success: True\n",
       "         tr_radius: 26472.42499796203\n",
       "                 v: [array([-2.92109919e+01, -9.63200938e-05])]\n",
       "                 x: array([0.01000022, 0.07616097])"
      ]
     },
     "execution_count": 12,
     "metadata": {},
     "output_type": "execute_result"
    }
   ],
   "source": [
    "results = optimize.minimize(log_like, x0 = σsq_0, args = (X, y), method = 'trust-constr', bounds = bds)\n",
    "results"
   ]
  },
  {
   "cell_type": "markdown",
   "metadata": {},
   "source": [
    "# Estimation and prediction"
   ]
  },
  {
   "cell_type": "code",
   "execution_count": 13,
   "metadata": {},
   "outputs": [],
   "source": [
    "# unpack results of optimizations\n",
    "σsq = results.x\n",
    "\n",
    "# estimate fit to data\n",
    "ζ_hat = est_ζ(σsq, X, y)\n",
    "\n",
    "# predict outside training data\n",
    "x_star = np.linspace(0,15)\n",
    "μ, Σ = gp_predict(σsq, X, y, x_star)"
   ]
  },
  {
   "cell_type": "code",
   "execution_count": 15,
   "metadata": {},
   "outputs": [
    {
     "data": {
      "text/plain": [
       "<matplotlib.legend.Legend at 0x2bc49149348>"
      ]
     },
     "execution_count": 15,
     "metadata": {},
     "output_type": "execute_result"
    },
    {
     "data": {
      "image/png": "[encoded data removed]",
      "text/plain": [
       "<Figure size 432x288 with 1 Axes>"
      ]
     },
     "metadata": {
      "needs_background": "light"
     },
     "output_type": "display_data"
    }
   ],
   "source": [
    "# plot data\n",
    "plt.plot(x, y,'ko', label = 'data')\n",
    "\n",
    "# plot ground truth model\n",
    "plt.plot(x_star, mchlis_ment(x_star),'b--', label = 'ground truth')\n",
    "\n",
    "# plot misspecified model\n",
    "plt.plot(x_star,np.dot(x_star,0.65),'k--', label = 'misspecified')\n",
    "\n",
    "# plot estimates\n",
    "plt.plot(x, ζ_hat,'bv', label = 'fitted')\n",
    "\n",
    "# plot predictions\n",
    "plt.plot(x_star, μ, 'b-', label = 'predictions' )\n",
    "plt.legend()"
   ]
  },
  {
   "cell_type": "code",
   "execution_count": null,
   "metadata": {},
   "outputs": [],
   "source": []
  },
  {
   "cell_type": "code",
   "execution_count": null,
   "metadata": {},
   "outputs": [],
   "source": []
  }
 ],
 "metadata": {
  "kernelspec": {
   "display_name": "Python 3",
   "language": "python",
   "name": "python3"
  },
  "language_info": {
   "codemirror_mode": {
    "name": "ipython",
    "version": 3
   },
   "file_extension": ".py",
   "mimetype": "text/x-python",
   "name": "python",
   "nbconvert_exporter": "python",
   "pygments_lexer": "ipython3",
   "version": "3.7.9"
  }
 },
 "nbformat": 4,
 "nbformat_minor": 4
}
