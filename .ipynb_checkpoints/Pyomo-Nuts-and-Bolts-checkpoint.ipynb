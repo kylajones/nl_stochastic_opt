{
 "cells": [
  {
   "cell_type": "markdown",
   "metadata": {},
   "source": [
    "# 60 Minutes to Pyomo: An Energy Storage Model Predictive Control Example"
   ]
  },
  {
   "cell_type": "code",
   "execution_count": 1,
   "metadata": {},
   "outputs": [],
   "source": [
    "# # This code cell installs packages on Colab\n",
    "\n",
    "# import sys\n",
    "# if \"google.colab\" in sys.modules:\n",
    "#     !wget \"https://raw.githubusercontent.com/ndcbe/CBE60499/main/notebooks/helper.py\"\n",
    "#     import helper\n",
    "#     helper.install_idaes()\n",
    "#     helper.install_ipopt()\n",
    "#     helper.install_glpk()\n",
    "#     '''\n",
    "#     helper.download_data(['Prices_DAM_ALTA2G_7_B1.csv'])\n",
    "#     helper.download_figures(['battery.png','pyomo-table-4.1.png',\n",
    "#                             'pyomo-table-4.2.png','pyomo-table-4.3.png',\n",
    "#                             'pyomo-table-4.4.png','pyomo-table-4.6.png'])\n",
    "#     '''"
   ]
  },
  {
   "cell_type": "code",
   "execution_count": 2,
   "metadata": {},
   "outputs": [
    {
     "data": {
      "text/plain": [
       "('Prices_DAM_ALTA2G_7_B1.csv', <http.client.HTTPMessage at 0x18da2f68cc8>)"
      ]
     },
     "execution_count": 2,
     "metadata": {},
     "output_type": "execute_result"
    }
   ],
   "source": [
    "import pandas as pd\n",
    "import pyomo.environ as pyo\n",
    "import numpy as np\n",
    "import matplotlib.pyplot as plt\n",
    "import idaes\n",
    "import urllib.request\n",
    "url = 'https://github.com/ndcbe/optimization/tree/main/notebooks/data'\n",
    "filename = 'Prices_DAM_ALTA2G_7_B1.csv'\n",
    "urllib.request.urlretrieve(url, filename)"
   ]
  },
  {
   "cell_type": "markdown",
   "metadata": {},
   "source": [
    "## Problem Setup"
   ]
  },
  {
   "cell_type": "markdown",
   "metadata": {},
   "source": [
    "### Background"
   ]
  },
  {
   "cell_type": "markdown",
   "metadata": {},
   "source": [
    "In many regions of the world, including the US, electricity generation is scheduled through wholesale electricity markets. Individual generators (resources) transmit information about their operating costs and constraints to the market via a bid. The market operator then solves an optimization problem (e.g., the unit commitment problem) to minimize the total electricity generator cost. The market operator decides which generators to dispatch during each hour to satisfy the forecasted demand while honoring limitations for each generator (e.g., maximum ramp rate, the required time for start-up/shutdown, etc.).\n",
    "\n",
    "![US_markets](https://www.ferc.gov/sites/default/files/2020-06/map-overview-electric.jpg)\n",
    "\n",
    "Read more information here:\n",
    "* https://www.ferc.gov/industries-data/market-assessments/electric-power-markets\n",
    "* https://www.sciencedirect.com/science/article/pii/S0306261916318487"
   ]
  },
  {
   "cell_type": "markdown",
   "metadata": {},
   "source": [
    "### Pandas and Energy Prices"
   ]
  },
  {
   "cell_type": "markdown",
   "metadata": {},
   "source": [
    "The CSV (comma separated value) file `Prices_DAM_ALTA2G_7_B1.csv` contains price data for a single location in California for an entire year. The prices are set every hour and have units $/MWh. We will use the package `pandas` to import and analyze the data."
   ]
  },
  {
   "cell_type": "code",
   "execution_count": 3,
   "metadata": {},
   "outputs": [
    {
     "data": {
      "text/html": [
       "<div>\n",
       "<style scoped>\n",
       "    .dataframe tbody tr th:only-of-type {\n",
       "        vertical-align: middle;\n",
       "    }\n",
       "\n",
       "    .dataframe tbody tr th {\n",
       "        vertical-align: top;\n",
       "    }\n",
       "\n",
       "    .dataframe thead th {\n",
       "        text-align: right;\n",
       "    }\n",
       "</style>\n",
       "<table border=\"1\" class=\"dataframe\">\n",
       "  <thead>\n",
       "    <tr style=\"text-align: right;\">\n",
       "      <th></th>\n",
       "      <th>price</th>\n",
       "    </tr>\n",
       "  </thead>\n",
       "  <tbody>\n",
       "    <tr>\n",
       "      <th>0</th>\n",
       "      <td>36.757</td>\n",
       "    </tr>\n",
       "    <tr>\n",
       "      <th>1</th>\n",
       "      <td>34.924</td>\n",
       "    </tr>\n",
       "    <tr>\n",
       "      <th>2</th>\n",
       "      <td>33.389</td>\n",
       "    </tr>\n",
       "    <tr>\n",
       "      <th>3</th>\n",
       "      <td>32.035</td>\n",
       "    </tr>\n",
       "    <tr>\n",
       "      <th>4</th>\n",
       "      <td>33.694</td>\n",
       "    </tr>\n",
       "  </tbody>\n",
       "</table>\n",
       "</div>"
      ],
      "text/plain": [
       "    price\n",
       "0  36.757\n",
       "1  34.924\n",
       "2  33.389\n",
       "3  32.035\n",
       "4  33.694"
      ]
     },
     "execution_count": 3,
     "metadata": {},
     "output_type": "execute_result"
    }
   ],
   "source": [
    "# Load the data file\n",
    "ca_data = pd.read_csv('https://raw.githubusercontent.com/ndcbe/optimization/main/notebooks/data/Prices_DAM_ALTA2G_7_B1.csv',names=['price'])\n",
    "\n",
    "# Print the first 10 rows\n",
    "ca_data.head()"
   ]
  },
  {
   "cell_type": "markdown",
   "metadata": {},
   "source": [
    "Next we can calculate summary statistics:"
   ]
  },
  {
   "cell_type": "code",
   "execution_count": 4,
   "metadata": {},
   "outputs": [
    {
     "data": {
      "text/html": [
       "<div>\n",
       "<style scoped>\n",
       "    .dataframe tbody tr th:only-of-type {\n",
       "        vertical-align: middle;\n",
       "    }\n",
       "\n",
       "    .dataframe tbody tr th {\n",
       "        vertical-align: top;\n",
       "    }\n",
       "\n",
       "    .dataframe thead th {\n",
       "        text-align: right;\n",
       "    }\n",
       "</style>\n",
       "<table border=\"1\" class=\"dataframe\">\n",
       "  <thead>\n",
       "    <tr style=\"text-align: right;\">\n",
       "      <th></th>\n",
       "      <th>price</th>\n",
       "    </tr>\n",
       "  </thead>\n",
       "  <tbody>\n",
       "    <tr>\n",
       "      <th>count</th>\n",
       "      <td>8760.000000</td>\n",
       "    </tr>\n",
       "    <tr>\n",
       "      <th>mean</th>\n",
       "      <td>32.516994</td>\n",
       "    </tr>\n",
       "    <tr>\n",
       "      <th>std</th>\n",
       "      <td>9.723477</td>\n",
       "    </tr>\n",
       "    <tr>\n",
       "      <th>min</th>\n",
       "      <td>-2.128700</td>\n",
       "    </tr>\n",
       "    <tr>\n",
       "      <th>25%</th>\n",
       "      <td>26.510000</td>\n",
       "    </tr>\n",
       "    <tr>\n",
       "      <th>50%</th>\n",
       "      <td>30.797500</td>\n",
       "    </tr>\n",
       "    <tr>\n",
       "      <th>75%</th>\n",
       "      <td>37.544750</td>\n",
       "    </tr>\n",
       "    <tr>\n",
       "      <th>max</th>\n",
       "      <td>116.340000</td>\n",
       "    </tr>\n",
       "  </tbody>\n",
       "</table>\n",
       "</div>"
      ],
      "text/plain": [
       "             price\n",
       "count  8760.000000\n",
       "mean     32.516994\n",
       "std       9.723477\n",
       "min      -2.128700\n",
       "25%      26.510000\n",
       "50%      30.797500\n",
       "75%      37.544750\n",
       "max     116.340000"
      ]
     },
     "execution_count": 4,
     "metadata": {},
     "output_type": "execute_result"
    }
   ],
   "source": [
    "ca_data.describe()"
   ]
  },
  {
   "cell_type": "markdown",
   "metadata": {},
   "source": [
    "<div class=\"admonition note\"> \n",
    "<b>Activity</b>: What are 2 or 3 interesting observations from these summary statistics?\n",
    "</div>"
   ]
  },
  {
   "cell_type": "markdown",
   "metadata": {},
   "source": [
    "1) mean > 50% \n",
    "\n",
    "2) left skewed (max >> 75%)\n",
    "\n",
    "3) not normal"
   ]
  },
  {
   "cell_type": "markdown",
   "metadata": {},
   "source": [
    "Next, let's visualize the data in a histogram:"
   ]
  },
  {
   "cell_type": "code",
   "execution_count": 5,
   "metadata": {},
   "outputs": [
    {
     "data": {
      "image/png": "[encoded data removed]",
      "text/plain": [
       "<Figure size 432x288 with 1 Axes>"
      ]
     },
     "metadata": {
      "needs_background": "light"
     },
     "output_type": "display_data"
    }
   ],
   "source": [
    "plt.hist(ca_data[\"price\"])\n",
    "plt.xlabel('Day-Ahead Market Energy Price [$/MWh]',fontsize=18)\n",
    "plt.ylabel('Count',fontsize=18)\n",
    "plt.grid(True)\n",
    "plt.show()"
   ]
  },
  {
   "cell_type": "markdown",
   "metadata": {},
   "source": [
    "Finaly, let's visualize the prices during the first full calendar week. The data are for calendar year 2015. For reference, January 1, 2015 was a Thursday."
   ]
  },
  {
   "cell_type": "code",
   "execution_count": 6,
   "metadata": {},
   "outputs": [
    {
     "data": {
      "image/png": "[encoded data removed]",
      "text/plain": [
       "<Figure size 432x288 with 1 Axes>"
      ]
     },
     "metadata": {
      "needs_background": "light"
     },
     "output_type": "display_data"
    }
   ],
   "source": [
    "offset = 4 # days\n",
    "number_of_days = 7\n",
    "first_week = ca_data[\"price\"].to_numpy()[(0 + offset)*24: (0 + offset + number_of_days)*24]\n",
    "\n",
    "# Customize the major and minor ticks on the plots\n",
    "from matplotlib.ticker import MultipleLocator\n",
    "fig, ax = plt.subplots()\n",
    "\n",
    "# Plot data\n",
    "ax.plot(range(0,number_of_days*24), first_week)\n",
    "\n",
    "# Set major ticks every 24 hours (1 day)\n",
    "ax.xaxis.set_major_locator(MultipleLocator(24))\n",
    "\n",
    "# Set minor ticks every 6 hours\n",
    "ax.xaxis.set_minor_locator(MultipleLocator(6))\n",
    "\n",
    "# Set labels, add grid\n",
    "plt.xlabel('Hour',fontsize = 18)\n",
    "plt.ylabel('DAM Energy Price [$/MWh]',fontsize = 18)\n",
    "plt.grid(True)\n",
    "plt.show()"
   ]
  },
  {
   "cell_type": "markdown",
   "metadata": {},
   "source": [
    "<div class=\"admonition note\"> \n",
    "<b>Activity</b>: What are 1 or 2 interesting observations from these plots?\n",
    "</div>"
   ]
  },
  {
   "cell_type": "markdown",
   "metadata": {},
   "source": [
    "* day ahead energy market price is greater earlier in the week\n",
    "* troughs tend to be noon and midnight"
   ]
  },
  {
   "cell_type": "markdown",
   "metadata": {},
   "source": [
    "### Optimization Mathematical Model"
   ]
  },
  {
   "cell_type": "markdown",
   "metadata": {},
   "source": [
    "*Energy (price) arbitrage* is the idea of using energy storage (e.g., a battery) to take advantage of the significant daily energy price swings. This gives rise to many analysis questions including:\n",
    "\n",
    "*If a battery energy storage system perfectly timed it's energy purchases and sales (i.e., it could perfectly forecast the market price), how much money could it make from energy arbitrage?*\n",
    "\n",
    "We can answer this question using mathematical/computational optimization!\n",
    "\n",
    "Let's start by drawing a picture."
   ]
  },
  {
   "cell_type": "markdown",
   "metadata": {},
   "source": [
    "![battery-optimization](https://ndcbe.github.io/optimization/_images/battery.png)"
   ]
  },
  {
   "cell_type": "markdown",
   "metadata": {},
   "source": [
    "#### Sets\n",
    "Let's say we want to define our optimization problem over a 24 hour window. The day-ahead market sets the energy prices in 1-hour intervals. We'll define the set\n",
    "\n",
    "$$\\mathcal{T} = \\{0, 1, ..., N\\}$$\n",
    "\n",
    "for time where $N = 24$ for a 24-hour planning horizon. For convienence, we'll also define $\\mathcal{T}' := \\mathcal{T} / \\{0\\}$, which is the original set $\\mathcal{T}$ substract subset $\\{0\\}$.\n"
   ]
  },
  {
   "cell_type": "markdown",
   "metadata": {},
   "source": [
    "#### Variables\n",
    "\n",
    "Next, let's identify the variables in the optimization problem:\n",
    "* $E_t$, energy stored in battery at time $t$, units: MWh\n",
    "* $d_t$, battery discharge power (sold to market) during time interval [t-1, t), units: MW\n",
    "* $c_t$, battery charge power (purchased from the market) during time interval [t-1, t), units: MW\n",
    "\n",
    "Notice how all of these variables are indexed by the timestep $t$. We'll write in the model $t \\in \\mathcal{T}'$"
   ]
  },
  {
   "cell_type": "markdown",
   "metadata": {},
   "source": [
    "#### Parameters\n",
    "\n",
    "Parameters are data that are constant during the optimization problem. Here we have:\n",
    "* $\\pi_t$: Energy price during time interval [t-1, t), units: \\$/MW\n",
    "* $\\eta$: Round trip efficiency, units: dimensionless\n",
    "* $c_{max}$ Maximum charge power, units: MW\n",
    "* $d_{max}$ Maximum discharge power, units: MW\n",
    "* $E_{max}$ Maximum storage energy, units: MWh\n",
    "* $E_{0}$ Energy in storage at time $t=0$, units: MWh\n",
    "* $\\Delta t = 1$ hour, Timestep for grid decisions and prices (fixed)"
   ]
  },
  {
   "cell_type": "markdown",
   "metadata": {},
   "source": [
    "#### Objective and Constraints"
   ]
  },
  {
   "cell_type": "markdown",
   "metadata": {},
   "source": [
    "Finally, we'll identify the objective, which is the function to improve, and the mathematical constraints. Below is the full mathematical model for the problem:"
   ]
  },
  {
   "cell_type": "markdown",
   "metadata": {},
   "source": [
    "$$\n",
    "\\begin{align*}\n",
    "    \\max_{\\mathbf{E},\\mathbf{d},\\mathbf{c}} \\quad & \\psi := \\sum_{t \\in \\mathcal{T}'} \\pi_{t} \\Delta t (d_{t} - c_{t}) \\\\\n",
    "\\mathrm{s.t.} \\quad & E_{t} = E_{t-1} + \\Delta t \\left( c_{t} \\sqrt{\\eta} - \\frac{d_{t}}{\\sqrt{\\eta}} \\right), ~~ \\forall ~ t \\in \\mathcal{T}' \\\\\n",
    "    & E_{0} = E_{N} \\\\\n",
    "    & 0 \\leq c_{t} \\leq c_{max}, ~~\\forall ~ t \\in \\mathcal{T}' \\\\\n",
    "    & 0 \\leq d_{t} \\leq d_{max}, ~~\\forall ~ t \\in \\mathcal{T}' \\\\\n",
    "    & 0 \\leq E_{t} \\leq E_{max},  ~~\\forall ~ t \\in \\mathcal{T}'\n",
    "\\end{align*}\n",
    "$$"
   ]
  },
  {
   "cell_type": "markdown",
   "metadata": {},
   "source": [
    "<div class=\"admonition note\"> \n",
    "<b>Activity</b>: Write on paper a 1-sentence description for each equation.\n",
    "</div>\n",
    "\n",
    "1) maximize price per megawatt-hr\n",
    "\n",
    "2) such that the energy at time t is equal to the energy at the previous timestep minus the energy stored at the current timestep\n",
    "\n",
    "3) periodic boundary condition for the energy\n",
    "\n",
    "4) set charge max and min\n",
    "\n",
    "5) set discharge max and min\n",
    "\n",
    "6) conservation of energy"
   ]
  },
  {
   "cell_type": "markdown",
   "metadata": {},
   "source": [
    "### Degree of Freedom Analysis"
   ]
  },
  {
   "cell_type": "markdown",
   "metadata": {},
   "source": [
    "Before we program our model in Pyomo, it is *very important* to first perform a degree of freedom analysis. Here are the steps:\n",
    "* Count the number of variables\n",
    "* Count the number of equality constraints\n",
    "* Degrees of freedom = number of variables subtract number of equality constraints\n",
    "\n",
    "$\\nu = (3)(24) - (1 + 24) = 72 - 25 = 17$\n",
    "\n",
    "The degrees of freedom are the number of decisions variables that be freely manipulated by the optimizer. If there are no degrees of freedom, we ofter say the problem is square or it is a simulation problem.\n",
    "\n",
    "For now, we will ignore inequality constraints and bounds. Later in the semester we will revisit degree of freedom analysis using some optimization theory concepts (e.g., active sets)."
   ]
  },
  {
   "cell_type": "markdown",
   "metadata": {},
   "source": [
    "<div class=\"admonition note\"> \n",
    "<b>Activity</b>: Perform degree of freedom analysis.\n",
    "</div>"
   ]
  },
  {
   "cell_type": "markdown",
   "metadata": {},
   "source": [
    "## Pyomo Modeling Components"
   ]
  },
  {
   "cell_type": "markdown",
   "metadata": {},
   "source": [
    "<div class=\"admonition danger\"> \n",
    "<b>Important</b>: Do NOT implement an optimization model in Pyomo (or any other software) until you have written it on paper and performed degree of freedom analysis, as done above. Be sure to resolve any doubts, questions, or concerns while your model is still on paper. When applying optimization to a problem, a majority of the mistakes happen at the problem formulation step. So do not rush it!\n",
    "</div>"
   ]
  },
  {
   "cell_type": "markdown",
   "metadata": {},
   "source": [
    "### Create `ConcreteModel`"
   ]
  },
  {
   "cell_type": "markdown",
   "metadata": {},
   "source": [
    "We will start by creating a concrete Pyomo model. Recall, Pyomo is an object-oriented algebriac modeling language. The line below creates an instance of the ConcreteModel class."
   ]
  },
  {
   "cell_type": "code",
   "execution_count": 7,
   "metadata": {},
   "outputs": [],
   "source": [
    "m = pyo.ConcreteModel()"
   ]
  },
  {
   "cell_type": "markdown",
   "metadata": {},
   "source": [
    "For those unfamilar with object-oriented programming, `m` is a container to define an optimization model. It includes a bunch of functionality to interface with different optimization solvers, perform diagnostics, and inspect the solution.\n",
    "\n",
    "Pyomo also supports abstract models, but we will stick with concrete models this semester. See the Pyomo textbook for more details if you are curious."
   ]
  },
  {
   "cell_type": "markdown",
   "metadata": {},
   "source": [
    "### Sets"
   ]
  },
  {
   "cell_type": "markdown",
   "metadata": {},
   "source": [
    "We start by declaring a set for time. From above, recall we want to index all of the variables and constraints over the set\n",
    "\n",
    "$$\n",
    "\\mathcal{T}' = \\mathcal{T} / \\{0\\} = \\{1, ..., N\\}\n",
    "$$"
   ]
  },
  {
   "cell_type": "code",
   "execution_count": 8,
   "metadata": {},
   "outputs": [],
   "source": [
    "# Save the number of timesteps\n",
    "m.N = 24\n",
    "\n",
    "# Define the horizon set\n",
    "m.HORIZON = pyo.Set(initialize=range(1,m.N+1))"
   ]
  },
  {
   "cell_type": "markdown",
   "metadata": {},
   "source": [
    "Some Pyomo modelers prefer to use all capital names for sets; this is a personal preference."
   ]
  },
  {
   "cell_type": "markdown",
   "metadata": {},
   "source": [
    "### Variables"
   ]
  },
  {
   "cell_type": "markdown",
   "metadata": {},
   "source": [
    "Next, we can declare our three variables: $E_t$, $c_t$, $d_t$"
   ]
  },
  {
   "cell_type": "code",
   "execution_count": 9,
   "metadata": {},
   "outputs": [],
   "source": [
    "# Charging rate [MW]\n",
    "m.c = pyo.Var(m.HORIZON, initialize = 0.0, bounds=(0, 1), domain=pyo.NonNegativeReals)\n",
    "\n",
    "# Discharging rate [MW]\n",
    "m.d = pyo.Var(m.HORIZON, initialize = 0.0, bounds=(0, 1), domain=pyo.NonNegativeReals)\n",
    "\n",
    "# Energy (state-of-charge) [MWh]\n",
    "m.E = pyo.Var(m.HORIZON, initialize = 0.0, bounds=(0, 4), domain=pyo.NonNegativeReals)"
   ]
  },
  {
   "cell_type": "markdown",
   "metadata": {},
   "source": [
    "See the table below (Hart et al., 2017) for an explanation of the arguments for `Var`:\n",
    "    \n",
    "![pyomo-var-arguments](https://ndcbe.github.io/optimization/_images/pyomo-table-4.1.png)"
   ]
  },
  {
   "cell_type": "markdown",
   "metadata": {},
   "source": [
    "Pyomo also supports units. Even though we are not explicitly using the feature, the units for all variables are clearly marked in the comments."
   ]
  },
  {
   "cell_type": "markdown",
   "metadata": {},
   "source": [
    "The following table (Hart et al., 2017) shows the options for the `within`/`domain` variable keyword:\n",
    "\n",
    "![pyomo-var-domain](https://ndcbe.github.io/optimization/_images/pyomo-table-4.2.png)\n"
   ]
  },
  {
   "cell_type": "markdown",
   "metadata": {},
   "source": [
    "In the example above, `domain=pyo.NonNegativeReals` is not needs, as we are specifying stricker bounds. It is included above to show the syntax."
   ]
  },
  {
   "cell_type": "markdown",
   "metadata": {},
   "source": [
    "### Parameters (Constants / Data)\n",
    "\n",
    "The next step is to define the parameter data: $\\pi_t$ (energy prices), $\\eta$ (round trip efficiency) and $E_0$ (intial energy storage level)."
   ]
  },
  {
   "cell_type": "code",
   "execution_count": 10,
   "metadata": {},
   "outputs": [],
   "source": [
    "# Square root of round trip efficiency\n",
    "m.sqrteta = pyo.Param(initialize = pyo.sqrt(0.88))\n",
    "\n",
    "# Energy in battery at t=0\n",
    "m.E0 = pyo.Param(initialize = 2.0, mutable=True)"
   ]
  },
  {
   "cell_type": "code",
   "execution_count": 11,
   "metadata": {},
   "outputs": [
    {
     "name": "stdout",
     "output_type": "stream",
     "text": [
      "1 Set Declarations\n",
      "    HORIZON : Size=1, Index=None, Ordered=Insertion\n",
      "        Key  : Dimen : Domain : Size : Members\n",
      "        None :     1 :    Any :   24 : {1, 2, 3, 4, 5, 6, 7, 8, 9, 10, 11, 12, 13, 14, 15, 16, 17, 18, 19, 20, 21, 22, 23, 24}\n",
      "\n",
      "2 Param Declarations\n",
      "    E0 : Size=1, Index=None, Domain=Any, Default=None, Mutable=True\n",
      "        Key  : Value\n",
      "        None :   2.0\n",
      "    sqrteta : Size=1, Index=None, Domain=Any, Default=None, Mutable=False\n",
      "        Key  : Value\n",
      "        None : 0.938083151964686\n",
      "\n",
      "3 Var Declarations\n",
      "    E : Size=24, Index=HORIZON\n",
      "        Key : Lower : Value : Upper : Fixed : Stale : Domain\n",
      "          1 :     0 :   0.0 :     4 : False : False : NonNegativeReals\n",
      "          2 :     0 :   0.0 :     4 : False : False : NonNegativeReals\n",
      "          3 :     0 :   0.0 :     4 : False : False : NonNegativeReals\n",
      "          4 :     0 :   0.0 :     4 : False : False : NonNegativeReals\n",
      "          5 :     0 :   0.0 :     4 : False : False : NonNegativeReals\n",
      "          6 :     0 :   0.0 :     4 : False : False : NonNegativeReals\n",
      "          7 :     0 :   0.0 :     4 : False : False : NonNegativeReals\n",
      "          8 :     0 :   0.0 :     4 : False : False : NonNegativeReals\n",
      "          9 :     0 :   0.0 :     4 : False : False : NonNegativeReals\n",
      "         10 :     0 :   0.0 :     4 : False : False : NonNegativeReals\n",
      "         11 :     0 :   0.0 :     4 : False : False : NonNegativeReals\n",
      "         12 :     0 :   0.0 :     4 : False : False : NonNegativeReals\n",
      "         13 :     0 :   0.0 :     4 : False : False : NonNegativeReals\n",
      "         14 :     0 :   0.0 :     4 : False : False : NonNegativeReals\n",
      "         15 :     0 :   0.0 :     4 : False : False : NonNegativeReals\n",
      "         16 :     0 :   0.0 :     4 : False : False : NonNegativeReals\n",
      "         17 :     0 :   0.0 :     4 : False : False : NonNegativeReals\n",
      "         18 :     0 :   0.0 :     4 : False : False : NonNegativeReals\n",
      "         19 :     0 :   0.0 :     4 : False : False : NonNegativeReals\n",
      "         20 :     0 :   0.0 :     4 : False : False : NonNegativeReals\n",
      "         21 :     0 :   0.0 :     4 : False : False : NonNegativeReals\n",
      "         22 :     0 :   0.0 :     4 : False : False : NonNegativeReals\n",
      "         23 :     0 :   0.0 :     4 : False : False : NonNegativeReals\n",
      "         24 :     0 :   0.0 :     4 : False : False : NonNegativeReals\n",
      "    c : Size=24, Index=HORIZON\n",
      "        Key : Lower : Value : Upper : Fixed : Stale : Domain\n",
      "          1 :     0 :   0.0 :     1 : False : False : NonNegativeReals\n",
      "          2 :     0 :   0.0 :     1 : False : False : NonNegativeReals\n",
      "          3 :     0 :   0.0 :     1 : False : False : NonNegativeReals\n",
      "          4 :     0 :   0.0 :     1 : False : False : NonNegativeReals\n",
      "          5 :     0 :   0.0 :     1 : False : False : NonNegativeReals\n",
      "          6 :     0 :   0.0 :     1 : False : False : NonNegativeReals\n",
      "          7 :     0 :   0.0 :     1 : False : False : NonNegativeReals\n",
      "          8 :     0 :   0.0 :     1 : False : False : NonNegativeReals\n",
      "          9 :     0 :   0.0 :     1 : False : False : NonNegativeReals\n",
      "         10 :     0 :   0.0 :     1 : False : False : NonNegativeReals\n",
      "         11 :     0 :   0.0 :     1 : False : False : NonNegativeReals\n",
      "         12 :     0 :   0.0 :     1 : False : False : NonNegativeReals\n",
      "         13 :     0 :   0.0 :     1 : False : False : NonNegativeReals\n",
      "         14 :     0 :   0.0 :     1 : False : False : NonNegativeReals\n",
      "         15 :     0 :   0.0 :     1 : False : False : NonNegativeReals\n",
      "         16 :     0 :   0.0 :     1 : False : False : NonNegativeReals\n",
      "         17 :     0 :   0.0 :     1 : False : False : NonNegativeReals\n",
      "         18 :     0 :   0.0 :     1 : False : False : NonNegativeReals\n",
      "         19 :     0 :   0.0 :     1 : False : False : NonNegativeReals\n",
      "         20 :     0 :   0.0 :     1 : False : False : NonNegativeReals\n",
      "         21 :     0 :   0.0 :     1 : False : False : NonNegativeReals\n",
      "         22 :     0 :   0.0 :     1 : False : False : NonNegativeReals\n",
      "         23 :     0 :   0.0 :     1 : False : False : NonNegativeReals\n",
      "         24 :     0 :   0.0 :     1 : False : False : NonNegativeReals\n",
      "    d : Size=24, Index=HORIZON\n",
      "        Key : Lower : Value : Upper : Fixed : Stale : Domain\n",
      "          1 :     0 :   0.0 :     1 : False : False : NonNegativeReals\n",
      "          2 :     0 :   0.0 :     1 : False : False : NonNegativeReals\n",
      "          3 :     0 :   0.0 :     1 : False : False : NonNegativeReals\n",
      "          4 :     0 :   0.0 :     1 : False : False : NonNegativeReals\n",
      "          5 :     0 :   0.0 :     1 : False : False : NonNegativeReals\n",
      "          6 :     0 :   0.0 :     1 : False : False : NonNegativeReals\n",
      "          7 :     0 :   0.0 :     1 : False : False : NonNegativeReals\n",
      "          8 :     0 :   0.0 :     1 : False : False : NonNegativeReals\n",
      "          9 :     0 :   0.0 :     1 : False : False : NonNegativeReals\n",
      "         10 :     0 :   0.0 :     1 : False : False : NonNegativeReals\n",
      "         11 :     0 :   0.0 :     1 : False : False : NonNegativeReals\n",
      "         12 :     0 :   0.0 :     1 : False : False : NonNegativeReals\n",
      "         13 :     0 :   0.0 :     1 : False : False : NonNegativeReals\n",
      "         14 :     0 :   0.0 :     1 : False : False : NonNegativeReals\n",
      "         15 :     0 :   0.0 :     1 : False : False : NonNegativeReals\n",
      "         16 :     0 :   0.0 :     1 : False : False : NonNegativeReals\n",
      "         17 :     0 :   0.0 :     1 : False : False : NonNegativeReals\n",
      "         18 :     0 :   0.0 :     1 : False : False : NonNegativeReals\n",
      "         19 :     0 :   0.0 :     1 : False : False : NonNegativeReals\n",
      "         20 :     0 :   0.0 :     1 : False : False : NonNegativeReals\n",
      "         21 :     0 :   0.0 :     1 : False : False : NonNegativeReals\n",
      "         22 :     0 :   0.0 :     1 : False : False : NonNegativeReals\n",
      "         23 :     0 :   0.0 :     1 : False : False : NonNegativeReals\n",
      "         24 :     0 :   0.0 :     1 : False : False : NonNegativeReals\n",
      "\n",
      "6 Declarations: HORIZON c d E sqrteta E0\n"
     ]
    }
   ],
   "source": [
    "m.pprint()"
   ]
  },
  {
   "cell_type": "markdown",
   "metadata": {},
   "source": [
    "We see the `initialize` keyword is used to set the parameter value. When `mutable=True`, Pyomo builds the model such that we can easily update the parameter and resolved. Later in the notebook, we will see how this is helpful.\n",
    "\n",
    "Below is a table (Hart et al., 2017) of options for `Param`:\n",
    "\n",
    "    \n",
    "![pyomo-param-arguments](https://ndcbe.github.io/optimization/_images/pyomo-table-4.6.png)"
   ]
  },
  {
   "cell_type": "markdown",
   "metadata": {},
   "source": [
    "Let's dig in more to the `initialize` syntax. First, let's convert the price data from pandas into a numpy array:"
   ]
  },
  {
   "cell_type": "code",
   "execution_count": 12,
   "metadata": {},
   "outputs": [
    {
     "name": "stdout",
     "output_type": "stream",
     "text": [
      "len(my_np_array) = 8760\n"
     ]
    }
   ],
   "source": [
    "my_np_array = ca_data[\"price\"].to_numpy()\n",
    "\n",
    "# get the length\n",
    "print(\"len(my_np_array) =\",len(my_np_array))"
   ]
  },
  {
   "cell_type": "markdown",
   "metadata": {},
   "source": [
    "Recall, our dataset constains an entire year (which has 8760 hours). To access the first 24 hours, we use the following slice:"
   ]
  },
  {
   "cell_type": "code",
   "execution_count": 13,
   "metadata": {},
   "outputs": [
    {
     "data": {
      "text/plain": [
       "array([36.757, 34.924, 33.389, 32.035, 33.694, 36.88 , 38.662, 38.975,\n",
       "       35.08 , 29.979, 27.546, 25.944, 24.587, 23.788, 25.236, 30.145,\n",
       "       44.622, 50.957, 59.345, 52.564, 52.819, 48.816, 46.685, 38.575])"
      ]
     },
     "execution_count": 13,
     "metadata": {},
     "output_type": "execute_result"
    }
   ],
   "source": [
    "my_np_array[0:24]"
   ]
  },
  {
   "cell_type": "code",
   "execution_count": 14,
   "metadata": {},
   "outputs": [
    {
     "data": {
      "text/plain": [
       "24"
      ]
     },
     "execution_count": 14,
     "metadata": {},
     "output_type": "execute_result"
    }
   ],
   "source": [
    "len(my_np_array[0:24])"
   ]
  },
  {
   "cell_type": "markdown",
   "metadata": {},
   "source": [
    "Initializing parameters in Pyomo can be precarious. The most fool proof strategy is to prepare a dictionary where the keys match the elements of the sets that index the parameter of interest. In our example, `m.HORIZON` contains 1, ..., 24, so we need a dictionary with the keys 1, ..., 24."
   ]
  },
  {
   "cell_type": "code",
   "execution_count": 15,
   "metadata": {},
   "outputs": [
    {
     "data": {
      "text/plain": [
       "{0: 36.757,\n",
       " 1: 34.924,\n",
       " 2: 33.389,\n",
       " 3: 32.035,\n",
       " 4: 33.694,\n",
       " 5: 36.88,\n",
       " 6: 38.662,\n",
       " 7: 38.975,\n",
       " 8: 35.08,\n",
       " 9: 29.979,\n",
       " 10: 27.546,\n",
       " 11: 25.944000000000003,\n",
       " 12: 24.587,\n",
       " 13: 23.788,\n",
       " 14: 25.236,\n",
       " 15: 30.145,\n",
       " 16: 44.622,\n",
       " 17: 50.957,\n",
       " 18: 59.345,\n",
       " 19: 52.56399999999999,\n",
       " 20: 52.818999999999996,\n",
       " 21: 48.816,\n",
       " 22: 46.685,\n",
       " 23: 38.575}"
      ]
     },
     "execution_count": 15,
     "metadata": {},
     "output_type": "execute_result"
    }
   ],
   "source": [
    "ca_data[\"price\"][0:24].to_dict()"
   ]
  },
  {
   "cell_type": "markdown",
   "metadata": {},
   "source": [
    "That was easy. But what if we wanted to build the optimization model using the second day of data? Let's give it a try:"
   ]
  },
  {
   "cell_type": "code",
   "execution_count": 16,
   "metadata": {},
   "outputs": [
    {
     "data": {
      "text/plain": [
       "{24: 37.239000000000004,\n",
       " 25: 34.766,\n",
       " 26: 34.645,\n",
       " 27: 33.21,\n",
       " 28: 35.524,\n",
       " 29: 44.143,\n",
       " 30: 39.231,\n",
       " 31: 41.251000000000005,\n",
       " 32: 36.406,\n",
       " 33: 31.194000000000003,\n",
       " 34: 29.695,\n",
       " 35: 27.034000000000002,\n",
       " 36: 26.009,\n",
       " 37: 24.829,\n",
       " 38: 26.168000000000003,\n",
       " 39: 29.921,\n",
       " 40: 44.137,\n",
       " 41: 51.751000000000005,\n",
       " 42: 51.652,\n",
       " 43: 46.675,\n",
       " 44: 45.273999999999994,\n",
       " 45: 44.053000000000004,\n",
       " 46: 46.778999999999996,\n",
       " 47: 37.306999999999995}"
      ]
     },
     "execution_count": 16,
     "metadata": {},
     "output_type": "execute_result"
    }
   ],
   "source": [
    "ca_data[\"price\"][24:48].to_dict()"
   ]
  },
  {
   "cell_type": "markdown",
   "metadata": {},
   "source": [
    "<div class=\"admonition note\"> \n",
    "<b>Activity</b>: Uncomment the line below and look at the error message and read below. Then comment the line out again and rerun the notebook up to this cell.\n",
    "</div>"
   ]
  },
  {
   "cell_type": "code",
   "execution_count": 17,
   "metadata": {},
   "outputs": [],
   "source": [
    "# m.price = pyo.Param(m.HORIZON, initialize = ca_data[\"price\"][24:48].to_dict(), domain=pyo.Reals)"
   ]
  },
  {
   "cell_type": "markdown",
   "metadata": {},
   "source": [
    "You should get the following error:\n",
    "\n",
    "```\n",
    "ERROR: Constructing component 'price' from data=None failed: KeyError: \"Index\n",
    "    '25' is not valid for indexed component 'price'\"\n",
    "```"
   ]
  },
  {
   "cell_type": "markdown",
   "metadata": {},
   "source": [
    "Why did this happen? Our dictionary started with key 25 but we tried to create a `Param` indexed over 1 through 24."
   ]
  },
  {
   "cell_type": "markdown",
   "metadata": {},
   "source": [
    "Let's say we want to build the optimization model starting for an arbitrary day. We need to extract the correct data from the pandas DataFrame and convert it to a dictionary with the correct keys. The function below does this using a simple, easy to follow approach. There is more compact \"Pythonic\" syntax to do this, but we will skip it for this getting started tutorial."
   ]
  },
  {
   "cell_type": "code",
   "execution_count": 18,
   "metadata": {},
   "outputs": [
    {
     "name": "stdout",
     "output_type": "stream",
     "text": [
      "{1: 37.239000000000004, 2: 34.766, 3: 34.645, 4: 33.21, 5: 35.524, 6: 44.143, 7: 39.231, 8: 41.251000000000005, 9: 36.406, 10: 31.194000000000003, 11: 29.695, 12: 27.034000000000002, 13: 26.009, 14: 24.829, 15: 26.168000000000003, 16: 29.921, 17: 44.137, 18: 51.751000000000005, 19: 51.652, 20: 46.675, 21: 45.273999999999994, 22: 44.053000000000004, 23: 46.778999999999996, 24: 37.306999999999995}\n"
     ]
    }
   ],
   "source": [
    "def prepare_price_data(day):\n",
    "    ''' Prepare dictionary of price data\n",
    "    \n",
    "    Arguments:\n",
    "        day: int, day to start. day = 0 is the first day\n",
    "    \n",
    "    Returns:\n",
    "        data_dict: dictionary of price data with keys 1 to 24\n",
    "        \n",
    "    Notes:\n",
    "        This function assumes the pandas DataFrame ca_data is in scope.\n",
    "    \n",
    "    '''\n",
    "    \n",
    "    # Create empty dictionary\n",
    "    data_dict = {}\n",
    "    \n",
    "    # Extract data as numpy array\n",
    "    data_np_array = ca_data[\"price\"][(day)*24:24*(day+1)].to_numpy()\n",
    "    \n",
    "    # Loop over elements of numpy array\n",
    "    for i in range(0,24):\n",
    "        \n",
    "        # Add element to data_dict\n",
    "        data_dict[i + 1] = data_np_array[i]\n",
    "        \n",
    "    return data_dict\n",
    "\n",
    "# Create input data for day 1 (i.e., January 2, 2015)\n",
    "my_data_dict = prepare_price_data(1)\n",
    "print(my_data_dict)"
   ]
  },
  {
   "cell_type": "markdown",
   "metadata": {},
   "source": [
    "<div class=\"admonition note\"> \n",
    "<b>Activity</b>: Confirm <tt>my_data_dict</tt> contains the correct prices for the January 2, 2015.\n",
    "</div>"
   ]
  },
  {
   "cell_type": "code",
   "execution_count": 19,
   "metadata": {},
   "outputs": [
    {
     "name": "stdout",
     "output_type": "stream",
     "text": [
      "{1: 34.952, 2: 32.865, 3: 32.363, 4: 31.749000000000002, 5: 32.653, 6: 35.671, 7: 32.902, 8: 33.088, 9: 32.707, 10: 29.636, 11: 28.204, 12: 27.131999999999998, 13: 26.268, 14: 24.195999999999998, 15: 25.735, 16: 29.199, 17: 42.995, 18: 53.431999999999995, 19: 54.838, 20: 48.568000000000005, 21: 49.059, 22: 44.004, 23: 41.544, 24: 35.845}\n"
     ]
    }
   ],
   "source": [
    "# Add your solution here\n",
    "my_data_dict = prepare_price_data(2)\n",
    "print(my_data_dict)"
   ]
  },
  {
   "cell_type": "markdown",
   "metadata": {},
   "source": [
    "Now we are ready to define the price data parameter:"
   ]
  },
  {
   "cell_type": "code",
   "execution_count": 20,
   "metadata": {},
   "outputs": [],
   "source": [
    "m.price = pyo.Param(m.HORIZON, initialize = my_data_dict, domain=pyo.Reals, mutable=True)"
   ]
  },
  {
   "cell_type": "markdown",
   "metadata": {},
   "source": [
    "<div class=\"admonition seealso\"> \n",
    "<b>Tip</b>: When initializing variables and parameters with a pandas DataFrame, always convert to dictionary and check the keys. Often incorrectly loaded data is the root cause of unexpected errors or strange results. Checking the keys while building the model helps prevent these mistakes. \n",
    "</div>"
   ]
  },
  {
   "cell_type": "markdown",
   "metadata": {},
   "source": [
    "### Objectives"
   ]
  },
  {
   "cell_type": "markdown",
   "metadata": {},
   "source": [
    "Next, we will declare the objective function in Pyomo. Below are two equally valid syntax optimizations."
   ]
  },
  {
   "cell_type": "code",
   "execution_count": 21,
   "metadata": {},
   "outputs": [],
   "source": [
    "# # Approach 1: Define a function and use *rule=*\n",
    "# def objfun(model):\n",
    "#     return  sum((-model.c[t] + model.d[t]) * model.price[t] for t in model.HORIZON)\n",
    "# m.OBJ = pyo.Objective(rule = objfun, sense = pyo.maximize)\n",
    "\n",
    "# Approach 2: Use *expr=*\n",
    "m.OBJ = pyo.Objective(expr = sum((-m.c[t] + m.d[t]) * m.price[t] for t in m.HORIZON), \n",
    "   sense = pyo.maximize)"
   ]
  },
  {
   "cell_type": "markdown",
   "metadata": {},
   "source": [
    "<div class=\"admonition note\"> \n",
    "<b>Activity</b>: Comment out Approach 2 above and rerun the notebook. You'll get a warning message if you do not comment out Approach 1. The answer should not change.\n",
    "</div>"
   ]
  },
  {
   "cell_type": "markdown",
   "metadata": {},
   "source": [
    "The following table (Hart et al., 2017) summarizes the keyword arguments for `Objective`:\n",
    "\n",
    "![pyomo-objective-arguments](https://ndcbe.github.io/optimization/_images/pyomo-table-4.3.png)"
   ]
  },
  {
   "cell_type": "markdown",
   "metadata": {},
   "source": [
    "### Constraints"
   ]
  },
  {
   "cell_type": "markdown",
   "metadata": {},
   "source": [
    "Now let's add the last model component: the constraints."
   ]
  },
  {
   "cell_type": "code",
   "execution_count": 22,
   "metadata": {},
   "outputs": [],
   "source": [
    "# Define Energy Balance constraints. [MWh] = [MW]*[1 hr]\n",
    "# Note: this model assumes 1-hour timestep in price data and control actions.\n",
    "def EnergyBalance(model,t):\n",
    "    # First timestep\n",
    "    if t == 1 :\n",
    "        return model.E[t] == model.E0 + model.c[t]*model.sqrteta-model.d[t]/model.sqrteta  \n",
    "\n",
    "    # Subsequent timesteps\n",
    "    else :\n",
    "        return model.E[t] == model.E[t-1]+model.c[t]*model.sqrteta-model.d[t]/model.sqrteta\n",
    "\n",
    "m.EnergyBalance_Con = pyo.Constraint(m.HORIZON, rule = EnergyBalance)\n",
    "\n",
    "# Enforce the amount of energy is the storage at the final time must equal\n",
    "# the initial time.\n",
    "# [MWh] = [MWh]\n",
    "m.PeriodicBoundaryCondition = pyo.Constraint(expr=m.E0 == m.E[m.N])"
   ]
  },
  {
   "cell_type": "markdown",
   "metadata": {},
   "source": [
    "Notice the above model includes detailed comments with the units for the left-hand side and right-hand side of each equation. This is strongly recommend; it is easy for units mistakes to go undetected in a complicated Pyomo model. Alternately, you can also use the units feature in Pyomo.\n",
    "\n",
    "We see in this example a big advantage of the `rule=` approach for defininng a constraint. Inside the function `EnergyBalance` we incorporate a logical statement for how to handle the first timestep (which uses parameter `E0`).\n",
    "\n",
    "Below is a table of keyword arguments for `Constraint`:\n",
    "\n",
    "![pyomo-constraint-arguments](https://ndcbe.github.io/optimization/_images/pyomo-table-4.4.png)"
   ]
  },
  {
   "cell_type": "markdown",
   "metadata": {},
   "source": [
    "<div class=\"admonition note\"> \n",
    "<b>Activity</b>: Compare the two model equations above to the optimization formulation below. Notice the one-to-one corespondance between the equality constraints in the mathematical formulation (below) and calls to <tt>pyo.Constraint</tt>. Also notice the sets used to create the Pyomo model are listed next to each constraint in the mathematical model. Once you learn the Pyomo syntax, translated a mathematical model into code is easy! \n",
    "</div>"
   ]
  },
  {
   "cell_type": "markdown",
   "metadata": {},
   "source": [
    "### Printing the Model"
   ]
  },
  {
   "cell_type": "markdown",
   "metadata": {},
   "source": [
    "Here is the optimization model, reproduced from above for convenience:\n",
    "\n",
    "$$\n",
    "\\begin{align*}\n",
    "    \\max_{\\mathbf{E},\\mathbf{d},\\mathbf{c}} \\quad & \\psi := \\sum_{t \\in \\mathcal{T}'} \\pi_{t} \\Delta t (d_{t} - c_{t}) \\\\\n",
    "\\mathrm{s.t.} \\quad & E_{t} = E_{t-1} + \\Delta t \\left( c_{t} \\sqrt{\\eta} - \\frac{d_{t}}{\\sqrt{\\eta}} \\right), ~~ \\forall ~ t \\in \\mathcal{T}' \\\\\n",
    "    & E_{0} = E_{N} \\\\\n",
    "    & 0 \\leq c_{t} \\leq c_{max}, ~~\\forall ~ t \\in \\mathcal{T}' \\\\\n",
    "    & 0 \\leq d_{t} \\leq d_{max}, ~~\\forall ~ t \\in \\mathcal{T}' \\\\\n",
    "    & 0 \\leq E_{t} \\leq E_{max},  ~~\\forall ~ t \\in \\mathcal{T}'\n",
    "\\end{align*}\n",
    "$$\n",
    "\n",
    "Now let's see if our Pyomo model matches the optimization formulation. We will use the `pprint()` command (pretty print) to inspect the full model."
   ]
  },
  {
   "cell_type": "code",
   "execution_count": 23,
   "metadata": {
    "scrolled": false
   },
   "outputs": [
    {
     "name": "stdout",
     "output_type": "stream",
     "text": [
      "1 Set Declarations\n",
      "    HORIZON : Size=1, Index=None, Ordered=Insertion\n",
      "        Key  : Dimen : Domain : Size : Members\n",
      "        None :     1 :    Any :   24 : {1, 2, 3, 4, 5, 6, 7, 8, 9, 10, 11, 12, 13, 14, 15, 16, 17, 18, 19, 20, 21, 22, 23, 24}\n",
      "\n",
      "3 Param Declarations\n",
      "    E0 : Size=1, Index=None, Domain=Any, Default=None, Mutable=True\n",
      "        Key  : Value\n",
      "        None :   2.0\n",
      "    price : Size=24, Index=HORIZON, Domain=Reals, Default=None, Mutable=True\n",
      "        Key : Value\n",
      "          1 :             34.952\n",
      "          2 :             32.865\n",
      "          3 :             32.363\n",
      "          4 : 31.749000000000002\n",
      "          5 :             32.653\n",
      "          6 :             35.671\n",
      "          7 :             32.902\n",
      "          8 :             33.088\n",
      "          9 :             32.707\n",
      "         10 :             29.636\n",
      "         11 :             28.204\n",
      "         12 : 27.131999999999998\n",
      "         13 :             26.268\n",
      "         14 : 24.195999999999998\n",
      "         15 :             25.735\n",
      "         16 :             29.199\n",
      "         17 :             42.995\n",
      "         18 : 53.431999999999995\n",
      "         19 :             54.838\n",
      "         20 : 48.568000000000005\n",
      "         21 :             49.059\n",
      "         22 :             44.004\n",
      "         23 :             41.544\n",
      "         24 :             35.845\n",
      "    sqrteta : Size=1, Index=None, Domain=Any, Default=None, Mutable=False\n",
      "        Key  : Value\n",
      "        None : 0.938083151964686\n",
      "\n",
      "3 Var Declarations\n",
      "    E : Size=24, Index=HORIZON\n",
      "        Key : Lower : Value : Upper : Fixed : Stale : Domain\n",
      "          1 :     0 :   0.0 :     4 : False : False : NonNegativeReals\n",
      "          2 :     0 :   0.0 :     4 : False : False : NonNegativeReals\n",
      "          3 :     0 :   0.0 :     4 : False : False : NonNegativeReals\n",
      "          4 :     0 :   0.0 :     4 : False : False : NonNegativeReals\n",
      "          5 :     0 :   0.0 :     4 : False : False : NonNegativeReals\n",
      "          6 :     0 :   0.0 :     4 : False : False : NonNegativeReals\n",
      "          7 :     0 :   0.0 :     4 : False : False : NonNegativeReals\n",
      "          8 :     0 :   0.0 :     4 : False : False : NonNegativeReals\n",
      "          9 :     0 :   0.0 :     4 : False : False : NonNegativeReals\n",
      "         10 :     0 :   0.0 :     4 : False : False : NonNegativeReals\n",
      "         11 :     0 :   0.0 :     4 : False : False : NonNegativeReals\n",
      "         12 :     0 :   0.0 :     4 : False : False : NonNegativeReals\n",
      "         13 :     0 :   0.0 :     4 : False : False : NonNegativeReals\n",
      "         14 :     0 :   0.0 :     4 : False : False : NonNegativeReals\n",
      "         15 :     0 :   0.0 :     4 : False : False : NonNegativeReals\n",
      "         16 :     0 :   0.0 :     4 : False : False : NonNegativeReals\n",
      "         17 :     0 :   0.0 :     4 : False : False : NonNegativeReals\n",
      "         18 :     0 :   0.0 :     4 : False : False : NonNegativeReals\n",
      "         19 :     0 :   0.0 :     4 : False : False : NonNegativeReals\n",
      "         20 :     0 :   0.0 :     4 : False : False : NonNegativeReals\n",
      "         21 :     0 :   0.0 :     4 : False : False : NonNegativeReals\n",
      "         22 :     0 :   0.0 :     4 : False : False : NonNegativeReals\n",
      "         23 :     0 :   0.0 :     4 : False : False : NonNegativeReals\n",
      "         24 :     0 :   0.0 :     4 : False : False : NonNegativeReals\n",
      "    c : Size=24, Index=HORIZON\n",
      "        Key : Lower : Value : Upper : Fixed : Stale : Domain\n",
      "          1 :     0 :   0.0 :     1 : False : False : NonNegativeReals\n",
      "          2 :     0 :   0.0 :     1 : False : False : NonNegativeReals\n",
      "          3 :     0 :   0.0 :     1 : False : False : NonNegativeReals\n",
      "          4 :     0 :   0.0 :     1 : False : False : NonNegativeReals\n",
      "          5 :     0 :   0.0 :     1 : False : False : NonNegativeReals\n",
      "          6 :     0 :   0.0 :     1 : False : False : NonNegativeReals\n",
      "          7 :     0 :   0.0 :     1 : False : False : NonNegativeReals\n",
      "          8 :     0 :   0.0 :     1 : False : False : NonNegativeReals\n",
      "          9 :     0 :   0.0 :     1 : False : False : NonNegativeReals\n",
      "         10 :     0 :   0.0 :     1 : False : False : NonNegativeReals\n",
      "         11 :     0 :   0.0 :     1 : False : False : NonNegativeReals\n",
      "         12 :     0 :   0.0 :     1 : False : False : NonNegativeReals\n",
      "         13 :     0 :   0.0 :     1 : False : False : NonNegativeReals\n",
      "         14 :     0 :   0.0 :     1 : False : False : NonNegativeReals\n",
      "         15 :     0 :   0.0 :     1 : False : False : NonNegativeReals\n",
      "         16 :     0 :   0.0 :     1 : False : False : NonNegativeReals\n",
      "         17 :     0 :   0.0 :     1 : False : False : NonNegativeReals\n",
      "         18 :     0 :   0.0 :     1 : False : False : NonNegativeReals\n",
      "         19 :     0 :   0.0 :     1 : False : False : NonNegativeReals\n",
      "         20 :     0 :   0.0 :     1 : False : False : NonNegativeReals\n",
      "         21 :     0 :   0.0 :     1 : False : False : NonNegativeReals\n",
      "         22 :     0 :   0.0 :     1 : False : False : NonNegativeReals\n",
      "         23 :     0 :   0.0 :     1 : False : False : NonNegativeReals\n",
      "         24 :     0 :   0.0 :     1 : False : False : NonNegativeReals\n",
      "    d : Size=24, Index=HORIZON\n",
      "        Key : Lower : Value : Upper : Fixed : Stale : Domain\n",
      "          1 :     0 :   0.0 :     1 : False : False : NonNegativeReals\n",
      "          2 :     0 :   0.0 :     1 : False : False : NonNegativeReals\n",
      "          3 :     0 :   0.0 :     1 : False : False : NonNegativeReals\n",
      "          4 :     0 :   0.0 :     1 : False : False : NonNegativeReals\n",
      "          5 :     0 :   0.0 :     1 : False : False : NonNegativeReals\n",
      "          6 :     0 :   0.0 :     1 : False : False : NonNegativeReals\n",
      "          7 :     0 :   0.0 :     1 : False : False : NonNegativeReals\n",
      "          8 :     0 :   0.0 :     1 : False : False : NonNegativeReals\n",
      "          9 :     0 :   0.0 :     1 : False : False : NonNegativeReals\n",
      "         10 :     0 :   0.0 :     1 : False : False : NonNegativeReals\n",
      "         11 :     0 :   0.0 :     1 : False : False : NonNegativeReals\n",
      "         12 :     0 :   0.0 :     1 : False : False : NonNegativeReals\n",
      "         13 :     0 :   0.0 :     1 : False : False : NonNegativeReals\n",
      "         14 :     0 :   0.0 :     1 : False : False : NonNegativeReals\n",
      "         15 :     0 :   0.0 :     1 : False : False : NonNegativeReals\n",
      "         16 :     0 :   0.0 :     1 : False : False : NonNegativeReals\n",
      "         17 :     0 :   0.0 :     1 : False : False : NonNegativeReals\n",
      "         18 :     0 :   0.0 :     1 : False : False : NonNegativeReals\n",
      "         19 :     0 :   0.0 :     1 : False : False : NonNegativeReals\n",
      "         20 :     0 :   0.0 :     1 : False : False : NonNegativeReals\n",
      "         21 :     0 :   0.0 :     1 : False : False : NonNegativeReals\n",
      "         22 :     0 :   0.0 :     1 : False : False : NonNegativeReals\n",
      "         23 :     0 :   0.0 :     1 : False : False : NonNegativeReals\n",
      "         24 :     0 :   0.0 :     1 : False : False : NonNegativeReals\n",
      "\n",
      "1 Objective Declarations\n",
      "    OBJ : Size=1, Index=None, Active=True\n",
      "        Key  : Active : Sense    : Expression\n",
      "        None :   True : maximize : (- c[1] + d[1])*price[1] + (- c[2] + d[2])*price[2] + (- c[3] + d[3])*price[3] + (- c[4] + d[4])*price[4] + (- c[5] + d[5])*price[5] + (- c[6] + d[6])*price[6] + (- c[7] + d[7])*price[7] + (- c[8] + d[8])*price[8] + (- c[9] + d[9])*price[9] + (- c[10] + d[10])*price[10] + (- c[11] + d[11])*price[11] + (- c[12] + d[12])*price[12] + (- c[13] + d[13])*price[13] + (- c[14] + d[14])*price[14] + (- c[15] + d[15])*price[15] + (- c[16] + d[16])*price[16] + (- c[17] + d[17])*price[17] + (- c[18] + d[18])*price[18] + (- c[19] + d[19])*price[19] + (- c[20] + d[20])*price[20] + (- c[21] + d[21])*price[21] + (- c[22] + d[22])*price[22] + (- c[23] + d[23])*price[23] + (- c[24] + d[24])*price[24]\n",
      "\n",
      "2 Constraint Declarations\n",
      "    EnergyBalance_Con : Size=24, Index=HORIZON, Active=True\n",
      "        Key : Lower : Body                                                                 : Upper : Active\n",
      "          1 :   0.0 :       E[1] - (E0 + 0.938083151964686*c[1] - 1.0660035817780522*d[1]) :   0.0 :   True\n",
      "          2 :   0.0 :     E[2] - (E[1] + 0.938083151964686*c[2] - 1.0660035817780522*d[2]) :   0.0 :   True\n",
      "          3 :   0.0 :     E[3] - (E[2] + 0.938083151964686*c[3] - 1.0660035817780522*d[3]) :   0.0 :   True\n",
      "          4 :   0.0 :     E[4] - (E[3] + 0.938083151964686*c[4] - 1.0660035817780522*d[4]) :   0.0 :   True\n",
      "          5 :   0.0 :     E[5] - (E[4] + 0.938083151964686*c[5] - 1.0660035817780522*d[5]) :   0.0 :   True\n",
      "          6 :   0.0 :     E[6] - (E[5] + 0.938083151964686*c[6] - 1.0660035817780522*d[6]) :   0.0 :   True\n",
      "          7 :   0.0 :     E[7] - (E[6] + 0.938083151964686*c[7] - 1.0660035817780522*d[7]) :   0.0 :   True\n",
      "          8 :   0.0 :     E[8] - (E[7] + 0.938083151964686*c[8] - 1.0660035817780522*d[8]) :   0.0 :   True\n",
      "          9 :   0.0 :     E[9] - (E[8] + 0.938083151964686*c[9] - 1.0660035817780522*d[9]) :   0.0 :   True\n",
      "         10 :   0.0 :  E[10] - (E[9] + 0.938083151964686*c[10] - 1.0660035817780522*d[10]) :   0.0 :   True\n",
      "         11 :   0.0 : E[11] - (E[10] + 0.938083151964686*c[11] - 1.0660035817780522*d[11]) :   0.0 :   True\n",
      "         12 :   0.0 : E[12] - (E[11] + 0.938083151964686*c[12] - 1.0660035817780522*d[12]) :   0.0 :   True\n",
      "         13 :   0.0 : E[13] - (E[12] + 0.938083151964686*c[13] - 1.0660035817780522*d[13]) :   0.0 :   True\n",
      "         14 :   0.0 : E[14] - (E[13] + 0.938083151964686*c[14] - 1.0660035817780522*d[14]) :   0.0 :   True\n",
      "         15 :   0.0 : E[15] - (E[14] + 0.938083151964686*c[15] - 1.0660035817780522*d[15]) :   0.0 :   True\n",
      "         16 :   0.0 : E[16] - (E[15] + 0.938083151964686*c[16] - 1.0660035817780522*d[16]) :   0.0 :   True\n",
      "         17 :   0.0 : E[17] - (E[16] + 0.938083151964686*c[17] - 1.0660035817780522*d[17]) :   0.0 :   True\n",
      "         18 :   0.0 : E[18] - (E[17] + 0.938083151964686*c[18] - 1.0660035817780522*d[18]) :   0.0 :   True\n",
      "         19 :   0.0 : E[19] - (E[18] + 0.938083151964686*c[19] - 1.0660035817780522*d[19]) :   0.0 :   True\n",
      "         20 :   0.0 : E[20] - (E[19] + 0.938083151964686*c[20] - 1.0660035817780522*d[20]) :   0.0 :   True\n",
      "         21 :   0.0 : E[21] - (E[20] + 0.938083151964686*c[21] - 1.0660035817780522*d[21]) :   0.0 :   True\n",
      "         22 :   0.0 : E[22] - (E[21] + 0.938083151964686*c[22] - 1.0660035817780522*d[22]) :   0.0 :   True\n",
      "         23 :   0.0 : E[23] - (E[22] + 0.938083151964686*c[23] - 1.0660035817780522*d[23]) :   0.0 :   True\n",
      "         24 :   0.0 : E[24] - (E[23] + 0.938083151964686*c[24] - 1.0660035817780522*d[24]) :   0.0 :   True\n",
      "    PeriodicBoundaryCondition : Size=1, Index=None, Active=True\n",
      "        Key  : Lower : Body  : Upper : Active\n",
      "        None :    E0 : E[24] :    E0 :   True\n",
      "\n",
      "10 Declarations: HORIZON c d E sqrteta E0 price OBJ EnergyBalance_Con PeriodicBoundaryCondition\n"
     ]
    }
   ],
   "source": [
    "m.pprint()"
   ]
  },
  {
   "cell_type": "markdown",
   "metadata": {},
   "source": [
    "<div class=\"admonition note\"> \n",
    "<b>Activity</b>: Does our Pyomo model match the optimization mathematical model (equations above)? How did we incorporate the inequality constraints into the Pyomo model?\n",
    "</div>\n",
    "\n",
    "\n",
    "One constraint is the energy balance and the other is the periodic boundary condition. Inequality constraints were coded as bounds for the variables $E$, $d$, and $c$."
   ]
  },
  {
   "cell_type": "markdown",
   "metadata": {},
   "source": [
    "### Another Approach: Build the Model in a Function"
   ]
  },
  {
   "cell_type": "markdown",
   "metadata": {},
   "source": [
    "To emphasize the tutorial nature of this example, we build the model on piece at a time above. An often preferred approach is to define a Python function that builds the model, such as the one below."
   ]
  },
  {
   "cell_type": "markdown",
   "metadata": {},
   "source": [
    "<div class=\"admonition note\"> \n",
    "<b>Activity</b>: The function below uses elements of <tt>price</tt> directly. Update the function to add the price data as a parameter in the Pyomo model. Make this parameter mutable as shown above.\n",
    "</div>"
   ]
  },
  {
   "cell_type": "markdown",
   "metadata": {},
   "source": [
    "<div class=\"admonition note\"> \n",
    "<b>Activity</b>: Fix any syntax errors with the function below.\n",
    "</div>"
   ]
  },
  {
   "cell_type": "code",
   "execution_count": 24,
   "metadata": {},
   "outputs": [],
   "source": [
    "# define a function to build model\n",
    "def build_model(price, e0 = 0):\n",
    "    '''\n",
    "    Create optimization model for MPC\n",
    "\n",
    "    Arguments (inputs):\n",
    "        price: NumPy array with energy price timeseries\n",
    "        e0: initial value for energy storage level\n",
    "    \n",
    "    Returns (outputs):\n",
    "        my_model: Pyomo optimization model\n",
    "    '''\n",
    "    \n",
    "    # Create a concrete Pyomo model. We'll learn more about this in a few weeks\n",
    "    my_model = pyo.ConcreteModel()\n",
    "\n",
    "    ## Define Sets\n",
    "\n",
    "    # Number of timesteps in planning horizon\n",
    "    my_model.HORIZON = pyo.Set(initialize = range(len(price)))\n",
    "\n",
    "    ## Define Parameters\n",
    "\n",
    "    # Square root of round trip efficiency\n",
    "    my_model.sqrteta = pyo.Param(initialize = sqrt(0.88))\n",
    "\n",
    "    # Energy in battery at t=0\n",
    "    my_model.E0 = pyo.Param(initialize = e0, mutable=True)\n",
    "\n",
    "    ## Define variables\n",
    "    \n",
    "    # Charging rate [MW]\n",
    "    my_model.c = pyo.Var(my_model.HORIZON, initialize = 0.0, bounds=(0, 1))\n",
    "\n",
    "    # Discharging rate [MW]\n",
    "    my_model.d = pyo.Var(my_model.HORIZON, initialize = 0.0, bounds=(0, 1))\n",
    "\n",
    "    # Energy (state-of-charge) [MWh]\n",
    "    my_model.E = pyo.Var(my_model.HORIZON, initialize = 0.0, bounds=(0, 4))\n",
    "\n",
    "    ## Define constraints\n",
    "    \n",
    "    # Define Energy Balance constraints. [MWh] = [MW]*[1 hr]\n",
    "    # Note: this model assumes 1-hour timestep in price data and control actions.\n",
    "    def EnergyBalance(model,t):\n",
    "        # First timestep\n",
    "        if t == 0 :\n",
    "            return model.E[t] == model.E0 + model.c[t]*model.sqrteta-model.d[t]/model.sqrteta \n",
    "        \n",
    "        # Subsequent timesteps\n",
    "        else :\n",
    "            return model.E[t] == model.E[t-1]+model.c[t]*model.sqrteta-model.d[t]/model.sqrteta\n",
    "    \n",
    "    my_model.EnergyBalance_Con = pyo.Constraint(my_model.HORIZON, rule = EnergyBalance)\n",
    "    \n",
    "    # Enforce the amount of energy is the storage at the final time must equal\n",
    "    # the initial time.\n",
    "    # [MWh] = [MWh]\n",
    "    \n",
    "    def PedBdyCon(model):\n",
    "        return my_model.E0 == my_model.E[len(price)-1]\n",
    "    my_model.PeriodicBoundaryCondition = pyo.Constraint(rule = PedBdyCon)\n",
    "    \n",
    "    ## Define the objective function (profit)\n",
    "    # Receding horizon\n",
    "    def objfun(model):\n",
    "        return  sum((-model.c[t] + model.d[t]) * price[t] for t in model.HORIZON)\n",
    "    \n",
    "    my_model.OBJ = Objective(rule = objfun, sense = maximize)\n",
    "    \n",
    "    return my_model"
   ]
  },
  {
   "cell_type": "markdown",
   "metadata": {},
   "source": [
    "## Calling Optimization Solver"
   ]
  },
  {
   "cell_type": "markdown",
   "metadata": {},
   "source": [
    "Now that our Pyomo model is complete, we can numerically solve the model!"
   ]
  },
  {
   "cell_type": "markdown",
   "metadata": {},
   "source": [
    "### `SolverFactory` and Solver Options"
   ]
  },
  {
   "cell_type": "markdown",
   "metadata": {},
   "source": [
    "Algebraic Modeling Languages, including Pyomo, allow us to define optimization problems is a general, solver agnostic way. This means we can quickly swap between solvers.\n",
    "\n",
    "We will start by using Ipopt. First, we will create an instance of the `SolverFactory`:"
   ]
  },
  {
   "cell_type": "code",
   "execution_count": 25,
   "metadata": {},
   "outputs": [],
   "source": [
    "# Specify the solver\n",
    "solver = pyo.SolverFactory('ipopt')"
   ]
  },
  {
   "cell_type": "markdown",
   "metadata": {},
   "source": [
    "Next we can specify options for `ipopt` such as setting the maximum number of iterations to 50:"
   ]
  },
  {
   "cell_type": "code",
   "execution_count": 26,
   "metadata": {},
   "outputs": [],
   "source": [
    "solver.options['max_iter'] = 50"
   ]
  },
  {
   "cell_type": "markdown",
   "metadata": {},
   "source": [
    "Above `solver` is a `SolverFactory` objection which includes the dictionary `options` used to set solver specific options.\n",
    "\n",
    "Finally, we are ready to solve our model!"
   ]
  },
  {
   "cell_type": "code",
   "execution_count": 27,
   "metadata": {},
   "outputs": [
    {
     "name": "stdout",
     "output_type": "stream",
     "text": [
      "Ipopt 3.13.2: max_iter=50\n",
      "\n",
      "\n",
      "******************************************************************************\n",
      "This program contains Ipopt, a library for large-scale nonlinear optimization.\n",
      " Ipopt is released as open source code under the Eclipse Public License (EPL).\n",
      "         For more information visit http://projects.coin-or.org/Ipopt\n",
      "\n",
      "This version of Ipopt was compiled from source code available at\n",
      "    https://github.com/IDAES/Ipopt as part of the Institute for the Design of\n",
      "    Advanced Energy Systems Process Systems Engineering Framework (IDAES PSE\n",
      "    Framework) Copyright (c) 2018-2019. See https://github.com/IDAES/idaes-pse.\n",
      "\n",
      "This version of Ipopt was compiled using HSL, a collection of Fortran codes\n",
      "    for large-scale scientific computation.  All technical papers, sales and\n",
      "    publicity material resulting from use of the HSL codes within IPOPT must\n",
      "    contain the following acknowledgement:\n",
      "        HSL, a collection of Fortran codes for large-scale scientific\n",
      "        computation. See http://www.hsl.rl.ac.uk.\n",
      "******************************************************************************\n",
      "\n",
      "This is Ipopt version 3.13.2, running with linear solver ma27.\n",
      "\n",
      "Number of nonzeros in equality constraint Jacobian...:       96\n",
      "Number of nonzeros in inequality constraint Jacobian.:        0\n",
      "Number of nonzeros in Lagrangian Hessian.............:        0\n",
      "\n",
      "Total number of variables............................:       72\n",
      "                     variables with only lower bounds:        0\n",
      "                variables with lower and upper bounds:       72\n",
      "                     variables with only upper bounds:        0\n",
      "Total number of equality constraints.................:       25\n",
      "Total number of inequality constraints...............:        0\n",
      "        inequality constraints with only lower bounds:        0\n",
      "   inequality constraints with lower and upper bounds:        0\n",
      "        inequality constraints with only upper bounds:        0\n",
      "\n",
      "iter    objective    inf_pr   inf_du lg(mu)  ||d||  lg(rg) alpha_du alpha_pr  ls\n",
      "   0  8.3266727e-16 1.99e+00 1.01e+01  -1.0 0.00e+00    -  0.00e+00 0.00e+00   0\n",
      "   1  1.7542310e-01 1.96e+00 1.00e+01  -1.0 1.99e+00    -  5.21e-03 1.45e-02f  1\n",
      "   2  1.8221844e+00 1.78e+00 9.83e+00  -1.0 1.96e+00    -  1.55e-02 9.11e-02f  1\n",
      "   3  4.5446648e+00 1.04e+00 7.87e+00  -1.0 2.01e+00    -  1.02e-01 4.18e-01f  1\n",
      "   4 -1.6167650e+00 9.03e-01 7.50e+00  -1.0 2.68e+00    -  6.30e-02 1.30e-01f  1\n",
      "   5 -2.3212311e+01 7.85e-01 7.34e+00  -1.0 8.22e+00    -  5.84e-02 1.30e-01f  1\n",
      "   6 -3.8930888e+01 6.94e-01 6.77e+00  -1.0 6.29e+00    -  8.38e-02 1.16e-01f  1\n",
      "   7 -4.6643227e+01 5.21e-01 7.14e+00  -1.0 2.49e+00    -  1.01e-01 2.49e-01f  1\n",
      "   8 -5.8773980e+01 3.53e-01 6.55e+00  -1.0 2.90e+00    -  1.47e-01 3.23e-01f  1\n",
      "   9 -6.0157590e+01 3.01e-01 4.50e+00  -1.0 1.34e+00    -  3.50e-01 1.49e-01f  1\n",
      "iter    objective    inf_pr   inf_du lg(mu)  ||d||  lg(rg) alpha_du alpha_pr  ls\n",
      "  10 -6.2051294e+01 1.71e-01 2.68e+00  -1.0 1.39e+00    -  3.97e-01 4.31e-01f  1\n",
      "  11 -6.2535031e+01 7.23e-02 1.53e+00  -1.0 1.49e+00    -  3.92e-01 5.78e-01f  1\n",
      "  12 -6.1116868e+01 4.44e-16 8.06e-15  -1.0 2.06e-01    -  1.00e+00 1.00e+00h  1\n",
      "  13 -6.5538345e+01 2.22e-16 2.02e-02  -2.5 2.48e-01    -  8.36e-01 9.02e-01f  1\n",
      "  14 -6.6142458e+01 2.22e-16 1.41e-02  -2.5 5.25e-02    -  9.43e-01 9.15e-01f  1\n",
      "  15 -6.6346337e+01 4.44e-16 1.52e-03  -3.8 1.87e-02    -  9.72e-01 1.00e+00f  1\n",
      "  16 -6.6346859e+01 4.44e-16 7.11e-15  -3.8 1.02e-03    -  1.00e+00 1.00e+00f  1\n",
      "  17 -6.6354734e+01 4.44e-16 8.09e-15  -5.7 4.28e-04    -  1.00e+00 1.00e+00f  1\n",
      "  18 -6.6354832e+01 8.88e-16 7.55e-15  -8.6 4.97e-06    -  1.00e+00 1.00e+00f  1\n",
      "\n",
      "Number of Iterations....: 18\n",
      "\n",
      "                                   (scaled)                 (unscaled)\n",
      "Objective...............:  -6.6354831841898829e+01   -6.6354831841898829e+01\n",
      "Dual infeasibility......:   7.5526103552909108e-15    7.5526103552909108e-15\n",
      "Constraint violation....:   8.8817841970012523e-16    8.8817841970012523e-16\n",
      "Complementarity.........:   3.9821126731422587e-09    3.9821126731422587e-09\n",
      "Overall NLP error.......:   3.9821126731422587e-09    3.9821126731422587e-09\n",
      "\n",
      "\n",
      "Number of objective function evaluations             = 19\n",
      "Number of objective gradient evaluations             = 19\n",
      "Number of equality constraint evaluations            = 19\n",
      "Number of inequality constraint evaluations          = 0\n",
      "Number of equality constraint Jacobian evaluations   = 19\n",
      "Number of inequality constraint Jacobian evaluations = 0\n",
      "Number of Lagrangian Hessian evaluations             = 18\n",
      "Total CPU secs in IPOPT (w/o function evaluations)   =      0.006\n",
      "Total CPU secs in NLP function evaluations           =      0.000\n",
      "\n",
      "EXIT: Optimal Solution Found.\n"
     ]
    }
   ],
   "source": [
    "results = solver.solve(m, tee=True)"
   ]
  },
  {
   "cell_type": "markdown",
   "metadata": {},
   "source": [
    "The keyword argument `tee=True` tells the solve to dispaly its output to the screen."
   ]
  },
  {
   "cell_type": "markdown",
   "metadata": {},
   "source": [
    "### Interpreting Ipopt Output - Verifying Degree of Freedom Analysis"
   ]
  },
  {
   "cell_type": "markdown",
   "metadata": {},
   "source": [
    "Your Ipopt output should include the following:\n",
    "\n",
    "```\n",
    "Number of nonzeros in equality constraint Jacobian...:       96\n",
    "Number of nonzeros in inequality constraint Jacobian.:        0\n",
    "Number of nonzeros in Lagrangian Hessian.............:        0\n",
    "\n",
    "Total number of variables............................:       72\n",
    "                     variables with only lower bounds:        0\n",
    "                variables with lower and upper bounds:       72\n",
    "                     variables with only upper bounds:        0\n",
    "Total number of equality constraints.................:       25\n",
    "Total number of inequality constraints...............:        0\n",
    "        inequality constraints with only lower bounds:        0\n",
    "   inequality constraints with lower and upper bounds:        0\n",
    "        inequality constraints with only upper bounds:        0\n",
    "```"
   ]
  },
  {
   "cell_type": "markdown",
   "metadata": {},
   "source": [
    "<div class=\"admonition note\"> \n",
    "<b>Activity</b>: Compare this output to your degree of freedom analysis.\n",
    "</div>\n",
    "\n",
    "\n",
    "* Count the number of variables\n",
    "* Count the number of equality constraints\n",
    "* Degrees of freedom = number of variables subtract number of equality constraints\n",
    "\n",
    "$\\nu = 72 - 25 = 17$"
   ]
  },
  {
   "cell_type": "markdown",
   "metadata": {},
   "source": [
    "### Try Another Solver"
   ]
  },
  {
   "cell_type": "markdown",
   "metadata": {},
   "source": [
    "Let's see how easy it is to switch to another solver with Pyomo."
   ]
  },
  {
   "cell_type": "markdown",
   "metadata": {},
   "source": [
    "<div class=\"admonition note\"> \n",
    "<b>Activity</b>: Create a new instance of <tt>SolverFactory</tt> by specifying <tt>'glpk'</tt> as the solver name. Then solve the Pyomo model <tt>m</tt> and store the results in <tt>results2</tt>.\n",
    "</div>"
   ]
  },
  {
   "cell_type": "code",
   "execution_count": 28,
   "metadata": {},
   "outputs": [
    {
     "name": "stdout",
     "output_type": "stream",
     "text": [
      "GLPSOL--GLPK LP/MIP Solver 5.0\n",
      "Parameter(s) specified in the command line:\n",
      " --write C:\\Users\\kilaj\\AppData\\Local\\Temp\\tmp4_d37pqt.glpk.raw --wglp C:\\Users\\kilaj\\AppData\\Local\\Temp\\tmpfrolftdi.glpk.glp\n",
      " --cpxlp C:\\Users\\kilaj\\AppData\\Local\\Temp\\tmpessrb5b2.pyomo.lp\n",
      "Reading problem data from 'C:\\Users\\kilaj\\AppData\\Local\\Temp\\tmpessrb5b2.pyomo.lp'...\n",
      "26 rows, 73 columns, 97 non-zeros\n",
      "303 lines were read\n",
      "Writing problem data to 'C:\\Users\\kilaj\\AppData\\Local\\Temp\\tmpfrolftdi.glpk.glp'...\n",
      "322 lines were written\n",
      "GLPK Simplex Optimizer 5.0\n",
      "26 rows, 73 columns, 97 non-zeros\n",
      "Preprocessing...\n",
      "24 rows, 47 columns, 70 non-zeros\n",
      "Scaling...\n",
      " A: min|aij| =  9.381e-01  max|aij| =  1.066e+00  ratio =  1.136e+00\n",
      "Problem data seem to be well scaled\n",
      "Constructing initial basis...\n",
      "Size of triangular part is 24\n",
      "      0: obj =  -1.903882397e+00 inf =   3.062e+00 (2)\n",
      "      5: obj =  -1.945063765e+01 inf =   0.000e+00 (0)\n",
      "*    31: obj =   6.635482962e+01 inf =   0.000e+00 (0)\n",
      "OPTIMAL LP SOLUTION FOUND\n",
      "Time used:   0.0 secs\n",
      "Memory used: 0.1 Mb (78205 bytes)\n",
      "Writing basic solution to 'C:\\Users\\kilaj\\AppData\\Local\\Temp\\tmp4_d37pqt.glpk.raw'...\n",
      "108 lines were written\n"
     ]
    }
   ],
   "source": [
    "# Add your solution here\n",
    "solver2 = pyo.SolverFactory('glpk')\n",
    "results2 = solver2.solve(m, tee=True)"
   ]
  },
  {
   "cell_type": "markdown",
   "metadata": {},
   "source": [
    "Notice we used `solver2`, which is an instance of `SolverFactory` for the solver `glpk`. But we reused model `m`. This means the solver `glpk` used the solution from `ipopt` as its initial point."
   ]
  },
  {
   "cell_type": "markdown",
   "metadata": {},
   "source": [
    "## Inspecting the Solution"
   ]
  },
  {
   "cell_type": "markdown",
   "metadata": {},
   "source": [
    "We can inspect the entire model solution using `pprint()`."
   ]
  },
  {
   "cell_type": "code",
   "execution_count": 29,
   "metadata": {
    "scrolled": false
   },
   "outputs": [
    {
     "name": "stdout",
     "output_type": "stream",
     "text": [
      "1 Set Declarations\n",
      "    HORIZON : Size=1, Index=None, Ordered=Insertion\n",
      "        Key  : Dimen : Domain : Size : Members\n",
      "        None :     1 :    Any :   24 : {1, 2, 3, 4, 5, 6, 7, 8, 9, 10, 11, 12, 13, 14, 15, 16, 17, 18, 19, 20, 21, 22, 23, 24}\n",
      "\n",
      "3 Param Declarations\n",
      "    E0 : Size=1, Index=None, Domain=Any, Default=None, Mutable=True\n",
      "        Key  : Value\n",
      "        None :   2.0\n",
      "    price : Size=24, Index=HORIZON, Domain=Reals, Default=None, Mutable=True\n",
      "        Key : Value\n",
      "          1 :             34.952\n",
      "          2 :             32.865\n",
      "          3 :             32.363\n",
      "          4 : 31.749000000000002\n",
      "          5 :             32.653\n",
      "          6 :             35.671\n",
      "          7 :             32.902\n",
      "          8 :             33.088\n",
      "          9 :             32.707\n",
      "         10 :             29.636\n",
      "         11 :             28.204\n",
      "         12 : 27.131999999999998\n",
      "         13 :             26.268\n",
      "         14 : 24.195999999999998\n",
      "         15 :             25.735\n",
      "         16 :             29.199\n",
      "         17 :             42.995\n",
      "         18 : 53.431999999999995\n",
      "         19 :             54.838\n",
      "         20 : 48.568000000000005\n",
      "         21 :             49.059\n",
      "         22 :             44.004\n",
      "         23 :             41.544\n",
      "         24 :             35.845\n",
      "    sqrteta : Size=1, Index=None, Domain=Any, Default=None, Mutable=False\n",
      "        Key  : Value\n",
      "        None : 0.938083151964686\n",
      "\n",
      "3 Var Declarations\n",
      "    E : Size=24, Index=HORIZON\n",
      "        Key : Lower : Value             : Upper : Fixed : Stale : Domain\n",
      "          1 :     0 :  1.06600358177805 :     4 : False : False : NonNegativeReals\n",
      "          2 :     0 :  1.06600358177805 :     4 : False : False : NonNegativeReals\n",
      "          3 :     0 :  1.06600358177805 :     4 : False : False : NonNegativeReals\n",
      "          4 :     0 :  1.06600358177805 :     4 : False : False : NonNegativeReals\n",
      "          5 :     0 :  1.06600358177805 :     4 : False : False : NonNegativeReals\n",
      "          6 :     0 :               0.0 :     4 : False : False : NonNegativeReals\n",
      "          7 :     0 :               0.0 :     4 : False : False : NonNegativeReals\n",
      "          8 :     0 :               0.0 :     4 : False : False : NonNegativeReals\n",
      "          9 :     0 :               0.0 :     4 : False : False : NonNegativeReals\n",
      "         10 :     0 :               0.0 :     4 : False : False : NonNegativeReals\n",
      "         11 :     0 : 0.247667392141256 :     4 : False : False : NonNegativeReals\n",
      "         12 :     0 :  1.18575054410594 :     4 : False : False : NonNegativeReals\n",
      "         13 :     0 :  2.12383369607063 :     4 : False : False : NonNegativeReals\n",
      "         14 :     0 :  3.06191684803531 :     4 : False : False : NonNegativeReals\n",
      "         15 :     0 :               4.0 :     4 : False : False : NonNegativeReals\n",
      "         16 :     0 :               4.0 :     4 : False : False : NonNegativeReals\n",
      "         17 :     0 :               4.0 :     4 : False : False : NonNegativeReals\n",
      "         18 :     0 :  2.93399641822195 :     4 : False : False : NonNegativeReals\n",
      "         19 :     0 :   1.8679928364439 :     4 : False : False : NonNegativeReals\n",
      "         20 :     0 :  1.18983727784868 :     4 : False : False : NonNegativeReals\n",
      "         21 :     0 : 0.123833696070628 :     4 : False : False : NonNegativeReals\n",
      "         22 :     0 : 0.123833696070628 :     4 : False : False : NonNegativeReals\n",
      "         23 :     0 :  1.06191684803531 :     4 : False : False : NonNegativeReals\n",
      "         24 :     0 :               2.0 :     4 : False : False : NonNegativeReals\n",
      "    c : Size=24, Index=HORIZON\n",
      "        Key : Lower : Value             : Upper : Fixed : Stale : Domain\n",
      "          1 :     0 :               0.0 :     1 : False : False : NonNegativeReals\n",
      "          2 :     0 :               0.0 :     1 : False : False : NonNegativeReals\n",
      "          3 :     0 :               0.0 :     1 : False : False : NonNegativeReals\n",
      "          4 :     0 :               0.0 :     1 : False : False : NonNegativeReals\n",
      "          5 :     0 :               0.0 :     1 : False : False : NonNegativeReals\n",
      "          6 :     0 :               0.0 :     1 : False : False : NonNegativeReals\n",
      "          7 :     0 :               0.0 :     1 : False : False : NonNegativeReals\n",
      "          8 :     0 :               0.0 :     1 : False : False : NonNegativeReals\n",
      "          9 :     0 :               0.0 :     1 : False : False : NonNegativeReals\n",
      "         10 :     0 :              -0.0 :     1 : False : False : NonNegativeReals\n",
      "         11 :     0 : 0.264014327112209 :     1 : False : False : NonNegativeReals\n",
      "         12 :     0 :               1.0 :     1 : False : False : NonNegativeReals\n",
      "         13 :     0 :               1.0 :     1 : False : False : NonNegativeReals\n",
      "         14 :     0 :               1.0 :     1 : False : False : NonNegativeReals\n",
      "         15 :     0 :               1.0 :     1 : False : False : NonNegativeReals\n",
      "         16 :     0 :              -0.0 :     1 : False : False : NonNegativeReals\n",
      "         17 :     0 :               0.0 :     1 : False : False : NonNegativeReals\n",
      "         18 :     0 :               0.0 :     1 : False : False : NonNegativeReals\n",
      "         19 :     0 :               0.0 :     1 : False : False : NonNegativeReals\n",
      "         20 :     0 :               0.0 :     1 : False : False : NonNegativeReals\n",
      "         21 :     0 :               0.0 :     1 : False : False : NonNegativeReals\n",
      "         22 :     0 :               0.0 :     1 : False : False : NonNegativeReals\n",
      "         23 :     0 :               1.0 :     1 : False : False : NonNegativeReals\n",
      "         24 :     0 :               1.0 :     1 : False : False : NonNegativeReals\n",
      "    d : Size=24, Index=HORIZON\n",
      "        Key : Lower : Value             : Upper : Fixed : Stale : Domain\n",
      "          1 :     0 : 0.876166303929372 :     1 : False : False : NonNegativeReals\n",
      "          2 :     0 :               0.0 :     1 : False : False : NonNegativeReals\n",
      "          3 :     0 :               0.0 :     1 : False : False : NonNegativeReals\n",
      "          4 :     0 :               0.0 :     1 : False : False : NonNegativeReals\n",
      "          5 :     0 :               0.0 :     1 : False : False : NonNegativeReals\n",
      "          6 :     0 :               1.0 :     1 : False : False : NonNegativeReals\n",
      "          7 :     0 :               0.0 :     1 : False : False : NonNegativeReals\n",
      "          8 :     0 :               0.0 :     1 : False : False : NonNegativeReals\n",
      "          9 :     0 :               0.0 :     1 : False : False : NonNegativeReals\n",
      "         10 :     0 :               0.0 :     1 : False : False : NonNegativeReals\n",
      "         11 :     0 :               0.0 :     1 : False : False : NonNegativeReals\n",
      "         12 :     0 :               0.0 :     1 : False : False : NonNegativeReals\n",
      "         13 :     0 :               0.0 :     1 : False : False : NonNegativeReals\n",
      "         14 :     0 :               0.0 :     1 : False : False : NonNegativeReals\n",
      "         15 :     0 :               0.0 :     1 : False : False : NonNegativeReals\n",
      "         16 :     0 :               0.0 :     1 : False : False : NonNegativeReals\n",
      "         17 :     0 :               0.0 :     1 : False : False : NonNegativeReals\n",
      "         18 :     0 :               1.0 :     1 : False : False : NonNegativeReals\n",
      "         19 :     0 :               1.0 :     1 : False : False : NonNegativeReals\n",
      "         20 :     0 : 0.636166303929372 :     1 : False : False : NonNegativeReals\n",
      "         21 :     0 :               1.0 :     1 : False : False : NonNegativeReals\n",
      "         22 :     0 :               0.0 :     1 : False : False : NonNegativeReals\n",
      "         23 :     0 :               0.0 :     1 : False : False : NonNegativeReals\n",
      "         24 :     0 :               0.0 :     1 : False : False : NonNegativeReals\n",
      "\n",
      "1 Objective Declarations\n",
      "    OBJ : Size=1, Index=None, Active=True\n",
      "        Key  : Active : Sense    : Expression\n",
      "        None :   True : maximize : (- c[1] + d[1])*price[1] + (- c[2] + d[2])*price[2] + (- c[3] + d[3])*price[3] + (- c[4] + d[4])*price[4] + (- c[5] + d[5])*price[5] + (- c[6] + d[6])*price[6] + (- c[7] + d[7])*price[7] + (- c[8] + d[8])*price[8] + (- c[9] + d[9])*price[9] + (- c[10] + d[10])*price[10] + (- c[11] + d[11])*price[11] + (- c[12] + d[12])*price[12] + (- c[13] + d[13])*price[13] + (- c[14] + d[14])*price[14] + (- c[15] + d[15])*price[15] + (- c[16] + d[16])*price[16] + (- c[17] + d[17])*price[17] + (- c[18] + d[18])*price[18] + (- c[19] + d[19])*price[19] + (- c[20] + d[20])*price[20] + (- c[21] + d[21])*price[21] + (- c[22] + d[22])*price[22] + (- c[23] + d[23])*price[23] + (- c[24] + d[24])*price[24]\n",
      "\n",
      "2 Constraint Declarations\n",
      "    EnergyBalance_Con : Size=24, Index=HORIZON, Active=True\n",
      "        Key : Lower : Body                                                                 : Upper : Active\n",
      "          1 :   0.0 :       E[1] - (E0 + 0.938083151964686*c[1] - 1.0660035817780522*d[1]) :   0.0 :   True\n",
      "          2 :   0.0 :     E[2] - (E[1] + 0.938083151964686*c[2] - 1.0660035817780522*d[2]) :   0.0 :   True\n",
      "          3 :   0.0 :     E[3] - (E[2] + 0.938083151964686*c[3] - 1.0660035817780522*d[3]) :   0.0 :   True\n",
      "          4 :   0.0 :     E[4] - (E[3] + 0.938083151964686*c[4] - 1.0660035817780522*d[4]) :   0.0 :   True\n",
      "          5 :   0.0 :     E[5] - (E[4] + 0.938083151964686*c[5] - 1.0660035817780522*d[5]) :   0.0 :   True\n",
      "          6 :   0.0 :     E[6] - (E[5] + 0.938083151964686*c[6] - 1.0660035817780522*d[6]) :   0.0 :   True\n",
      "          7 :   0.0 :     E[7] - (E[6] + 0.938083151964686*c[7] - 1.0660035817780522*d[7]) :   0.0 :   True\n",
      "          8 :   0.0 :     E[8] - (E[7] + 0.938083151964686*c[8] - 1.0660035817780522*d[8]) :   0.0 :   True\n",
      "          9 :   0.0 :     E[9] - (E[8] + 0.938083151964686*c[9] - 1.0660035817780522*d[9]) :   0.0 :   True\n",
      "         10 :   0.0 :  E[10] - (E[9] + 0.938083151964686*c[10] - 1.0660035817780522*d[10]) :   0.0 :   True\n",
      "         11 :   0.0 : E[11] - (E[10] + 0.938083151964686*c[11] - 1.0660035817780522*d[11]) :   0.0 :   True\n",
      "         12 :   0.0 : E[12] - (E[11] + 0.938083151964686*c[12] - 1.0660035817780522*d[12]) :   0.0 :   True\n",
      "         13 :   0.0 : E[13] - (E[12] + 0.938083151964686*c[13] - 1.0660035817780522*d[13]) :   0.0 :   True\n",
      "         14 :   0.0 : E[14] - (E[13] + 0.938083151964686*c[14] - 1.0660035817780522*d[14]) :   0.0 :   True\n",
      "         15 :   0.0 : E[15] - (E[14] + 0.938083151964686*c[15] - 1.0660035817780522*d[15]) :   0.0 :   True\n"
     ]
    },
    {
     "name": "stdout",
     "output_type": "stream",
     "text": [
      "         16 :   0.0 : E[16] - (E[15] + 0.938083151964686*c[16] - 1.0660035817780522*d[16]) :   0.0 :   True\n",
      "         17 :   0.0 : E[17] - (E[16] + 0.938083151964686*c[17] - 1.0660035817780522*d[17]) :   0.0 :   True\n",
      "         18 :   0.0 : E[18] - (E[17] + 0.938083151964686*c[18] - 1.0660035817780522*d[18]) :   0.0 :   True\n",
      "         19 :   0.0 : E[19] - (E[18] + 0.938083151964686*c[19] - 1.0660035817780522*d[19]) :   0.0 :   True\n",
      "         20 :   0.0 : E[20] - (E[19] + 0.938083151964686*c[20] - 1.0660035817780522*d[20]) :   0.0 :   True\n",
      "         21 :   0.0 : E[21] - (E[20] + 0.938083151964686*c[21] - 1.0660035817780522*d[21]) :   0.0 :   True\n",
      "         22 :   0.0 : E[22] - (E[21] + 0.938083151964686*c[22] - 1.0660035817780522*d[22]) :   0.0 :   True\n",
      "         23 :   0.0 : E[23] - (E[22] + 0.938083151964686*c[23] - 1.0660035817780522*d[23]) :   0.0 :   True\n",
      "         24 :   0.0 : E[24] - (E[23] + 0.938083151964686*c[24] - 1.0660035817780522*d[24]) :   0.0 :   True\n",
      "    PeriodicBoundaryCondition : Size=1, Index=None, Active=True\n",
      "        Key  : Lower : Body  : Upper : Active\n",
      "        None :    E0 : E[24] :    E0 :   True\n",
      "\n",
      "10 Declarations: HORIZON c d E sqrteta E0 price OBJ EnergyBalance_Con PeriodicBoundaryCondition\n"
     ]
    }
   ],
   "source": [
    "m.pprint()"
   ]
  },
  {
   "cell_type": "markdown",
   "metadata": {},
   "source": [
    "The solution is stored in the `value` column. This is helpful for debugging small models but tendious overwise."
   ]
  },
  {
   "cell_type": "markdown",
   "metadata": {},
   "source": [
    "### Extracting Solution from Pyomo"
   ]
  },
  {
   "cell_type": "markdown",
   "metadata": {},
   "source": [
    "A key advantage of Pyomo is that it is an Algebraic Modeling Language in Python. So let's use Python to analyze the solution! The code below extracts the values of the variables into three lists."
   ]
  },
  {
   "cell_type": "code",
   "execution_count": 30,
   "metadata": {},
   "outputs": [],
   "source": [
    "# Declare empty lists\n",
    "c_control = []\n",
    "d_control = []\n",
    "E_control = []\n",
    "t = []\n",
    "\n",
    "# Loop over elements of HORIZON set.\n",
    "for i in m.HORIZON:\n",
    "    \n",
    "    t.append(pyo.value(i))\n",
    "    \n",
    "    # Use value( ) function to extract the solution for each varliable and append to the results lists\n",
    "    c_control.append(pyo.value(m.c[i]))\n",
    "    \n",
    "    # Adding negative sign to discharge for plotting\n",
    "    d_control.append(-pyo.value(m.d[i]))\n",
    "    E_control.append(pyo.value(m.E[i]))"
   ]
  },
  {
   "cell_type": "code",
   "execution_count": 31,
   "metadata": {},
   "outputs": [
    {
     "name": "stdout",
     "output_type": "stream",
     "text": [
      "[0.0, 0.0, 0.0, 0.0, 0.0, 0.0, 0.0, 0.0, 0.0, -0.0, 0.264014327112209, 1.0, 1.0, 1.0, 1.0, -0.0, 0.0, 0.0, 0.0, 0.0, 0.0, 0.0, 1.0, 1.0]\n"
     ]
    }
   ],
   "source": [
    "print(c_control)"
   ]
  },
  {
   "cell_type": "code",
   "execution_count": 32,
   "metadata": {},
   "outputs": [
    {
     "name": "stdout",
     "output_type": "stream",
     "text": [
      "[-0.876166303929372, -0.0, -0.0, -0.0, -0.0, -1.0, -0.0, -0.0, -0.0, -0.0, -0.0, -0.0, -0.0, -0.0, -0.0, -0.0, -0.0, -1.0, -1.0, -0.636166303929372, -1.0, -0.0, -0.0, -0.0]\n"
     ]
    }
   ],
   "source": [
    "print(d_control)"
   ]
  },
  {
   "cell_type": "code",
   "execution_count": 33,
   "metadata": {},
   "outputs": [
    {
     "name": "stdout",
     "output_type": "stream",
     "text": [
      "[1.06600358177805, 1.06600358177805, 1.06600358177805, 1.06600358177805, 1.06600358177805, 0.0, 0.0, 0.0, 0.0, 0.0, 0.247667392141256, 1.18575054410594, 2.12383369607063, 3.06191684803531, 4.0, 4.0, 4.0, 2.93399641822195, 1.8679928364439, 1.18983727784868, 0.123833696070628, 0.123833696070628, 1.06191684803531, 2.0]\n"
     ]
    }
   ],
   "source": [
    "print(E_control)"
   ]
  },
  {
   "cell_type": "markdown",
   "metadata": {},
   "source": [
    "### Visualizing the Solution"
   ]
  },
  {
   "cell_type": "code",
   "execution_count": 34,
   "metadata": {},
   "outputs": [
    {
     "data": {
      "image/png": "[encoded data removed]",
      "text/plain": [
       "<Figure size 432x288 with 1 Axes>"
      ]
     },
     "metadata": {
      "needs_background": "light"
     },
     "output_type": "display_data"
    }
   ],
   "source": [
    "# Plot the state of charge (E)\n",
    "plt.figure()\n",
    "\n",
    "# add E0\n",
    "t_ = [0] + t\n",
    "\n",
    "E_control_ = [pyo.value(m.E0)] + E_control\n",
    "\n",
    "plt.plot(t,E_control,'b.-')\n",
    "plt.xlabel('Time (hr)')\n",
    "plt.ylabel('Energy in Storage (MWh)')\n",
    "plt.xticks(range(0,25,3))\n",
    "plt.grid(True)\n",
    "plt.show()\n",
    "\n",
    "# This should NOT be a stair plot as energy is the integral of power. The graph below is reasonable."
   ]
  },
  {
   "cell_type": "code",
   "execution_count": 35,
   "metadata": {},
   "outputs": [
    {
     "data": {
      "image/png": "[encoded data removed]",
      "text/plain": [
       "<Figure size 432x288 with 1 Axes>"
      ]
     },
     "metadata": {
      "needs_background": "light"
     },
     "output_type": "display_data"
    }
   ],
   "source": [
    "# Plot the charging and discharging rates\n",
    "plt.figure()\n",
    "\n",
    "# double up first data point to make the step plot\n",
    "c_control_ = [c_control[0]] + c_control\n",
    "d_control_ = [d_control[0]] + d_control\n",
    "\n",
    "plt.step(t_,c_control_,'r.-',where='pre')\n",
    "plt.step(t_,d_control_,'g.-',where='pre')\n",
    "plt.xlabel('Time (hr)')\n",
    "plt.ylabel('Power from Grid (MW)')\n",
    "plt.xticks(range(0,25,3))\n",
    "plt.grid(True)\n",
    "plt.show()\n"
   ]
  },
  {
   "cell_type": "markdown",
   "metadata": {},
   "source": [
    "<div class=\"admonition note\"> \n",
    "<b>Activity</b>: Improve the formatting of the plots using the code from the top of the notebook (pandas section).\n",
    "</div>"
   ]
  },
  {
   "cell_type": "markdown",
   "metadata": {},
   "source": [
    "### Accessing Dual Variables"
   ]
  },
  {
   "cell_type": "markdown",
   "metadata": {},
   "source": [
    "Coming Soon! This will get updated sometime during the first month. We will revisit dual variables later in the semester after introducing some optimization theory concepts."
   ]
  },
  {
   "cell_type": "markdown",
   "metadata": {},
   "source": [
    "## References\n",
    "\n",
    "All tables are from Chapter 4 of Hart, W. E., Laird, C. D., Watson, J. P., Woodruff, D. L., Hackebeil, G. A., Nicholson, B. L., & Siirola, J. D. (2017). *Pyomo-Optimization Modeling in Python* (Vol. 67). Berlin: Springer. https://www.springer.com/gp/book/9783319588193"
   ]
  }
 ],
 "metadata": {
  "kernelspec": {
   "display_name": "Python 3",
   "language": "python",
   "name": "python3"
  },
  "language_info": {
   "codemirror_mode": {
    "name": "ipython",
    "version": 3
   },
   "file_extension": ".py",
   "mimetype": "text/x-python",
   "name": "python",
   "nbconvert_exporter": "python",
   "pygments_lexer": "ipython3",
   "version": "3.7.9"
  }
 },
 "nbformat": 4,
 "nbformat_minor": 4
}
