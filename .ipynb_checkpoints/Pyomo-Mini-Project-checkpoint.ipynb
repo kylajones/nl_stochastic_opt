{
 "cells": [
  {
   "cell_type": "markdown",
   "metadata": {},
   "source": [
    "# Pyomo Mini-Project: Receding Horizon Stochastic Control"
   ]
  },
  {
   "cell_type": "markdown",
   "metadata": {},
   "source": [
    "## Assignment Goals"
   ]
  },
  {
   "cell_type": "markdown",
   "metadata": {},
   "source": [
    "The **primary purpose** of this assignment is to give you **hands-on-keyboard experience** with optimization modeling and analysis. In this assignment, I incorporated many of the best practices I share with my Ph.D. students during their first year using Pyomo for research. Specifically:\n",
    "* Planning is the most important (and often most overlooked step) in computer programming. Two best practices are to (1) write pseudocode and (2) write the optimization model on paper and perform degree of freedom analysis before you use the computer. We practiced tip (2) in class. If you cannot do (1) and (2), no amount of Googling Pyomo/Python syntax will save you.\n",
    "* Functions (or classes) allow us to reuse most of our code. Below I gave you function definitions and doc strings to show you a good way to \"modularize\" this analysis. Once the functions defined below work, performing the analysis is easy.\n",
    "* Solving your optimization problem a few times is (often) not a sufficient research result. Who cares? Application-driven research is all about the analysis. Optimization is a tool to better answer analysis questions. By giving you >50% of the code for this assignment, I am intentionally emphasizing the analysis (not just coding).  You will see we can take a really simple optimization model and ask/answer some interesting analysis questions.\n",
    "\n",
    "You should start this assignment early. Almost everyone will make at least one Python/Pyomo syntax mistake. Give yourself plenty of time to ask questions on Slack. Please also be generous with helping your classmates. This assignment (and grades in general in this class) is not a competition. You are welcome (encouraged!) to post screenshots of your code in Slack when asking/answering questions. Please refrain from posting your discussion responses. You are welcome to discuss the analysis questions on Slack; everyone should answer the discussion questions in their own words."
   ]
  },
  {
   "cell_type": "code",
   "execution_count": 1,
   "metadata": {},
   "outputs": [],
   "source": [
    "# # This code cell installs packages on Colab\n",
    "\n",
    "# import sys\n",
    "# if \"google.colab\" in sys.modules:\n",
    "#     !wget \"https://raw.githubusercontent.com/ndcbe/CBE60499/main/notebooks/helper.py\"\n",
    "#     import helper\n",
    "#     helper.install_idaes()\n",
    "#     helper.install_ipopt()\n",
    "#     helper.download_data(['Prices_DAM_ALTA2G_7_B1.csv'])"
   ]
  },
  {
   "cell_type": "code",
   "execution_count": 2,
   "metadata": {},
   "outputs": [],
   "source": [
    "import pandas as pd\n",
    "import pyomo.environ as pyo\n",
    "from pyomo.environ import *\n",
    "import numpy as np\n",
    "import matplotlib.pyplot as plt\n",
    "import idaes\n",
    "#import casadi"
   ]
  },
  {
   "cell_type": "code",
   "execution_count": 3,
   "metadata": {},
   "outputs": [],
   "source": [
    "ca_data = pd.read_csv('https://raw.githubusercontent.com/ndcbe/optimization/main/notebooks/data/Prices_DAM_ALTA2G_7_B1.csv',names=['price'])"
   ]
  },
  {
   "cell_type": "code",
   "execution_count": 4,
   "metadata": {},
   "outputs": [],
   "source": [
    "def prepare_data_array(day=2,num_days=8):\n",
    "    ''' Prepare numpy array of prices\n",
    "    \n",
    "    Arguments:\n",
    "        day: day to start (0 = January 1, 2015)\n",
    "        num_days: numbers of days to include in the vector\n",
    "        \n",
    "    Returns:\n",
    "        numpy array of prices\n",
    "    '''\n",
    "\n",
    "    return ca_data[\"price\"][(day)*24:24*(day+num_days)].to_numpy()"
   ]
  },
  {
   "cell_type": "markdown",
   "metadata": {},
   "source": [
    "In the previous notebook, we considered model predictive control (MPC) of a battery energy storage system interacting with the electricity market. In essence, we posed an optimization problem:\n",
    "\n",
    "*Given a forecasting for energy prices, what charging and discharging strategy maximizes net market revenue?*\n",
    "\n",
    "In this homework mini-project, you will consider two modifications to make the example more realistic:\n",
    "1. Add a constraint to prevent simultanous charging and discharging.\n",
    "1. Receding horizon control\n",
    "2. Uncertainty\n",
    "\n",
    "The goal is to help you develop Python and Pyomo programming skills."
   ]
  },
  {
   "cell_type": "markdown",
   "metadata": {},
   "source": [
    "## Model Refinement and Code Reorganization"
   ]
  },
  {
   "cell_type": "markdown",
   "metadata": {},
   "source": [
    "### Revised Model"
   ]
  },
  {
   "cell_type": "markdown",
   "metadata": {},
   "source": [
    "Propose a new mathematical model that includes a constraint to prevent charging and discharging. Hint: using either integer variables or a disjunction will ensure the objective and constraints remaining linear.\n",
    "\n",
    "Below is the model description copied from our in-class example. **Please edit** such that this notebook describes your complete new model."
   ]
  },
  {
   "cell_type": "markdown",
   "metadata": {},
   "source": [
    "**Sets**\n",
    "\n",
    "Timesteps: $\\mathcal{T} = \\{0, 1, ..., N\\}$\n",
    "    \n",
    "Timesteps without the initial time: $\\mathcal{T}' = \\{1, ..., N\\}$\n",
    "\n",
    "**Variables**\n",
    "* $E_t$, energy stored in battery at time $t$, units: MWh\n",
    "* $d_t$, battery discharge power (sold to market) during time interval [t-1, t), units: MW\n",
    "* $c_t$, battery charge power (purchased from the market) during time interval [t-1, t), units: MW\n",
    "\n",
    "**Parameters**\n",
    "* $\\pi_t$: Energy price during time interval [t-1, t), units: \\$/MW\n",
    "* $\\eta$: Round trip efficiency, units: dimensionless\n",
    "* $c_{max}$ Maximum charge power, units: MW\n",
    "* $d_{max}$ Maximum discharge power, units: MW\n",
    "* $E_{max}$ Maximum storage energy, units: MWh\n",
    "* $E_{0}$ Energy in storage at time $t=0$, units: MWh\n",
    "* $\\Delta t = 1$ hour, Timestep for grid decisions and prices (fixed)"
   ]
  },
  {
   "cell_type": "markdown",
   "metadata": {},
   "source": [
    "**Optimization Problem**\n",
    "$$\n",
    "\\begin{align*}\n",
    "    \\max_{\\mathbf{E},\\mathbf{d},\\mathbf{c}} \\quad & \\psi := \\sum_{t \\in \\mathcal{T}'} \\pi_{t} \\Delta t (d_{t} - c_{t}) \\\\\n",
    "\\mathrm{s.t.} \\quad & E_{t} = E_{t-1} + \\Delta t \\left( c_{t} \\sqrt{\\eta} - \\frac{d_{t}}{\\sqrt{\\eta}} \\right), ~~ \\forall ~ t \\in \\mathcal{T}' \\\\\n",
    "    & c(t) \\leq c_{max}y(t) \\\\\n",
    "    & d(t) \\leq d_{max}(1-y(t)) \\\\\n",
    "    & E_{0} = E_{N} \\\\\n",
    "    & 0 \\leq c_{t} \\leq c_{max}, ~~\\forall ~ t \\in \\mathcal{T}' \\\\\n",
    "    & 0 \\leq d_{t} \\leq d_{max}, ~~\\forall ~ t \\in \\mathcal{T}' \\\\\n",
    "    & 0 \\leq E_{t} \\leq E_{max},  ~~\\forall ~ t \\in \\mathcal{T}' \\\\\n",
    "    & y(t)\\in \\{0,1\\}, \\forall ~ t \\in \\mathcal{T}'\n",
    "\\end{align*}\n",
    "$$"
   ]
  },
  {
   "cell_type": "markdown",
   "metadata": {},
   "source": [
    "### Degree of Freedom Analysis\n",
    "\n",
    "Perform degree of freedom analysis. Identify:\n",
    "1. Total number of continous variables: \n",
    "2. Total number of integer variables (or disjunctions if using):\n",
    "3. Total number of equality constraints:\n",
    "4. Total number of inequality constraints: \n",
    "5. Degrees of freedom: \n",
    "\n",
    "Tip: perform this on paper then typeset below."
   ]
  },
  {
   "cell_type": "markdown",
   "metadata": {},
   "source": [
    "**Number of continous variables:**\n",
    "3N\n",
    "\n",
    "**Number of integer variables:**\n",
    "N\n",
    "\n",
    "**Number of equality constraints:**\n",
    "N + 1\n",
    "\n",
    "**Number of inequality constraints:**\n",
    "2N\n",
    "    \n",
    "**Degrees of freedom.** *Please discuss in a few sentences. There are a few ways to do this; we are less concerned about you getting the \"right\" answer and more about giving an answer with a supporting argument.*\n",
    "\n",
    "3N + N - (N + 1) - 2N = N - 1\n",
    "\n",
    "Inequality constraints arent always active. Do dof as if none, then do one if all are active. report range."
   ]
  },
  {
   "cell_type": "markdown",
   "metadata": {},
   "source": [
    "### Python Code"
   ]
  },
  {
   "cell_type": "markdown",
   "metadata": {},
   "source": [
    "Programmers organize their code into functions, often following the rule \"1 task/action = 1 function\". Here are a few of the reasons you should always do this:\n",
    "1. Functions make your code easier to use\n",
    "2. More specifically, functions force you to abstract/generalize your code\n",
    "3. Writing doc strings (required for this course!) forces you to document your code and think about the structure.\n",
    "4. Functions allow your code to best tested piece by piece"
   ]
  },
  {
   "cell_type": "markdown",
   "metadata": {},
   "source": [
    "To show you how to do this, we have provided skeletons for several functions in this assignment. Based on the doc string, complete the functions."
   ]
  },
  {
   "cell_type": "code",
   "execution_count": 5,
   "metadata": {
    "scrolled": false
   },
   "outputs": [],
   "source": [
    "def build_model(price_data, horizon_length, include_pbc = True, include_disjunction = True):\n",
    "    '''\n",
    "    Builds HORIZON pyomo model\n",
    "    \n",
    "    Inputs:\n",
    "    price_data: dictionary of price data\n",
    "    horizon_length: number of timesteps to evaluate\n",
    "    include_pbc: Boolean, include periodic boundary condition constraint\n",
    "    \n",
    "    Returns:\n",
    "    m: HORIZON pyomo model\n",
    "    '''\n",
    "    \n",
    "    m = pyo.ConcreteModel()\n",
    "    \n",
    "    # Add your solution here\n",
    "    # define a function to build model\n",
    "    \n",
    "    ## Define Sets\n",
    "    \n",
    "    # Number of timesteps in planning horizon\n",
    "    m.N = horizon_length\n",
    "    m.HORIZON = pyo.Set(initialize = range(1, m.N + 1))\n",
    "\n",
    "    ## Define Parameters\n",
    "\n",
    "    # Square root of round trip efficiency\n",
    "    m.sqrteta = pyo.Param(initialize = np.sqrt(0.88))\n",
    "\n",
    "    # Energy in battery at t=0\n",
    "    m.E0 = pyo.Param(initialize = 2.0, mutable = True)\n",
    "    \n",
    "    # price data\n",
    "    m.Price = pyo.Param(m.HORIZON, initialize = price_data, domain = Reals, mutable = True)\n",
    "    \n",
    "    ## Define variables\n",
    "    \n",
    "    # Charging rate [MW]\n",
    "    m.c = pyo.Var(m.HORIZON, initialize = 0.0, bounds=(0, 1), domain = NonNegativeReals)\n",
    "\n",
    "    # Discharging rate [MW]\n",
    "    m.d = pyo.Var(m.HORIZON, initialize = 0.0, bounds=(0, 1), domain = NonNegativeReals)\n",
    "\n",
    "    # Energy (state-of-charge) [MWh]\n",
    "    m.E = pyo.Var(m.HORIZON, initialize = 2.0, bounds=(0, 4), domain = NonNegativeReals)\n",
    "    \n",
    "    # binary variable\n",
    "    m.y = pyo.Var(m.HORIZON, domain = Binary)\n",
    "    \n",
    "    ## Define constraints\n",
    "    \n",
    "    # Define Energy Balance constraints. [MWh] = [MW]*[1 hr]\n",
    "    # Note: this model assumes 1-hour timestep in price data and control actions.\n",
    "    def EnergyBalance(model, t):\n",
    "        # First timestep\n",
    "        if t == 1 :\n",
    "            return model.E[t] == model.E0 + model.c[t]*model.sqrteta - model.d[t]/model.sqrteta \n",
    "        # Subsequent timesteps\n",
    "        else :\n",
    "            return model.E[t] == model.E[t-1] + model.c[t]*model.sqrteta - model.d[t]/model.sqrteta\n",
    "    m.EnergyBalance_Con = pyo.Constraint(m.HORIZON, rule = EnergyBalance)\n",
    "    \n",
    "    # Enforce the amount of energy is the storage at the final time must equal\n",
    "    # the initial time.\n",
    "    # [MWh] = [MWh]\n",
    "    \n",
    "    def PedBdyCon(model):\n",
    "        if include_pbc == True:\n",
    "            return model.E0 == model.E[m.N]\n",
    "        else: \n",
    "            return pyo.Constraint.Skip\n",
    "    m.PeriodicBoundaryCondition = pyo.Constraint(rule = PedBdyCon)\n",
    "    \n",
    "    def dsjxn_1(model, t):\n",
    "        if include_disjunction == True:\n",
    "            return model.d[t] <= 1*model.y[t]\n",
    "        else: \n",
    "            return pyo.Constraint.Skip\n",
    "    m.disjunction1 = pyo.Constraint(m.HORIZON, rule = dsjxn_1)\n",
    "        \n",
    "    def dsjxn_2(model, t):\n",
    "        if include_disjunction == True:\n",
    "            return model.c[t] <= 1*(1 - model.y[t])\n",
    "        else:\n",
    "            return pyo.Constraint.Skip\n",
    "    m.disjunction2 = pyo.Constraint(m.HORIZON, rule = dsjxn_2)\n",
    "    \n",
    "    ## Define the objective function (profit)\n",
    "    # Receding horizon\n",
    "    def objfun(model):\n",
    "        return sum((-model.c[t] + model.d[t]) * m.Price[t] for t in model.HORIZON)\n",
    "    m.OBJ = pyo.Objective(rule = objfun, sense = pyo.maximize)\n",
    "    \n",
    "    return m"
   ]
  },
  {
   "cell_type": "code",
   "execution_count": 6,
   "metadata": {},
   "outputs": [],
   "source": [
    "def extract_solution(m):\n",
    "    '''\n",
    "    Function to extract the solution from the solved pyomo model\n",
    "    \n",
    "    Inputs:\n",
    "        m: Solved pyomo model\n",
    "    \n",
    "    Outputs:\n",
    "        c_control: numpy array of charging power values, MW\n",
    "        d_control: numpy array of discharging power values, MW\n",
    "        E_control: numpy array of energy stored values, MWh\n",
    "        t: numpy array of time indices from the Pyomo model, hr\n",
    "    '''\n",
    "    \n",
    "    c_control = np.empty(m.N)\n",
    "    d_control = np.empty(m.N)\n",
    "    E_control = np.empty(m.N)\n",
    "    t = np.empty(m.N)\n",
    "\n",
    "    # Tip: We added a negative sign to d to help with plotting in the code discussed during class.\n",
    "    # Add your solution here\n",
    "    \n",
    "    for i in range(len(c_control)):\n",
    "    \n",
    "        c_control[i] = value(m.c[i + 1])\n",
    "        d_control[i] = value(m.d[i + 1])\n",
    "        E_control[i] = value(m.E[i + 1])\n",
    "        t[i] = i + 1\n",
    "        \n",
    "    return c_control, d_control, E_control, t"
   ]
  },
  {
   "cell_type": "code",
   "execution_count": 7,
   "metadata": {},
   "outputs": [],
   "source": [
    "def plot_solution(c, d, E, t = None):\n",
    "    '''\n",
    "    Function to plot the solution of the HORIZON problem\n",
    "    \n",
    "    Inputs:\n",
    "        c_control: numpy array of charging power values, MW\n",
    "        d_control: numpy array of discharging power values, MW\n",
    "        E_control: numpy array of energy stored values, MWh\n",
    "        t: numpy array of time indices from the Pyomo model, hr. (default=None)\n",
    "    \n",
    "    Actions. Creates the following plots: \n",
    "        State of charge (energy) verus time\n",
    "        Power to the grid verus time\n",
    "    '''\n",
    "    \n",
    "    # Plot the state of charge (E)\n",
    "    plt.figure()\n",
    "\n",
    "    N = len(c)\n",
    "    assert N > 0, \"Input t must have length greate than 0\"\n",
    "    assert len(d) == N, \"All inputs should be the same length\"\n",
    "    assert len(E) == N, \"All inputs should be the same length\"\n",
    "    \n",
    "    if t is None:\n",
    "        # add E0\n",
    "        t = np.array(range(1, N + 1))\n",
    "        t_ = np.array(range(0, N + 1))\n",
    "    else:\n",
    "        t_ = np.concatenate(([0],  t))\n",
    "\n",
    "    # Add your solution here\n",
    "    \n",
    "    # Plot charging/discharging plot\n",
    "    plt.figure()\n",
    "\n",
    "    # double up first data point to make the step plot\n",
    "    c_control_ = np.concatenate(([c[0]],  c))\n",
    "    d_control_ = np.concatenate(([d[0]],  d))\n",
    "    E_control_ = np.concatenate(([E[0]],  E))\n",
    "\n",
    "    plt.step(t_,c_control_,'r.-',where='pre')\n",
    "    plt.step(t_,-d_control_,'g.-',where='pre')\n",
    "    plt.xlabel('Time (hr)')\n",
    "    plt.ylabel('Power from Grid (MW)')\n",
    "    plt.grid(True)\n",
    "    plt.show()\n",
    "    \n",
    "    plt.figure()\n",
    "    plt.step(t_,E_control_,'r.-',where='pre')\n",
    "    plt.xlabel('Time (hr)')\n",
    "    plt.ylabel('Energy (MW)')\n",
    "    plt.grid(True)\n",
    "    plt.show()\n",
    "    \n",
    "    return"
   ]
  },
  {
   "cell_type": "markdown",
   "metadata": {},
   "source": [
    "### Optimal Control Over 3 Day Horizon\n",
    "\n",
    "Now let's use our functions for some analysis. Calculate the optimal battery operation strategy over 3 days starting on January 4, 2015."
   ]
  },
  {
   "cell_type": "code",
   "execution_count": 8,
   "metadata": {},
   "outputs": [],
   "source": [
    "three_days = prepare_data_array(4,3)\n",
    "\n",
    "# Loop over elements of numpy array\n",
    "data_dict = {}\n",
    "\n",
    "for i in range(0, len(three_days)):\n",
    "        \n",
    "    # Add element to data_dict\n",
    "    data_dict[i + 1] = three_days[i]"
   ]
  },
  {
   "cell_type": "markdown",
   "metadata": {},
   "source": [
    "#### Original Model"
   ]
  },
  {
   "cell_type": "code",
   "execution_count": 9,
   "metadata": {
    "scrolled": false
   },
   "outputs": [
    {
     "name": "stdout",
     "output_type": "stream",
     "text": [
      "Ipopt 3.13.2: \n",
      "\n",
      "******************************************************************************\n",
      "This program contains Ipopt, a library for large-scale nonlinear optimization.\n",
      " Ipopt is released as open source code under the Eclipse Public License (EPL).\n",
      "         For more information visit http://projects.coin-or.org/Ipopt\n",
      "\n",
      "This version of Ipopt was compiled from source code available at\n",
      "    https://github.com/IDAES/Ipopt as part of the Institute for the Design of\n",
      "    Advanced Energy Systems Process Systems Engineering Framework (IDAES PSE\n",
      "    Framework) Copyright (c) 2018-2019. See https://github.com/IDAES/idaes-pse.\n",
      "\n",
      "This version of Ipopt was compiled using HSL, a collection of Fortran codes\n",
      "    for large-scale scientific computation.  All technical papers, sales and\n",
      "    publicity material resulting from use of the HSL codes within IPOPT must\n",
      "    contain the following acknowledgement:\n",
      "        HSL, a collection of Fortran codes for large-scale scientific\n",
      "        computation. See http://www.hsl.rl.ac.uk.\n",
      "******************************************************************************\n",
      "\n",
      "This is Ipopt version 3.13.2, running with linear solver ma27.\n",
      "\n",
      "Number of nonzeros in equality constraint Jacobian...:      288\n",
      "Number of nonzeros in inequality constraint Jacobian.:        0\n",
      "Number of nonzeros in Lagrangian Hessian.............:        0\n",
      "\n",
      "Total number of variables............................:      216\n",
      "                     variables with only lower bounds:        0\n",
      "                variables with lower and upper bounds:      216\n",
      "                     variables with only upper bounds:        0\n",
      "Total number of equality constraints.................:       73\n",
      "Total number of inequality constraints...............:        0\n",
      "        inequality constraints with only lower bounds:        0\n",
      "   inequality constraints with lower and upper bounds:        0\n",
      "        inequality constraints with only upper bounds:        0\n",
      "\n",
      "iter    objective    inf_pr   inf_du lg(mu)  ||d||  lg(rg) alpha_du alpha_pr  ls\n",
      "   0 -1.1324275e-14 1.28e-03 1.07e+01  -1.0 0.00e+00    -  0.00e+00 0.00e+00   0\n",
      "   1 -7.0340199e+00 1.17e-03 9.84e+00  -1.0 8.34e-01    -  5.69e-02 8.16e-02f  1\n",
      "   2 -5.9054706e+01 9.80e-04 8.81e+00  -1.0 4.03e+00    -  1.96e-02 1.66e-01f  1\n",
      "   3 -1.3494482e+02 8.40e-04 8.32e+00  -1.0 4.30e+00    -  7.33e-02 1.43e-01f  1\n",
      "   4 -1.7934915e+02 7.48e-04 8.15e+00  -1.0 3.11e+00    -  6.46e-02 1.09e-01f  1\n",
      "   5 -2.4678917e+02 5.97e-04 7.98e+00  -1.0 2.62e+00    -  9.44e-02 2.02e-01f  1\n",
      "   6 -2.7988493e+02 4.82e-04 6.39e+00  -1.0 1.90e+00    -  1.97e-01 1.93e-01f  1\n",
      "   7 -2.9817318e+02 3.55e-04 4.60e+00  -1.0 1.38e+00    -  2.74e-01 2.64e-01f  1\n",
      "   8 -3.1134039e+02 1.92e-04 4.82e+00  -1.0 1.15e+00    -  2.53e-01 4.59e-01f  1\n",
      "   9 -3.1713730e+02 6.96e-05 3.18e+00  -1.0 7.55e-01    -  4.75e-01 6.37e-01f  1\n",
      "iter    objective    inf_pr   inf_du lg(mu)  ||d||  lg(rg) alpha_du alpha_pr  ls\n",
      "  10 -3.1886106e+02 1.33e-06 2.95e-02  -1.0 5.49e-01    -  1.00e+00 9.81e-01f  1\n",
      "  11 -3.2986481e+02 7.20e-08 1.27e-01  -1.7 3.94e-01    -  8.23e-01 9.46e-01f  1\n",
      "  12 -3.3279083e+02 1.59e-08 1.38e-02  -2.5 1.99e-01    -  8.16e-01 7.79e-01f  1\n",
      "  13 -3.3378922e+02 3.51e-09 3.57e-03  -3.8 2.90e-01    -  7.71e-01 7.79e-01f  1\n",
      "  14 -3.3401402e+02 6.58e-10 8.87e-03  -3.8 1.55e-01    -  9.85e-01 8.12e-01f  1\n",
      "  15 -3.3406480e+02 4.44e-16 9.11e-15  -3.8 5.02e-03    -  1.00e+00 1.00e+00f  1\n",
      "  16 -3.3408836e+02 4.44e-16 9.69e-06  -5.7 4.67e-03    -  1.00e+00 9.96e-01f  1\n",
      "  17 -3.3408873e+02 8.88e-16 8.63e-15  -8.6 1.68e-05    -  1.00e+00 1.00e+00f  1\n",
      "\n",
      "Number of Iterations....: 17\n",
      "\n",
      "                                   (scaled)                 (unscaled)\n",
      "Objective...............:  -3.3408872814130041e+02   -3.3408872814130041e+02\n",
      "Dual infeasibility......:   8.6343567675040882e-15    8.6343567675040882e-15\n",
      "Constraint violation....:   8.8817841970012523e-16    8.8817841970012523e-16\n",
      "Complementarity.........:   4.1856986618188080e-09    4.1856986618188080e-09\n",
      "Overall NLP error.......:   4.1856986618188080e-09    4.1856986618188080e-09\n",
      "\n",
      "\n",
      "Number of objective function evaluations             = 18\n",
      "Number of objective gradient evaluations             = 18\n",
      "Number of equality constraint evaluations            = 18\n",
      "Number of inequality constraint evaluations          = 0\n",
      "Number of equality constraint Jacobian evaluations   = 18\n",
      "Number of inequality constraint Jacobian evaluations = 0\n",
      "Number of Lagrangian Hessian evaluations             = 17\n",
      "Total CPU secs in IPOPT (w/o function evaluations)   =      0.021\n",
      "Total CPU secs in NLP function evaluations           =      0.000\n",
      "\n",
      "EXIT: Optimal Solution Found.\n",
      "\b\b\b\b\b\b\b\b\b\b\b\b\b\b"
     ]
    },
    {
     "data": {
      "text/plain": [
       "<Figure size 432x288 with 0 Axes>"
      ]
     },
     "metadata": {},
     "output_type": "display_data"
    },
    {
     "data": {
      "image/png": "[encoded data removed]",
      "text/plain": [
       "<Figure size 432x288 with 1 Axes>"
      ]
     },
     "metadata": {
      "needs_background": "light"
     },
     "output_type": "display_data"
    },
    {
     "data": {
      "image/png": "[encoded data removed]",
      "text/plain": [
       "<Figure size 432x288 with 1 Axes>"
      ]
     },
     "metadata": {
      "needs_background": "light"
     },
     "output_type": "display_data"
    }
   ],
   "source": [
    "# Add your solution here\n",
    "model = build_model(data_dict, horizon_length = 3*24, include_pbc = True, include_disjunction = False)\n",
    "\n",
    "solver = pyo.SolverFactory('ipopt')\n",
    "solver.solve(model, tee = True)\n",
    "c_og, d_og, E_og, t_og = extract_solution(model)\n",
    "plot_solution(c_og, d_og, E_og, t_og)"
   ]
  },
  {
   "cell_type": "markdown",
   "metadata": {},
   "source": [
    "#### With Constraint Enforcing No Simultaneous Charging or Discharging"
   ]
  },
  {
   "cell_type": "code",
   "execution_count": 10,
   "metadata": {
    "scrolled": false
   },
   "outputs": [
    {
     "name": "stdout",
     "output_type": "stream",
     "text": [
      "Ipopt 3.13.2: \n",
      "==> Warning: Treating 72 binary and 0 integer variables as continous.\n",
      "\n",
      "\n",
      "******************************************************************************\n",
      "This program contains Ipopt, a library for large-scale nonlinear optimization.\n",
      " Ipopt is released as open source code under the Eclipse Public License (EPL).\n",
      "         For more information visit http://projects.coin-or.org/Ipopt\n",
      "\n",
      "This version of Ipopt was compiled from source code available at\n",
      "    https://github.com/IDAES/Ipopt as part of the Institute for the Design of\n",
      "    Advanced Energy Systems Process Systems Engineering Framework (IDAES PSE\n",
      "    Framework) Copyright (c) 2018-2019. See https://github.com/IDAES/idaes-pse.\n",
      "\n",
      "This version of Ipopt was compiled using HSL, a collection of Fortran codes\n",
      "    for large-scale scientific computation.  All technical papers, sales and\n",
      "    publicity material resulting from use of the HSL codes within IPOPT must\n",
      "    contain the following acknowledgement:\n",
      "        HSL, a collection of Fortran codes for large-scale scientific\n",
      "        computation. See http://www.hsl.rl.ac.uk.\n",
      "******************************************************************************\n",
      "\n",
      "This is Ipopt version 3.13.2, running with linear solver ma27.\n",
      "\n",
      "Number of nonzeros in equality constraint Jacobian...:      288\n",
      "Number of nonzeros in inequality constraint Jacobian.:      288\n",
      "Number of nonzeros in Lagrangian Hessian.............:        0\n",
      "\n",
      "Total number of variables............................:      288\n",
      "                     variables with only lower bounds:        0\n",
      "                variables with lower and upper bounds:      288\n",
      "                     variables with only upper bounds:        0\n",
      "Total number of equality constraints.................:       73\n",
      "Total number of inequality constraints...............:      144\n",
      "        inequality constraints with only lower bounds:        0\n",
      "   inequality constraints with lower and upper bounds:        0\n",
      "        inequality constraints with only upper bounds:      144\n",
      "\n",
      "iter    objective    inf_pr   inf_du lg(mu)  ||d||  lg(rg) alpha_du alpha_pr  ls\n",
      "   0 -1.1324275e-14 1.28e-03 9.96e+00  -1.0 0.00e+00    -  0.00e+00 0.00e+00   0\n",
      "   1 -5.2028428e+00 1.19e-03 9.25e+00  -1.0 7.14e-01    -  9.34e-02 6.95e-02f  1\n",
      "   2 -9.6385830e+01 7.13e-04 1.02e+01  -1.0 2.35e+00    -  1.80e-02 4.01e-01f  1\n",
      "   3 -1.6837489e+02 5.65e-04 9.18e+00  -1.0 2.85e+00    -  1.48e-01 2.08e-01f  1\n",
      "   4 -2.5376249e+02 3.75e-04 8.56e+00  -1.0 2.01e+00    -  1.99e-01 3.36e-01f  1\n",
      "   5 -2.7435101e+02 2.95e-04 3.55e+00  -1.0 9.93e-01    -  4.28e-01 2.13e-01f  1\n",
      "   6 -3.0019029e+02 1.31e-04 1.45e+00  -1.0 9.24e-01    -  6.01e-01 5.58e-01f  1\n",
      "   7 -3.1077867e+02 4.44e-16 1.97e+00  -1.0 6.48e-01    -  6.73e-01 1.00e+00f  1\n",
      "   8 -3.1013511e+02 4.44e-16 1.00e-06  -1.0 2.93e-01    -  1.00e+00 1.00e+00f  1\n",
      "   9 -3.2169816e+02 4.44e-16 4.17e-01  -2.5 4.89e-01    -  6.94e-01 5.28e-01f  1\n",
      "iter    objective    inf_pr   inf_du lg(mu)  ||d||  lg(rg) alpha_du alpha_pr  ls\n",
      "  10 -3.2840825e+02 8.88e-16 4.03e-01  -2.5 5.44e-01    -  4.83e-01 6.25e-01f  1\n",
      "  11 -3.3202056e+02 4.44e-16 2.26e-01  -2.5 3.55e-01    -  6.67e-01 7.89e-01f  1\n",
      "  12 -3.3326105e+02 8.88e-16 2.83e-08  -2.5 1.56e-01    -  1.00e+00 1.00e+00f  1\n",
      "  13 -3.3404170e+02 4.44e-16 2.02e-02  -3.8 2.42e-01    -  6.44e-01 1.00e+00f  1\n",
      "  14 -3.3404593e+02 4.44e-16 1.50e-09  -3.8 6.63e-02    -  1.00e+00 1.00e+00f  1\n",
      "  15 -3.3408742e+02 4.44e-16 6.07e-05  -5.7 1.20e-02    -  9.92e-01 9.81e-01f  1\n",
      "  16 -3.3408820e+02 4.44e-16 1.84e-11  -5.7 4.30e-02    -  1.00e+00 1.00e+00f  1\n",
      "  17 -3.3408872e+02 8.88e-16 5.95e-03  -8.6 1.80e-04    -  1.00e+00 9.72e-01f  1\n",
      "In iteration 17, 1 Slack too small, adjusting variable bound\n",
      "  18 -3.3408872e+02 8.88e-16 5.73e+00  -8.6 1.81e-02    -  9.08e-01 5.22e-01f  1\n",
      "In iteration 18, 1 Slack too small, adjusting variable bound\n",
      "  19 -3.3408873e+02 8.88e-16 2.84e+00  -8.6 8.29e-03    -  9.70e-01 5.82e-01f  1\n",
      "In iteration 19, 1 Slack too small, adjusting variable bound\n",
      "iter    objective    inf_pr   inf_du lg(mu)  ||d||  lg(rg) alpha_du alpha_pr  ls\n",
      "  20 -3.3408873e+02 8.88e-16 7.32e-01  -8.6 3.44e-03    -  1.00e+00 7.68e-01f  1\n",
      "  21 -3.3408873e+02 8.88e-16 2.51e-14  -8.6 7.98e-04    -  1.00e+00 1.00e+00f  1\n",
      "\n",
      "Number of Iterations....: 21\n",
      "\n",
      "                                   (scaled)                 (unscaled)\n",
      "Objective...............:  -3.3408872808409700e+02   -3.3408872808409700e+02\n",
      "Dual infeasibility......:   2.5091040356528538e-14    2.5091040356528538e-14\n",
      "Constraint violation....:   8.8817841970012523e-16    8.8817841970012523e-16\n",
      "Complementarity.........:   3.4518122535435609e-09    3.4518122535435609e-09\n",
      "Overall NLP error.......:   3.4518122535435609e-09    3.4518122535435609e-09\n",
      "\n",
      "\n",
      "Number of objective function evaluations             = 22\n",
      "Number of objective gradient evaluations             = 22\n",
      "Number of equality constraint evaluations            = 22\n",
      "Number of inequality constraint evaluations          = 22\n",
      "Number of equality constraint Jacobian evaluations   = 22\n",
      "Number of inequality constraint Jacobian evaluations = 22\n",
      "Number of Lagrangian Hessian evaluations             = 21\n",
      "Total CPU secs in IPOPT (w/o function evaluations)   =      0.025\n",
      "Total CPU secs in NLP function evaluations           =      0.000\n",
      "\n",
      "EXIT: Optimal Solution Found.\n",
      "\b\b\b\b\b\b\b\b\b\b\b\b\b\b"
     ]
    },
    {
     "data": {
      "text/plain": [
       "<Figure size 432x288 with 0 Axes>"
      ]
     },
     "metadata": {},
     "output_type": "display_data"
    },
    {
     "data": {
      "image/png": "[encoded data removed]",
      "text/plain": [
       "<Figure size 432x288 with 1 Axes>"
      ]
     },
     "metadata": {
      "needs_background": "light"
     },
     "output_type": "display_data"
    },
    {
     "data": {
      "image/png": "[encoded data removed]",
      "text/plain": [
       "<Figure size 432x288 with 1 Axes>"
      ]
     },
     "metadata": {
      "needs_background": "light"
     },
     "output_type": "display_data"
    }
   ],
   "source": [
    "# Add your solution here\n",
    "model = build_model(data_dict, horizon_length = 3*24, include_pbc = True, include_disjunction = True)\n",
    "solver = pyo.SolverFactory('ipopt')\n",
    "solver.solve(model, tee=True)\n",
    "c, d, E, t = extract_solution(model)\n",
    "plot_solution(c, d, E, t)"
   ]
  },
  {
   "cell_type": "markdown",
   "metadata": {},
   "source": [
    "#### Comparison\n",
    "\n",
    "Write Python code below to compare the solutions. Print out any timesteps where the charge, discharge, and energy profiles are different by more than 10$^{-4}$ MW (or MWh)."
   ]
  },
  {
   "cell_type": "code",
   "execution_count": 11,
   "metadata": {},
   "outputs": [],
   "source": [
    "def compare_solutions(solution1, solution2):\n",
    "    '''\n",
    "    Function to compare outputs between the original model and model with disjuncutions\n",
    "    \n",
    "    Inputs:\n",
    "    original: list of original charging/discharging data\n",
    "    disjunction: list of disjunction model results charging/discharging data\n",
    "    t: list of timesteps\n",
    "    \n",
    "    Action:\n",
    "    prints same/different + timestep\n",
    "    '''\n",
    "    assert len(solution1) == len(solution2), \"solution 1 and solution2 must be the same length\"\n",
    "    \n",
    "    n = len(solution1)\n",
    "    \n",
    "    # Add your solution here\n",
    "    \n",
    "    # unpack c solution\n",
    "    c_og = solution1\n",
    "    c_dsjxn = solution2\n",
    "    \n",
    "    # compute difference\n",
    "    c_diff = abs(c_og - c_dsjxn)\n",
    "    \n",
    "    for i in range(len(c_diff)):\n",
    "        if c_diff[i] > 10**(-4):\n",
    "            print('difference:', c_diff[i],'at timestep:',t_og[i])\n",
    "    \n",
    "    print(\"Done.\")"
   ]
  },
  {
   "cell_type": "code",
   "execution_count": 12,
   "metadata": {},
   "outputs": [
    {
     "name": "stdout",
     "output_type": "stream",
     "text": [
      "Done.\n"
     ]
    }
   ],
   "source": [
    "# Charge\n",
    "c_control_og = c_og\n",
    "c_control_disj = c\n",
    "compare_solutions(c_control_og, c_control_disj)"
   ]
  },
  {
   "cell_type": "code",
   "execution_count": 13,
   "metadata": {},
   "outputs": [
    {
     "name": "stdout",
     "output_type": "stream",
     "text": [
      "Done.\n"
     ]
    }
   ],
   "source": [
    "# Discharge\n",
    "d_control_og = d_og\n",
    "d_control_disj = d\n",
    "compare_solutions(d_control_og, d_control_disj)"
   ]
  },
  {
   "cell_type": "code",
   "execution_count": 14,
   "metadata": {},
   "outputs": [
    {
     "name": "stdout",
     "output_type": "stream",
     "text": [
      "Done.\n"
     ]
    }
   ],
   "source": [
    "# Energy\n",
    "E_control_og = E_og\n",
    "E_control_disj = E\n",
    "compare_solutions(E_control_og, E_control_disj)"
   ]
  },
  {
   "cell_type": "markdown",
   "metadata": {},
   "source": [
    "## Receding Horizon Control\n",
    "\n",
    "We now have functions to build, solve, and analyze the battery problem for a single problem. Now we can consider receeding horizon control.\n",
    "\n",
    "*Please ask questions during class. You do not need to turn anything in for this section.*\n",
    "\n",
    "Nomenclature: Let $u^*_{i}$ represent the optimal control action from time $t=i$ to $t=i+1$. For the battery system, $u_{i} = [c_i, d_i]^{T}$ (charging and discharging).\n",
    "\n",
    "Algorithm:\n",
    "1. Consider time $t=m$. \n",
    "2. Compute the optimal control actions $u^*=[u^*_m, u^*_{m+1}, ..., u^*_{m+N-1}]^T$ from time $t=m$ until $t=N+m$ where $N$ is the length of the planning horizon. In our battery example, we considered $N = 24$.\n",
    "3. Simulate the system for one timestep using control action $u^*_{m}$.\n",
    "4. (Optional). Update the system model or forecasts using new observations.\n",
    "5. Step $t=m+1$ and goto Step 2."
   ]
  },
  {
   "cell_type": "markdown",
   "metadata": {},
   "source": [
    "### Write Pseudocode\n",
    "\n",
    "Pseudocode is an important planning tool for complex computer programs. The idea is to write out the code on paper or a whiteboard using generic programming syntax. As an example, consider calculating the 3rd through 10th elements of the Fibonacci sequence:\n",
    "\n",
    "```\n",
    "# Governing equation where f[i] is the ith element of the sequence\n",
    "# f[i] = f[i-1] + f[i-2]\n",
    "\n",
    "# Algorithm:\n",
    "\n",
    "# Previous previous number in the sequence, f[i-2]\n",
    "n_2prev = 1\n",
    "\n",
    "# Previous number in the sequence, f[i-1]\n",
    "n_1prev = 1\n",
    "\n",
    "# Set counter\n",
    "j = 3\n",
    "\n",
    "while j <= 10 do:\n",
    "    # Apply Fib. formula\n",
    "    n = n1_prev + n2_prev\n",
    "    \n",
    "    # Print to screen\n",
    "    print(n)\n",
    "    \n",
    "    # Shift history.\n",
    "    # Previous number becomes previous previous number\n",
    "    n2prev = n1prev\n",
    "    \n",
    "    # Current number becomes previous number\n",
    "    n1prev = n\n",
    "    \n",
    "    # Increment counter\n",
    "    j = j + 1\n",
    "```\n",
    "\n",
    "Here we sketched out the main algorithm (with comments!) in generic syntax. We did not worry about the correct way to write a while loop in Python. Once we figure out the algorithm we can worry about those details.\n",
    "\n",
    "Write pseudocode for the receding horizon control example on paper or a whiteboard. Your algorithm should include the following main steps:\n",
    "1. Load price data from a text file\n",
    "2. Loop over timesteps. Keep track of implemented control actions (charge and discharge), battery SOC, and net revenue.\n",
    "3. Make a plot of battery SOC and control actions that were actually implemented.\n",
    "\n",
    "Scan your pseudocode as a PDF and turn in via Gradescope."
   ]
  },
  {
   "cell_type": "markdown",
   "metadata": {},
   "source": [
    "### Python Code"
   ]
  },
  {
   "cell_type": "markdown",
   "metadata": {},
   "source": [
    "Tip: You should use the same `create_model` function throughout the assignment. In your model, define `price` to be a mutable parameter. This means we can just update the Pyomo model in the function below. We do not need to recreate it."
   ]
  },
  {
   "cell_type": "code",
   "execution_count": 15,
   "metadata": {},
   "outputs": [],
   "source": [
    "def update_model(model, new_price_data, new_E0):\n",
    "    \"\"\" Update the Pyomo model with new price data\n",
    "    \n",
    "    Arguments:\n",
    "        model: pyomo model\n",
    "        new_price_data: numpy array or list containing price data\n",
    "        new_E0: (float) value for initial battery charge\n",
    "    \"\"\"\n",
    "    \n",
    "    # Add your solution here\n",
    "    for i in range(1,len(new_price_data)+1):\n",
    "    \n",
    "        model.Price[i] = new_price_data[i-1]\n",
    "    \n",
    "    model.E0 = new_E0"
   ]
  },
  {
   "cell_type": "code",
   "execution_count": 16,
   "metadata": {},
   "outputs": [],
   "source": [
    "def receding_horizon_simulation(price_data, simulation_length, num_hours, include_pbc=True,verbose=True):  \n",
    "    '''\n",
    "    Perform receding horizon simulation\n",
    "    \n",
    "    Inputs:\n",
    "        price_data: numpy array price data for entire time period of interest\n",
    "        simulation_length: number of total hours to evaluate\n",
    "        num_hours: horizon length for each optimization problem\n",
    "        include_pbc: boolean, include periodic boundary condition\n",
    "        verbose: boolean, if true, print out message each hour\n",
    "    \n",
    "    Returns:\n",
    "        c_control: charging decision implemented\n",
    "        d_control: discharging decision implemented\n",
    "        E_control: state-of-charge profile\n",
    "        revenue_control: total revenue over simulation horizon\n",
    "    \n",
    "    '''\n",
    "    \n",
    "    # Check input data length\n",
    "    assert len(price_data) >= simulation_length + num_hours, \"Input price data is too short\"\n",
    "    \n",
    "    assert simulation_length > 0, \"Must evaluate more than 0 days\"\n",
    "    \n",
    "    assert num_hours > 0, \"Must consider planning horizon longer than 0 days\"\n",
    "\n",
    "    nS = simulation_length\n",
    "        \n",
    "    ## Preallocate vectors to store results\n",
    "    c_control = np.empty(nS)\n",
    "    d_control = np.empty(nS)\n",
    "    E_control = np.empty(nS)\n",
    "    revenue_control = np.empty(nS)\n",
    "\n",
    "    # Add your solution here\n",
    "    \n",
    "    # Record SOC at end of time step\n",
    "    new_E0 = 2.0\n",
    "\n",
    "    ## Solve the problem in a receding horizon framework\n",
    "    for item in range(nS):\n",
    "        \n",
    "        # Prepare price data\n",
    "        price_data_ = price_data[item:num_hours+item]\n",
    "        # Loop over elements of numpy array\n",
    "        data_dict = {}\n",
    "\n",
    "        for i in range(0, len(price_data_)):\n",
    "        \n",
    "            # Add element to data_dict\n",
    "            data_dict[i + 1] = price_data_[i]\n",
    "            data_dict\n",
    "\n",
    "        # Either build or update model\n",
    "        if item == 0:\n",
    "            model = build_model(data_dict, horizon_length = num_hours, include_pbc = include_pbc)\n",
    "        else:\n",
    "            update_model(model, price_data_, new_E0)\n",
    "            \n",
    "        solver = pyo.SolverFactory('ipopt')\n",
    "        solver.solve(model, tee = False)\n",
    "        \n",
    "        # Record actual control strategy, update e\n",
    "        c_control[item] = value(model.c[model.HORIZON.first()])\n",
    "        d_control[item]= value(model.d[model.HORIZON.first()])\n",
    "        E_control[item]= value(model.E[model.HORIZON.first()])\n",
    "        revenue_control[item] = value(model.OBJ)\n",
    "        \n",
    "        new_E0 = E_control[item]\n",
    "    \n",
    "    return c_control, d_control, E_control, revenue_control"
   ]
  },
  {
   "cell_type": "markdown",
   "metadata": {},
   "source": [
    "### Simulate Performance Over 3 Days\n",
    "\n",
    "Perform receding horizon control for the first 3 days in January 2015. Make a plot to show the implemented control action.\n",
    "\n",
    "Tips:\n",
    "* The implemented control action is a concationation of the first timestep for each optimization problem.\n",
    "* How can you resuse the plot function above?"
   ]
  },
  {
   "cell_type": "code",
   "execution_count": 17,
   "metadata": {
    "scrolled": false
   },
   "outputs": [],
   "source": [
    "three_days = prepare_data_array(0,4)"
   ]
  },
  {
   "cell_type": "code",
   "execution_count": 18,
   "metadata": {
    "scrolled": false
   },
   "outputs": [],
   "source": [
    "# Tip: do not overwrite these results. We will use them later.\n",
    "# If you reuse this code, change the variable names used to save the results.\n",
    "c_control_pbc, d_control_pbc, E_control_pbc, revenue_control_pbc = receding_horizon_simulation(three_days, 24*3, \n",
    "                                                                               24, include_pbc=True,\n",
    "                                                                              verbose=True)"
   ]
  },
  {
   "cell_type": "code",
   "execution_count": 19,
   "metadata": {},
   "outputs": [
    {
     "data": {
      "text/plain": [
       "<Figure size 432x288 with 0 Axes>"
      ]
     },
     "metadata": {},
     "output_type": "display_data"
    },
    {
     "data": {
      "image/png": "[encoded data removed]",
      "text/plain": [
       "<Figure size 432x288 with 1 Axes>"
      ]
     },
     "metadata": {
      "needs_background": "light"
     },
     "output_type": "display_data"
    },
    {
     "data": {
      "image/png": "[encoded data removed]",
      "text/plain": [
       "<Figure size 432x288 with 1 Axes>"
      ]
     },
     "metadata": {
      "needs_background": "light"
     },
     "output_type": "display_data"
    }
   ],
   "source": [
    "plot_solution(c_control_pbc, d_control_pbc, E_control_pbc)"
   ]
  },
  {
   "cell_type": "markdown",
   "metadata": {},
   "source": [
    "### Impact of Horizon Length"
   ]
  },
  {
   "cell_type": "markdown",
   "metadata": {},
   "source": [
    "Repeat the sensitivity analysis for horizon lengths of N=2 through N=48. For each simulation, compute the following:\n",
    "1. Revenue from first 30 days\n",
    "2. Total energy purchased from the market during the first 30 days\n",
    "3. Total energy sold to the market during the first 30 days\n",
    "4. Total computation time"
   ]
  },
  {
   "cell_type": "code",
   "execution_count": 20,
   "metadata": {},
   "outputs": [
    {
     "name": "stdout",
     "output_type": "stream",
     "text": [
      "Elapsed Time 0.0006850000000007128 s\n"
     ]
    }
   ],
   "source": [
    "# Study this cell to see how to time calculations in Python\n",
    "import time\n",
    "\n",
    "time_start = time.perf_counter()\n",
    "first_month = prepare_data_array(0,34)\n",
    "time_elapsed = (time.perf_counter() - time_start)\n",
    "\n",
    "print(\"Elapsed Time\",time_elapsed,\"s\")"
   ]
  },
  {
   "cell_type": "code",
   "execution_count": 39,
   "metadata": {},
   "outputs": [],
   "source": [
    "rev = []\n",
    "charge = []\n",
    "discharge = []\n",
    "timer = []\n",
    "\n",
    "# Tip: This will take a few minutes to finish. While developing your solutions, \n",
    "# only simulate the first few values of N. This will be helpful if you need to\n",
    "# restart your kernel and rerun the cells. Once you are happy with your code\n",
    "# for the entire assignment, you can set N to the values given here then\n",
    "# restart and run all.\n",
    "N = [2, 3, 6, 8] #, 12, 24, 36, 48]\n",
    "\n",
    "# Add your solution here\n",
    "sum_rev = np.zeros(len(N))\n",
    "sum_charge = np.zeros(len(N))\n",
    "sum_discharge = np.zeros(len(N))\n",
    "comptime = np.zeros(len(N))\n",
    "\n",
    "for i in range(len(N)):\n",
    "    \n",
    "    time_start = time.perf_counter()    \n",
    "    first_month = prepare_data_array(0,34)\n",
    "    \n",
    "    chrg, dschrg, E, revnu = receding_horizon_simulation(first_month, 24*30, N[i], include_pbc=True,verbose=True)\n",
    "    \n",
    "    sum_rev[i] = sum(revnu)\n",
    "    \n",
    "    sum_charge[i] = sum(chrg)\n",
    "    \n",
    "    sum_discharge[i] = sum(dschrg)\n",
    "    \n",
    "    timer = (time.perf_counter() - time_start)\n",
    "    \n",
    "    comptime[i] = timer"
   ]
  },
  {
   "cell_type": "markdown",
   "metadata": {},
   "source": [
    "Make four well labeled plots to show these trends."
   ]
  },
  {
   "cell_type": "code",
   "execution_count": 40,
   "metadata": {},
   "outputs": [
    {
     "data": {
      "image/png": "[encoded data removed]",
      "text/plain": [
       "<Figure size 432x288 with 1 Axes>"
      ]
     },
     "metadata": {
      "needs_background": "light"
     },
     "output_type": "display_data"
    }
   ],
   "source": [
    "plt.plot(N,sum_rev,'o-',color=\"purple\",linewidth=3)\n",
    "plt.xlabel('N',fontsize=18)\n",
    "plt.ylabel('Revenue, $',fontsize=18)\n",
    "plt.grid(True)\n",
    "plt.show()"
   ]
  },
  {
   "cell_type": "code",
   "execution_count": 41,
   "metadata": {},
   "outputs": [
    {
     "data": {
      "image/png": "[encoded data removed]",
      "text/plain": [
       "<Figure size 432x288 with 1 Axes>"
      ]
     },
     "metadata": {
      "needs_background": "light"
     },
     "output_type": "display_data"
    }
   ],
   "source": [
    "plt.plot(N,sum_charge,'ro-',linewidth=3)\n",
    "plt.xlabel('N',fontsize=18)\n",
    "plt.ylabel('Charging, [MWh]',fontsize=18)\n",
    "plt.grid(True)\n",
    "plt.show()"
   ]
  },
  {
   "cell_type": "code",
   "execution_count": 42,
   "metadata": {},
   "outputs": [
    {
     "data": {
      "image/png": "[encoded data removed]",
      "text/plain": [
       "<Figure size 432x288 with 1 Axes>"
      ]
     },
     "metadata": {
      "needs_background": "light"
     },
     "output_type": "display_data"
    }
   ],
   "source": [
    "plt.plot(N,sum_discharge,'go-',linewidth=3)\n",
    "plt.xlabel('N',fontsize=18)\n",
    "plt.ylabel('Discharging, [MWh]',fontsize=18)\n",
    "plt.grid(True)\n",
    "plt.show()"
   ]
  },
  {
   "cell_type": "code",
   "execution_count": 43,
   "metadata": {},
   "outputs": [
    {
     "data": {
      "image/png": "[encoded data removed]",
      "text/plain": [
       "<Figure size 432x288 with 1 Axes>"
      ]
     },
     "metadata": {
      "needs_background": "light"
     },
     "output_type": "display_data"
    }
   ],
   "source": [
    "plt.plot(N,comptime,'ko-',linewidth=3)\n",
    "plt.xlabel('N',fontsize=18)\n",
    "plt.ylabel('Computational Time, [s]',fontsize=18)\n",
    "plt.grid(True)\n",
    "plt.show()"
   ]
  },
  {
   "cell_type": "markdown",
   "metadata": {},
   "source": [
    "# Compare with MW"
   ]
  },
  {
   "cell_type": "markdown",
   "metadata": {},
   "source": [
    "**Discussion** How long of a simulation horizon do you recommend? Discuss the trade-off between revenue and computation time."
   ]
  },
  {
   "cell_type": "markdown",
   "metadata": {},
   "source": [
    "### Impact of Periodic Boundary Condition"
   ]
  },
  {
   "cell_type": "markdown",
   "metadata": {},
   "source": [
    "We will now explore the impact of the periodic boundary constraint.\n",
    "\n",
    "First, simulate the performance over 3 days **without enforcing the periodic boundary constraint**. Plot the implemented control action and calculate the total revenue. Use $N=4$."
   ]
  },
  {
   "cell_type": "code",
   "execution_count": 26,
   "metadata": {},
   "outputs": [
    {
     "name": "stdout",
     "output_type": "stream",
     "text": [
      "total revenue: 2684.5807593585114\n"
     ]
    }
   ],
   "source": [
    "c_control2, d_control2, E_control2, revenue_control = receding_horizon_simulation(three_days, 24*3, 4,\n",
    "                                                                                  include_pbc=False,verbose=True)\n",
    "\n",
    "print('total revenue:', sum(revenue_control))"
   ]
  },
  {
   "cell_type": "code",
   "execution_count": 27,
   "metadata": {},
   "outputs": [
    {
     "data": {
      "text/plain": [
       "<Figure size 432x288 with 0 Axes>"
      ]
     },
     "metadata": {},
     "output_type": "display_data"
    },
    {
     "data": {
      "image/png": "[encoded data removed]",
      "text/plain": [
       "<Figure size 432x288 with 1 Axes>"
      ]
     },
     "metadata": {
      "needs_background": "light"
     },
     "output_type": "display_data"
    },
    {
     "data": {
      "image/png": "[encoded data removed]",
      "text/plain": [
       "<Figure size 432x288 with 1 Axes>"
      ]
     },
     "metadata": {
      "needs_background": "light"
     },
     "output_type": "display_data"
    }
   ],
   "source": [
    "plot_solution(c_control2, d_control2, E_control2)"
   ]
  },
  {
   "cell_type": "markdown",
   "metadata": {},
   "source": [
    "Next, simulate **with the periodic boundary constraint** using $N=4$. Plot the results."
   ]
  },
  {
   "cell_type": "code",
   "execution_count": 28,
   "metadata": {},
   "outputs": [
    {
     "data": {
      "text/plain": [
       "<Figure size 432x288 with 0 Axes>"
      ]
     },
     "metadata": {},
     "output_type": "display_data"
    },
    {
     "data": {
      "image/png": "[encoded data removed]",
      "text/plain": [
       "<Figure size 432x288 with 1 Axes>"
      ]
     },
     "metadata": {
      "needs_background": "light"
     },
     "output_type": "display_data"
    },
    {
     "data": {
      "image/png": "[encoded data removed]",
      "text/plain": [
       "<Figure size 432x288 with 1 Axes>"
      ]
     },
     "metadata": {
      "needs_background": "light"
     },
     "output_type": "display_data"
    }
   ],
   "source": [
    "c_control3, d_control3, E_control3, revenue_control = receding_horizon_simulation(three_days, 24*3, 4,\n",
    "                                                                                  include_pbc=True,verbose=False)\n",
    "plot_solution(c_control3, d_control3, E_control3)"
   ]
  },
  {
   "cell_type": "markdown",
   "metadata": {},
   "source": [
    "Now let's compare."
   ]
  },
  {
   "cell_type": "code",
   "execution_count": 29,
   "metadata": {},
   "outputs": [
    {
     "name": "stdout",
     "output_type": "stream",
     "text": [
      "difference: 0.7272727762351817 at timestep: 17.0\n",
      "difference: 0.12765063932624465 at timestep: 18.0\n",
      "difference: 1.0 at timestep: 41.0\n",
      "difference: 1.0 at timestep: 65.0\n",
      "Done.\n"
     ]
    }
   ],
   "source": [
    "# Charge\n",
    "compare_solutions(c_control2, c_control3)"
   ]
  },
  {
   "cell_type": "code",
   "execution_count": 30,
   "metadata": {},
   "outputs": [
    {
     "name": "stdout",
     "output_type": "stream",
     "text": [
      "difference: 0.12000000478114548 at timestep: 1.0\n",
      "difference: 0.8761662821241208 at timestep: 2.0\n",
      "difference: 0.7600000270921857 at timestep: 7.0\n",
      "difference: 0.9999999992466209 at timestep: 9.0\n",
      "difference: 0.7561662891042196 at timestep: 10.0\n",
      "difference: 0.11999997907143067 at timestep: 19.0\n",
      "difference: 0.9999999849995276 at timestep: 20.0\n",
      "difference: 0.11999997504879367 at timestep: 21.0\n",
      "difference: 0.9999999994996168 at timestep: 22.0\n",
      "difference: 0.9923325248118201 at timestep: 23.0\n",
      "difference: 0.11999998293244551 at timestep: 30.0\n",
      "difference: 0.11999999473448653 at timestep: 32.0\n",
      "difference: 0.12000002063085269 at timestep: 42.0\n",
      "difference: 0.7600000090909578 at timestep: 46.0\n",
      "difference: 0.24000004663872154 at timestep: 47.0\n",
      "difference: 1.0 at timestep: 66.0\n",
      "difference: 0.11999997909646576 at timestep: 67.0\n",
      "difference: 0.3599999756017923 at timestep: 69.0\n",
      "difference: 0.9999999993577597 at timestep: 70.0\n",
      "difference: 0.6400000081769871 at timestep: 71.0\n",
      "Done.\n"
     ]
    }
   ],
   "source": [
    "# Discharge\n",
    "compare_solutions(d_control2, d_control3)"
   ]
  },
  {
   "cell_type": "code",
   "execution_count": 31,
   "metadata": {},
   "outputs": [
    {
     "name": "stdout",
     "output_type": "stream",
     "text": [
      "difference: 0.1279204430975479 at timestep: 1.0\n",
      "difference: 1.0619168410163675 at timestep: 2.0\n",
      "difference: 1.0619168403798667 at timestep: 3.0\n",
      "difference: 1.0619168403791153 at timestep: 4.0\n",
      "difference: 1.0619168534362136 at timestep: 5.0\n",
      "difference: 1.061916854107217 at timestep: 6.0\n",
      "difference: 1.8720796072953427 at timestep: 7.0\n",
      "difference: 1.8720795753098836 at timestep: 8.0\n",
      "difference: 0.8060759747854082 at timestep: 9.0\n",
      "difference: 0.6822423560640747 at timestep: 17.0\n",
      "difference: 0.8019892436263283 at timestep: 18.0\n",
      "difference: 0.9299096613960511 at timestep: 19.0\n",
      "difference: 1.9959132307104683 at timestep: 20.0\n",
      "difference: 2.123833625746012 at timestep: 21.0\n",
      "difference: 1.0578300264697436 at timestep: 22.0\n",
      "difference: 0.12792043676783815 at timestep: 30.0\n",
      "difference: 0.12792043673340658 at timestep: 31.0\n",
      "difference: 0.9380831797250591 at timestep: 41.0\n",
      "difference: 1.0660036417271708 at timestep: 42.0\n",
      "difference: 1.0660036830736193 at timestep: 43.0\n",
      "difference: 1.066003706491613 at timestep: 44.0\n",
      "difference: 1.0660037064743615 at timestep: 45.0\n",
      "difference: 0.2558409645715136 at timestep: 46.0\n",
      "difference: 0.9380831631619859 at timestep: 65.0\n",
      "difference: 2.004086763839898 at timestep: 66.0\n",
      "difference: 2.132007181596908 at timestep: 67.0\n",
      "difference: 2.1320071815283383 at timestep: 68.0\n",
      "difference: 1.7482459022064525 at timestep: 69.0\n",
      "difference: 0.6822423018179867 at timestep: 70.0\n",
      "Done.\n"
     ]
    }
   ],
   "source": [
    "# Energy\n",
    "compare_solutions(E_control2, E_control3)"
   ]
  },
  {
   "cell_type": "markdown",
   "metadata": {},
   "source": [
    "**Discussion** Compare the control actions and revenue with and without the periodic boundary constraint. How are they different (if at all)? Offer an explanation for any differences. (The purpose of this questions is to get you thinking about how to critically analyze the optimization results. This skill will be really important for the semester projects.)"
   ]
  },
  {
   "cell_type": "markdown",
   "metadata": {},
   "source": [
    "Next, repeat the horizon length sensitivity analysis without the peridoic boundary constraint."
   ]
  },
  {
   "cell_type": "code",
   "execution_count": 32,
   "metadata": {},
   "outputs": [],
   "source": [
    "# Add your solution here\n",
    "rev = []\n",
    "charge = []\n",
    "discharge = []\n",
    "timer = []\n",
    "\n",
    "# Tip: This will take a few minutes to finish. While developing your solutions, \n",
    "# only simulate the first few values of N. This will be helpful if you need to\n",
    "# restart your kernel and rerun the cells. Once you are happy with your code\n",
    "# for the entire assignment, you can set N to the values given here then\n",
    "# restart and run all.\n",
    "N = [1,2] #, 2, 3, 4, 5] #, 8, 12, 24, 36, 48]\n",
    "\n",
    "#N = [2,3]\n",
    "\n",
    "# Add your solution here\n",
    "sum_rev = np.zeros(len(N))\n",
    "sum_charge = np.zeros(len(N))\n",
    "sum_discharge = np.zeros(len(N))\n",
    "comptime = np.zeros(len(N))\n",
    "\n",
    "for i in range(len(N)):\n",
    "    \n",
    "    time_start = time.perf_counter()    \n",
    "    first_month = prepare_data_array(0,34)\n",
    "    \n",
    "    chrg, dschrg, E, revnu = receding_horizon_simulation(first_month, 24*30, N[i], include_pbc = False,verbose=True)\n",
    "    \n",
    "    sum_rev[i] = sum(revnu)\n",
    "    \n",
    "    sum_charge[i] = sum(chrg)\n",
    "    \n",
    "    sum_discharge[i] = sum(dschrg)\n",
    "    \n",
    "    timer = (time.perf_counter() - time_start)\n",
    "    \n",
    "    comptime[i] = timer"
   ]
  },
  {
   "cell_type": "code",
   "execution_count": 33,
   "metadata": {},
   "outputs": [
    {
     "data": {
      "image/png": "[encoded data removed]",
      "text/plain": [
       "<Figure size 432x288 with 1 Axes>"
      ]
     },
     "metadata": {
      "needs_background": "light"
     },
     "output_type": "display_data"
    }
   ],
   "source": [
    "plt.plot(N,sum_rev,'o-',color=\"purple\",linewidth=3)\n",
    "plt.xlabel('N',fontsize=18)\n",
    "plt.ylabel('Revenue, $',fontsize=18)\n",
    "plt.grid(True)\n",
    "plt.show()"
   ]
  },
  {
   "cell_type": "code",
   "execution_count": 34,
   "metadata": {},
   "outputs": [
    {
     "data": {
      "image/png": "[encoded data removed]",
      "text/plain": [
       "<Figure size 432x288 with 1 Axes>"
      ]
     },
     "metadata": {
      "needs_background": "light"
     },
     "output_type": "display_data"
    }
   ],
   "source": [
    "plt.plot(N,sum_charge,'ro-',linewidth=3)\n",
    "plt.xlabel('N',fontsize=18)\n",
    "plt.ylabel('Charging, [MWh]',fontsize=18)\n",
    "plt.grid(True)\n",
    "plt.show()"
   ]
  },
  {
   "cell_type": "code",
   "execution_count": 35,
   "metadata": {},
   "outputs": [
    {
     "data": {
      "image/png": "[encoded data removed]",
      "text/plain": [
       "<Figure size 432x288 with 1 Axes>"
      ]
     },
     "metadata": {
      "needs_background": "light"
     },
     "output_type": "display_data"
    }
   ],
   "source": [
    "plt.plot(N,sum_discharge,'go-',linewidth=3)\n",
    "plt.xlabel('N',fontsize=18)\n",
    "plt.ylabel('Discharging, [MWh]',fontsize=18)\n",
    "plt.grid(True)\n",
    "plt.show()"
   ]
  },
  {
   "cell_type": "code",
   "execution_count": 36,
   "metadata": {},
   "outputs": [
    {
     "data": {
      "image/png": "[encoded data removed]",
      "text/plain": [
       "<Figure size 432x288 with 1 Axes>"
      ]
     },
     "metadata": {
      "needs_background": "light"
     },
     "output_type": "display_data"
    }
   ],
   "source": [
    "plt.plot(N,comptime,'ko-',linewidth=3)\n",
    "plt.xlabel('N',fontsize=18)\n",
    "plt.ylabel('Computational Time, [s]',fontsize=18)\n",
    "plt.grid(True)\n",
    "plt.show()"
   ]
  },
  {
   "cell_type": "markdown",
   "metadata": {},
   "source": [
    "**Discussion** Compare these result to the analysis with periodic boundary constraints. Based on these results, make a recommendation to a battery operator."
   ]
  },
  {
   "cell_type": "markdown",
   "metadata": {},
   "source": [
    "## Forecast Uncertainty (required for CBE 60499, optional for CBE 40499)\n",
    "\n",
    "So far, we have assumed the battery operator can perfectly forecast the market price. This is not realistic. What is the impact of uncertainty?\n",
    "\n",
    "Generate white noise with mean zero and standard deviation 5 \\$/MWh using `np.random.normal()` and add this to the \n",
    "historical price. We will treat this as a price forecast. Simulate the first three days with $N=24$. Calculate how much less revenue you make with price uncertainty compared to the perfect information case. *Hint:* Each time you run the simulation, you will get a different answer. Repeat the analysis 10 times and record the average."
   ]
  },
  {
   "cell_type": "markdown",
   "metadata": {},
   "source": [
    "**Are you enrolled in CBE 60499** (are you a graduate student)? Please answer yes/no: yes"
   ]
  },
  {
   "cell_type": "code",
   "execution_count": 37,
   "metadata": {},
   "outputs": [
    {
     "name": "stdout",
     "output_type": "stream",
     "text": [
      "Revenue with perfect price forecast = 6155.852181150559 = -1212.0047727401768 $\n"
     ]
    },
    {
     "ename": "NameError",
     "evalue": "name 'revenue_unc_actual' is not defined",
     "output_type": "error",
     "traceback": [
      "\u001b[1;31m---------------------------------------------------------------------------\u001b[0m",
      "\u001b[1;31mNameError\u001b[0m                                 Traceback (most recent call last)",
      "\u001b[1;32m<ipython-input-37-00c9a7bee452>\u001b[0m in \u001b[0;36m<module>\u001b[1;34m\u001b[0m\n\u001b[0;32m     42\u001b[0m                                                                                   verbose=False)\n\u001b[0;32m     43\u001b[0m \u001b[1;33m\u001b[0m\u001b[0m\n\u001b[1;32m---> 44\u001b[1;33m     \u001b[0mrevenue_unc_actual\u001b[0m\u001b[1;33m[\u001b[0m\u001b[0mi\u001b[0m\u001b[1;33m]\u001b[0m \u001b[1;33m=\u001b[0m \u001b[0mrevenue_control_unc\u001b[0m\u001b[1;33m/\u001b[0m\u001b[0mrevenue_perfect_information\u001b[0m\u001b[1;33m\u001b[0m\u001b[1;33m\u001b[0m\u001b[0m\n\u001b[0m\u001b[0;32m     45\u001b[0m \u001b[1;33m\u001b[0m\u001b[0m\n\u001b[0;32m     46\u001b[0m \u001b[1;31m# revenue_unc_predicted : revenue of the simulation when the\u001b[0m\u001b[1;33m\u001b[0m\u001b[1;33m\u001b[0m\u001b[1;33m\u001b[0m\u001b[0m\n",
      "\u001b[1;31mNameError\u001b[0m: name 'revenue_unc_actual' is not defined"
     ]
    }
   ],
   "source": [
    "np.random.seed(123)\n",
    "#revenue_unc_predicted = []\n",
    "#revenue_unc_actual =np.array\n",
    "\n",
    "# Perform simulation with perfect information\n",
    "c_control, d_control, E_control, revenue_control = receding_horizon_simulation(three_days, \n",
    "                                                                                       24*3, 24, include_pbc=True,\n",
    "                                                                                  verbose=False)\n",
    "# We can also calculate the revenue after the fact\n",
    "rev_check = 0\n",
    "for t in range(len(c_control)):\n",
    "    # Why is this slightly different? In the instructor/TA solutions for receding_horizon_simulation,\n",
    "    # we added a negative sign to d_control for plotting.\n",
    "    rev_check -=  three_days[t]*(d_control[t] + c_control[t])\n",
    "\n",
    "revenue_perfect_information = np.sum(revenue_control)\n",
    "print(\"Revenue with perfect price forecast =\",revenue_perfect_information,\"=\",rev_check,\"$\")\n",
    "\n",
    "# Tip: normalize the revenue from the uncertain simulations by `revenue_perfect_information`\n",
    "# This will make the interpretation much easier!\n",
    "\n",
    "n = len(three_days)\n",
    "nsim = 10\n",
    "\n",
    "for i in range(nsim):\n",
    "\n",
    "    # Add random noise to data\n",
    "    three_days_with_noise = three_days + 5*np.random.normal(size=n)\n",
    "\n",
    "    # Add your solution here\n",
    "\n",
    "    # Loop over elements of numpy array\n",
    "    data_dict = {}\n",
    "\n",
    "    for j in range(0, len(three_days_with_noise)):\n",
    "        \n",
    "        # Add element to data_dict with noise\n",
    "        data_dict[j + 1] = three_days_with_noise[j]\n",
    "        \n",
    "    c_control_unc, d_control_unc, E_control_unc, revenue_control_unc = receding_horizon_simulation(three_days_with_noise, \n",
    "                                                                                       24*3, 24, include_pbc=True,\n",
    "                                                                                  verbose=False)\n",
    "    \n",
    "    revenue_unc_actual[i] = revenue_control_unc/revenue_perfect_information\n",
    "    \n",
    "# revenue_unc_predicted : revenue of the simulation when there is uncertainty \n",
    "# revenue_unc_actual : revenue calculated using opt decisions and true prices with revenue \n",
    "# revenue_perfect_infor: revenue calculated when there is no uncertainty in the price data\n",
    "print(\"Average Revenue =\",np.mean(revenue_unc_actual)/revenue_perfect_information*100,\"%\")\n",
    "\n",
    "\n",
    "# we expect that the recvenue will be greater for revenue perfect info (perfect > actual)\n",
    "# forecasted prices uq_pred will be higher, probably ()"
   ]
  },
  {
   "cell_type": "markdown",
   "metadata": {},
   "source": [
    "**Discussion** Compare the results with your earlier analysis. How much less revenue do you get with Gaussian noise with standard deviation 5 $/MWh."
   ]
  },
  {
   "cell_type": "markdown",
   "metadata": {},
   "source": [
    "Next, make a plot showing the average revenue as a function of the standard deviation of the uncertainty. *Hint*: Normalize the revenue by dividing by the perfect information revenue (no uncertainty)."
   ]
  },
  {
   "cell_type": "code",
   "execution_count": null,
   "metadata": {},
   "outputs": [],
   "source": [
    "# Add your solution here"
   ]
  },
  {
   "cell_type": "markdown",
   "metadata": {},
   "source": [
    "**Discussion** What is the impact with the larger uncertainty?"
   ]
  },
  {
   "cell_type": "markdown",
   "metadata": {},
   "source": [
    "**Discussion** Why does uncertainty in the price decrease the revenue (on average)?"
   ]
  }
 ],
 "metadata": {
  "kernelspec": {
   "display_name": "Python 3",
   "language": "python",
   "name": "python3"
  },
  "language_info": {
   "codemirror_mode": {
    "name": "ipython",
    "version": 3
   },
   "file_extension": ".py",
   "mimetype": "text/x-python",
   "name": "python",
   "nbconvert_exporter": "python",
   "pygments_lexer": "ipython3",
   "version": "3.7.9"
  }
 },
 "nbformat": 4,
 "nbformat_minor": 2
}
