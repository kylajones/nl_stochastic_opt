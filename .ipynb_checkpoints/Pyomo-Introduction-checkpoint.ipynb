{
 "cells": [
  {
   "cell_type": "markdown",
   "metadata": {},
   "source": [
    "# Your First Optimization Problem"
   ]
  },
  {
   "cell_type": "markdown",
   "metadata": {},
   "source": [
    "Let's solve your first optimization problem in Pyomo."
   ]
  },
  {
   "cell_type": "markdown",
   "metadata": {},
   "source": [
    "## Cloud Computing with Google Colab"
   ]
  },
  {
   "cell_type": "markdown",
   "metadata": {},
   "source": [
    "We will include the following code at the top of our notebooks to configure Google Colab."
   ]
  },
  {
   "cell_type": "code",
   "execution_count": 1,
   "metadata": {},
   "outputs": [],
   "source": [
    "# ## Tip: Please put code like this at the top of your notebook.\n",
    "# # We want all of the module/package installations to start up front\n",
    "\n",
    "# import sys\n",
    "# if \"google.colab\" in sys.modules:\n",
    "#     !wget \"https://raw.githubusercontent.com/ndcbe/optimization/main/notebooks/helper.py\"\n",
    "#     import helper\n",
    "#     helper.install_idaes()\n",
    "#     helper.install_ipopt()\n",
    "import idaes"
   ]
  },
  {
   "cell_type": "markdown",
   "metadata": {},
   "source": [
    "What does this code do? If we run it on Google Colab, the code first downloads `helper.py`. This small utility then helps us install Pyomo and the needed solvers (often via IDAES)."
   ]
  },
  {
   "cell_type": "markdown",
   "metadata": {},
   "source": [
    "## Mathematical Model"
   ]
  },
  {
   "cell_type": "markdown",
   "metadata": {},
   "source": [
    "Let's start with a purely mathematical example:\n",
    "\n",
    "$$\\begin{align*} \\min_{x} \\quad & x_1^2 + 2 x_2^2 - x_3 \\\\\n",
    "\\mathrm{s.t.} \\quad & x_1 + x_2 = 1 \\\\\n",
    "& x_1 + 2 x_2 - x_3 = 5 \\\\\n",
    "& -10 \\leq x_1, x_2, x_3 \\leq 10 \n",
    "\\end{align*} $$\n",
    "\n",
    "We want to solve the constrained optimization problem numerically."
   ]
  },
  {
   "cell_type": "markdown",
   "metadata": {},
   "source": [
    "## Define the Model in Pyomo"
   ]
  },
  {
   "cell_type": "markdown",
   "metadata": {},
   "source": [
    "<div class=\"admonition note\"> \n",
    "<b>Activity</b>: Fill in the missing constraint.\n",
    "</div>"
   ]
  },
  {
   "cell_type": "code",
   "execution_count": 2,
   "metadata": {},
   "outputs": [
    {
     "name": "stdout",
     "output_type": "stream",
     "text": [
      "3 Var Declarations\n",
      "    x1 : Size=1, Index=None\n",
      "        Key  : Lower : Value : Upper : Fixed : Stale : Domain\n",
      "        None :   -10 :     1 :    10 : False : False :  Reals\n",
      "    x2 : Size=1, Index=None\n",
      "        Key  : Lower : Value : Upper : Fixed : Stale : Domain\n",
      "        None :   -10 :     1 :    10 : False : False :  Reals\n",
      "    x3 : Size=1, Index=None\n",
      "        Key  : Lower : Value : Upper : Fixed : Stale : Domain\n",
      "        None :   -10 :     1 :    10 : False : False :  Reals\n",
      "\n",
      "1 Objective Declarations\n",
      "    OBJ : Size=1, Index=None, Active=True\n",
      "        Key  : Active : Sense    : Expression\n",
      "        None :   True : minimize : x1**2 + 2*x2**2 - x3\n",
      "\n",
      "2 Constraint Declarations\n",
      "    h1 : Size=1, Index=None, Active=True\n",
      "        Key  : Lower : Body    : Upper : Active\n",
      "        None :   1.0 : x1 + x2 :   1.0 :   True\n",
      "    h2 : Size=1, Index=None, Active=True\n",
      "        Key  : Lower : Body           : Upper : Active\n",
      "        None :   5.0 : x1 + 2*x2 - x3 :   5.0 :   True\n",
      "\n",
      "6 Declarations: x1 x2 x3 OBJ h1 h2\n"
     ]
    }
   ],
   "source": [
    "import pyomo.environ as pyo\n",
    "\n",
    "# Create instance of concrete Pyomo model.\n",
    "# concrete means all of the sets and model data are specified at the time of model construction.\n",
    "# In this class, you'll use a concrete model.\n",
    "m = pyo.ConcreteModel()\n",
    "\n",
    "## Declare variables with initial values with bounds\n",
    "m.x1 = pyo.Var(initialize=1, bounds=(-10, 10))\n",
    "m.x2 = pyo.Var(initialize=1, bounds=(-10, 10))\n",
    "m.x3 = pyo.Var(initialize=1, bounds=(-10, 10))\n",
    "\n",
    "## Declare objective\n",
    "m.OBJ = pyo.Objective(expr=m.x1**2 + 2*m.x2**2 - m.x3, sense = pyo.minimize)\n",
    "\n",
    "## Declare equality constraints\n",
    "m.h1 = pyo.Constraint(expr= m.x1 + m.x2 == 1)\n",
    "\n",
    "# Add your solution here\n",
    "m.h2 = pyo.Constraint(expr= m.x1 + 2*m.x2 - m.x3 == 5)\n",
    "\n",
    "## Display model\n",
    "m.pprint()"
   ]
  },
  {
   "cell_type": "markdown",
   "metadata": {},
   "source": [
    "## Solve using Ipopt\n",
    "\n",
    "Toward the end of the semester we will learn, in perhaps more detail than you care, what makes Ipopt work under the hood. For now, we'll use it as a computational tool."
   ]
  },
  {
   "cell_type": "code",
   "execution_count": 3,
   "metadata": {},
   "outputs": [
    {
     "name": "stdout",
     "output_type": "stream",
     "text": [
      "Ipopt 3.13.2: \n",
      "\n",
      "******************************************************************************\n",
      "This program contains Ipopt, a library for large-scale nonlinear optimization.\n",
      " Ipopt is released as open source code under the Eclipse Public License (EPL).\n",
      "         For more information visit http://projects.coin-or.org/Ipopt\n",
      "\n",
      "This version of Ipopt was compiled from source code available at\n",
      "    https://github.com/IDAES/Ipopt as part of the Institute for the Design of\n",
      "    Advanced Energy Systems Process Systems Engineering Framework (IDAES PSE\n",
      "    Framework) Copyright (c) 2018-2019. See https://github.com/IDAES/idaes-pse.\n",
      "\n",
      "This version of Ipopt was compiled using HSL, a collection of Fortran codes\n",
      "    for large-scale scientific computation.  All technical papers, sales and\n",
      "    publicity material resulting from use of the HSL codes within IPOPT must\n",
      "    contain the following acknowledgement:\n",
      "        HSL, a collection of Fortran codes for large-scale scientific\n",
      "        computation. See http://www.hsl.rl.ac.uk.\n",
      "******************************************************************************\n",
      "\n",
      "This is Ipopt version 3.13.2, running with linear solver ma27.\n",
      "\n",
      "Number of nonzeros in equality constraint Jacobian...:        5\n",
      "Number of nonzeros in inequality constraint Jacobian.:        0\n",
      "Number of nonzeros in Lagrangian Hessian.............:        2\n",
      "\n",
      "Total number of variables............................:        3\n",
      "                     variables with only lower bounds:        0\n",
      "                variables with lower and upper bounds:        3\n",
      "                     variables with only upper bounds:        0\n",
      "Total number of equality constraints.................:        2\n",
      "Total number of inequality constraints...............:        0\n",
      "        inequality constraints with only lower bounds:        0\n",
      "   inequality constraints with lower and upper bounds:        0\n",
      "        inequality constraints with only upper bounds:        0\n",
      "\n",
      "iter    objective    inf_pr   inf_du lg(mu)  ||d||  lg(rg) alpha_du alpha_pr  ls\n",
      "   0  2.0000000e+00 3.00e+00 3.33e-01  -1.0 0.00e+00    -  0.00e+00 0.00e+00   0\n",
      "   1  4.3065612e+00 1.11e-16 2.89e-01  -1.0 4.36e+00    -  6.72e-01 1.00e+00h  1\n",
      "   2  4.2501103e+00 0.00e+00 5.55e-17  -1.0 1.31e-01    -  1.00e+00 1.00e+00f  1\n",
      "   3  4.2500000e+00 0.00e+00 4.32e-16  -2.5 6.02e-03    -  1.00e+00 1.00e+00f  1\n",
      "   4  4.2500000e+00 8.88e-16 1.14e-16  -3.8 4.41e-05    -  1.00e+00 1.00e+00f  1\n",
      "   5  4.2500000e+00 0.00e+00 3.13e-16  -5.7 1.98e-06    -  1.00e+00 1.00e+00h  1\n",
      "   6  4.2500000e+00 0.00e+00 1.55e-16  -8.6 2.45e-08    -  1.00e+00 1.00e+00f  1\n",
      "\n",
      "Number of Iterations....: 6\n",
      "\n",
      "                                   (scaled)                 (unscaled)\n",
      "Objective...............:   4.2500000000000000e+00    4.2500000000000000e+00\n",
      "Dual infeasibility......:   1.5452628521041094e-16    1.5452628521041094e-16\n",
      "Constraint violation....:   0.0000000000000000e+00    0.0000000000000000e+00\n",
      "Complementarity.........:   2.5059105039901454e-09    2.5059105039901454e-09\n",
      "Overall NLP error.......:   2.5059105039901454e-09    2.5059105039901454e-09\n",
      "\n",
      "\n",
      "Number of objective function evaluations             = 7\n",
      "Number of objective gradient evaluations             = 7\n",
      "Number of equality constraint evaluations            = 7\n",
      "Number of inequality constraint evaluations          = 0\n",
      "Number of equality constraint Jacobian evaluations   = 7\n",
      "Number of inequality constraint Jacobian evaluations = 0\n",
      "Number of Lagrangian Hessian evaluations             = 6\n",
      "Total CPU secs in IPOPT (w/o function evaluations)   =      0.000\n",
      "Total CPU secs in NLP function evaluations           =      0.000\n",
      "\n",
      "EXIT: Optimal Solution Found.\n",
      "\b\b\b\b\b\b\b\b\b\b\b\b\b\b"
     ]
    }
   ],
   "source": [
    "opt1 = pyo.SolverFactory('ipopt')\n",
    "status1 = opt1.solve(m, tee=True)"
   ]
  },
  {
   "cell_type": "markdown",
   "metadata": {},
   "source": [
    "## Inspect the Solution\n",
    "\n",
    "Now let's inspect the solution. We'll use the function `value()` to extract the numeric value from the Pyomo variable object."
   ]
  },
  {
   "cell_type": "code",
   "execution_count": 4,
   "metadata": {},
   "outputs": [
    {
     "name": "stdout",
     "output_type": "stream",
     "text": [
      "x1 =  0.4999999999666826\n",
      "x2 =  0.5000000000333175\n",
      "x3 =  -3.499999999966682\n",
      "\n",
      "\n"
     ]
    }
   ],
   "source": [
    "## Return the solution\n",
    "print(\"x1 = \",pyo.value(m.x1))\n",
    "print(\"x2 = \",pyo.value(m.x2))\n",
    "print(\"x3 = \",pyo.value(m.x3))\n",
    "print(\"\\n\")"
   ]
  },
  {
   "cell_type": "markdown",
   "metadata": {},
   "source": [
    "## Visualize the Solution"
   ]
  },
  {
   "cell_type": "markdown",
   "metadata": {},
   "source": [
    "Is our answer correct?\n",
    "\n",
    "We can solve this optimization problem with guess and check. If we guess $x_3$, we can then solve the constraints for $x_1$ and $x_2$:\n",
    "\n",
    "$$\\begin{bmatrix}\n",
    "1 & 1 \\\\\n",
    "1 & 2\n",
    "\\end{bmatrix} \\begin{bmatrix} x_1 \\\\ x_2 \\end{bmatrix} = \\begin{bmatrix} 1 \\\\ 5 + x_3 \\end{bmatrix}$$\n",
    "\n",
    "We can then evaluate the objective. Let's see the graphical solution to our optimization problem."
   ]
  },
  {
   "cell_type": "markdown",
   "metadata": {},
   "source": [
    "<div class=\"admonition note\"> \n",
    "<b>Activity</b>: Verify you agree with how to translate the two linear constraints into a linear system of questions.</div>"
   ]
  },
  {
   "cell_type": "code",
   "execution_count": 5,
   "metadata": {},
   "outputs": [
    {
     "data": {
      "image/png": "[encoded data removed]",
      "text/plain": [
       "<Figure size 432x288 with 1 Axes>"
      ]
     },
     "metadata": {
      "needs_background": "light"
     },
     "output_type": "display_data"
    }
   ],
   "source": [
    "import numpy as np\n",
    "import matplotlib.pyplot as plt\n",
    "\n",
    "def constraints(x3):\n",
    "    ''' Solve the linear constraints\n",
    "    \n",
    "    Args:\n",
    "        x3: Value for the decision variable x3\n",
    "        \n",
    "    Returns:\n",
    "        x1 and x2: Values calculated from the constraints\n",
    "    '''\n",
    "\n",
    "    # Define the matrices in the above equations\n",
    "    A = np.array([[1, 1],[1, 2]])\n",
    "    b = np.array([1, 5+x3])\n",
    "\n",
    "    # Solve the linear system of equations\n",
    "    z = np.linalg.solve(A,b)\n",
    "    x1 = z[0]\n",
    "    x2 = z[1]\n",
    "    return x1, x2\n",
    "\n",
    "# Define a lambda function to plot the objective\n",
    "objective = lambda x1, x2, x3: x1**2 + 2*x2**2 - x3\n",
    "\n",
    "# Guess many values of x3.\n",
    "x3_guesses = np.linspace(-10,4,21)\n",
    "obj = []\n",
    "for x3 in x3_guesses:\n",
    "    # Solve the constraints to determine x1 and x2\n",
    "    x1, x2 = constraints(x3)\n",
    "    # Calculate the store the objective function value\n",
    "    obj.append(objective(x1,x2,x3))\n",
    "\n",
    "# Plot the objective function value versus x3\n",
    "plt.plot(x3_guesses, obj,color='blue',linewidth=2,label=\"Sensitivity Analysis\")\n",
    "plt.xlabel(\"$x_3$\",fontsize=18)\n",
    "plt.ylabel(\"$f(x)$\",fontsize=18)\n",
    "\n",
    "# Plot the solution from Pyomo\n",
    "x3_sln = pyo.value(m.x3)\n",
    "obj_sln = pyo.value(m.OBJ)\n",
    "plt.plot(x3_sln, obj_sln,marker='o',color='red',markersize=10,label=\"Pyomo Solution\",linestyle='')\n",
    "plt.legend()\n",
    "plt.grid(True)\n",
    "plt.show()"
   ]
  },
  {
   "cell_type": "code",
   "execution_count": null,
   "metadata": {},
   "outputs": [],
   "source": []
  }
 ],
 "metadata": {
  "kernelspec": {
   "display_name": "Python 3",
   "language": "python",
   "name": "python3"
  },
  "language_info": {
   "codemirror_mode": {
    "name": "ipython",
    "version": 3
   },
   "file_extension": ".py",
   "mimetype": "text/x-python",
   "name": "python",
   "nbconvert_exporter": "python",
   "pygments_lexer": "ipython3",
   "version": "3.7.9"
  }
 },
 "nbformat": 4,
 "nbformat_minor": 4
}
