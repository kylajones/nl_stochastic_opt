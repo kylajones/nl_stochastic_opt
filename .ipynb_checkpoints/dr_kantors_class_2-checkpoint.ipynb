{
 "cells": [
  {
   "cell_type": "code",
   "execution_count": 18,
   "metadata": {},
   "outputs": [],
   "source": [
    "import pyomo.environ as pyo\n",
    "from pyomo.environ import *\n",
    "import idaes"
   ]
  },
  {
   "cell_type": "code",
   "execution_count": 42,
   "metadata": {},
   "outputs": [
    {
     "name": "stdout",
     "output_type": "stream",
     "text": [
      "U produced:  20.000000199697926\n",
      "V produced:  60.000000600272095\n",
      "profit:  2600.0000260925735\n"
     ]
    }
   ],
   "source": [
    "d = 20\n",
    "m = pyo.ConcreteModel()\n",
    "\n",
    "m.PRODUCTS = pyo.Set(initialize  = [\"U\",\"V\"])\n",
    "m.x = pyo.Var(domain = NonNegativeReals)\n",
    "m.y = pyo.Var(m.PRODUCTS, domain = NonNegativeReals)\n",
    "\n",
    "@m.Constraint()\n",
    "def demand_ub(m):\n",
    "    return m.y[\"U\"] <= 40\n",
    "    \n",
    "@m.Constraint()\n",
    "def demand_lb(m):\n",
    "    return m.y[\"U\"] >= d\n",
    "\n",
    "@m.Constraint()\n",
    "def labor_A(m):\n",
    "    return m.y[\"U\"] + m.y[\"V\"] <= 80\n",
    "\n",
    "@m.Constraint()\n",
    "def labor_B(m):\n",
    "    return 2*m.y[\"U\"] + m.y[\"V\"] <= 100\n",
    "\n",
    "@m.Constraint()\n",
    "def production(m):\n",
    "    return m.x >= 10*m.y[\"U\"] + 9*m.y[\"V\"]\n",
    "\n",
    "@m.Expression()\n",
    "def revenue(m):\n",
    "    return 270*m.y[\"U\"] + 210*m.y[\"V\"]\n",
    "\n",
    "@m.Expression()\n",
    "def expense(m):\n",
    "    return 130*m.y[\"U\"] + 90*m.y[\"V\"] + 10*m.x\n",
    "\n",
    "@m.Objective(sense = pyo.maximize)\n",
    "def profit(m):\n",
    "    return m.revenue - m.expense\n",
    "\n",
    "solver = pyo.SolverFactory('ipopt') # NL programs need ipopt : interior point optimization, probably overkill here\n",
    "solver.solve(m)\n",
    "\n",
    "print(\"U produced: \", pyo.value(m.y[\"U\"]))\n",
    "print(\"V produced: \", pyo.value(m.y[\"V\"]))\n",
    "print('profit: ', value(m.profit))"
   ]
  },
  {
   "cell_type": "code",
   "execution_count": null,
   "metadata": {},
   "outputs": [],
   "source": []
  }
 ],
 "metadata": {
  "kernelspec": {
   "display_name": "Python 3",
   "language": "python",
   "name": "python3"
  },
  "language_info": {
   "codemirror_mode": {
    "name": "ipython",
    "version": 3
   },
   "file_extension": ".py",
   "mimetype": "text/x-python",
   "name": "python",
   "nbconvert_exporter": "python",
   "pygments_lexer": "ipython3",
   "version": "3.7.9"
  }
 },
 "nbformat": 4,
 "nbformat_minor": 4
}
