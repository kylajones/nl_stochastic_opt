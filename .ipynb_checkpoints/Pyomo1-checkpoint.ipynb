{
 "cells": [
  {
   "cell_type": "markdown",
   "metadata": {},
   "source": [
    "# Pyomo Homework 1\n",
    "\n",
    "**Due Date:** 1/20/2023"
   ]
  },
  {
   "cell_type": "code",
   "execution_count": 1,
   "metadata": {},
   "outputs": [
    {
     "data": {
      "text/plain": [
       "('knapsack_data.csv', <http.client.HTTPMessage at 0x18b45cf1888>)"
      ]
     },
     "execution_count": 1,
     "metadata": {},
     "output_type": "execute_result"
    }
   ],
   "source": [
    "## IMPORT LIBRARIES\n",
    "import pyomo as pyo\n",
    "from pyomo.environ import *\n",
    "import pandas as pd\n",
    "import idaes\n",
    "\n",
    "# IMPORT DATA\n",
    "import urllib.request\n",
    "url = 'https://github.com/ndcbe/optimization/tree/main/notebooks/data'\n",
    "filename = 'knapsack_data.csv'\n",
    "urllib.request.urlretrieve(url, filename)"
   ]
  },
  {
   "cell_type": "markdown",
   "metadata": {},
   "source": [
    "Special thanks to the Pyomo team for create these excercises as part of their excellent PyomoFest workshop."
   ]
  },
  {
   "cell_type": "markdown",
   "metadata": {},
   "source": [
    "# 1 Pyomo Fundamentals"
   ]
  },
  {
   "cell_type": "markdown",
   "metadata": {},
   "source": [
    "### 1.1 Knapsack example\n",
    "\n",
    "You want to fill a knapsack (a.k.a. bag). You can choose from a hammer, wrench, screwdriver, and towel. Each item has a different weight and value. You want to maximize the value (benefit) of the collection of items constrained by a total weight limit. Let's formulate this as an optimization problem.\n",
    "\n",
    "**Sets**\n",
    "\n",
    "$$\\mathcal{A} = \\{\\text{hammer},~\\text{wrench},~\\text{screwdriver},~\\text{towel} \\}$$  \n",
    "\n",
    "**Parameters (Data)**\n",
    "\n",
    "Let $b_i$ and $w_i$ represent the benefit and weight of item $i$, respectfully.\n",
    "\n",
    "| Item ($i$)  | Benefit ($b_i$) | Weigth ($w_i$) |\n",
    "| ----------- | ----------- | ----------- |\n",
    "| hammer      | 8      | 5|\n",
    "| wrench   | 3        | 7 |\n",
    "| screwdriver  | 6 | 4        |\n",
    "| towel   | 11  | 3 |\n",
    "\n",
    "Let $W_{max} = 14$ be the maximum weight.\n",
    "\n",
    "**Variables**\n",
    "\n",
    "Let $x_i \\in \\{0,1\\}$ (binary) represent whether or not we include item $i$ in the knapsack. For now, we will consider only being able to choose either none or one of each item.\n",
    "\n",
    "**Objective and Constraints**\n",
    "\n",
    "$$\n",
    "\\begin{equation} \n",
    "\\begin{split}\n",
    "\\max_{x} \\quad & \\sum_{i\\in{\\mathcal{A}}}b_i x_i \\\\\n",
    "\\text{s.t.} \\quad & \\sum_{i\\in{\\mathcal{A}}}w_ix_i \\leq W_{max} \\\\\n",
    "& x_i \\in \\{0,1\\}, \\quad \\forall i \\in \\mathcal{A}\n",
    "\\end{split}\n",
    "\\end{equation}\n",
    "$$\n",
    "\n",
    "\n",
    "**Pyomo**\n",
    "\n",
    "Solve the knapsack problem given below using GLPK and answer the following questions:\n",
    "\n",
    "1. Which items are acquired in the optimal solution?\n",
    "\n",
    "2. What is the value of the selected items?"
   ]
  },
  {
   "cell_type": "code",
   "execution_count": 2,
   "metadata": {},
   "outputs": [
    {
     "name": "stdout",
     "output_type": "stream",
     "text": [
      "GLPSOL--GLPK LP/MIP Solver 5.0\n",
      "Parameter(s) specified in the command line:\n",
      " --write C:\\Users\\kilaj\\AppData\\Local\\Temp\\tmp7a4m3sq4.glpk.raw --wglp C:\\Users\\kilaj\\AppData\\Local\\Temp\\tmpyerjbsab.glpk.glp\n",
      " --cpxlp C:\\Users\\kilaj\\AppData\\Local\\Temp\\tmp2hrky3ie.pyomo.lp\n",
      "Reading problem data from 'C:\\Users\\kilaj\\AppData\\Local\\Temp\\tmp2hrky3ie.pyomo.lp'...\n",
      "C:\\Users\\kilaj\\AppData\\Local\\Temp\\tmp2hrky3ie.pyomo.lp:28: warning: lower bound of variable 'x1' redefined\n",
      "C:\\Users\\kilaj\\AppData\\Local\\Temp\\tmp2hrky3ie.pyomo.lp:28: warning: upper bound of variable 'x1' redefined\n",
      "2 rows, 5 columns, 5 non-zeros\n",
      "4 integer variables, all of which are binary\n",
      "32 lines were read\n",
      "Writing problem data to 'C:\\Users\\kilaj\\AppData\\Local\\Temp\\tmpyerjbsab.glpk.glp'...\n",
      "22 lines were written\n",
      "GLPK Integer Optimizer 5.0\n",
      "2 rows, 5 columns, 5 non-zeros\n",
      "4 integer variables, all of which are binary\n",
      "Preprocessing...\n",
      "1 constraint coefficient(s) were reduced\n",
      "1 row, 4 columns, 4 non-zeros\n",
      "4 integer variables, all of which are binary\n",
      "Scaling...\n",
      " A: min|aij| =  3.000e+00  max|aij| =  5.000e+00  ratio =  1.667e+00\n",
      "Problem data seem to be well scaled\n",
      "Constructing initial basis...\n",
      "Size of triangular part is 1\n",
      "Solving LP relaxation...\n",
      "GLPK Simplex Optimizer 5.0\n",
      "1 row, 4 columns, 4 non-zeros\n",
      "*     0: obj =  -0.000000000e+00 inf =   0.000e+00 (4)\n",
      "*     4: obj =   2.500000000e+01 inf =   0.000e+00 (0)\n",
      "OPTIMAL LP SOLUTION FOUND\n",
      "Integer optimization begins...\n",
      "Long-step dual simplex will be used\n",
      "+     4: mip =     not found yet <=              +inf        (1; 0)\n",
      "+     4: >>>>>   2.500000000e+01 <=   2.500000000e+01   0.0% (1; 0)\n",
      "+     4: mip =   2.500000000e+01 <=     tree is empty   0.0% (0; 1)\n",
      "INTEGER OPTIMAL SOLUTION FOUND\n",
      "Time used:   0.0 secs\n",
      "Memory used: 0.1 Mb (59918 bytes)\n",
      "Writing MIP solution to 'C:\\Users\\kilaj\\AppData\\Local\\Temp\\tmp7a4m3sq4.glpk.raw'...\n",
      "16 lines were written\n",
      "%----------------- Solution\n",
      "Print values for each variable explicitly\n",
      "x[hammer] 1.0\n",
      "x[wrench] 0.0\n",
      "x[screwdriver] 1.0\n",
      "x[towel] 1.0\n",
      "Total value\n",
      "obj 25.0\n"
     ]
    }
   ],
   "source": [
    "A = ['hammer', 'wrench', 'screwdriver', 'towel'] # define items set\n",
    "b = {'hammer':8, 'wrench':3, 'screwdriver':6, 'towel':11} # define benefits parameters\n",
    "w = {'hammer':5, 'wrench':7, 'screwdriver':4, 'towel':3} # define weights parameters\n",
    "W_max = 14 # set maximum weight\n",
    "\n",
    "model = ConcreteModel()\n",
    "\n",
    "# define variable\n",
    "model.x = Var( A, within=Binary )\n",
    "\n",
    "# define objective\n",
    "model.obj = Objective(\n",
    "    expr = sum( b[i]*model.x[i] for i in A ), \n",
    "    sense = maximize )\n",
    "\n",
    "# define weight constraint\n",
    "model.weight_con = Constraint(\n",
    "    expr = sum( w[i]*model.x[i] for i in A ) <= W_max )\n",
    "\n",
    "# Add your solution here\n",
    "opt = SolverFactory('glpk')\n",
    "status = opt.solve(model, tee = True)\n",
    "\n",
    "print(\"%----------------- Solution\")\n",
    "print(\"Print values for each variable explicitly\")\n",
    "for i in model.x:\n",
    "  print(str(model.x[i]), model.x[i].value)\n",
    "\n",
    "print(\"Total value\")\n",
    "print(str(model.obj), value(model.obj))"
   ]
  },
  {
   "cell_type": "markdown",
   "metadata": {},
   "source": [
    "**Question Answers**\n",
    "\n",
    "1. The items acquired are the hammer, screwdriver, and towel\n",
    "\n",
    "2. The value of the selected items in 25"
   ]
  },
  {
   "cell_type": "markdown",
   "metadata": {},
   "source": [
    "### Knapsack example with improve printing\n",
    "\n",
    "Complete the missing lines in the code below to produce formatted output: print the total weight, the value of the items selected (the objective), and the items acquired in the optimal solution. Note, the Pyomo value function should be used to get the floating point value of Pyomo modeling components (e.g., print(value(model.x[i]))."
   ]
  },
  {
   "cell_type": "code",
   "execution_count": 3,
   "metadata": {},
   "outputs": [
    {
     "name": "stdout",
     "output_type": "stream",
     "text": [
      "GLPSOL--GLPK LP/MIP Solver 5.0\n",
      "Parameter(s) specified in the command line:\n",
      " --write C:\\Users\\kilaj\\AppData\\Local\\Temp\\tmp8i7f5rqq.glpk.raw --wglp C:\\Users\\kilaj\\AppData\\Local\\Temp\\tmpwyx_way_.glpk.glp\n",
      " --cpxlp C:\\Users\\kilaj\\AppData\\Local\\Temp\\tmppici3e8q.pyomo.lp\n",
      "Reading problem data from 'C:\\Users\\kilaj\\AppData\\Local\\Temp\\tmppici3e8q.pyomo.lp'...\n",
      "C:\\Users\\kilaj\\AppData\\Local\\Temp\\tmppici3e8q.pyomo.lp:28: warning: lower bound of variable 'x1' redefined\n",
      "C:\\Users\\kilaj\\AppData\\Local\\Temp\\tmppici3e8q.pyomo.lp:28: warning: upper bound of variable 'x1' redefined\n",
      "2 rows, 5 columns, 5 non-zeros\n",
      "4 integer variables, all of which are binary\n",
      "32 lines were read\n",
      "Writing problem data to 'C:\\Users\\kilaj\\AppData\\Local\\Temp\\tmpwyx_way_.glpk.glp'...\n",
      "22 lines were written\n",
      "GLPK Integer Optimizer 5.0\n",
      "2 rows, 5 columns, 5 non-zeros\n",
      "4 integer variables, all of which are binary\n",
      "Preprocessing...\n",
      "1 constraint coefficient(s) were reduced\n",
      "1 row, 4 columns, 4 non-zeros\n",
      "4 integer variables, all of which are binary\n",
      "Scaling...\n",
      " A: min|aij| =  3.000e+00  max|aij| =  5.000e+00  ratio =  1.667e+00\n",
      "Problem data seem to be well scaled\n",
      "Constructing initial basis...\n",
      "Size of triangular part is 1\n",
      "Solving LP relaxation...\n",
      "GLPK Simplex Optimizer 5.0\n",
      "1 row, 4 columns, 4 non-zeros\n",
      "*     0: obj =  -0.000000000e+00 inf =   0.000e+00 (4)\n",
      "*     4: obj =   2.500000000e+01 inf =   0.000e+00 (0)\n",
      "OPTIMAL LP SOLUTION FOUND\n",
      "Integer optimization begins...\n",
      "Long-step dual simplex will be used\n",
      "+     4: mip =     not found yet <=              +inf        (1; 0)\n",
      "+     4: >>>>>   2.500000000e+01 <=   2.500000000e+01   0.0% (1; 0)\n",
      "+     4: mip =   2.500000000e+01 <=     tree is empty   0.0% (0; 1)\n",
      "INTEGER OPTIMAL SOLUTION FOUND\n",
      "Time used:   0.0 secs\n",
      "Memory used: 0.1 Mb (59918 bytes)\n",
      "Writing MIP solution to 'C:\\Users\\kilaj\\AppData\\Local\\Temp\\tmp8i7f5rqq.glpk.raw'...\n",
      "16 lines were written\n",
      "BEGIN SOLUTION ===============\n",
      "Total weight 12.0\n",
      "Value 25.0\n",
      "        Item     Selected\n",
      "=========================\n",
      "   x[hammer]          1.0\n",
      "   x[wrench]          0.0\n",
      "x[screwdriver]          1.0\n",
      "    x[towel]          1.0\n",
      "-------------------------\n"
     ]
    }
   ],
   "source": [
    "A = ['hammer', 'wrench', 'screwdriver', 'towel']\n",
    "b = {'hammer':8, 'wrench':3, 'screwdriver':6, 'towel':11}\n",
    "w = {'hammer':5, 'wrench':7, 'screwdriver':4, 'towel':3}\n",
    "W_max = 14\n",
    "\n",
    "model = ConcreteModel()\n",
    "model.x = Var( A, within=Binary )\n",
    "\n",
    "model.obj = Objective(\n",
    "    expr = sum( b[i]*model.x[i] for i in A ), \n",
    "    sense = maximize )\n",
    "\n",
    "model.weight_con = Constraint(\n",
    "    expr = sum( w[i]*model.x[i] for i in A ) <= W_max )\n",
    "\n",
    "opt = SolverFactory('glpk')\n",
    "opt_success = opt.solve(model)\n",
    "\n",
    "total_weight = sum( w[i]*value(model.x[i]) for i in A )\n",
    "# Add your solution here\n",
    "opt = SolverFactory('glpk')\n",
    "status = opt.solve(model, tee = True)\n",
    "\n",
    "print('BEGIN SOLUTION ===============')\n",
    "print('Total weight', total_weight)\n",
    "print('Value', value(model.obj))\n",
    "print('%12s %12s' % ('Item', 'Selected'))\n",
    "print('=========================')\n",
    "for i in A:\n",
    "    # Add your solution here\n",
    "    print('%12s %12s' % (model.x[i], model.x[i].value))\n",
    "print('-------------------------')"
   ]
  },
  {
   "cell_type": "markdown",
   "metadata": {},
   "source": [
    "### Changing data\n",
    "\n",
    "Using your code from **Question 1.2**, if we were to increase the value of the wrench, at what point would it become selected as part of the optimal solution?"
   ]
  },
  {
   "cell_type": "code",
   "execution_count": 4,
   "metadata": {},
   "outputs": [
    {
     "name": "stdout",
     "output_type": "stream",
     "text": [
      "GLPSOL--GLPK LP/MIP Solver 5.0\n",
      "Parameter(s) specified in the command line:\n",
      " --write C:\\Users\\kilaj\\AppData\\Local\\Temp\\tmpmy_bo4cw.glpk.raw --wglp C:\\Users\\kilaj\\AppData\\Local\\Temp\\tmpmtw0r06a.glpk.glp\n",
      " --cpxlp C:\\Users\\kilaj\\AppData\\Local\\Temp\\tmplq22e8yb.pyomo.lp\n",
      "Reading problem data from 'C:\\Users\\kilaj\\AppData\\Local\\Temp\\tmplq22e8yb.pyomo.lp'...\n",
      "C:\\Users\\kilaj\\AppData\\Local\\Temp\\tmplq22e8yb.pyomo.lp:28: warning: lower bound of variable 'x1' redefined\n",
      "C:\\Users\\kilaj\\AppData\\Local\\Temp\\tmplq22e8yb.pyomo.lp:28: warning: upper bound of variable 'x1' redefined\n",
      "2 rows, 5 columns, 5 non-zeros\n",
      "4 integer variables, all of which are binary\n",
      "32 lines were read\n",
      "Writing problem data to 'C:\\Users\\kilaj\\AppData\\Local\\Temp\\tmpmtw0r06a.glpk.glp'...\n",
      "22 lines were written\n",
      "GLPK Integer Optimizer 5.0\n",
      "2 rows, 5 columns, 5 non-zeros\n",
      "4 integer variables, all of which are binary\n",
      "Preprocessing...\n",
      "1 constraint coefficient(s) were reduced\n",
      "1 row, 4 columns, 4 non-zeros\n",
      "4 integer variables, all of which are binary\n",
      "Scaling...\n",
      " A: min|aij| =  3.000e+00  max|aij| =  5.000e+00  ratio =  1.667e+00\n",
      "Problem data seem to be well scaled\n",
      "Constructing initial basis...\n",
      "Size of triangular part is 1\n",
      "Solving LP relaxation...\n",
      "GLPK Simplex Optimizer 5.0\n",
      "1 row, 4 columns, 4 non-zeros\n",
      "*     0: obj =  -0.000000000e+00 inf =   0.000e+00 (4)\n",
      "*     3: obj =   2.540000000e+01 inf =   0.000e+00 (0)\n",
      "OPTIMAL LP SOLUTION FOUND\n",
      "Integer optimization begins...\n",
      "Long-step dual simplex will be used\n",
      "+     3: mip =     not found yet <=              +inf        (1; 0)\n",
      "+     5: >>>>>   2.500000000e+01 <=   2.500000000e+01   0.0% (3; 0)\n",
      "+     5: mip =   2.500000000e+01 <=     tree is empty   0.0% (0; 5)\n",
      "INTEGER OPTIMAL SOLUTION FOUND\n",
      "Time used:   0.0 secs\n",
      "Memory used: 0.1 Mb (62190 bytes)\n",
      "Writing MIP solution to 'C:\\Users\\kilaj\\AppData\\Local\\Temp\\tmpmy_bo4cw.glpk.raw'...\n",
      "16 lines were written\n",
      "BEGIN SOLUTION ===============\n",
      "Total weight 14.0\n",
      "Value 25.0\n",
      "        Item     Selected\n",
      "=========================\n",
      "   x[hammer]          0.0\n",
      "   x[wrench]          1.0\n",
      "x[screwdriver]          1.0\n",
      "    x[towel]          1.0\n",
      "-------------------------\n"
     ]
    }
   ],
   "source": [
    "A = ['hammer', 'wrench', 'screwdriver', 'towel']\n",
    "b = {'hammer':8, 'wrench':8, 'screwdriver':6, 'towel':11}\n",
    "w = {'hammer':5, 'wrench':7, 'screwdriver':4, 'towel':3}\n",
    "W_max = 14\n",
    "\n",
    "model = ConcreteModel()\n",
    "model.x = Var( A, within=Binary )\n",
    "\n",
    "model.obj = Objective(\n",
    "    expr = sum( b[i]*model.x[i] for i in A ), \n",
    "    sense = maximize )\n",
    "\n",
    "model.weight_con = Constraint(\n",
    "    expr = sum( w[i]*model.x[i] for i in A ) <= W_max )\n",
    "\n",
    "opt = SolverFactory('glpk')\n",
    "opt_success = opt.solve(model)\n",
    "\n",
    "total_weight = sum( w[i]*value(model.x[i]) for i in A )\n",
    "# Add your solution here\n",
    "opt = SolverFactory('glpk')\n",
    "status = opt.solve(model, tee = True)\n",
    "\n",
    "print('BEGIN SOLUTION ===============')\n",
    "print('Total weight', total_weight)\n",
    "print('Value', value(model.obj))\n",
    "print('%12s %12s' % ('Item', 'Selected'))\n",
    "print('=========================')\n",
    "for i in A:\n",
    "    # Add your solution here\n",
    "    print('%12s %12s' % (model.x[i], model.x[i].value))\n",
    "print('-------------------------')"
   ]
  },
  {
   "cell_type": "markdown",
   "metadata": {},
   "source": [
    "**Question Answer**\n",
    "\n",
    "The wrench is included when it has a value of 8 or greater."
   ]
  },
  {
   "cell_type": "markdown",
   "metadata": {},
   "source": [
    "### Loading data from Excel\n",
    "\n",
    "In the code above, the data is hardcoded at the top of the file. Instead of hardcoding the data, use Python to load the data from a difference source. You may use Pandas to load data from 'knapsack_data.xlsx' into a dataframe. You will then need to write code to obtain a dictionary from the dataframe."
   ]
  },
  {
   "cell_type": "code",
   "execution_count": 28,
   "metadata": {},
   "outputs": [
    {
     "name": "stdout",
     "output_type": "stream",
     "text": [
      "Total Weight: 12.0\n",
      "Total Benefit: 25.0\n",
      "        Item     Selected\n",
      "=========================\n",
      "      hammer          Yes\n",
      "      wrench           No\n",
      " screwdriver          Yes\n",
      "       towel          Yes\n",
      "-------------------------\n"
     ]
    }
   ],
   "source": [
    "filename = 'knapsack_data.xlsx'\n",
    "df_items = pd.read_excel(filename, sheet_name='data', header=0, index_col=0)\n",
    "W_max = 14\n",
    "\n",
    "# Add your solution here\n",
    "A = df_items.index.tolist()\n",
    "b = df_items.Benefit\n",
    "w = df_items.Weight\n",
    "\n",
    "model = ConcreteModel()\n",
    "model.x = Var(A, within=Binary )\n",
    "\n",
    "model.obj = Objective(\n",
    "    expr = sum( b[i]*model.x[i] for i in A ), \n",
    "    sense = maximize )\n",
    "\n",
    "model.weight_con = Constraint(\n",
    "    expr = sum( w[i]*model.x[i] for i in A ) <= W_max )\n",
    "\n",
    "opt = SolverFactory('glpk')\n",
    "opt_success = opt.solve(model)\n",
    "\n",
    "total_weight = sum( w[i]*value(model.x[i]) for i in A )\n",
    "print('Total Weight:', total_weight)\n",
    "print('Total Benefit:', value(model.obj))\n",
    "\n",
    "print('%12s %12s' % ('Item', 'Selected'))\n",
    "print('=========================')\n",
    "for i in A:\n",
    "    acquired = 'No'\n",
    "    if value(model.x[i]) >= 0.5:\n",
    "        acquired = 'Yes'\n",
    "    print('%12s %12s' % (i, acquired))\n",
    "print('-------------------------')\n"
   ]
  },
  {
   "cell_type": "markdown",
   "metadata": {},
   "source": [
    "### NLP vs. MIP\n",
    "\n",
    "Solve the knapsack problem with IPOPT instead of glpk. Print the solution values for model.x. What happened? Why?\n",
    "\n",
    "*Hint*: Switch `glpk` to `ipopt` in the call to `SolverFactory`."
   ]
  },
  {
   "cell_type": "code",
   "execution_count": 29,
   "metadata": {},
   "outputs": [
    {
     "name": "stdout",
     "output_type": "stream",
     "text": [
      "1 Set Declarations\n",
      "    x_index : Size=1, Index=None, Ordered=Insertion\n",
      "        Key  : Dimen : Domain : Size : Members\n",
      "        None :     1 :    Any :    4 : {'hammer', 'wrench', 'screwdriver', 'towel'}\n",
      "\n",
      "1 Var Declarations\n",
      "    x : Size=4, Index=x_index\n",
      "        Key         : Lower : Value              : Upper : Fixed : Stale : Domain\n",
      "             hammer :     0 :                1.0 :     1 : False : False : Binary\n",
      "        screwdriver :     0 :                1.0 :     1 : False : False : Binary\n",
      "              towel :     0 :                1.0 :     1 : False : False : Binary\n",
      "             wrench :     0 : 0.2857142884855869 :     1 : False : False : Binary\n",
      "\n",
      "1 Objective Declarations\n",
      "    obj : Size=1, Index=None, Active=True\n",
      "        Key  : Active : Sense    : Expression\n",
      "        None :   True : maximize : 8*x[hammer] + 3*x[wrench] + 6*x[screwdriver] + 11*x[towel]\n",
      "\n",
      "1 Constraint Declarations\n",
      "    weight_con : Size=1, Index=None, Active=True\n",
      "        Key  : Lower : Body                                                      : Upper : Active\n",
      "        None :  -Inf : 5*x[hammer] + 7*x[wrench] + 4*x[screwdriver] + 3*x[towel] :  14.0 :   True\n",
      "\n",
      "4 Declarations: x_index x obj weight_con\n",
      "Total Weight: 14.000000019399108\n",
      "Total Benefit: 25.85714286545676\n",
      "        Item     Selected\n",
      "=========================\n",
      "   x[hammer]          1.0\n",
      "   x[wrench] 0.2857142884855869\n",
      "x[screwdriver]          1.0\n",
      "    x[towel]          1.0\n",
      "-------------------------\n"
     ]
    }
   ],
   "source": [
    "from pyomo.environ import *\n",
    "\n",
    "A = ['hammer', 'wrench', 'screwdriver', 'towel']\n",
    "b = {'hammer':8, 'wrench':3, 'screwdriver':6, 'towel':11}\n",
    "w = {'hammer':5, 'wrench':7, 'screwdriver':4, 'towel':3}\n",
    "W_max = 14\n",
    "\n",
    "model = ConcreteModel()\n",
    "model.x = Var( A, within=Binary )\n",
    "\n",
    "model.obj = Objective(\n",
    "    expr = sum( b[i]*model.x[i] for i in A ), \n",
    "    sense = maximize )\n",
    "\n",
    "model.weight_con = Constraint(\n",
    "    expr = sum( w[i]*model.x[i] for i in A ) <= W_max )\n",
    "\n",
    "# Add your solution here\n",
    "opt = SolverFactory('ipopt')\n",
    "opt_success = opt.solve(model)\n",
    "\n",
    "model.pprint()\n",
    "\n",
    "total_weight = sum( w[i]*value(model.x[i]) for i in A )\n",
    "print('Total Weight:', total_weight)\n",
    "print('Total Benefit:', value(model.obj))\n",
    "\n",
    "print('%12s %12s' % ('Item', 'Selected'))\n",
    "print('=========================')\n",
    "for i in A:\n",
    "    # Add your solution here\n",
    "    print('%12s %12s' % (model.x[i], model.x[i].value))\n",
    "print('-------------------------')"
   ]
  },
  {
   "cell_type": "markdown",
   "metadata": {},
   "source": [
    "**Question Answers**\n",
    "\n",
    "The selection criteria is no longer binary. Wrench is now ~ 0.286 instead of 0. This happened because NLP is for continuous optimization whereas MIP is for discrete optimization. Ipopt is a continuous solver, whereas glpk is for discrete problems."
   ]
  },
  {
   "cell_type": "markdown",
   "metadata": {},
   "source": [
    "## More Pyomo Fundamentals"
   ]
  },
  {
   "cell_type": "markdown",
   "metadata": {},
   "source": [
    "### Knapsack problem with rules\n",
    "\n",
    "Rules are important for defining in-dexed constraints, however, they can also be used for single (i.e. scalar) constraints. Reimplement the knapsack model from **Question 1.1** using rules for the objective and the constraints."
   ]
  },
  {
   "cell_type": "code",
   "execution_count": null,
   "metadata": {},
   "outputs": [],
   "source": [
    "# Add your solution here"
   ]
  },
  {
   "cell_type": "markdown",
   "metadata": {},
   "source": [
    "### Integer formulation of the knapsack problem\n",
    "\n",
    "Consider again the knapsack problem. Assume now that we can acquire multiple items of the same type. In this new formulation, $x_i$ is now an integer variable instead of a binary variable. One way to formulate this problem is as follows:\n",
    "\n",
    "\n",
    "$\\max_{q,x} \\sum_{i\\in{A}}v_ix_i$\n",
    "\n",
    "s.t. $\\sum_{i\\in{A}}w_ix_i\\leq W_{max}$\n",
    "\n",
    "$x_i=\\sum_{j=0}^Njq_{i,j}, \\forall i \\in{A}$\n",
    "\n",
    "$0\\leq x\\leq N$\n",
    "\n",
    "$q_{i,j} \\in {0,1}, \\forall i \\in A, j \\in {0...N}$\n",
    "\n",
    "Starting with your code from **Question 2.1**, implement this new formulation and solve. Is the solution surprising?"
   ]
  },
  {
   "cell_type": "code",
   "execution_count": null,
   "metadata": {},
   "outputs": [],
   "source": [
    "# Add your solution here"
   ]
  },
  {
   "cell_type": "markdown",
   "metadata": {},
   "source": [
    "**Question Answer**\n",
    "\n",
    "*Fill in here*"
   ]
  },
  {
   "cell_type": "code",
   "execution_count": null,
   "metadata": {},
   "outputs": [],
   "source": []
  }
 ],
 "metadata": {
  "kernelspec": {
   "display_name": "Python 3",
   "language": "python",
   "name": "python3"
  },
  "language_info": {
   "codemirror_mode": {
    "name": "ipython",
    "version": 3
   },
   "file_extension": ".py",
   "mimetype": "text/x-python",
   "name": "python",
   "nbconvert_exporter": "python",
   "pygments_lexer": "ipython3",
   "version": "3.7.9"
  }
 },
 "nbformat": 4,
 "nbformat_minor": 2
}
