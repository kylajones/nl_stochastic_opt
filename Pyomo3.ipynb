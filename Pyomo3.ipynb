{
 "cells": [
  {
   "cell_type": "markdown",
   "metadata": {},
   "source": [
    "# Pyomo Homework 3"
   ]
  },
  {
   "cell_type": "code",
   "execution_count": 1,
   "metadata": {},
   "outputs": [],
   "source": [
    "# Import the libraries you need here for the assignment\n",
    "# Add your solution here\n",
    "from pyomo.environ import *\n",
    "from pyomo.dae import *\n",
    "import casadi\n",
    "import idaes\n",
    "from pyomo.dae.simulator import Simulator\n",
    "import scipy\n",
    "import matplotlib.pyplot as plt"
   ]
  },
  {
   "cell_type": "markdown",
   "metadata": {},
   "source": [
    "## Pyomo.DAE: Reaction Kinetics"
   ]
  },
  {
   "cell_type": "markdown",
   "metadata": {},
   "source": [
    "Consider the chemical reaction $$A \\Leftrightarrow B \\Leftrightarrow C$$\n",
    "\n",
    "which is modeling with the following differential algebraic equations:\n",
    "\n",
    "$$\\begin{align*}\n",
    "\\frac{dz_A}{dt} &= -p_1 z_A(t) + p_2 z_B(t),\\quad z_A(0)=1 \\\\\n",
    "\\frac{dz_B}{dt} &= p_1 z_A(t) - (p_2 + p_3) z_B(t) + p_4 z_C(t), \\quad z_B(0)=0 \\\\\n",
    "1 &= z_A(t) + z_B(t) + z_C(t)\n",
    "\\end{align*}$$\n",
    "\n",
    "where $p_1=4$, $p_2=2$, $p_3=40$, and $p_4=20$ are parameters with the appropriate units. $z_A(t)$, $z_B(t)$, and $z_C(t)$ are time varying concentrations of species $A$, $B$, and $C$ respectively."
   ]
  },
  {
   "cell_type": "markdown",
   "metadata": {},
   "source": [
    "### Index analysis"
   ]
  },
  {
   "cell_type": "markdown",
   "metadata": {},
   "source": [
    "Determine the index of the above differential algebraic equation (DAE) system above.\n",
    "\n",
    "Tip: do this on paper. On Gradescope, there will be a separate assignment for you to turn in your handwritten work."
   ]
  },
  {
   "cell_type": "markdown",
   "metadata": {},
   "source": [
    "### Model reformulation"
   ]
  },
  {
   "cell_type": "markdown",
   "metadata": {},
   "source": [
    "Apply the index reduction algorithm from class as needed. Ultimately identify two versions of the model: one that is index 1 and another that is index 0. Find a consistent initial condition $z_C(0)$."
   ]
  },
  {
   "cell_type": "markdown",
   "metadata": {},
   "source": [
    "### Implement index 1 model in Pyomo"
   ]
  },
  {
   "cell_type": "markdown",
   "metadata": {},
   "source": [
    "We will be building a library of functions."
   ]
  },
  {
   "cell_type": "markdown",
   "metadata": {},
   "source": [
    "#### Create model and set initial conditions"
   ]
  },
  {
   "cell_type": "code",
   "execution_count": 2,
   "metadata": {},
   "outputs": [],
   "source": [
    "def create_model():\n",
    "    ''' Create index 1 model and set initial conditions\n",
    "    \n",
    "    Return:\n",
    "        m: Pyomo model\n",
    "    '''\n",
    "    \n",
    "    # Tip: Set time to go from 0 to 1 when creating the model.\n",
    "    \n",
    "    m = ConcreteModel()\n",
    "\n",
    "    m.t = ContinuousSet(bounds=(0.0, 1))\n",
    "    \n",
    "    # Add your solution here\n",
    "    \n",
    "    # Declare parameter - acceleration due to gravity\n",
    "    m.p1 = Param(initialize = 4)\n",
    "    m.p2 = Param(initialize = 2)\n",
    "    m.p3 = Param(initialize = 40) \n",
    "    m.p4 = Param(initialize = 20) \n",
    "    \n",
    "    # Declare variables indexed over time\n",
    "    m.zA = Var(m.t) # concentration of A\n",
    "    m.zB = Var(m.t) # concentration of B\n",
    "    m.zC = Var(m.t) # concentration of C\n",
    "    \n",
    "    # Declare derivative variables\n",
    "    m.dzA = DerivativeVar(m.zA)\n",
    "    m.dzB = DerivativeVar(m.zB)\n",
    "    \n",
    "    # Declare differential equations\n",
    "    def _dzA_eqn(m, t):\n",
    "        return m.dzA[t] == -m.p1*m.zA[t] + m.p2*m.zB[t]\n",
    "    m.dzA_eqn = Constraint(m.t, rule = _dzA_eqn)\n",
    "    \n",
    "    def _dzB_eqn(m, t):\n",
    "        return m.dzB[t] == m.p1*m.zA[t] - (m.p2 + m.p3)*m.zB[t] + m.p4*m.zC[t]\n",
    "    m.dzB_eqn = Constraint(m.t, rule = _dzB_eqn)\n",
    "    \n",
    "    # Declare algebraic equations\n",
    "    def _alg_eqn(m, t):\n",
    "        return m.zA[t] + m.zB[t] + m.zC[t] == 1\n",
    "    m.alg_eqn1 = Constraint(m.t, rule=_alg_eqn)\n",
    "    \n",
    "    # Specify initial conditions\n",
    "    m.zA[0] = 1\n",
    "    m.zB[0] = 0\n",
    "    #m.zC[0] = 0\n",
    "    \n",
    "    return m"
   ]
  },
  {
   "cell_type": "markdown",
   "metadata": {},
   "source": [
    "### Simulate, discretize, and initialize collocation model"
   ]
  },
  {
   "cell_type": "code",
   "execution_count": 3,
   "metadata": {},
   "outputs": [],
   "source": [
    "def simulate_discretize_model(m,NFE,initialize):\n",
    "    ''' Simulation, discretize, and initialize the Pyomo model\n",
    "    \n",
    "    Arguments:\n",
    "        m: Pyomo model\n",
    "        NFE: number of finite elements to consider (integer)\n",
    "        initialize: if True, initialize the discretized model with the \n",
    "             integrator solution (boolean)\n",
    "    \n",
    "    Returns:\n",
    "        sim: Simulator object from Pyomo.DAE\n",
    "        tsim: Timesteps returned from simulator\n",
    "        profiles: Results returned from simulator\n",
    "    \n",
    "    Overall Steps:\n",
    "    1. Create Pyomo.DAE simulator and integrate with casadi/idas\n",
    "    2. Transform model using 'dae.collocation' strategy. Use 3 collocation points\n",
    "        per finite elemebt\n",
    "    3. If initialize is true, call 'sim.initialize_model()'. This will use the\n",
    "        Simulator solution to initialize the discretized Pyomo model. Really cool!\n",
    "    '''\n",
    "    \n",
    "    # Add your solution here\n",
    "    \n",
    "    # Create pyomo.DAE simulator\n",
    "    sim = Simulator(m, package = 'casadi')\n",
    "    # solve model\n",
    "    tsim, profiles = sim.simulate()\n",
    "    \n",
    "    # Discretize model\n",
    "    discretizer = TransformationFactory('dae.collocation')\n",
    "    discretizer.apply_to(m, nfe = NFE, ncp = 3)\n",
    "    \n",
    "    if initialize == True:\n",
    "        # Initialize the discretized model using the simulator profiles\n",
    "        sim.initialize_model()\n",
    "\n",
    "    return sim, tsim, profiles"
   ]
  },
  {
   "cell_type": "markdown",
   "metadata": {},
   "source": [
    "### Plot results"
   ]
  },
  {
   "cell_type": "code",
   "execution_count": 50,
   "metadata": {},
   "outputs": [],
   "source": [
    "def plot_result(m, sim, tsim, profiles, include_model_values):\n",
    "    \"\"\" Plot the results from the simulator (and optionally Pyomo model)\n",
    "    \n",
    "    Arguments:\n",
    "        m: Pyomo model\n",
    "        sim: Pyomo.DAE simulator\n",
    "        tsim: timesteps from simulator\n",
    "        profiles: results from simulation\n",
    "        include_model_values: if True, also plot the values from the Pyomo model m\n",
    "    \n",
    "    Returns:\n",
    "        nothing\n",
    "        \n",
    "    Actions/Steps/Tips:\n",
    "    1. Plot the results stored in tsim and profiles as solid lines. Recycle code from class.\n",
    "    2. If 'include_model_values' is true, plot za, zb, and zc values stored in Pyomo model 'm'.\n",
    "        Use a solid symbol.\n",
    "    3. Add a legend and axes labels\n",
    "    \"\"\"\n",
    "    \n",
    "    # Add your solution here\n",
    "    plt.figure(1)\n",
    "    varorder = sim.get_variable_order()\n",
    "    algorder = sim.get_variable_order(vartype='algebraic')\n",
    "\n",
    "    # Create empty dictionary\n",
    "    results = {}\n",
    "    \n",
    "    for idx1, v in enumerate(varorder):\n",
    "        i = idx1\n",
    "        v_ = str(v)\n",
    "        results[v_] = profiles[:, i]\n",
    "        plt.plot(tsim, results[v_], label = v)\n",
    "\n",
    "    for idx2, v in enumerate(algorder):\n",
    "        i = len(varorder) + idx2\n",
    "        v_ = str(v)\n",
    "        results[v_] = profiles[:, i]\n",
    "        plt.plot(tsim, results[v_], label = v)\n",
    "    \n",
    "    plt.xlabel('time, t')\n",
    "    plt.ylabel('concentration, z')\n",
    "    \n",
    "    \n",
    "    if include_model_values == True:\n",
    "        zA = [value(m.zA[t]) for t in m.t]\n",
    "        zB = [value(m.zB[t]) for t in m.t]\n",
    "        zC = [value(m.zC[t]) for t in m.t]\n",
    "        plt.plot(m.t, zA,'tab:blue', marker='o', label = 'model zA')\n",
    "        plt.plot(m.t, zB,'tab:orange', marker='o',label = 'model zB')\n",
    "        plt.plot(m.t, zC,'tab:green', marker='o',label = 'model zC')\n",
    "        \n",
    "    plt.legend(loc='best')\n",
    "    plt.show()\n",
    "    # Tip: Do not forget to include `plt.show()` (assuming you imported matplotlib.pyplot as plt)"
   ]
  },
  {
   "cell_type": "code",
   "execution_count": 57,
   "metadata": {},
   "outputs": [],
   "source": [
    "def solve_model(m):\n",
    "    \"\"\" Solve discretized model with Ipopt\n",
    "    \n",
    "    Arguments:\n",
    "        m: Pyomo model\n",
    "        \n",
    "    Returns:\n",
    "        nothing\n",
    "    \"\"\"\n",
    "    \n",
    "    # Specify initial conditions\n",
    "    def _init(m):\n",
    "        yield m.zA[0] == 1\n",
    "        yield m.zB[0] == 0\n",
    "    model.initcon = ConstraintList(rule = _init)\n",
    "\n",
    "    # Solve collocation formulation (no objective, we are just simulating)\n",
    "    solver = SolverFactory('ipopt')\n",
    "    solver.solve(model,tee=True)"
   ]
  },
  {
   "cell_type": "markdown",
   "metadata": {},
   "source": [
    "### Simulate and solve Pyomo model with initialization"
   ]
  },
  {
   "cell_type": "code",
   "execution_count": 58,
   "metadata": {
    "scrolled": false
   },
   "outputs": [
    {
     "data": {
      "image/png": "[encoded data removed]",
      "text/plain": [
       "<Figure size 432x288 with 1 Axes>"
      ]
     },
     "metadata": {
      "needs_background": "light"
     },
     "output_type": "display_data"
    }
   ],
   "source": [
    "# Create Pyomo model\n",
    "model = create_model()\n",
    "\n",
    "# Initialize discretized model with simulation result?\n",
    "init = True\n",
    "\n",
    "# Number of finite elements\n",
    "NFE = 6\n",
    "\n",
    "# Simulate model\n",
    "sim, tsim, profiles = simulate_discretize_model(model,NFE,init)\n",
    "\n",
    "# Plot simulation results\n",
    "plot_result(model, sim, tsim, profiles, True)"
   ]
  },
  {
   "cell_type": "code",
   "execution_count": 59,
   "metadata": {},
   "outputs": [
    {
     "name": "stdout",
     "output_type": "stream",
     "text": [
      "Ipopt 3.13.2: \n",
      "\n",
      "******************************************************************************\n",
      "This program contains Ipopt, a library for large-scale nonlinear optimization.\n",
      " Ipopt is released as open source code under the Eclipse Public License (EPL).\n",
      "         For more information visit http://projects.coin-or.org/Ipopt\n",
      "\n",
      "This version of Ipopt was compiled from source code available at\n",
      "    https://github.com/IDAES/Ipopt as part of the Institute for the Design of\n",
      "    Advanced Energy Systems Process Systems Engineering Framework (IDAES PSE\n",
      "    Framework) Copyright (c) 2018-2019. See https://github.com/IDAES/idaes-pse.\n",
      "\n",
      "This version of Ipopt was compiled using HSL, a collection of Fortran codes\n",
      "    for large-scale scientific computation.  All technical papers, sales and\n",
      "    publicity material resulting from use of the HSL codes within IPOPT must\n",
      "    contain the following acknowledgement:\n",
      "        HSL, a collection of Fortran codes for large-scale scientific\n",
      "        computation. See http://www.hsl.rl.ac.uk.\n",
      "******************************************************************************\n",
      "\n",
      "This is Ipopt version 3.13.2, running with linear solver ma27.\n",
      "\n",
      "Number of nonzeros in equality constraint Jacobian...:      372\n",
      "Number of nonzeros in inequality constraint Jacobian.:        0\n",
      "Number of nonzeros in Lagrangian Hessian.............:        0\n",
      "\n",
      "Total number of variables............................:       95\n",
      "                     variables with only lower bounds:        0\n",
      "                variables with lower and upper bounds:        0\n",
      "                     variables with only upper bounds:        0\n",
      "Total number of equality constraints.................:       95\n",
      "Total number of inequality constraints...............:        0\n",
      "        inequality constraints with only lower bounds:        0\n",
      "   inequality constraints with lower and upper bounds:        0\n",
      "        inequality constraints with only upper bounds:        0\n",
      "\n",
      "iter    objective    inf_pr   inf_du lg(mu)  ||d||  lg(rg) alpha_du alpha_pr  ls\n",
      "   0  0.0000000e+00 4.00e+00 0.00e+00  -1.0 0.00e+00    -  0.00e+00 0.00e+00   0\n",
      "   1  0.0000000e+00 4.31e-15 0.00e+00  -1.0 4.00e+00    -  1.00e+00 1.00e+00h  1\n",
      "\n",
      "Number of Iterations....: 1\n",
      "\n",
      "                                   (scaled)                 (unscaled)\n",
      "Objective...............:   0.0000000000000000e+00    0.0000000000000000e+00\n",
      "Dual infeasibility......:   0.0000000000000000e+00    0.0000000000000000e+00\n",
      "Constraint violation....:   4.3125225612783424e-15    4.3125225612783424e-15\n",
      "Complementarity.........:   0.0000000000000000e+00    0.0000000000000000e+00\n",
      "Overall NLP error.......:   4.3125225612783424e-15    4.3125225612783424e-15\n",
      "\n",
      "\n",
      "Number of objective function evaluations             = 2\n",
      "Number of objective gradient evaluations             = 2\n",
      "Number of equality constraint evaluations            = 2\n",
      "Number of inequality constraint evaluations          = 0\n",
      "Number of equality constraint Jacobian evaluations   = 2\n",
      "Number of inequality constraint Jacobian evaluations = 0\n",
      "Number of Lagrangian Hessian evaluations             = 1\n",
      "Total CPU secs in IPOPT (w/o function evaluations)   =      0.000\n",
      "Total CPU secs in NLP function evaluations           =      0.000\n",
      "\n",
      "EXIT: Optimal Solution Found.\n",
      "\b\b\b\b\b\b\b\b\b\b\b\b\b\b"
     ]
    },
    {
     "data": {
      "image/png": "[encoded data removed]",
      "text/plain": [
       "<Figure size 432x288 with 1 Axes>"
      ]
     },
     "metadata": {
      "needs_background": "light"
     },
     "output_type": "display_data"
    }
   ],
   "source": [
    "# Solve collocation formulation with Ipopt\n",
    "solve_model(model)\n",
    "\n",
    "# Plot results\n",
    "plot_result(model, sim, tsim, profiles, True)"
   ]
  },
  {
   "cell_type": "markdown",
   "metadata": {},
   "source": [
    "### Simulate and solve Pyomo model without initialization"
   ]
  },
  {
   "cell_type": "markdown",
   "metadata": {},
   "source": [
    "Repeat the analysis from above, but do NOT initialize the discretized model with the simulation result. (Tip: you only need to change two small things.)"
   ]
  },
  {
   "cell_type": "code",
   "execution_count": 60,
   "metadata": {},
   "outputs": [],
   "source": [
    "# Add your solution here\n",
    "# Create Pyomo model\n",
    "model = create_model()\n",
    "\n",
    "# Initialize discretized model with simulation result?\n",
    "init = False\n",
    "\n",
    "# Number of finite elements\n",
    "NFE = 6\n",
    "\n",
    "# Simulate model\n",
    "sim, tsim, profiles = simulate_discretize_model(model,NFE,init)"
   ]
  },
  {
   "cell_type": "code",
   "execution_count": 61,
   "metadata": {},
   "outputs": [
    {
     "name": "stdout",
     "output_type": "stream",
     "text": [
      "Ipopt 3.13.2: \n",
      "\n",
      "******************************************************************************\n",
      "This program contains Ipopt, a library for large-scale nonlinear optimization.\n",
      " Ipopt is released as open source code under the Eclipse Public License (EPL).\n",
      "         For more information visit http://projects.coin-or.org/Ipopt\n",
      "\n",
      "This version of Ipopt was compiled from source code available at\n",
      "    https://github.com/IDAES/Ipopt as part of the Institute for the Design of\n",
      "    Advanced Energy Systems Process Systems Engineering Framework (IDAES PSE\n",
      "    Framework) Copyright (c) 2018-2019. See https://github.com/IDAES/idaes-pse.\n",
      "\n",
      "This version of Ipopt was compiled using HSL, a collection of Fortran codes\n",
      "    for large-scale scientific computation.  All technical papers, sales and\n",
      "    publicity material resulting from use of the HSL codes within IPOPT must\n",
      "    contain the following acknowledgement:\n",
      "        HSL, a collection of Fortran codes for large-scale scientific\n",
      "        computation. See http://www.hsl.rl.ac.uk.\n",
      "******************************************************************************\n",
      "\n",
      "This is Ipopt version 3.13.2, running with linear solver ma27.\n",
      "\n",
      "Number of nonzeros in equality constraint Jacobian...:      372\n",
      "Number of nonzeros in inequality constraint Jacobian.:        0\n",
      "Number of nonzeros in Lagrangian Hessian.............:        0\n",
      "\n",
      "Total number of variables............................:       95\n",
      "                     variables with only lower bounds:        0\n",
      "                variables with lower and upper bounds:        0\n",
      "                     variables with only upper bounds:        0\n",
      "Total number of equality constraints.................:       95\n",
      "Total number of inequality constraints...............:        0\n",
      "        inequality constraints with only lower bounds:        0\n",
      "   inequality constraints with lower and upper bounds:        0\n",
      "        inequality constraints with only upper bounds:        0\n",
      "\n",
      "iter    objective    inf_pr   inf_du lg(mu)  ||d||  lg(rg) alpha_du alpha_pr  ls\n",
      "   0  0.0000000e+00 2.48e+01 0.00e+00  -1.0 0.00e+00    -  0.00e+00 0.00e+00   0\n",
      "   1  0.0000000e+00 4.44e-15 0.00e+00  -1.0 4.00e+00    -  1.00e+00 1.00e+00h  1\n",
      "\n",
      "Number of Iterations....: 1\n",
      "\n",
      "                                   (scaled)                 (unscaled)\n",
      "Objective...............:   0.0000000000000000e+00    0.0000000000000000e+00\n",
      "Dual infeasibility......:   0.0000000000000000e+00    0.0000000000000000e+00\n",
      "Constraint violation....:   4.4408920985006262e-15    4.4408920985006262e-15\n",
      "Complementarity.........:   0.0000000000000000e+00    0.0000000000000000e+00\n",
      "Overall NLP error.......:   4.4408920985006262e-15    4.4408920985006262e-15\n",
      "\n",
      "\n",
      "Number of objective function evaluations             = 2\n",
      "Number of objective gradient evaluations             = 2\n",
      "Number of equality constraint evaluations            = 2\n",
      "Number of inequality constraint evaluations          = 0\n",
      "Number of equality constraint Jacobian evaluations   = 2\n",
      "Number of inequality constraint Jacobian evaluations = 0\n",
      "Number of Lagrangian Hessian evaluations             = 1\n",
      "Total CPU secs in IPOPT (w/o function evaluations)   =      0.000\n",
      "Total CPU secs in NLP function evaluations           =      0.000\n",
      "\n",
      "EXIT: Optimal Solution Found.\n",
      "\b\b\b\b\b\b\b\b\b\b\b\b\b\b"
     ]
    },
    {
     "data": {
      "image/png": "[encoded data removed]",
      "text/plain": [
       "<Figure size 432x288 with 1 Axes>"
      ]
     },
     "metadata": {
      "needs_background": "light"
     },
     "output_type": "display_data"
    }
   ],
   "source": [
    "# Solve collocation formulation with Ipopt\n",
    "solve_model(model)\n",
    "\n",
    "# Plot results\n",
    "plot_result(model, sim, tsim, profiles, True)"
   ]
  },
  {
   "cell_type": "markdown",
   "metadata": {},
   "source": [
    "### Discussion: Does initialization matter?\n",
    "\n",
    "Write 1 to 3 sentences for each of the following questions:\n",
    "\n",
    "*What happens if we disable initialization? Does the number of interactions Ipopt need change?*\n",
    "\n",
    "When we disable initialization neither the solution nor the number of iterations change.\n",
    "\n",
    "*Why is this specific problem robust to poor initialization? What about this specific DAE system makes it easy to solve?*\n",
    "\n",
    "This is an index one DAE so it is easier to solve."
   ]
  },
  {
   "cell_type": "markdown",
   "metadata": {},
   "source": [
    "### Degree of Freedom Analysis"
   ]
  },
  {
   "cell_type": "markdown",
   "metadata": {},
   "source": [
    "Please answer on paper and turn in via Gradescope."
   ]
  },
  {
   "cell_type": "markdown",
   "metadata": {},
   "source": [
    "Rerun the code above for two different numbers of finite elements. Record the total number of variables and equality constraints."
   ]
  },
  {
   "cell_type": "markdown",
   "metadata": {},
   "source": [
    "How many degrees of freedom are in the simulation problem? (1 sentence is fine.)"
   ]
  },
  {
   "cell_type": "markdown",
   "metadata": {},
   "source": [
    "Choose $N=3$ or a simular number of finite elements. Using the collocation equations from class, show that the discretized Pyomo model has the correct number of variables and algebraic equations. This will be a little tedious, but good to practice once on a simple model. You might need to do this when debugging a DAE model for research.\n",
    "\n",
    "Note: You might get a strange answer. That is okay."
   ]
  },
  {
   "cell_type": "code",
   "execution_count": 56,
   "metadata": {},
   "outputs": [
    {
     "name": "stdout",
     "output_type": "stream",
     "text": [
      "Ipopt 3.13.2: \n",
      "\n",
      "******************************************************************************\n",
      "This program contains Ipopt, a library for large-scale nonlinear optimization.\n",
      " Ipopt is released as open source code under the Eclipse Public License (EPL).\n",
      "         For more information visit http://projects.coin-or.org/Ipopt\n",
      "\n",
      "This version of Ipopt was compiled from source code available at\n",
      "    https://github.com/IDAES/Ipopt as part of the Institute for the Design of\n",
      "    Advanced Energy Systems Process Systems Engineering Framework (IDAES PSE\n",
      "    Framework) Copyright (c) 2018-2019. See https://github.com/IDAES/idaes-pse.\n",
      "\n",
      "This version of Ipopt was compiled using HSL, a collection of Fortran codes\n",
      "    for large-scale scientific computation.  All technical papers, sales and\n",
      "    publicity material resulting from use of the HSL codes within IPOPT must\n",
      "    contain the following acknowledgement:\n",
      "        HSL, a collection of Fortran codes for large-scale scientific\n",
      "        computation. See http://www.hsl.rl.ac.uk.\n",
      "******************************************************************************\n",
      "\n",
      "This is Ipopt version 3.13.2, running with linear solver ma27.\n",
      "\n",
      "Number of nonzeros in equality constraint Jacobian...:      612\n",
      "Number of nonzeros in inequality constraint Jacobian.:        0\n",
      "Number of nonzeros in Lagrangian Hessian.............:        0\n",
      "\n",
      "Total number of variables............................:      155\n",
      "                     variables with only lower bounds:        0\n",
      "                variables with lower and upper bounds:        0\n",
      "                     variables with only upper bounds:        0\n",
      "Total number of equality constraints.................:      155\n",
      "Total number of inequality constraints...............:        0\n",
      "        inequality constraints with only lower bounds:        0\n",
      "   inequality constraints with lower and upper bounds:        0\n",
      "        inequality constraints with only upper bounds:        0\n",
      "\n",
      "iter    objective    inf_pr   inf_du lg(mu)  ||d||  lg(rg) alpha_du alpha_pr  ls\n",
      "   0  0.0000000e+00 4.14e+01 0.00e+00  -1.0 0.00e+00    -  0.00e+00 0.00e+00   0\n",
      "   1  0.0000000e+00 4.88e-15 0.00e+00  -1.0 4.00e+00    -  1.00e+00 1.00e+00h  1\n",
      "\n",
      "Number of Iterations....: 1\n",
      "\n",
      "                                   (scaled)                 (unscaled)\n",
      "Objective...............:   0.0000000000000000e+00    0.0000000000000000e+00\n",
      "Dual infeasibility......:   0.0000000000000000e+00    0.0000000000000000e+00\n",
      "Constraint violation....:   4.8849813083506888e-15    4.8849813083506888e-15\n",
      "Complementarity.........:   0.0000000000000000e+00    0.0000000000000000e+00\n",
      "Overall NLP error.......:   4.8849813083506888e-15    4.8849813083506888e-15\n",
      "\n",
      "\n",
      "Number of objective function evaluations             = 2\n",
      "Number of objective gradient evaluations             = 2\n",
      "Number of equality constraint evaluations            = 2\n",
      "Number of inequality constraint evaluations          = 0\n",
      "Number of equality constraint Jacobian evaluations   = 2\n",
      "Number of inequality constraint Jacobian evaluations = 0\n",
      "Number of Lagrangian Hessian evaluations             = 1\n",
      "Total CPU secs in IPOPT (w/o function evaluations)   =      0.000\n",
      "Total CPU secs in NLP function evaluations           =      0.000\n",
      "\n",
      "EXIT: Optimal Solution Found.\n",
      "\b\b\b\b\b\b\b\b\b\b\b\b\b\b"
     ]
    },
    {
     "data": {
      "image/png": "[encoded data removed]",
      "text/plain": [
       "<Figure size 432x288 with 1 Axes>"
      ]
     },
     "metadata": {
      "needs_background": "light"
     },
     "output_type": "display_data"
    }
   ],
   "source": [
    "# Add your solution here\n",
    "# Create Pyomo model\n",
    "model = create_model()\n",
    "\n",
    "# Initialize discretized model with simulation result?\n",
    "init = False\n",
    "\n",
    "# Number of finite elements\n",
    "NFE = 10\n",
    "\n",
    "# Simulate model\n",
    "sim, tsim, profiles = simulate_discretize_model(model,NFE,init)\n",
    "\n",
    "# Solve collocation formulation with Ipopt\n",
    "solve_model(model)\n",
    "\n",
    "# Plot results\n",
    "plot_result(model, sim, tsim, profiles, True)"
   ]
  },
  {
   "cell_type": "code",
   "execution_count": null,
   "metadata": {},
   "outputs": [],
   "source": []
  }
 ],
 "metadata": {
  "kernelspec": {
   "display_name": "Python 3",
   "language": "python",
   "name": "python3"
  },
  "language_info": {
   "codemirror_mode": {
    "name": "ipython",
    "version": 3
   },
   "file_extension": ".py",
   "mimetype": "text/x-python",
   "name": "python",
   "nbconvert_exporter": "python",
   "pygments_lexer": "ipython3",
   "version": "3.7.9"
  }
 },
 "nbformat": 4,
 "nbformat_minor": 4
}
